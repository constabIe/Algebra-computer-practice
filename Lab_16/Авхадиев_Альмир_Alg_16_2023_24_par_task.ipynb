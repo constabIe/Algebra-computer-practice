{
 "nbformat": 4,
 "nbformat_minor": 0,
 "metadata": {
  "kernelspec": {
   "display_name": "Python 3",
   "language": "python",
   "name": "python3"
  },
  "language_info": {
   "codemirror_mode": {
    "name": "ipython",
    "version": 3
   },
   "file_extension": ".py",
   "mimetype": "text/x-python",
   "name": "python",
   "nbconvert_exporter": "python",
   "pygments_lexer": "ipython3",
   "version": "3.7.3"
  },
  "colab": {
   "provenance": []
  }
 },
 "cells": [
  {
   "cell_type": "code",
   "metadata": {
    "id": "OkMZJCv7HRj8",
    "ExecuteTime": {
     "end_time": "2024-03-18T14:37:27.155430Z",
     "start_time": "2024-03-18T14:37:23.792955Z"
    }
   },
   "source": [
    "import sympy\n",
    "import numpy as np\n",
    "from sympy import Eq, plot_implicit, Matrix, plot, symbols, latex, S\n",
    "from sympy.core import sympify\n",
    "from sympy.geometry.point import Point, Point2D, Point3D\n",
    "from sympy.geometry.line import Line\n",
    "from sympy.core.symbol import _symbol\n",
    "from sympy import pi as Pi\n",
    "from sympy import cos as Cos\n",
    "from sympy import sin as Sin\n",
    "from sympy.geometry.entity import GeometryEntity, GeometrySet\n",
    "import matplotlib.pyplot as plt\n",
    "from IPython.display import Latex"
   ],
   "execution_count": 1,
   "outputs": []
  },
  {
   "cell_type": "markdown",
   "metadata": {
    "id": "JBcJB2fWHRj_"
   },
   "source": [
    "# Практическое занятие 16\n",
    "# Компьютерный практикум по алгебре на Python\n",
    "## Кривые второго порядка на плоскости: парабола"
   ]
  },
  {
   "cell_type": "markdown",
   "metadata": {
    "id": "mmi1O2YqHRkC"
   },
   "source": [
    "### Задание 1\n",
    "Определить класс Parabola.\n",
    "\n",
    "Внутренние переменные $\\_p$, $\\_vertex$, $\\_angle$.\n",
    "\n",
    "Реализовать **атрибуты**:\n",
    "\n",
    "**параметр** $p$\n",
    "\n",
    "**вершина** (vertex) в виде точки Point\n",
    "\n",
    "**фокус** (focus) в виде точки Point\n",
    "\n",
    "**угол angle** по умолчанию 0 для параболы с осью, параллельной OX, и ветвями, направленными вправо\n",
    "\n",
    "**ось симметрии** (axis_symmetry) в виде прямой Line\n",
    "\n",
    "**директриса** (directrix) в виде прямой Line\n",
    "\n",
    "Реализовать **методы**\n",
    "\n",
    "**equation(self)** - уравнение параболы,\n",
    "\n",
    "**dir_equation(self)** - уравнение директрисы,\n",
    "\n",
    "**ax_sym_equation(self**) - уравнение оси симметрии,\n",
    "\n",
    "**rotate(self, angle)** - поворот на угол angle против часовой стрелки, метод не изменяет параболу, а возвращает параболу с теми же p и вершиной, но угол увеличен на angle по сравнению с исходной параболой.\n",
    "\n",
    "В конструкторе экземпляра класса  \n",
    "\n",
    "\\_\\_new\\_\\_(cls, p, vertex=None, angle=None)\n",
    "\n",
    "p - обязательный параметр, а вид параболы по умолчанию  - парабола с осью, параллельной оси OX,\n",
    "вершина по умолчанию в начале координат."
   ]
  },
  {
   "cell_type": "code",
   "source": [
    "class Parabola(GeometrySet):\n",
    "    def __new__(cls, p, vertex=None, angle=None, **kwargs):\n",
    "        if vertex is None:\n",
    "            vertex = Point(0, 0)\n",
    "        else:\n",
    "            if len(vertex) != 2:\n",
    "                raise ValueError('The vertex of \"{}\" must be a two dimensional point'.format(cls))\n",
    "            vertex = Point(vertex, dim=2)\n",
    "        return GeometryEntity.__new__(cls, p, vertex, angle, **kwargs)\n",
    "\n",
    "    def __init__(self, _p, _vertex, _angle=0):\n",
    "        self._p = _p\n",
    "        self._vertex = _vertex\n",
    "        self._angle = _angle\n",
    "\n",
    "    @property\n",
    "    def p(self) -> int:\n",
    "        return self._p\n",
    "\n",
    "    @property\n",
    "    def vertex(self) -> Point2D:\n",
    "        return Point(self._vertex[0], self._vertex[1])\n",
    "\n",
    "    @property\n",
    "    def focus(self):\n",
    "        x0, y0 = self.vertex\n",
    "        if self._angle == None:\n",
    "            alpha = 0\n",
    "        else:\n",
    "            alpha = self._angle\n",
    "        return Point(x0 + Cos(alpha) * self._p / 2, y0 + Sin(alpha) * self._p / 2)\n",
    "\n",
    "    @property\n",
    "    def angle(self):\n",
    "        if self._angle == None:\n",
    "            self._angle = 0\n",
    "        return self._angle\n",
    "\n",
    "    @property\n",
    "    def axis_symmetry(self):\n",
    "        return Line(self.focus, self.vertex)\n",
    "\n",
    "    @property\n",
    "    def directrix(self):\n",
    "        x0, y0 = self.vertex\n",
    "        P = Point(x0 - Cos(self._angle)*self._p/2, y0 - Sin(self._angle)*self._p/2)\n",
    "        return (self.axis_symmetry).perpendicular_line(P)\n",
    "\n",
    "    def rot_matr(self, angle):\n",
    "        return Matrix([[Cos(angle), - Sin(angle)], [Sin(angle), Cos(angle)]])\n",
    "\n",
    "    def equation(self):\n",
    "        from sympy.abc import x, y\n",
    "        sin_a = Sin(self.angle)\n",
    "        cos_a = Cos(self.angle)\n",
    "        A1 = Matrix([[cos_a, sin_a],\n",
    "                    [-sin_a, cos_a]])\n",
    "        x0, y0 = self.vertex\n",
    "        X = A1 * Matrix((x - x0, y - y0))\n",
    "        eq6 = Eq((X[1]) ** 2, 2 * self.p * (X[0]))\n",
    "\n",
    "        return eq6\n",
    "\n",
    "\n",
    "    def dir_equation(self):\n",
    "        x, y = symbols('x y')\n",
    "        x1, y1 = self.directrix.p1\n",
    "        x2, y2 = self.directrix.p2\n",
    "\n",
    "        return Eq((x - x1) * (y2 - y1), (y - y1) * (x2 - x1)).simplify()\n",
    "\n",
    "\n",
    "    def ax_sym_equation(self):\n",
    "        x, y = symbols('x y')\n",
    "        x1, y1 = self.axis_symmetry.p1\n",
    "        x2, y2 = self.axis_symmetry.p2\n",
    "\n",
    "        return Eq((x - x1) * (y2 - y1), (y - y1) * (x2 - x1)).simplify()\n",
    "\n",
    "    def rotate(self, angle):\n",
    "        return Parabola(self._p, self._vertex, self._angle + angle)"
   ],
   "metadata": {
    "id": "DvdfbR5iPygV",
    "ExecuteTime": {
     "end_time": "2024-03-18T14:37:30.088748Z",
     "start_time": "2024-03-18T14:37:30.038310Z"
    }
   },
   "execution_count": 2,
   "outputs": []
  },
  {
   "cell_type": "markdown",
   "metadata": {
    "id": "dojqIsnSHRkG"
   },
   "source": [
    "### Задание 2\n",
    "Построить параболу с $p = 3$, вершиной в (-5, 2), осью симметрии, образующей угол $\\pi/4$ с положительным направлением оси ОХ. Вывести на экран ее параметр p, вершину, угол, фокус, ось симметрии и директрису, а также уравнение параболы, оси симметрии и директрисы.\n",
    "\n",
    "Изобразить на общем графике параболу, ее ось симметрии и директрису, парабола зеленая, ось симметрии красная, директриса черная."
   ]
  },
  {
   "cell_type": "code",
   "source": [
    "x = sympy.Symbol('x')\n",
    "y = sympy.Symbol('y')\n",
    "\n",
    "par = Parabola(3, (-5, 2), Pi/4)\n",
    "display(par.p, par.vertex, par.angle, par.focus, par.axis_symmetry,\n",
    "        par.directrix, par.equation(), par.ax_sym_equation(), par.dir_equation())\n",
    "\n",
    "eq = par.equation()\n",
    "eq_directrix = par.dir_equation()\n",
    "eq_axis_symmetry = par.ax_sym_equation()\n",
    "\n",
    "p0 = plot_implicit(eq, (x, -10, 5), (y, 0, 10), line_color='g', aspect_ratio=(1, 1),\n",
    "                  xlabel='$x$', ylabel='$y$',\n",
    "                   title=f'{latex(eq, mode=\"inline\")}\\n',\n",
    "                   adaptive=False, show=False)\n",
    "\n",
    "p0.extend(plot_implicit(eq_directrix, (x, -10, 8), (y, 0, 10), line_color='w',\n",
    "                       aspect_ratio=(1, 1), adaptive=False, show=False))\n",
    "p0.extend(plot_implicit(eq_axis_symmetry, (x, -10, 8), (y, 0, 10), line_color='red',\n",
    "                       aspect_ratio=(1, 1), adaptive=False, show=False))\n",
    "\n",
    "p0.show()"
   ],
   "metadata": {
    "id": "TkKw-qeGP0g7",
    "ExecuteTime": {
     "end_time": "2024-03-18T14:38:04.857341Z",
     "start_time": "2024-03-18T14:37:59.973487Z"
    }
   },
   "execution_count": 4,
   "outputs": [
    {
     "data": {
      "text/plain": "3"
     },
     "metadata": {},
     "output_type": "display_data"
    },
    {
     "data": {
      "text/plain": "Point2D(-5, 2)",
      "text/latex": "$\\displaystyle \\operatorname{Point2D}\\left(-5, 2\\right)$"
     },
     "metadata": {},
     "output_type": "display_data"
    },
    {
     "data": {
      "text/plain": "pi/4",
      "text/latex": "$\\displaystyle \\frac{\\pi}{4}$"
     },
     "metadata": {},
     "output_type": "display_data"
    },
    {
     "data": {
      "text/plain": "Point2D(-5 + 3*sqrt(2)/4, 3*sqrt(2)/4 + 2)",
      "text/latex": "$\\displaystyle \\operatorname{Point2D}\\left(-5 + \\frac{3 \\sqrt{2}}{4}, \\frac{3 \\sqrt{2}}{4} + 2\\right)$"
     },
     "metadata": {},
     "output_type": "display_data"
    },
    {
     "data": {
      "text/plain": "Line2D(Point2D(-5 + 3*sqrt(2)/4, 3*sqrt(2)/4 + 2), Point2D(-5, 2))",
      "image/svg+xml": "<svg xmlns=\"http://www.w3.org/2000/svg\"\n            xmlns:xlink=\"http://www.w3.org/1999/xlink\"\n            width=\"100.0\" height=\"100.0\" viewBox=\"-5.10606601717798 1.89393398282202 1.27279220613579 1.27279220613579\"\n            preserveAspectRatio=\"xMinYMin meet\">\n            <defs>\n                <marker id=\"markerCircle\" markerWidth=\"8\" markerHeight=\"8\"\n                    refx=\"5\" refy=\"5\" markerUnits=\"strokeWidth\">\n                    <circle cx=\"5\" cy=\"5\" r=\"1.5\" style=\"stroke: none; fill:#000000;\"/>\n                </marker>\n                <marker id=\"markerArrow\" markerWidth=\"13\" markerHeight=\"13\" refx=\"2\" refy=\"4\"\n                       orient=\"auto\" markerUnits=\"strokeWidth\">\n                    <path d=\"M2,2 L2,6 L6,4\" style=\"fill: #000000;\" />\n                </marker>\n                <marker id=\"markerReverseArrow\" markerWidth=\"13\" markerHeight=\"13\" refx=\"6\" refy=\"4\"\n                       orient=\"auto\" markerUnits=\"strokeWidth\">\n                    <path d=\"M6,2 L6,6 L2,4\" style=\"fill: #000000;\" />\n                </marker>\n            </defs><g transform=\"matrix(1,0,0,-1,0,5.06066017177982)\"><path fill-rule=\"evenodd\" fill=\"#66cc99\" stroke=\"#555555\" stroke-width=\"0.0254558441227157\" opacity=\"0.6\" d=\"M -3.93933982822018,3.06066017177982 L -5.00000000000000,2.00000000000000\" marker-start=\"url(#markerReverseArrow)\" marker-end=\"url(#markerArrow)\"/></g></svg>",
      "text/latex": "$\\displaystyle \\operatorname{Line2D}\\left(\\operatorname{Point2D}\\left(-5 + \\frac{3 \\sqrt{2}}{4}, \\frac{3 \\sqrt{2}}{4} + 2\\right), \\operatorname{Point2D}\\left(-5, 2\\right)\\right)$"
     },
     "metadata": {},
     "output_type": "display_data"
    },
    {
     "data": {
      "text/plain": "Line2D(Point2D(-5 - 3*sqrt(2)/4, 2 - 3*sqrt(2)/4), Point2D(-5, 2 - 3*sqrt(2)/2))",
      "image/svg+xml": "<svg xmlns=\"http://www.w3.org/2000/svg\"\n            xmlns:xlink=\"http://www.w3.org/1999/xlink\"\n            width=\"100.0\" height=\"100.0\" viewBox=\"-6.16672618895780 -0.227386360737625 1.27279220613578 1.27279220613579\"\n            preserveAspectRatio=\"xMinYMin meet\">\n            <defs>\n                <marker id=\"markerCircle\" markerWidth=\"8\" markerHeight=\"8\"\n                    refx=\"5\" refy=\"5\" markerUnits=\"strokeWidth\">\n                    <circle cx=\"5\" cy=\"5\" r=\"1.5\" style=\"stroke: none; fill:#000000;\"/>\n                </marker>\n                <marker id=\"markerArrow\" markerWidth=\"13\" markerHeight=\"13\" refx=\"2\" refy=\"4\"\n                       orient=\"auto\" markerUnits=\"strokeWidth\">\n                    <path d=\"M2,2 L2,6 L6,4\" style=\"fill: #000000;\" />\n                </marker>\n                <marker id=\"markerReverseArrow\" markerWidth=\"13\" markerHeight=\"13\" refx=\"6\" refy=\"4\"\n                       orient=\"auto\" markerUnits=\"strokeWidth\">\n                    <path d=\"M6,2 L6,6 L2,4\" style=\"fill: #000000;\" />\n                </marker>\n            </defs><g transform=\"matrix(1,0,0,-1,0,0.818019484660536)\"><path fill-rule=\"evenodd\" fill=\"#66cc99\" stroke=\"#555555\" stroke-width=\"0.0254558441227157\" opacity=\"0.6\" d=\"M -6.06066017177982,0.939339828220179 L -5.00000000000000,-0.121320343559643\" marker-start=\"url(#markerReverseArrow)\" marker-end=\"url(#markerArrow)\"/></g></svg>",
      "text/latex": "$\\displaystyle \\operatorname{Line2D}\\left(\\operatorname{Point2D}\\left(-5 - \\frac{3 \\sqrt{2}}{4}, 2 - \\frac{3 \\sqrt{2}}{4}\\right), \\operatorname{Point2D}\\left(-5, 2 - \\frac{3 \\sqrt{2}}{2}\\right)\\right)$"
     },
     "metadata": {},
     "output_type": "display_data"
    },
    {
     "data": {
      "text/plain": "Eq((-sqrt(2)*(x + 5)/2 + sqrt(2)*(y - 2)/2)**2, 3*sqrt(2)*(x + 5) + 3*sqrt(2)*(y - 2))",
      "text/latex": "$\\displaystyle \\left(- \\frac{\\sqrt{2} \\left(x + 5\\right)}{2} + \\frac{\\sqrt{2} \\left(y - 2\\right)}{2}\\right)^{2} = 3 \\sqrt{2} \\left(x + 5\\right) + 3 \\sqrt{2} \\left(y - 2\\right)$"
     },
     "metadata": {},
     "output_type": "display_data"
    },
    {
     "data": {
      "text/plain": "Eq(x - y, -7)",
      "text/latex": "$\\displaystyle x - y = -7$"
     },
     "metadata": {},
     "output_type": "display_data"
    },
    {
     "data": {
      "text/plain": "Eq(x + y, 2*sqrt(2)*(-9*sqrt(2)/4 - 9/4)/3)",
      "text/latex": "$\\displaystyle x + y = \\frac{2 \\sqrt{2} \\left(- \\frac{9 \\sqrt{2}}{4} - \\frac{9}{4}\\right)}{3}$"
     },
     "metadata": {},
     "output_type": "display_data"
    },
    {
     "data": {
      "text/plain": "<Figure size 640x480 with 1 Axes>",
      "image/png": "[encoded data removed]"
     },
     "metadata": {},
     "output_type": "display_data"
    }
   ]
  },
  {
   "cell_type": "markdown",
   "metadata": {
    "id": "WlXyhdWhHRkH"
   },
   "source": [
    "### Индивидуальное задание\n",
    "Построить параболу $x^{2} = 2py$ с $p = 5$, построить другую параболу путем поворота исходной параболы  на угол $\\alpha = \\pi/5$ радиан. Вывести на экран вершину, угол, фокус, ось симметрии и директрису обеих парабол.\n",
    "\n",
    "Использовать уравнения повернутой параболы, ее оси симметрии и директрисы для построения графиков в одной координатной плоскости. Парабола фиолетовая, ось симметрии зеленая, директриса черная, название графика Парабола, подписи осей $x$ и $y$."
   ]
  },
  {
   "cell_type": "markdown",
   "source": [
    "Вариант N 175\n",
    "\n",
    "Центр $\\operatorname{Point2D}\\left(-1, 4\\right)$, парабола вида $x^{2} = 2py$ с $p = 8$. Угол поворота $3 \\pi / 4$.\n"
   ],
   "metadata": {
    "collapsed": false
   }
  },
  {
   "cell_type": "code",
   "source": [
    "par = Parabola(8, (-1, 4), Pi / 2)\n",
    "display(Latex(fr\"$\\text{{Исходная парабола:}}$\"))\n",
    "display(par.p, par.vertex, par.angle, par.focus, par.axis_symmetry,\n",
    "        par.directrix, par.equation(), par.ax_sym_equation(), par.dir_equation())\n",
    "\n",
    "par_new = par.rotate(3 * Pi / 4)\n",
    "\n",
    "display(Latex(fr\"$\\text{{Новая парабола:}}$\"))\n",
    "display(par_new.p, par_new.vertex, par_new.angle, par_new.focus, par_new.axis_symmetry,\n",
    "        par_new.directrix, par_new.equation(), par_new.ax_sym_equation(), par_new.dir_equation())\n",
    "\n",
    "eq = par_new.equation()\n",
    "eq_directrix = par_new.dir_equation()\n",
    "eq_axis_symmetry = par_new.ax_sym_equation()\n",
    "\n",
    "p0 = plot_implicit(eq, (x, -10, 10), (y, -10, 10), line_color='purple', aspect_ratio=(1, 1),\n",
    "                  xlabel='$x$', ylabel='$y$',\n",
    "                   title='Парабола',\n",
    "                   adaptive=False, show=False)\n",
    "\n",
    "p0.extend(plot_implicit(eq_directrix, (x, -10, 10), (y, -10, 10), line_color='black',\n",
    "                       aspect_ratio=(1, 1), adaptive=False, show=False))\n",
    "p0.extend(plot_implicit(eq_axis_symmetry, (x, -10, 10), (y, -10, 10), line_color='green',\n",
    "                       aspect_ratio=(1, 1), adaptive=False, show=False))\n",
    "\n",
    "p0.show()"
   ],
   "metadata": {
    "id": "-_Xc-JTUP1dd",
    "ExecuteTime": {
     "end_time": "2024-03-18T14:41:57.348236Z",
     "start_time": "2024-03-18T14:41:53.272936Z"
    }
   },
   "execution_count": 6,
   "outputs": [
    {
     "data": {
      "text/plain": "<IPython.core.display.Latex object>",
      "text/latex": "$\\text{Исходная парабола:}$"
     },
     "metadata": {},
     "output_type": "display_data"
    },
    {
     "data": {
      "text/plain": "8"
     },
     "metadata": {},
     "output_type": "display_data"
    },
    {
     "data": {
      "text/plain": "Point2D(-1, 4)",
      "text/latex": "$\\displaystyle \\operatorname{Point2D}\\left(-1, 4\\right)$"
     },
     "metadata": {},
     "output_type": "display_data"
    },
    {
     "data": {
      "text/plain": "pi/2",
      "text/latex": "$\\displaystyle \\frac{\\pi}{2}$"
     },
     "metadata": {},
     "output_type": "display_data"
    },
    {
     "data": {
      "text/plain": "Point2D(-1, 8)",
      "text/latex": "$\\displaystyle \\operatorname{Point2D}\\left(-1, 8\\right)$"
     },
     "metadata": {},
     "output_type": "display_data"
    },
    {
     "data": {
      "text/plain": "Line2D(Point2D(-1, 8), Point2D(-1, 4))",
      "image/svg+xml": "<svg xmlns=\"http://www.w3.org/2000/svg\"\n            xmlns:xlink=\"http://www.w3.org/1999/xlink\"\n            width=\"100.0\" height=\"100.0\" viewBox=\"-1.40000000000000 3.60000000000000 0.800000000000000 4.80000000000000\"\n            preserveAspectRatio=\"xMinYMin meet\">\n            <defs>\n                <marker id=\"markerCircle\" markerWidth=\"8\" markerHeight=\"8\"\n                    refx=\"5\" refy=\"5\" markerUnits=\"strokeWidth\">\n                    <circle cx=\"5\" cy=\"5\" r=\"1.5\" style=\"stroke: none; fill:#000000;\"/>\n                </marker>\n                <marker id=\"markerArrow\" markerWidth=\"13\" markerHeight=\"13\" refx=\"2\" refy=\"4\"\n                       orient=\"auto\" markerUnits=\"strokeWidth\">\n                    <path d=\"M2,2 L2,6 L6,4\" style=\"fill: #000000;\" />\n                </marker>\n                <marker id=\"markerReverseArrow\" markerWidth=\"13\" markerHeight=\"13\" refx=\"6\" refy=\"4\"\n                       orient=\"auto\" markerUnits=\"strokeWidth\">\n                    <path d=\"M6,2 L6,6 L2,4\" style=\"fill: #000000;\" />\n                </marker>\n            </defs><g transform=\"matrix(1,0,0,-1,0,12.0000000000000)\"><path fill-rule=\"evenodd\" fill=\"#66cc99\" stroke=\"#555555\" stroke-width=\"0.0960000000000000\" opacity=\"0.6\" d=\"M -1.00000000000000,8.00000000000000 L -1.00000000000000,4.00000000000000\" marker-start=\"url(#markerReverseArrow)\" marker-end=\"url(#markerArrow)\"/></g></svg>",
      "text/latex": "$\\displaystyle \\operatorname{Line2D}\\left(\\operatorname{Point2D}\\left(-1, 8\\right), \\operatorname{Point2D}\\left(-1, 4\\right)\\right)$"
     },
     "metadata": {},
     "output_type": "display_data"
    },
    {
     "data": {
      "text/plain": "Line2D(Point2D(-1, 0), Point2D(0, 0))",
      "image/svg+xml": "<svg xmlns=\"http://www.w3.org/2000/svg\"\n            xmlns:xlink=\"http://www.w3.org/1999/xlink\"\n            width=\"100.0\" height=\"100.0\" viewBox=\"-1.10000000000000 -0.100000000000000 1.20000000000000 0.200000000000000\"\n            preserveAspectRatio=\"xMinYMin meet\">\n            <defs>\n                <marker id=\"markerCircle\" markerWidth=\"8\" markerHeight=\"8\"\n                    refx=\"5\" refy=\"5\" markerUnits=\"strokeWidth\">\n                    <circle cx=\"5\" cy=\"5\" r=\"1.5\" style=\"stroke: none; fill:#000000;\"/>\n                </marker>\n                <marker id=\"markerArrow\" markerWidth=\"13\" markerHeight=\"13\" refx=\"2\" refy=\"4\"\n                       orient=\"auto\" markerUnits=\"strokeWidth\">\n                    <path d=\"M2,2 L2,6 L6,4\" style=\"fill: #000000;\" />\n                </marker>\n                <marker id=\"markerReverseArrow\" markerWidth=\"13\" markerHeight=\"13\" refx=\"6\" refy=\"4\"\n                       orient=\"auto\" markerUnits=\"strokeWidth\">\n                    <path d=\"M6,2 L6,6 L2,4\" style=\"fill: #000000;\" />\n                </marker>\n            </defs><g transform=\"matrix(1,0,0,-1,0,0)\"><path fill-rule=\"evenodd\" fill=\"#66cc99\" stroke=\"#555555\" stroke-width=\"0.0240000000000000\" opacity=\"0.6\" d=\"M -1.00000000000000,0 L 0,0\" marker-start=\"url(#markerReverseArrow)\" marker-end=\"url(#markerArrow)\"/></g></svg>",
      "text/latex": "$\\displaystyle \\operatorname{Line2D}\\left(\\operatorname{Point2D}\\left(-1, 0\\right), \\operatorname{Point2D}\\left(0, 0\\right)\\right)$"
     },
     "metadata": {},
     "output_type": "display_data"
    },
    {
     "data": {
      "text/plain": "Eq((-x - 1)**2, 16*y - 64)",
      "text/latex": "$\\displaystyle \\left(- x - 1\\right)^{2} = 16 y - 64$"
     },
     "metadata": {},
     "output_type": "display_data"
    },
    {
     "data": {
      "text/plain": "Eq(x, -1)",
      "text/latex": "$\\displaystyle x = -1$"
     },
     "metadata": {},
     "output_type": "display_data"
    },
    {
     "data": {
      "text/plain": "Eq(y, 0)",
      "text/latex": "$\\displaystyle y = 0$"
     },
     "metadata": {},
     "output_type": "display_data"
    },
    {
     "data": {
      "text/plain": "<IPython.core.display.Latex object>",
      "text/latex": "$\\text{Новая парабола:}$"
     },
     "metadata": {},
     "output_type": "display_data"
    },
    {
     "data": {
      "text/plain": "8"
     },
     "metadata": {},
     "output_type": "display_data"
    },
    {
     "data": {
      "text/plain": "Point2D(-1, 4)",
      "text/latex": "$\\displaystyle \\operatorname{Point2D}\\left(-1, 4\\right)$"
     },
     "metadata": {},
     "output_type": "display_data"
    },
    {
     "data": {
      "text/plain": "5*pi/4",
      "text/latex": "$\\displaystyle \\frac{5 \\pi}{4}$"
     },
     "metadata": {},
     "output_type": "display_data"
    },
    {
     "data": {
      "text/plain": "Point2D(-2*sqrt(2) - 1, 4 - 2*sqrt(2))",
      "text/latex": "$\\displaystyle \\operatorname{Point2D}\\left(- 2 \\sqrt{2} - 1, 4 - 2 \\sqrt{2}\\right)$"
     },
     "metadata": {},
     "output_type": "display_data"
    },
    {
     "data": {
      "text/plain": "Line2D(Point2D(-2*sqrt(2) - 1, 4 - 2*sqrt(2)), Point2D(-1, 4))",
      "image/svg+xml": "<svg xmlns=\"http://www.w3.org/2000/svg\"\n            xmlns:xlink=\"http://www.w3.org/1999/xlink\"\n            width=\"100.0\" height=\"100.0\" viewBox=\"-4.11126983722081 0.888730162779191 3.39411254969543 3.39411254969543\"\n            preserveAspectRatio=\"xMinYMin meet\">\n            <defs>\n                <marker id=\"markerCircle\" markerWidth=\"8\" markerHeight=\"8\"\n                    refx=\"5\" refy=\"5\" markerUnits=\"strokeWidth\">\n                    <circle cx=\"5\" cy=\"5\" r=\"1.5\" style=\"stroke: none; fill:#000000;\"/>\n                </marker>\n                <marker id=\"markerArrow\" markerWidth=\"13\" markerHeight=\"13\" refx=\"2\" refy=\"4\"\n                       orient=\"auto\" markerUnits=\"strokeWidth\">\n                    <path d=\"M2,2 L2,6 L6,4\" style=\"fill: #000000;\" />\n                </marker>\n                <marker id=\"markerReverseArrow\" markerWidth=\"13\" markerHeight=\"13\" refx=\"6\" refy=\"4\"\n                       orient=\"auto\" markerUnits=\"strokeWidth\">\n                    <path d=\"M6,2 L6,6 L2,4\" style=\"fill: #000000;\" />\n                </marker>\n            </defs><g transform=\"matrix(1,0,0,-1,0,5.17157287525381)\"><path fill-rule=\"evenodd\" fill=\"#66cc99\" stroke=\"#555555\" stroke-width=\"0.0678822509939086\" opacity=\"0.6\" d=\"M -3.82842712474619,1.17157287525381 L -1.00000000000000,4.00000000000000\" marker-start=\"url(#markerReverseArrow)\" marker-end=\"url(#markerArrow)\"/></g></svg>",
      "text/latex": "$\\displaystyle \\operatorname{Line2D}\\left(\\operatorname{Point2D}\\left(- 2 \\sqrt{2} - 1, 4 - 2 \\sqrt{2}\\right), \\operatorname{Point2D}\\left(-1, 4\\right)\\right)$"
     },
     "metadata": {},
     "output_type": "display_data"
    },
    {
     "data": {
      "text/plain": "Line2D(Point2D(-1 + 2*sqrt(2), 2*sqrt(2) + 4), Point2D(-1, 4 + 4*sqrt(2)))",
      "image/svg+xml": "<svg xmlns=\"http://www.w3.org/2000/svg\"\n            xmlns:xlink=\"http://www.w3.org/1999/xlink\"\n            width=\"100.0\" height=\"100.0\" viewBox=\"-1.28284271247462 6.54558441227157 3.39411254969543 3.39411254969543\"\n            preserveAspectRatio=\"xMinYMin meet\">\n            <defs>\n                <marker id=\"markerCircle\" markerWidth=\"8\" markerHeight=\"8\"\n                    refx=\"5\" refy=\"5\" markerUnits=\"strokeWidth\">\n                    <circle cx=\"5\" cy=\"5\" r=\"1.5\" style=\"stroke: none; fill:#000000;\"/>\n                </marker>\n                <marker id=\"markerArrow\" markerWidth=\"13\" markerHeight=\"13\" refx=\"2\" refy=\"4\"\n                       orient=\"auto\" markerUnits=\"strokeWidth\">\n                    <path d=\"M2,2 L2,6 L6,4\" style=\"fill: #000000;\" />\n                </marker>\n                <marker id=\"markerReverseArrow\" markerWidth=\"13\" markerHeight=\"13\" refx=\"6\" refy=\"4\"\n                       orient=\"auto\" markerUnits=\"strokeWidth\">\n                    <path d=\"M6,2 L6,6 L2,4\" style=\"fill: #000000;\" />\n                </marker>\n            </defs><g transform=\"matrix(1,0,0,-1,0,16.4852813742386)\"><path fill-rule=\"evenodd\" fill=\"#66cc99\" stroke=\"#555555\" stroke-width=\"0.0678822509939086\" opacity=\"0.6\" d=\"M 1.82842712474619,6.82842712474619 L -1.00000000000000,9.65685424949238\" marker-start=\"url(#markerReverseArrow)\" marker-end=\"url(#markerArrow)\"/></g></svg>",
      "text/latex": "$\\displaystyle \\operatorname{Line2D}\\left(\\operatorname{Point2D}\\left(-1 + 2 \\sqrt{2}, 2 \\sqrt{2} + 4\\right), \\operatorname{Point2D}\\left(-1, 4 + 4 \\sqrt{2}\\right)\\right)$"
     },
     "metadata": {},
     "output_type": "display_data"
    },
    {
     "data": {
      "text/plain": "Eq((sqrt(2)*(x + 1)/2 - sqrt(2)*(y - 4)/2)**2, -8*sqrt(2)*(x + 1) - 8*sqrt(2)*(y - 4))",
      "text/latex": "$\\displaystyle \\left(\\frac{\\sqrt{2} \\left(x + 1\\right)}{2} - \\frac{\\sqrt{2} \\left(y - 4\\right)}{2}\\right)^{2} = - 8 \\sqrt{2} \\left(x + 1\\right) - 8 \\sqrt{2} \\left(y - 4\\right)$"
     },
     "metadata": {},
     "output_type": "display_data"
    },
    {
     "data": {
      "text/plain": "Eq(x - y, -sqrt(2)*(2*sqrt(2) - 2*sqrt(2)*(-4 + 2*sqrt(2)) + 8)/4)",
      "text/latex": "$\\displaystyle x - y = - \\frac{\\sqrt{2} \\cdot \\left(2 \\sqrt{2} - 2 \\sqrt{2} \\left(-4 + 2 \\sqrt{2}\\right) + 8\\right)}{4}$"
     },
     "metadata": {},
     "output_type": "display_data"
    },
    {
     "data": {
      "text/plain": "Eq(x + y, sqrt(2)*(-2*sqrt(2) + 8 + 2*sqrt(2)*(2*sqrt(2) + 4))/4)",
      "text/latex": "$\\displaystyle x + y = \\frac{\\sqrt{2} \\left(- 2 \\sqrt{2} + 8 + 2 \\sqrt{2} \\cdot \\left(2 \\sqrt{2} + 4\\right)\\right)}{4}$"
     },
     "metadata": {},
     "output_type": "display_data"
    },
    {
     "data": {
      "text/plain": "<Figure size 640x480 with 1 Axes>",
      "image/png": "[encoded data removed]"
     },
     "metadata": {},
     "output_type": "display_data"
    }
   ]
  }
 ]
}
