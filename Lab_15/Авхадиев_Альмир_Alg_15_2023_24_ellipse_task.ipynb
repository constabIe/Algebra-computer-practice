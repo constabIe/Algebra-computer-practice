{
 "cells": [
  {
   "cell_type": "code",
   "execution_count": 1,
   "metadata": {
    "id": "9TQ50NoSQIPp",
    "ExecuteTime": {
     "end_time": "2024-03-18T13:57:47.193015Z",
     "start_time": "2024-03-18T13:57:44.475311Z"
    }
   },
   "outputs": [],
   "source": [
    "import sympy as sp\n",
    "from sympy import Ellipse, Point, S, Eq, latex, plot_implicit, solve\n",
    "from sympy import symbols, simplify, Rational, Matrix, Line\n",
    "from sympy import cos as Cos\n",
    "from sympy import sin as Sin\n",
    "from IPython.display import Latex, display"
   ]
  },
  {
   "cell_type": "markdown",
   "metadata": {
    "id": "lMQdka37QIPr"
   },
   "source": [
    "# Практическое занятие 15\n",
    "# Компьютерный практикум по алгебре на Python\n",
    "### Задание 1.\n",
    "Построить эллипс с центром в точке А(1, 2), полуосями 3 и 2. Вычислить и вывести на экран эксцентриситет, площадь и длину дуги полученного эллипса, центр, полуоси, periapsis, apoapsis, межфокусное расстояние и фокусы.\n",
    "\n",
    "Указание: составить словарь с ключами - названиями ('center', 'hradius', 'vradius' и т.п.) и значениями - атрибутами эллипса (.center, .hradius, ...), затем в цикле вывести все значения атрибутов из словаря вместе с названиями, например, \"hradius=3\"."
   ]
  },
  {
   "cell_type": "code",
   "source": [
    "Ellipse_1 = Ellipse(Point(1, 2), hradius=3, vradius=2)\n",
    "display(Ellipse_1)\n",
    "props = {'center': Ellipse_1.center,\n",
    "         'hradius': Ellipse_1.hradius,\n",
    "         'vradius': Ellipse_1.vradius,\n",
    "         'area': Ellipse_1.area,\n",
    "         'circumference': Ellipse_1.circumference,\n",
    "         'eccentricity': Ellipse_1.eccentricity,\n",
    "         'periapsis': Ellipse_1.periapsis,\n",
    "         'apoapsis': Ellipse_1.apoapsis,\n",
    "         'focus\\_distance': Ellipse_1.focus_distance,\n",
    "         'foci': Ellipse_1.foci}\n",
    "display(*[Latex(fr'${key} = {latex(props[key])}$') for key in props])"
   ],
   "metadata": {
    "id": "llO4kYB1lJno",
    "ExecuteTime": {
     "end_time": "2024-03-18T13:57:49.865652Z",
     "start_time": "2024-03-18T13:57:47.205638Z"
    }
   },
   "execution_count": 2,
   "outputs": [
    {
     "data": {
      "text/plain": "Ellipse(Point2D(1, 2), 3, 2)",
      "image/svg+xml": "<svg xmlns=\"http://www.w3.org/2000/svg\"\n            xmlns:xlink=\"http://www.w3.org/1999/xlink\"\n            width=\"100.0\" height=\"100.0\" viewBox=\"-2.60000000000000 -0.600000000000000 7.20000000000000 5.20000000000000\"\n            preserveAspectRatio=\"xMinYMin meet\">\n            <defs>\n                <marker id=\"markerCircle\" markerWidth=\"8\" markerHeight=\"8\"\n                    refx=\"5\" refy=\"5\" markerUnits=\"strokeWidth\">\n                    <circle cx=\"5\" cy=\"5\" r=\"1.5\" style=\"stroke: none; fill:#000000;\"/>\n                </marker>\n                <marker id=\"markerArrow\" markerWidth=\"13\" markerHeight=\"13\" refx=\"2\" refy=\"4\"\n                       orient=\"auto\" markerUnits=\"strokeWidth\">\n                    <path d=\"M2,2 L2,6 L6,4\" style=\"fill: #000000;\" />\n                </marker>\n                <marker id=\"markerReverseArrow\" markerWidth=\"13\" markerHeight=\"13\" refx=\"6\" refy=\"4\"\n                       orient=\"auto\" markerUnits=\"strokeWidth\">\n                    <path d=\"M6,2 L6,6 L2,4\" style=\"fill: #000000;\" />\n                </marker>\n            </defs><g transform=\"matrix(1,0,0,-1,0,4.00000000000000)\"><ellipse fill=\"#66cc99\" stroke=\"#555555\" stroke-width=\"0.144000000000000\" opacity=\"0.6\" cx=\"1.00000000000000\" cy=\"2.00000000000000\" rx=\"3.00000000000000\" ry=\"2.00000000000000\"/></g></svg>",
      "text/latex": "$\\displaystyle \\operatorname{Ellipse}\\left(\\operatorname{Point2D}\\left(1, 2\\right), 3, 2\\right)$"
     },
     "metadata": {},
     "output_type": "display_data"
    },
    {
     "data": {
      "text/plain": "<IPython.core.display.Latex object>",
      "text/latex": "$center = \\operatorname{Point2D}\\left(1, 2\\right)$"
     },
     "metadata": {},
     "output_type": "display_data"
    },
    {
     "data": {
      "text/plain": "<IPython.core.display.Latex object>",
      "text/latex": "$hradius = 3$"
     },
     "metadata": {},
     "output_type": "display_data"
    },
    {
     "data": {
      "text/plain": "<IPython.core.display.Latex object>",
      "text/latex": "$vradius = 2$"
     },
     "metadata": {},
     "output_type": "display_data"
    },
    {
     "data": {
      "text/plain": "<IPython.core.display.Latex object>",
      "text/latex": "$area = 6 \\pi$"
     },
     "metadata": {},
     "output_type": "display_data"
    },
    {
     "data": {
      "text/plain": "<IPython.core.display.Latex object>",
      "text/latex": "$circumference = 12 E\\left(\\frac{5}{9}\\right)$"
     },
     "metadata": {},
     "output_type": "display_data"
    },
    {
     "data": {
      "text/plain": "<IPython.core.display.Latex object>",
      "text/latex": "$eccentricity = \\frac{\\sqrt{5}}{3}$"
     },
     "metadata": {},
     "output_type": "display_data"
    },
    {
     "data": {
      "text/plain": "<IPython.core.display.Latex object>",
      "text/latex": "$periapsis = 3 - \\sqrt{5}$"
     },
     "metadata": {},
     "output_type": "display_data"
    },
    {
     "data": {
      "text/plain": "<IPython.core.display.Latex object>",
      "text/latex": "$apoapsis = \\sqrt{5} + 3$"
     },
     "metadata": {},
     "output_type": "display_data"
    },
    {
     "data": {
      "text/plain": "<IPython.core.display.Latex object>",
      "text/latex": "$focus\\_distance = \\sqrt{5}$"
     },
     "metadata": {},
     "output_type": "display_data"
    },
    {
     "data": {
      "text/plain": "<IPython.core.display.Latex object>",
      "text/latex": "$foci = \\left( \\operatorname{Point2D}\\left(1 - \\sqrt{5}, 2\\right), \\  \\operatorname{Point2D}\\left(1 + \\sqrt{5}, 2\\right)\\right)$"
     },
     "metadata": {},
     "output_type": "display_data"
    }
   ]
  },
  {
   "cell_type": "markdown",
   "metadata": {
    "id": "psl_l7iEQIPv"
   },
   "source": [
    "### Задание 2.\n",
    "Вывести на экран **уравнение** эллипса из задания 1, повернутого на 30 градусов против часовой стрелки относительно его центра,  переменные $u$ и $v$.\n",
    "\n",
    "Изобразить на общем графике эллипс и повернутый эллипс.\n",
    "\n",
    "**Указание:** по углу определить значение _slope аргумента метода equation (это тангенс угла наклона), использовать plot_implicit."
   ]
  },
  {
   "cell_type": "code",
   "source": [
    "Ellipse_1_equation = Ellipse_1.equation(x='u', y='v')\n",
    "Ellipse_1_equation_30_deg = Ellipse_1.equation(x='u', y='v', _slope=(sp.sqrt(3) / 3))\n",
    "display(Latex(fr\"$$0^{{\\circ}}: {latex(Eq(Ellipse_1_equation, 0))}$$\"))\n",
    "display(Latex(fr\"$$30^{{\\circ}}: {latex(Eq(Ellipse_1_equation_30_deg, 0))}$$\"))\n",
    "\n",
    "plots = sp.plot(show=False)\n",
    "plots.extend(plot_implicit(Ellipse_1_equation_30_deg, show=False))\n",
    "plots.extend(plot_implicit(Ellipse_1_equation, show=False))\n",
    "plots.show()\n"
   ],
   "metadata": {
    "id": "lkSRLJCDlKjY",
    "ExecuteTime": {
     "end_time": "2024-03-18T14:20:13.405697Z",
     "start_time": "2024-03-18T14:20:09.205543Z"
    }
   },
   "execution_count": 44,
   "outputs": [
    {
     "data": {
      "text/plain": "<IPython.core.display.Latex object>",
      "text/latex": "$$0^{\\circ}: \\left(\\frac{u}{3} - \\frac{1}{3}\\right)^{2} + \\left(\\frac{v}{2} - 1\\right)^{2} - 1 = 0$$"
     },
     "metadata": {},
     "output_type": "display_data"
    },
    {
     "data": {
      "text/plain": "<IPython.core.display.Latex object>",
      "text/latex": "$$30^{\\circ}: \\frac{\\left(u + \\frac{\\sqrt{3} \\left(v - 2\\right)}{3} - 1\\right)^{2}}{12} + \\frac{3 \\left(v - \\frac{\\sqrt{3} \\left(u - 1\\right)}{3} - 2\\right)^{2}}{16} - 1 = 0$$"
     },
     "metadata": {},
     "output_type": "display_data"
    },
    {
     "data": {
      "text/plain": "<Figure size 640x480 with 1 Axes>",
      "image/png": "[encoded data removed]"
     },
     "metadata": {},
     "output_type": "display_data"
    }
   ]
  },
  {
   "cell_type": "markdown",
   "metadata": {
    "id": "-XxIo-1_QIPw"
   },
   "source": [
    "### Задание 3.\n",
    "Найти вершины эллипса из Задания 1.\n",
    "\n",
    "**Указание:** вершины эллипса искать как решение системы уравнений, составленной из уравнения эллипса и уравнения прямой, проходящей через форкусы (воспользоваться Line и методом equation()); вторую пару вершин получить как решение системы из уравнения эллипса и прямой, проходящей через центр эллипса перпендикулярно прямой, проходящей через фокусы."
   ]
  },
  {
   "cell_type": "code",
   "source": [
    "u, v = symbols('u v')\n",
    "foc_line1 = Line(Ellipse_1.foci[0], Ellipse_1.foci[1])\n",
    "foc_line2 = foc_line1.perpendicular_line(Ellipse_1.center)\n",
    "eq1 = Ellipse_1.equation(x=u, y=v)\n",
    "eq_line1 = foc_line1.equation(x=u, y=v)\n",
    "eq_line2 = foc_line2.equation(x=u, y=v)\n",
    "system1 = [eq1, eq_line1]\n",
    "system2 = [eq1, eq_line2]\n",
    "solve1 = solve(system1, u, v)\n",
    "solve2 = solve(system2, u, v)\n",
    "point1 = Point(solve1[0][0], solve1[0][1])\n",
    "point2 = Point(solve1[1][0], solve1[1][1])\n",
    "point3 = Point(solve2[0][0], solve2[0][1])\n",
    "point4 = Point(solve2[1][0], solve2[1][1])\n",
    "\n",
    "display(point1, point2, point3, point4)"
   ],
   "metadata": {
    "id": "E0tpAb0olLfE",
    "ExecuteTime": {
     "end_time": "2024-03-18T14:20:48.002497Z",
     "start_time": "2024-03-18T14:20:47.885094Z"
    }
   },
   "execution_count": 48,
   "outputs": [
    {
     "data": {
      "text/plain": "Point2D(-2, 2)",
      "text/latex": "$\\displaystyle \\operatorname{Point2D}\\left(-2, 2\\right)$"
     },
     "metadata": {},
     "output_type": "display_data"
    },
    {
     "data": {
      "text/plain": "Point2D(4, 2)",
      "text/latex": "$\\displaystyle \\operatorname{Point2D}\\left(4, 2\\right)$"
     },
     "metadata": {},
     "output_type": "display_data"
    },
    {
     "data": {
      "text/plain": "Point2D(1, 0)",
      "text/latex": "$\\displaystyle \\operatorname{Point2D}\\left(1, 0\\right)$"
     },
     "metadata": {},
     "output_type": "display_data"
    },
    {
     "data": {
      "text/plain": "Point2D(1, 4)",
      "text/latex": "$\\displaystyle \\operatorname{Point2D}\\left(1, 4\\right)$"
     },
     "metadata": {},
     "output_type": "display_data"
    }
   ]
  },
  {
   "cell_type": "markdown",
   "source": [
    "### Задание 4.\n",
    "Провести касательные к эллипсу из Задания 1 через его вершины.\n",
    "\n",
    "Указание: использовать equation прямых Line, plot_implicit. Для корректного изображения на графике горизонтальных прямых в plot_implicit указывать диапазоны значений и переменной $x$ и переменной $y$."
   ],
   "metadata": {
    "id": "LbEzVL4I32vR"
   }
  },
  {
   "cell_type": "code",
   "source": [
    "p = plot_implicit(eq1,\n",
    "              (u, -5, 5),\n",
    "              (v, -5, 5),\n",
    "              aspect_ratio=(1, 1),\n",
    "              adaptive=False, show=False)\n",
    "points = [point1, point2, point3, point4]\n",
    "for point in points:\n",
    "    tangent = Line(Ellipse_1.center, point).perpendicular_line(point).equation(x=u, y=v)\n",
    "    p.extend(plot_implicit(tangent,\n",
    "                        (u,-10,10),\n",
    "                        (v,-10,10),\n",
    "                        aspect_ratio=(1, 1),\n",
    "                        adaptive=False,\n",
    "                        show=False))\n",
    "p.show()"
   ],
   "metadata": {
    "id": "gKn8A-ddlMTw",
    "ExecuteTime": {
     "end_time": "2024-03-18T14:21:48.244995Z",
     "start_time": "2024-03-18T14:21:47.289049Z"
    }
   },
   "execution_count": 50,
   "outputs": [
    {
     "data": {
      "text/plain": "<Figure size 640x480 with 1 Axes>",
      "image/png": "[encoded data removed]"
     },
     "metadata": {},
     "output_type": "display_data"
    }
   ]
  },
  {
   "cell_type": "markdown",
   "source": [
    "### Задание 5**.\n",
    "Построить дочерний класс эллипсов Ellipse_rot, в этом классе должна быть переменная угол поворота, по умолчанию 0 и матрица поворота rot_matr__, по умолчанию None. По умолчанию центр эллипса в начале координат, но при построении экземпляра пользователь может задать другой центр. При построении экземпляра класса пользователь должен иметь возможность задать угол поворота. Матрица поворота - внутренняя переменная, она должна изменяться только при вызове метода change_angle, изменяющего угол поворота.\n",
    "\n",
    "**Атрибуты класса:**\n",
    "\n",
    "**focus_distance** фокусное расстояние $c = \\sqrt{a^2 - b^2}$\n",
    "\n",
    "**foci фокусы** в виде кортежа из точек Point\n",
    "\n",
    "**angle** угол наклона в радианах\n",
    "\n",
    "**slope** тангенс угла наклона (None для угла, кратного $\\pi / 2$, угол от $- 2 \\pi$ до $2 \\pi$)\n",
    "\n",
    "**rot_matr** (не путать с rot_matr__!!!) - матрица поворота $\\left(\\begin{matrix}\\cos\\alpha&-\\sin\\alpha\\\\ \\sin\\alpha&\\cos\\alpha\\end{matrix}\\right).$\n",
    "\n",
    "\n",
    "**Методы:**\n",
    "\n",
    "**change_angle** аргумент - новое значение угла поворота, метод изменяет переменную angle и матрицу поворота\n",
    "\n",
    "**equation** возвращает уравнение эллипса, соответствующее углу поворота эллипса, у этого метода необязательные аргументы - имена переменных, по умолчанию $x$ и $y$.\n",
    "\n",
    "\n",
    "Протестировать полученный класс так: создать эллипс с осями 12 и 9, центр в точке $(-1, 2)$, угол поворота $\\pi / 3$, вывести на экран его эксцентриситет, фокусное расстояние, фокусы, тангенс угла наклона, матрицу поворота и уравнение. Затем заменить угол поворота на $\\pi / 4$ и вывести на экран те же атрибуты и результаты работы методов, только уравнение вывести с переменными $u$ и $v$."
   ],
   "metadata": {
    "id": "luiSqwlDvx-F"
   }
  },
  {
   "cell_type": "code",
   "source": [],
   "metadata": {
    "id": "G_rvM2QnlNSq",
    "ExecuteTime": {
     "end_time": "2024-03-18T13:57:59.841100Z",
     "start_time": "2024-03-18T13:57:59.594834Z"
    }
   },
   "execution_count": 4,
   "outputs": []
  },
  {
   "cell_type": "markdown",
   "metadata": {
    "id": "Z558wMoUQIPx"
   },
   "source": [
    "###  Индивидуальное задание\n",
    "Эллипс с центром $A$, вертикальной полуосью $b$ и эксцентриситетом $\\varepsilon$.\n",
    "Изобразить на графике эллипс, а также эллипс, повернутый на угол $\\alpha$ градусов против часовой стрелки.\n",
    "\n",
    "Вывести на экран центр и фокусы эллипса, длины полуосей, уравнение эллипса, вершины эллипса."
   ]
  },
  {
   "cell_type": "markdown",
   "source": [
    "Вариант N 175\n",
    "\n",
    "Центр $\\operatorname{Point2D}\\left(1, 5\\right)$, вертикальная полуось $8$, эксцентриситет $9 / 10$, угол поворота $\\pi / 3$, по часовой стрелке.\n"
   ],
   "metadata": {
    "collapsed": false
   }
  },
  {
   "cell_type": "code",
   "source": [
    "Ellipse_2 = Ellipse(Point(1, 5), vradius=8, eccentricity=S(9)/10)\n",
    "expr1 = Ellipse_2.equation(x=u, y=v)\n",
    "expr2 = Ellipse_2.equation(x=u, y=v, _slope=sp.tan(sp.pi / 3))\n",
    "eq1 = Eq(expr1, 0)\n",
    "eq2 = Eq(expr2, 0)\n",
    "p = plot_implicit(eq2,\n",
    "              (u, -25, 25),\n",
    "              (v, -25, 25),\n",
    "              aspect_ratio=(1, 1),\n",
    "              adaptive=False, show=False)\n",
    "p.extend(plot_implicit(eq1,\n",
    "              (u, -25, 25),\n",
    "              (v, -25, 25),\n",
    "              aspect_ratio=(1, 1),\n",
    "              adaptive=False, show=False))\n",
    "p.show()\n",
    "\n",
    "atributes = {'center': Ellipse_2.center,\n",
    "             'foci': Ellipse_2.foci,\n",
    "             'hradius': Ellipse_2.hradius,\n",
    "             'vradius': Ellipse_2.vradius,\n",
    "             'equation': Eq(Ellipse_2.equation(x='x', y='y'), 0)}\n",
    "display(*[Latex(f'{key} = {latex(atributes[key])}') for key in atributes])\n",
    "\n",
    "foc_line1 = Line(Ellipse_2.foci[0], Ellipse_2.foci[1])\n",
    "foc_line2 = foc_line1.perpendicular_line(Ellipse_2.center)\n",
    "eq1 = Ellipse_2.equation(x=u, y=v)\n",
    "eq_line1 = foc_line1.equation(x=u, y=v)\n",
    "eq_line2 = foc_line2.equation(x=u, y=v)\n",
    "system1 = [eq1, eq_line1]\n",
    "system2 = [eq1, eq_line2]\n",
    "solve1 = solve(system1, u, v)\n",
    "solve2 = solve(system2, u, v)\n",
    "point1 = Point(solve1[0][0], solve1[0][1])\n",
    "point2 = Point(solve1[1][0], solve1[1][1])\n",
    "point3 = Point(solve2[0][0], solve2[0][1])\n",
    "point4 = Point(solve2[1][0], solve2[1][1])\n",
    "\n",
    "display(point1, point2, point3, point4)"
   ],
   "metadata": {
    "id": "kxflF0NalPfk",
    "ExecuteTime": {
     "end_time": "2024-03-18T14:23:41.111501Z",
     "start_time": "2024-03-18T14:23:40.109593Z"
    }
   },
   "execution_count": 51,
   "outputs": [
    {
     "data": {
      "text/plain": "<Figure size 640x480 with 1 Axes>",
      "image/png": "[encoded data removed]"
     },
     "metadata": {},
     "output_type": "display_data"
    },
    {
     "data": {
      "text/plain": "<IPython.core.display.Latex object>",
      "text/latex": "center = \\operatorname{Point2D}\\left(1, 5\\right)"
     },
     "metadata": {},
     "output_type": "display_data"
    },
    {
     "data": {
      "text/plain": "<IPython.core.display.Latex object>",
      "text/latex": "foci = \\left( \\operatorname{Point2D}\\left(1 - \\frac{72 \\sqrt{19}}{19}, 5\\right), \\  \\operatorname{Point2D}\\left(1 + \\frac{72 \\sqrt{19}}{19}, 5\\right)\\right)"
     },
     "metadata": {},
     "output_type": "display_data"
    },
    {
     "data": {
      "text/plain": "<IPython.core.display.Latex object>",
      "text/latex": "hradius = \\frac{80 \\sqrt{19}}{19}"
     },
     "metadata": {},
     "output_type": "display_data"
    },
    {
     "data": {
      "text/plain": "<IPython.core.display.Latex object>",
      "text/latex": "vradius = 8"
     },
     "metadata": {},
     "output_type": "display_data"
    },
    {
     "data": {
      "text/plain": "<IPython.core.display.Latex object>",
      "text/latex": "equation = \\frac{19 \\left(x - 1\\right)^{2}}{6400} + \\left(\\frac{y}{8} - \\frac{5}{8}\\right)^{2} - 1 = 0"
     },
     "metadata": {},
     "output_type": "display_data"
    },
    {
     "data": {
      "text/plain": "Point2D(1 - 80*sqrt(19)/19, 5)",
      "text/latex": "$\\displaystyle \\operatorname{Point2D}\\left(1 - \\frac{80 \\sqrt{19}}{19}, 5\\right)$"
     },
     "metadata": {},
     "output_type": "display_data"
    },
    {
     "data": {
      "text/plain": "Point2D(1 + 80*sqrt(19)/19, 5)",
      "text/latex": "$\\displaystyle \\operatorname{Point2D}\\left(1 + \\frac{80 \\sqrt{19}}{19}, 5\\right)$"
     },
     "metadata": {},
     "output_type": "display_data"
    },
    {
     "data": {
      "text/plain": "Point2D(1, -3)",
      "text/latex": "$\\displaystyle \\operatorname{Point2D}\\left(1, -3\\right)$"
     },
     "metadata": {},
     "output_type": "display_data"
    },
    {
     "data": {
      "text/plain": "Point2D(1, 13)",
      "text/latex": "$\\displaystyle \\operatorname{Point2D}\\left(1, 13\\right)$"
     },
     "metadata": {},
     "output_type": "display_data"
    }
   ]
  }
 ],
 "metadata": {
  "kernelspec": {
   "display_name": "Python 3",
   "language": "python",
   "name": "python3"
  },
  "language_info": {
   "codemirror_mode": {
    "name": "ipython",
    "version": 3
   },
   "file_extension": ".py",
   "mimetype": "text/x-python",
   "name": "python",
   "nbconvert_exporter": "python",
   "pygments_lexer": "ipython3",
   "version": "3.7.3"
  },
  "colab": {
   "provenance": []
  }
 },
 "nbformat": 4,
 "nbformat_minor": 0
}
