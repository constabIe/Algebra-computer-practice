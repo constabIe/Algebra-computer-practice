{
  "cells": [
    {
      "cell_type": "markdown",
      "metadata": {
        "id": "B600zaglO8R5"
      },
      "source": [
        "## Занятие 4\n",
        "## Компьютерный практикум по алгебре на Python\n",
        "## Фундаментальная система решений однородной СЛАУ"
      ]
    },
    {
      "cell_type": "markdown",
      "metadata": {
        "id": "z-MBGjqlO8R-"
      },
      "source": [
        "https://docs.sympy.org/latest/modules"
      ]
    },
    {
      "cell_type": "code",
      "execution_count": 1,
      "metadata": {
        "id": "mbuIM2VjO8SA"
      },
      "outputs": [],
      "source": [
        "# Статус: не готово к проверке\n",
        "import sympy\n",
        "from sympy import linsolve, Matrix, S, Symbol, symbols, Eq,\\\n",
        "linear_eq_to_matrix, zeros, latex\n",
        "from IPython.display import display, Latex"
      ]
    },
    {
      "cell_type": "markdown",
      "metadata": {
        "id": "MCakxRL6O8SC"
      },
      "source": [
        "### Задание 1.\n",
        "Проверить по теореме Кронекера-Капелли совместность СЛАУ $AX = b$, если\n",
        "\\begin{align*}\n",
        "a)&\\ A = \\left(\n",
        "\\begin{matrix}\n",
        "-1 & -3 & 5 & 2\\\\\n",
        "2 & -1 & 4 & 7\\\\\n",
        "3 & 4 & -1 & 0\\\\\n",
        "5 & 0 & 1 & -3\n",
        "\\end{matrix}\n",
        "\\right), \\quad\n",
        "b = \\left(\n",
        "\\begin{matrix}\n",
        "14\\\\ 56\\\\ 5\\\\ -6\n",
        "\\end{matrix}\n",
        "\\right), \\\\\n",
        "b)&\\ A = \\left(\n",
        "\\begin{matrix}\n",
        "1 & 3 & 5 & 2\\\\\n",
        "2 & -1 & 4 & 1\\\\\n",
        "3 & 4 & -1 & 0\\\\\n",
        "5 & 3 & 3 & 1\n",
        "\\end{matrix}\n",
        "\\right), \\quad\n",
        "b = \\left(\n",
        "\\begin{matrix}\n",
        "24\\\\ 20\\\\ 5\\\\ 5\n",
        "\\end{matrix}\n",
        "\\right), \\\\\n",
        "c)&\\ A = \\left(\n",
        "\\begin{matrix}\n",
        "1 & 3 & 5 & 2\\\\\n",
        "2 & -1 & 4 & 1\\\\\n",
        "3 & 2 & 9 & 3\\\\\n",
        "1 & -4 & -1 & -1\n",
        "\\end{matrix}\n",
        "\\right), \\quad\n",
        "b = \\left(\n",
        "\\begin{matrix}\n",
        "24\\\\ 20\\\\ 44\\\\ -4\n",
        "\\end{matrix}\n",
        "\\right)\n",
        "\\end{align*}"
      ]
    },
    {
      "cell_type": "code",
      "source": [
        "A = []\n",
        "b = []\n",
        "\n",
        "A1 = Matrix([[-1, -3, 5, 2], [2, -1, 4, 7], [3, 4, -1, 0], [5, 0, 1, -3]])\n",
        "b1 = Matrix([14, 56, 5, -6])\n",
        "flag = not(A1.rank() == A1.row_join(b1).rank())\n",
        "print(f'a) СЛАУ {\"не \" * flag}совместна')\n",
        "A.append(A1)\n",
        "b.append(b1)\n",
        "\n",
        "A2 = Matrix([[1, 3, 5, 2], [2, -1, 4, 1], [3, 4, -1, 0], [5, 3, 3, 1]])\n",
        "b2 = Matrix([24, 20, 5, 5])\n",
        "flag = not(A2.rank() == A2.row_join(b2).rank())\n",
        "print(f'b) СЛАУ {\"не \" * flag}совместна')\n",
        "A.append(A2)\n",
        "b.append(b2)\n",
        "\n",
        "A3 = Matrix([[1, 3, 5, 2], [2, -1, 4, 1], [3, 2, 9, 3], [1, -4, -1, -1]])\n",
        "b3 = Matrix([24, 20, 44, -4])\n",
        "flag = not(A3.rank() == A3.row_join(b3).rank())\n",
        "print(f'c) СЛАУ {\"не \" * flag}совместна')\n",
        "A.append(A3)\n",
        "b.append(b3)\n"
      ],
      "metadata": {
        "id": "VKU7nfir1Yfq",
        "colab": {
          "base_uri": "https://localhost:8080/"
        },
        "outputId": "dbe1f646-7efd-44f1-ec55-b4ea8cc0a72a"
      },
      "execution_count": 2,
      "outputs": [
        {
          "output_type": "stream",
          "name": "stdout",
          "text": [
            "a) СЛАУ совместна\n",
            "b) СЛАУ не совместна\n",
            "c) СЛАУ совместна\n"
          ]
        }
      ]
    },
    {
      "cell_type": "markdown",
      "metadata": {
        "id": "F3lXkJ3oO8SM"
      },
      "source": [
        "### Задание 2.\n",
        "\n",
        "Проверить единственность решения в совместных СЛАУ Задания 1."
      ]
    },
    {
      "cell_type": "code",
      "source": [
        "items = ['a)', 'b)', 'c)']\n",
        "for i in range(len(A)):\n",
        "  useless, n = A[i].shape\n",
        "  flag = not((n == A[i].rank()) and (n == A[i].row_join(b[i]).rank()))\n",
        "  print(f'{items[i]} СЛАУ {\"не \" * flag}имеет единственное решение')\n"
      ],
      "metadata": {
        "id": "rPoixqcH1Zp6",
        "colab": {
          "base_uri": "https://localhost:8080/"
        },
        "outputId": "769a2bd5-d192-46d5-9820-a57247650676"
      },
      "execution_count": 3,
      "outputs": [
        {
          "output_type": "stream",
          "name": "stdout",
          "text": [
            "a) СЛАУ имеет единственное решение\n",
            "b) СЛАУ не имеет единственное решение\n",
            "c) СЛАУ не имеет единственное решение\n"
          ]
        }
      ]
    },
    {
      "cell_type": "markdown",
      "metadata": {
        "id": "cHZhM0_jO8SO"
      },
      "source": [
        "### Задание 3\n",
        "Для однородных СЛАУ, соответствующих СЛАУ из Задания 1 установить, есть ли у однородной СЛАУ нетривиальное решение."
      ]
    },
    {
      "cell_type": "code",
      "source": [
        "for i in range(len(A)):\n",
        "  rubbish, n = A[i].shape\n",
        "  flag = not(A[i].rank() < n)\n",
        "  print(f'{items[i]} СЛАУ {\"не \" * flag}имеет нетривиальное решение')\n"
      ],
      "metadata": {
        "id": "rhNGTcBi1axC",
        "colab": {
          "base_uri": "https://localhost:8080/"
        },
        "outputId": "d388e0e6-f327-4e80-e35e-2fabed808ff1"
      },
      "execution_count": 4,
      "outputs": [
        {
          "output_type": "stream",
          "name": "stdout",
          "text": [
            "a) СЛАУ не имеет нетривиальное решение\n",
            "b) СЛАУ имеет нетривиальное решение\n",
            "c) СЛАУ имеет нетривиальное решение\n"
          ]
        }
      ]
    },
    {
      "cell_type": "markdown",
      "metadata": {
        "id": "wmJb1QrxO8SQ"
      },
      "source": [
        "### Задание 4\n",
        "Для однородных СЛАУ из Задания 3, имеющих нетривиальное решение, составить ФСР."
      ]
    },
    {
      "cell_type": "code",
      "source": [
        "for i in range(len(A)):\n",
        "  rubbish, n = A[i].shape\n",
        "  flag = A[i].rank() < n\n",
        "  if flag:\n",
        "      fsr = A[i].nullspace()\n",
        "      display(Latex(f'{items[i]}\\ ФСР: {latex(fsr)}'))\n",
        "  else:\n",
        "    display(Latex(f'{items[i]}\\ None'))"
      ],
      "metadata": {
        "id": "eS-_SBkc1btS",
        "colab": {
          "base_uri": "https://localhost:8080/",
          "height": 201
        },
        "outputId": "60efa226-9817-4987-856f-6f15f85f0e2f"
      },
      "execution_count": 5,
      "outputs": [
        {
          "output_type": "display_data",
          "data": {
            "text/plain": [
              "<IPython.core.display.Latex object>"
            ],
            "text/latex": "a)\\ None"
          },
          "metadata": {}
        },
        {
          "output_type": "display_data",
          "data": {
            "text/plain": [
              "<IPython.core.display.Latex object>"
            ],
            "text/latex": "b)\\ ФСР: \\left[ \\left[\\begin{matrix}\\frac{7}{82}\\\\- \\frac{6}{41}\\\\- \\frac{27}{82}\\\\1\\end{matrix}\\right]\\right]"
          },
          "metadata": {}
        },
        {
          "output_type": "display_data",
          "data": {
            "text/plain": [
              "<IPython.core.display.Latex object>"
            ],
            "text/latex": "c)\\ ФСР: \\left[ \\left[\\begin{matrix}- \\frac{17}{7}\\\\- \\frac{6}{7}\\\\1\\\\0\\end{matrix}\\right], \\  \\left[\\begin{matrix}- \\frac{5}{7}\\\\- \\frac{3}{7}\\\\0\\\\1\\end{matrix}\\right]\\right]"
          },
          "metadata": {}
        }
      ]
    },
    {
      "cell_type": "markdown",
      "metadata": {
        "id": "TbcC_Tc-O8ST"
      },
      "source": [
        "### Задание 5\n",
        "Для однородных СЛАУ из Задания 4 построить общее решение, используя построенную в Задании 4 ФСР. Сравнить с результатом, возвращаемым linsolve."
      ]
    },
    {
      "cell_type": "code",
      "source": [
        "for i in range(1, 3):\n",
        "  n, m = A[i].shape\n",
        "  x = symbols('x1:' + str(m + 1))\n",
        "  X = zeros(m, 1)\n",
        "  for i, vect in enumerate(A[i].nullspace()):\n",
        "      X += vect * Symbol('alpha' + str(i + 1))\n",
        "  display(Latex(f\"\"\"X = {latex(X.T)},\\ linsolve: {latex(linsolve((A[i], zeros(n, 1)), x))}\"\"\"))"
      ],
      "metadata": {
        "id": "PdHLZ9tG1c2b",
        "colab": {
          "base_uri": "https://localhost:8080/",
          "height": 59
        },
        "outputId": "9710afaf-25b7-4dd4-ceb4-1db33cae36d5"
      },
      "execution_count": 7,
      "outputs": [
        {
          "output_type": "display_data",
          "data": {
            "text/plain": [
              "<IPython.core.display.Latex object>"
            ],
            "text/latex": "X = \\left[\\begin{matrix}\\frac{7 \\alpha_{1}}{82} & - \\frac{6 \\alpha_{1}}{41} & - \\frac{27 \\alpha_{1}}{82} & \\alpha_{1}\\end{matrix}\\right],\\ linsolve: \\left\\{\\left( 0, \\  0, \\  0, \\  0\\right)\\right\\}"
          },
          "metadata": {}
        },
        {
          "output_type": "display_data",
          "data": {
            "text/plain": [
              "<IPython.core.display.Latex object>"
            ],
            "text/latex": "X = \\left[\\begin{matrix}- \\frac{17 \\alpha_{1}}{7} - \\frac{5 \\alpha_{2}}{7} & - \\frac{6 \\alpha_{1}}{7} - \\frac{3 \\alpha_{2}}{7} & \\alpha_{1} & \\alpha_{2}\\end{matrix}\\right],\\ linsolve: \\left\\{\\left( \\frac{7 x_{4}}{82}, \\  - \\frac{6 x_{4}}{41}, \\  - \\frac{27 x_{4}}{82}, \\  x_{4}\\right)\\right\\}"
          },
          "metadata": {}
        }
      ]
    },
    {
      "cell_type": "markdown",
      "source": [
        "### Индивидуальное задание.\n",
        "Вариант №175\n",
        "\n",
        "Дана СЛАУ $AX = b$,\n",
        "1)Проверить совместность по теореме Кронекера-Капелли. 2)Если СЛАУ совместна, проверить единственность решения.\n",
        "3)Для соответствующей однородной СЛАУ проверить существование нетривиального решения. В случае, если оно существует,\n",
        "4)найти размерность пространства решений и составить ФСР и общее решение однородной  и неоднородной СЛАУ.\n",
        "\n",
        "\n",
        "\\begin{align*}\n",
        " A = \\left[\\begin{matrix}0 & 6 & 3 & -6 & 0\\\\20 & 34 & 37 & -34 & -36\\\\80 & 154 & 157 & -154 & -144\\\\-80 & -118 & -139 & 118 & 144\\\\-240 & -372 & -426 & 372 & 432\\end{matrix}\\right],\n",
        "\\ b = \\left[\\begin{matrix}24\\\\68\\\\344\\\\-200\\\\-672\\end{matrix}\\right].\n",
        " \\end{align*}\n"
      ],
      "metadata": {
        "id": "nyeWca16L3nH"
      }
    },
    {
      "cell_type": "code",
      "source": [
        "A = Matrix([[   0,    6,    3,   -6,    0], \\\n",
        "            [  20,   34,   37,  -34,  -36], \\\n",
        "            [  80,  154,  157, -154, -144], \\\n",
        "            [ -80, -118, -139,  118,  144], \\\n",
        "            [-240, -372, -426,  372,  432]])\n",
        "b = Matrix( [  24,   68,  344, -200, -672])\n",
        "flag = A.rank() == A.row_join(b).rank\n",
        "if flag:\n",
        "  display(Latex(f'1)\\ СЛАУ\\ совместна'))\n",
        "else:\n",
        "  display(Latex(f'1)\\ СЛАУ\\ не\\ совместна'))\n",
        "\n",
        "rubbish, n = A.shape\n",
        "if flag:\n",
        "  if n == A.rank() and n == A.row_join(b).rank:\n",
        "    display(Latex(f'2)\\ СЛАУ\\ обладает\\ единcтвеннсотью'))\n",
        "  else:\n",
        "    display(Latex(f'2)\\ СЛАУ\\ не\\ обладает\\ единcтвеннсотью'))\n",
        "else:\n",
        "  display(Latex(f'2)\\ None'))\n",
        "\n",
        "flag = A.rank() < n\n",
        "if flag:\n",
        "  display(Latex(f'3)\\ \\exists\\ нетривиальное\\ решение'))\n",
        "else:\n",
        "  display(Latex(f'3)\\ \\nexists\\ нетривиальное\\ решение'))\n",
        "\n",
        "if flag:\n",
        "  display(Latex(f'4)\\ Размерность:{n - A.rank()}'))\n",
        "  display(Latex(f'\\ \\ \\ \\ ФСР: {latex(A.nullspace())}'))\n"
      ],
      "metadata": {
        "id": "Q1V4ku_t1ejj",
        "colab": {
          "base_uri": "https://localhost:8080/",
          "height": 200
        },
        "outputId": "67f7f1cb-3e59-4668-db7e-f4008ece1e2a"
      },
      "execution_count": null,
      "outputs": [
        {
          "output_type": "display_data",
          "data": {
            "text/plain": [
              "<IPython.core.display.Latex object>"
            ],
            "text/latex": "1)\\ СЛАУ\\ не\\ совместна"
          },
          "metadata": {}
        },
        {
          "output_type": "display_data",
          "data": {
            "text/plain": [
              "<IPython.core.display.Latex object>"
            ],
            "text/latex": "2)\\ None"
          },
          "metadata": {}
        },
        {
          "output_type": "display_data",
          "data": {
            "text/plain": [
              "<IPython.core.display.Latex object>"
            ],
            "text/latex": "3)\\ \\exists\\ нетривиальное\\ решение"
          },
          "metadata": {}
        },
        {
          "output_type": "display_data",
          "data": {
            "text/plain": [
              "<IPython.core.display.Latex object>"
            ],
            "text/latex": "4)\\ Размерность:3"
          },
          "metadata": {}
        },
        {
          "output_type": "display_data",
          "data": {
            "text/plain": [
              "<IPython.core.display.Latex object>"
            ],
            "text/latex": "\\ \\ \\ \\ ФСР: \\left[ \\left[\\begin{matrix}-1\\\\- \\frac{1}{2}\\\\1\\\\0\\\\0\\end{matrix}\\right], \\  \\left[\\begin{matrix}0\\\\1\\\\0\\\\1\\\\0\\end{matrix}\\right], \\  \\left[\\begin{matrix}\\frac{9}{5}\\\\0\\\\0\\\\0\\\\1\\end{matrix}\\right]\\right]"
          },
          "metadata": {}
        }
      ]
    }
  ],
  "metadata": {
    "colab": {
      "provenance": []
    },
    "kernelspec": {
      "display_name": "Python 3 (ipykernel)",
      "language": "python",
      "name": "python3"
    },
    "language_info": {
      "codemirror_mode": {
        "name": "ipython",
        "version": 3
      },
      "file_extension": ".py",
      "mimetype": "text/x-python",
      "name": "python",
      "nbconvert_exporter": "python",
      "pygments_lexer": "ipython3",
      "version": "3.10.7"
    }
  },
  "nbformat": 4,
  "nbformat_minor": 0
}