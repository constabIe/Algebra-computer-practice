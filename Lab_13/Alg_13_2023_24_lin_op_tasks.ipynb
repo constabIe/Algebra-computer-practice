{
 "nbformat": 4,
 "nbformat_minor": 0,
 "metadata": {
  "kernelspec": {
   "display_name": "Python 3",
   "language": "python",
   "name": "python3"
  },
  "language_info": {
   "codemirror_mode": {
    "name": "ipython",
    "version": 3
   },
   "file_extension": ".py",
   "mimetype": "text/x-python",
   "name": "python",
   "nbconvert_exporter": "python",
   "pygments_lexer": "ipython3",
   "version": "3.7.3"
  },
  "colab": {
   "provenance": []
  }
 },
 "cells": [
  {
   "cell_type": "code",
   "metadata": {
    "id": "N4mLs7g4G85I",
    "ExecuteTime": {
     "end_time": "2024-03-15T18:19:26.477957Z",
     "start_time": "2024-03-15T18:19:26.111313Z"
    }
   },
   "source": [
    "import pandas as pd\n",
    "import sympy\n",
    "import matplotlib\n",
    "from sympy import Matrix, latex, lambdify\n",
    "from sympy import pi as Pi\n",
    "from sympy import cos as Cos\n",
    "from sympy import sin as Sin\n",
    "import matplotlib.pyplot as plt\n",
    "\n",
    "from IPython.display import Latex, display, Math"
   ],
   "execution_count": 10,
   "outputs": []
  },
  {
   "cell_type": "markdown",
   "metadata": {
    "id": "L53ZTfO2G85R"
   },
   "source": [
    "# Практическое занятие 13\n",
    "# Компьютерный практикум по алгебре на Python\n",
    "## Линейные операторы на плоскости и в пространстве\n",
    "### Задание 1.\n",
    "Написать функцию, составляющую матрицу линейного оператора поворота на $\\alpha$ градусов или радиан **по** или **против часовой стрелки** на плоскости. Параметры: обязательные - угол поворота, необязательные - тип меры угла (градусы или радианы), направление поворота (по или против часовой стрелки). Значения по умолчанию - против часовой стрелки в радианах.\n",
    "\n",
    "Использовать полученную функцию для выведения на экран координат векторов, полученных поворотом вектора [1, 2]\n",
    "\n",
    "1) на 10, 20, 45 градусов **по  часовой стрелке**\n",
    "\n",
    "2) на $\\pi/3$ радиан **против часовой стрелки**."
   ]
  },
  {
   "cell_type": "code",
   "source": [
    "def rotate_vec(vect: sympy.Matrix, angle: float, angle_measure: str, direction: str) -> sympy.Matrix:\n",
    "    angle_alpha = angle\n",
    "    if angle_measure == \"deg\":\n",
    "        angle_alpha = angle * Pi / 180\n",
    "    elif angle_measure == \"rad\":\n",
    "        None\n",
    "    else:\n",
    "        print(\"\\033[1;31m error: invalid symbols \\033[0m\")\n",
    "\n",
    "    if direction == '->':  # по часовой\n",
    "        M = Matrix([[Cos(angle_alpha), -Sin(angle_alpha)], [Sin(angle_alpha), Cos(angle_alpha)]])\n",
    "    elif direction == '<-':  # против часовой\n",
    "        M = Matrix([[Cos(angle_alpha), Sin(angle_alpha)], [-Sin(angle_alpha), Cos(angle_alpha)]])\n",
    "    else:\n",
    "        print(\"\\033[1;31m error: invalid symbols \\033[0m\")\n",
    "\n",
    "    res_vect = M * vect\n",
    "\n",
    "    return res_vect\n",
    "\n",
    "\n",
    "a = Matrix([1, 2])\n",
    "\n",
    "for angle in [10, 20, 45]:\n",
    "    rotated_vec = rotate_vec(a, angle, 'deg', '->')\n",
    "    display(Latex(\n",
    "        r'$$\\alpha_{deg}' + fr'= {latex(angle)}:\\ \\left( 1, 2 \\right) \\rightarrow \\left( {latex(rotated_vec[0])},\\ {latex(rotated_vec[1])} \\right) \\approx \\left( {latex(rotated_vec[1].evalf())},\\ {latex(rotated_vec[1].evalf())} \\right)$$'))\n",
    "\n",
    "print(\"\\n\")\n",
    "\n",
    "rotated_vec = rotate_vec(a, Pi / 3, 'rad', '<-')\n",
    "display(Latex(\n",
    "    r'$$\\alpha_{rad} = ' + fr'{latex(Pi / 3)}:\\ \\left( 1, 2 \\right) \\rightarrow \\left( {latex(rotated_vec[0])},\\ {latex(rotated_vec[1])}\\right) \\approx \\left( {latex(rotated_vec[1].evalf())},\\ {latex(rotated_vec[1].evalf())} \\right)$$'))\n"
   ],
   "metadata": {
    "id": "OYv_qCtZY8xJ",
    "ExecuteTime": {
     "end_time": "2024-03-15T18:19:26.880137Z",
     "start_time": "2024-03-15T18:19:26.185999Z"
    }
   },
   "execution_count": 11,
   "outputs": [
    {
     "data": {
      "text/plain": "<IPython.core.display.Latex object>",
      "text/latex": "$$\\alpha_{deg}= 10:\\ \\left( 1, 2 \\right) \\rightarrow \\left( - 2 \\sin{\\left(\\frac{\\pi}{18} \\right)} + \\cos{\\left(\\frac{\\pi}{18} \\right)},\\ \\sin{\\left(\\frac{\\pi}{18} \\right)} + 2 \\cos{\\left(\\frac{\\pi}{18} \\right)} \\right) \\approx \\left( 2.14326368369135,\\ 2.14326368369135 \\right)$$"
     },
     "metadata": {},
     "output_type": "display_data"
    },
    {
     "data": {
      "text/plain": "<IPython.core.display.Latex object>",
      "text/latex": "$$\\alpha_{deg}= 20:\\ \\left( 1, 2 \\right) \\rightarrow \\left( - 2 \\sin{\\left(\\frac{\\pi}{9} \\right)} + \\cos{\\left(\\frac{\\pi}{9} \\right)},\\ \\sin{\\left(\\frac{\\pi}{9} \\right)} + 2 \\cos{\\left(\\frac{\\pi}{9} \\right)} \\right) \\approx \\left( 2.22140538489749,\\ 2.22140538489749 \\right)$$"
     },
     "metadata": {},
     "output_type": "display_data"
    },
    {
     "data": {
      "text/plain": "<IPython.core.display.Latex object>",
      "text/latex": "$$\\alpha_{deg}= 45:\\ \\left( 1, 2 \\right) \\rightarrow \\left( - \\frac{\\sqrt{2}}{2},\\ \\frac{3 \\sqrt{2}}{2} \\right) \\approx \\left( 2.12132034355964,\\ 2.12132034355964 \\right)$$"
     },
     "metadata": {},
     "output_type": "display_data"
    },
    {
     "name": "stdout",
     "output_type": "stream",
     "text": [
      "\n"
     ]
    },
    {
     "data": {
      "text/plain": "<IPython.core.display.Latex object>",
      "text/latex": "$$\\alpha_{rad} = \\frac{\\pi}{3}:\\ \\left( 1, 2 \\right) \\rightarrow \\left( \\frac{1}{2} + \\sqrt{3},\\ 1 - \\frac{\\sqrt{3}}{2}\\right) \\approx \\left( 0.133974596215561,\\ 0.133974596215561 \\right)$$"
     },
     "metadata": {},
     "output_type": "display_data"
    }
   ]
  },
  {
   "cell_type": "markdown",
   "metadata": {
    "id": "oqFUkn1SG85T"
   },
   "source": [
    "### Задание 2.\n",
    "Найти собственные числа и собственные векторы линейного оператора, заданного матрицей\n",
    "$$\n",
    "\\left(\\begin{matrix}\n",
    "-34&20&-5\\\\\n",
    "-40&56&-20\\\\\n",
    "20&-8&50\n",
    "\\end{matrix}\\right)\n",
    "$$\n",
    "Воспользоваться eigenvals и eigenvects, проверить выполнение равенства нулю характеристического многочлена $|A-\\lambda E|$ и условия $Ax=\\lambda x$.\n"
   ]
  },
  {
   "cell_type": "code",
   "source": [
    "A = Matrix([[-34, 20, -5], [-40, 56, -20], [20, -8, 50]])\n",
    "display(Latex(fr\"$\\mathbf{{A}} = {latex(A)}$\"))\n",
    "res = A.eigenvects()\n",
    "display(Latex(fr\"$\\mathbf{{eigenvects}} = {latex(res)}$\"))\n",
    "\n",
    "for eigenval, multiplicity, eigenvec in res:\n",
    "    display(Latex(fr'$\\lambda = {eigenval}:\\ \\text{{det}} \\left( A - \\lambda E \\right) = {(A - eigenval * sympy.eye(3)).det()}$'))\n",
    "\n",
    "print('\\n')\n",
    "\n",
    "for eigenval, multiplicity, eigenvec in res:\n",
    "    display(Latex(fr\"$\\lambda = {eigenval}:\\ Ax = {latex(A * eigenvec[0])}; \\ \\lambda x = {latex(eigenval * eigenvec[0])} \\Rightarrow Ax = \\lambda x$\"))"
   ],
   "metadata": {
    "id": "d_hrb3duY9wa",
    "ExecuteTime": {
     "end_time": "2024-03-15T18:19:27.018977Z",
     "start_time": "2024-03-15T18:19:26.198820Z"
    }
   },
   "execution_count": 12,
   "outputs": [
    {
     "data": {
      "text/plain": "<IPython.core.display.Latex object>",
      "text/latex": "$\\mathbf{A} = \\left[\\begin{matrix}-34 & 20 & -5\\\\-40 & 56 & -20\\\\20 & -8 & 50\\end{matrix}\\right]$"
     },
     "metadata": {},
     "output_type": "display_data"
    },
    {
     "data": {
      "text/plain": "<IPython.core.display.Latex object>",
      "text/latex": "$\\mathbf{eigenvects} = \\left[ \\left( -24, \\  1, \\  \\left[ \\left[\\begin{matrix}- \\frac{9}{2}\\\\-2\\\\1\\end{matrix}\\right]\\right]\\right), \\  \\left( 40, \\  1, \\  \\left[ \\left[\\begin{matrix}\\frac{5}{6}\\\\\\frac{10}{3}\\\\1\\end{matrix}\\right]\\right]\\right), \\  \\left( 56, \\  1, \\  \\left[ \\left[\\begin{matrix}- \\frac{1}{2}\\\\-2\\\\1\\end{matrix}\\right]\\right]\\right)\\right]$"
     },
     "metadata": {},
     "output_type": "display_data"
    },
    {
     "data": {
      "text/plain": "<IPython.core.display.Latex object>",
      "text/latex": "$\\lambda = -24:\\ \\text{det} \\left( A - \\lambda E \\right) = 0$"
     },
     "metadata": {},
     "output_type": "display_data"
    },
    {
     "data": {
      "text/plain": "<IPython.core.display.Latex object>",
      "text/latex": "$\\lambda = 40:\\ \\text{det} \\left( A - \\lambda E \\right) = 0$"
     },
     "metadata": {},
     "output_type": "display_data"
    },
    {
     "data": {
      "text/plain": "<IPython.core.display.Latex object>",
      "text/latex": "$\\lambda = 56:\\ \\text{det} \\left( A - \\lambda E \\right) = 0$"
     },
     "metadata": {},
     "output_type": "display_data"
    },
    {
     "name": "stdout",
     "output_type": "stream",
     "text": [
      "\n"
     ]
    },
    {
     "data": {
      "text/plain": "<IPython.core.display.Latex object>",
      "text/latex": "$\\lambda = -24:\\ Ax = \\left[\\begin{matrix}108\\\\48\\\\-24\\end{matrix}\\right]; \\ \\lambda x = \\left[\\begin{matrix}108\\\\48\\\\-24\\end{matrix}\\right] \\Rightarrow Ax = \\lambda x$"
     },
     "metadata": {},
     "output_type": "display_data"
    },
    {
     "data": {
      "text/plain": "<IPython.core.display.Latex object>",
      "text/latex": "$\\lambda = 40:\\ Ax = \\left[\\begin{matrix}\\frac{100}{3}\\\\\\frac{400}{3}\\\\40\\end{matrix}\\right]; \\ \\lambda x = \\left[\\begin{matrix}\\frac{100}{3}\\\\\\frac{400}{3}\\\\40\\end{matrix}\\right] \\Rightarrow Ax = \\lambda x$"
     },
     "metadata": {},
     "output_type": "display_data"
    },
    {
     "data": {
      "text/plain": "<IPython.core.display.Latex object>",
      "text/latex": "$\\lambda = 56:\\ Ax = \\left[\\begin{matrix}-28\\\\-112\\\\56\\end{matrix}\\right]; \\ \\lambda x = \\left[\\begin{matrix}-28\\\\-112\\\\56\\end{matrix}\\right] \\Rightarrow Ax = \\lambda x$"
     },
     "metadata": {},
     "output_type": "display_data"
    }
   ]
  },
  {
   "cell_type": "markdown",
   "metadata": {
    "id": "4sQHp6cxG85U"
   },
   "source": [
    "### Задание 3.\n",
    "Построить матрицу оператора из задания 2 в базисе из векторов $(1,1,1)$, $(0,5,3)$ и $(1,6,0)$.Вывести на экран матрицу перехода к новому базису и матрицу оператора в новом базисе.\n"
   ]
  },
  {
   "cell_type": "code",
   "source": [
    "P = Matrix([[1, 1, 1], [0, 5, 3], [1, 6, 0]])\n",
    "A_new = P ** (-1) * A * P\n",
    "display(Latex(fr\"$P = {latex(P)}$\"))\n",
    "display(Latex(fr'$A_{{new}} = {latex(A_new)}$'))\n"
   ],
   "metadata": {
    "id": "4xj45fAfY-rj",
    "ExecuteTime": {
     "end_time": "2024-03-15T18:19:27.505804Z",
     "start_time": "2024-03-15T18:19:26.279495Z"
    }
   },
   "execution_count": 13,
   "outputs": [
    {
     "data": {
      "text/plain": "<IPython.core.display.Latex object>",
      "text/latex": "$P = \\left[\\begin{matrix}1 & 1 & 1\\\\0 & 5 & 3\\\\1 & 6 & 0\\end{matrix}\\right]$"
     },
     "metadata": {},
     "output_type": "display_data"
    },
    {
     "data": {
      "text/plain": "<IPython.core.display.Latex object>",
      "text/latex": "$A_{new} = \\left[\\begin{matrix}- \\frac{101}{10} & \\frac{122}{5} & - \\frac{77}{5}\\\\\\frac{267}{20} & \\frac{213}{5} & \\frac{19}{10}\\\\- \\frac{169}{4} & -31 & \\frac{79}{2}\\end{matrix}\\right]$"
     },
     "metadata": {},
     "output_type": "display_data"
    }
   ]
  },
  {
   "cell_type": "markdown",
   "metadata": {
    "id": "q0SjtudQG85V"
   },
   "source": [
    "### Задание 4.\n",
    "Построить матрицу оператора из задания 2 в базисе из собственных векторов с помощью eigenvects и матрицы перехода. Сравнить диагональные элементы с собственными числами."
   ]
  },
  {
   "cell_type": "code",
   "source": [
    "eigen = A.eigenvects()\n",
    "display(Latex(fr\"$\\text{{eigenvectors}}\\ =\\ {latex(eigen)}$\"))\n",
    "\n",
    "# матрица перехода\n",
    "P = eigen[0][2][0].col_insert(1, eigen[1][2][0]).col_insert(1, eigen[2][2][0])\n",
    "\n",
    "A_new = P ** (-1) * A * P\n",
    "display(Latex(fr\"\"\"$A_{{new}} = {latex(A_new)}$\"\"\"))\n",
    "display(Latex(fr\"\"\"$\\text{{Видно, что диагональные элементы и собственные числа равны}}$\"\"\"))"
   ],
   "metadata": {
    "id": "tZv0-9uCY_wO",
    "ExecuteTime": {
     "end_time": "2024-03-15T18:19:27.655135Z",
     "start_time": "2024-03-15T18:19:26.319458Z"
    }
   },
   "execution_count": 14,
   "outputs": [
    {
     "data": {
      "text/plain": "<IPython.core.display.Latex object>",
      "text/latex": "$\\text{eigenvectors}\\ =\\ \\left[ \\left( -24, \\  1, \\  \\left[ \\left[\\begin{matrix}- \\frac{9}{2}\\\\-2\\\\1\\end{matrix}\\right]\\right]\\right), \\  \\left( 40, \\  1, \\  \\left[ \\left[\\begin{matrix}\\frac{5}{6}\\\\\\frac{10}{3}\\\\1\\end{matrix}\\right]\\right]\\right), \\  \\left( 56, \\  1, \\  \\left[ \\left[\\begin{matrix}- \\frac{1}{2}\\\\-2\\\\1\\end{matrix}\\right]\\right]\\right)\\right]$"
     },
     "metadata": {},
     "output_type": "display_data"
    },
    {
     "data": {
      "text/plain": "<IPython.core.display.Latex object>",
      "text/latex": "$A_{new} = \\left[\\begin{matrix}-24 & 0 & 0\\\\0 & 56 & 0\\\\0 & 0 & 40\\end{matrix}\\right]$"
     },
     "metadata": {},
     "output_type": "display_data"
    },
    {
     "data": {
      "text/plain": "<IPython.core.display.Latex object>",
      "text/latex": "$\\text{Видно, что диагональные элементы и собственные числа равны}$"
     },
     "metadata": {},
     "output_type": "display_data"
    }
   ]
  },
  {
   "cell_type": "markdown",
   "source": [
    "### Задание 5*.\n",
    "Изобразить на графике вектор $a(-1, 1)$ и результаты его поворота\n",
    "\n",
    "1) на 30, 45, 90 градусов **по  часовой стрелке** (имена $v_1$, $v_2$, $v_3$)\n",
    "\n",
    "2) на $\\pi/6$ и $2\\pi/3$ радиан **против часовой стрелки** (имена $w_1$, $w_2$).\n",
    "\n",
    "**Указание:** описать функцию, возвращающую угол поворота на плоскости против часовой стрелки в радианах. Агрументы функции: угол поворота, тип меры угла (градусы или радианы), направление поворота (по или против часовой стрелки). С помощью этой функции  составить словарь с ключами - именами векторов, значениями - углами  поворота против часовой стрелки в радианах, использовать в цикле этот словарь для изображения векторов на графике.\n",
    "\n",
    "В легенде графика для каждого вектора указать его имя и координаты. Для корректного представления координат в легенде нужно отдельно выделить каждую координату."
   ],
   "metadata": {
    "id": "jKkKLf6xOi7N"
   }
  },
  {
   "cell_type": "code",
   "source": [
    "# Буду использовать функцию rotate_vec, описанную ранее\n",
    "a = Matrix([-1, 1])\n",
    "\n",
    "\n",
    "def plotvec(vect: tuple, axes: matplotlib.pyplot.gca, color):\n",
    "    x, y = [float(vect[1][0]), float(vect[1][1])]\n",
    "    axes.plot([0, x], [0, y], color=color,\n",
    "              label=fr'${vect[0]}\\left( {latex(round(x, 3))},\\ {latex(round(y, 3))} \\right)$')\n",
    "    axes.arrow(0, 0, x, y, head_width=0.05, color=color)\n",
    "\n",
    "\n",
    "rotated_vecs = dict()\n",
    "for i, angle in enumerate([10, 45, 90]):\n",
    "    rotated_vecs['v_' + str(i + 1)] = rotate_vec(a, angle, \"deg\", \"->\")\n",
    "\n",
    "for i, angle in enumerate([Pi / 6, 2 * Pi / 3]):\n",
    "    rotated_vecs['w_' + str(i + 1)] = rotate_vec(a, angle, \"rad\", \"<-\")\n",
    "\n",
    "ax = plt.gca()\n",
    "ax.spines['right'].set_color('none')\n",
    "ax.spines['top'].set_color('none')\n",
    "ax.spines['bottom'].set_position(('data', 0))\n",
    "ax.spines['left'].set_position(('data', 0))\n",
    "ax.plot(1, 0, \">k\", transform=ax.get_yaxis_transform(), clip_on=False)\n",
    "ax.plot(0, 1, \"^k\", transform=ax.get_xaxis_transform(), clip_on=False)\n",
    "ax.set(xlim=(-2, 2), ylim=(-2, 2))\n",
    "\n",
    "colors = ('orange', 'y', 'g', 'c', 'b')\n",
    "ind = 0\n",
    "plotvec(('a', a), ax, 'r')\n",
    "for name, coords in rotated_vecs.items():\n",
    "    plotvec((name, coords), ax, colors[ind])\n",
    "    ind += 1\n",
    "ax.legend(loc='lower right')\n"
   ],
   "metadata": {
    "id": "4eOGGJ_5ZAmc",
    "ExecuteTime": {
     "end_time": "2024-03-15T18:19:31.296854Z",
     "start_time": "2024-03-15T18:19:26.361102Z"
    }
   },
   "execution_count": 15,
   "outputs": [
    {
     "data": {
      "text/plain": "<matplotlib.legend.Legend at 0x127f1d390>"
     },
     "execution_count": 15,
     "metadata": {},
     "output_type": "execute_result"
    },
    {
     "data": {
      "text/plain": "<Figure size 640x480 with 1 Axes>",
      "image/png": "[encoded data removed]"
     },
     "metadata": {},
     "output_type": "display_data"
    }
   ]
  },
  {
   "cell_type": "markdown",
   "source": [
    "### Задание 6*\n",
    "Считать из файла \"task_13_6.xlsx\" координаты векторов на плоскости и углы поворота (крайний левый столбец в файле содержит имена векторов, следующие два - координаты векторов, затем угол поворота и последний столбец содержит текст \"rad\" или \"deg\", т.е. угол в радианах или градусах).\n",
    "\n",
    "Для каждого вектора найти координаты вектора, полученного в результате поворота, затем записать в файл  \"task_13_6_ans.xlsx\" имена векторов  из файла \"task_13_6.xlsx\" и координаты  векторов, полученных в результате поворота. В файле  \"task_13_6_ans.xlsx\" подписи строк - имена векторов, подписи столбцов - имена координат, т.е. \"x\" и \"y\".\n",
    "\n",
    "Изобразить на графике вектор [1, 2] из Задания 1 и результаты его поворота (по Заданию 1). В легенде графика для каждого вектора, кроме [1, 2] указать матрицу поворота, а для [1, 2] единичную матрицу."
   ],
   "metadata": {
    "id": "eXSlGWqS9axu"
   }
  },
  {
   "cell_type": "code",
   "source": [
    "with pd.ExcelWriter(\"/Users/almiravhadiev/Downloads/HSE/Math_Pracs/Algebra/Lab_13/Альмир_Авхадиев_task_13_6.xlsx\", mode=\"a\") as f:\n",
    "    data_pd = pd.read_excel(f)\n",
    "    data = data_pd.to_numpy()\n",
    "\n",
    "    rotated_vecs = dict()\n",
    "    for name, x, y, angle, angle_measure in data:\n",
    "        # The condition doesn't specify, so each rotation are made in a counterclockwise direction\n",
    "        rotated_vecs[name] = rotate_vec(Matrix([x, y]), angle, angle_measure, \"<-\")\n",
    "\n",
    "    rotated_vecs_excel = list()\n",
    "    for name, coords in rotated_vecs.items():\n",
    "        rotated_vecs_excel.append(([name, round(float(coords[0]), 5), round(float(coords[1]), 5)]))\n",
    "\n",
    "    rotated_vecs_excel_pd = pd.DataFrame(rotated_vecs_excel)\n",
    "    rotated_vecs_excel_pd.to_excel(f, sheet_name=\"Rotated_vectors\", header=['', 'x', 'y'], index=False)\n"
   ],
   "metadata": {
    "id": "r49uih_5YtiA",
    "ExecuteTime": {
     "end_time": "2024-03-15T18:19:31.635430Z",
     "start_time": "2024-03-15T18:19:30.833114Z"
    }
   },
   "execution_count": 16,
   "outputs": [
    {
     "ename": "FileNotFoundError",
     "evalue": "[Errno 2] No such file or directory: '/Users/almiravhadiev/Downloads/HSE/Math_Pracs/Algebra/Lab_13/Альмир_Авхадиев_task_13_6.xlsx'",
     "output_type": "error",
     "traceback": [
      "\u001B[0;31m---------------------------------------------------------------------------\u001B[0m",
      "\u001B[0;31mFileNotFoundError\u001B[0m                         Traceback (most recent call last)",
      "Cell \u001B[0;32mIn[16], line 1\u001B[0m\n\u001B[0;32m----> 1\u001B[0m \u001B[38;5;28;01mwith\u001B[39;00m pd\u001B[38;5;241m.\u001B[39mExcelWriter(\u001B[38;5;124m\"\u001B[39m\u001B[38;5;124m/Users/almiravhadiev/Downloads/HSE/Math_Pracs/Algebra/Lab_13/Альмир_Авхадиев_task_13_6.xlsx\u001B[39m\u001B[38;5;124m\"\u001B[39m, mode\u001B[38;5;241m=\u001B[39m\u001B[38;5;124m\"\u001B[39m\u001B[38;5;124ma\u001B[39m\u001B[38;5;124m\"\u001B[39m) \u001B[38;5;28;01mas\u001B[39;00m f:\n\u001B[1;32m      2\u001B[0m     data_pd \u001B[38;5;241m=\u001B[39m pd\u001B[38;5;241m.\u001B[39mread_excel(f)\n\u001B[1;32m      3\u001B[0m     data \u001B[38;5;241m=\u001B[39m data_pd\u001B[38;5;241m.\u001B[39mto_numpy()\n",
      "File \u001B[0;32m~/.conda/envs/CompPracs/lib/python3.11/site-packages/pandas/io/excel/_openpyxl.py:61\u001B[0m, in \u001B[0;36mOpenpyxlWriter.__init__\u001B[0;34m(self, path, engine, date_format, datetime_format, mode, storage_options, if_sheet_exists, engine_kwargs, **kwargs)\u001B[0m\n\u001B[1;32m     57\u001B[0m \u001B[38;5;28;01mfrom\u001B[39;00m \u001B[38;5;21;01mopenpyxl\u001B[39;00m\u001B[38;5;21;01m.\u001B[39;00m\u001B[38;5;21;01mworkbook\u001B[39;00m \u001B[38;5;28;01mimport\u001B[39;00m Workbook\n\u001B[1;32m     59\u001B[0m engine_kwargs \u001B[38;5;241m=\u001B[39m combine_kwargs(engine_kwargs, kwargs)\n\u001B[0;32m---> 61\u001B[0m \u001B[38;5;28msuper\u001B[39m()\u001B[38;5;241m.\u001B[39m\u001B[38;5;21m__init__\u001B[39m(\n\u001B[1;32m     62\u001B[0m     path,\n\u001B[1;32m     63\u001B[0m     mode\u001B[38;5;241m=\u001B[39mmode,\n\u001B[1;32m     64\u001B[0m     storage_options\u001B[38;5;241m=\u001B[39mstorage_options,\n\u001B[1;32m     65\u001B[0m     if_sheet_exists\u001B[38;5;241m=\u001B[39mif_sheet_exists,\n\u001B[1;32m     66\u001B[0m     engine_kwargs\u001B[38;5;241m=\u001B[39mengine_kwargs,\n\u001B[1;32m     67\u001B[0m )\n\u001B[1;32m     69\u001B[0m \u001B[38;5;66;03m# ExcelWriter replaced \"a\" by \"r+\" to allow us to first read the excel file from\u001B[39;00m\n\u001B[1;32m     70\u001B[0m \u001B[38;5;66;03m# the file and later write to it\u001B[39;00m\n\u001B[1;32m     71\u001B[0m \u001B[38;5;28;01mif\u001B[39;00m \u001B[38;5;124m\"\u001B[39m\u001B[38;5;124mr+\u001B[39m\u001B[38;5;124m\"\u001B[39m \u001B[38;5;129;01min\u001B[39;00m \u001B[38;5;28mself\u001B[39m\u001B[38;5;241m.\u001B[39m_mode:  \u001B[38;5;66;03m# Load from existing workbook\u001B[39;00m\n",
      "File \u001B[0;32m~/.conda/envs/CompPracs/lib/python3.11/site-packages/pandas/io/excel/_base.py:1263\u001B[0m, in \u001B[0;36mExcelWriter.__init__\u001B[0;34m(self, path, engine, date_format, datetime_format, mode, storage_options, if_sheet_exists, engine_kwargs)\u001B[0m\n\u001B[1;32m   1259\u001B[0m \u001B[38;5;28mself\u001B[39m\u001B[38;5;241m.\u001B[39m_handles \u001B[38;5;241m=\u001B[39m IOHandles(\n\u001B[1;32m   1260\u001B[0m     cast(IO[\u001B[38;5;28mbytes\u001B[39m], path), compression\u001B[38;5;241m=\u001B[39m{\u001B[38;5;124m\"\u001B[39m\u001B[38;5;124mcompression\u001B[39m\u001B[38;5;124m\"\u001B[39m: \u001B[38;5;28;01mNone\u001B[39;00m}\n\u001B[1;32m   1261\u001B[0m )\n\u001B[1;32m   1262\u001B[0m \u001B[38;5;28;01mif\u001B[39;00m \u001B[38;5;129;01mnot\u001B[39;00m \u001B[38;5;28misinstance\u001B[39m(path, ExcelWriter):\n\u001B[0;32m-> 1263\u001B[0m     \u001B[38;5;28mself\u001B[39m\u001B[38;5;241m.\u001B[39m_handles \u001B[38;5;241m=\u001B[39m get_handle(\n\u001B[1;32m   1264\u001B[0m         path, mode, storage_options\u001B[38;5;241m=\u001B[39mstorage_options, is_text\u001B[38;5;241m=\u001B[39m\u001B[38;5;28;01mFalse\u001B[39;00m\n\u001B[1;32m   1265\u001B[0m     )\n\u001B[1;32m   1266\u001B[0m \u001B[38;5;28mself\u001B[39m\u001B[38;5;241m.\u001B[39m_cur_sheet \u001B[38;5;241m=\u001B[39m \u001B[38;5;28;01mNone\u001B[39;00m\n\u001B[1;32m   1268\u001B[0m \u001B[38;5;28;01mif\u001B[39;00m date_format \u001B[38;5;129;01mis\u001B[39;00m \u001B[38;5;28;01mNone\u001B[39;00m:\n",
      "File \u001B[0;32m~/.conda/envs/CompPracs/lib/python3.11/site-packages/pandas/io/common.py:872\u001B[0m, in \u001B[0;36mget_handle\u001B[0;34m(path_or_buf, mode, encoding, compression, memory_map, is_text, errors, storage_options)\u001B[0m\n\u001B[1;32m    863\u001B[0m         handle \u001B[38;5;241m=\u001B[39m \u001B[38;5;28mopen\u001B[39m(\n\u001B[1;32m    864\u001B[0m             handle,\n\u001B[1;32m    865\u001B[0m             ioargs\u001B[38;5;241m.\u001B[39mmode,\n\u001B[0;32m   (...)\u001B[0m\n\u001B[1;32m    868\u001B[0m             newline\u001B[38;5;241m=\u001B[39m\u001B[38;5;124m\"\u001B[39m\u001B[38;5;124m\"\u001B[39m,\n\u001B[1;32m    869\u001B[0m         )\n\u001B[1;32m    870\u001B[0m     \u001B[38;5;28;01melse\u001B[39;00m:\n\u001B[1;32m    871\u001B[0m         \u001B[38;5;66;03m# Binary mode\u001B[39;00m\n\u001B[0;32m--> 872\u001B[0m         handle \u001B[38;5;241m=\u001B[39m \u001B[38;5;28mopen\u001B[39m(handle, ioargs\u001B[38;5;241m.\u001B[39mmode)\n\u001B[1;32m    873\u001B[0m     handles\u001B[38;5;241m.\u001B[39mappend(handle)\n\u001B[1;32m    875\u001B[0m \u001B[38;5;66;03m# Convert BytesIO or file objects passed with an encoding\u001B[39;00m\n",
      "\u001B[0;31mFileNotFoundError\u001B[0m: [Errno 2] No such file or directory: '/Users/almiravhadiev/Downloads/HSE/Math_Pracs/Algebra/Lab_13/Альмир_Авхадиев_task_13_6.xlsx'"
     ]
    }
   ]
  },
  {
   "cell_type": "code",
   "execution_count": 19,
   "outputs": [
    {
     "data": {
      "text/plain": "<matplotlib.legend.Legend at 0x12fcbd8d0>"
     },
     "execution_count": 19,
     "metadata": {},
     "output_type": "execute_result"
    },
    {
     "data": {
      "text/plain": "<Figure size 640x480 with 1 Axes>",
      "image/png": "[encoded data removed]"
     },
     "metadata": {},
     "output_type": "display_data"
    }
   ],
   "source": [
    "a = Matrix([1, 2])\n",
    "\n",
    "rotated_vecs = dict()\n",
    "for i, angle in enumerate([10, 45, 90]):\n",
    "    rotated_vecs['v_' + str(i + 1)] = [rotate_vec(a, angle, \"deg\", \"->\"), Matrix([[(Cos(angle)), -Sin(angle)], [Sin(angle), Cos(angle)]])] # rotation matrix\n",
    "\n",
    "for i, angle in enumerate([Pi / 6]):\n",
    "    rotated_vecs['w_' + str(i + 1)] = [rotate_vec(a, angle, \"rad\", \"<-\"), Matrix([[Cos(angle), Sin(angle)], [-Sin(angle), Cos(angle)]])] # rotation matrix\n",
    "\n",
    "ax = plt.gca()\n",
    "ax.spines['right'].set_color('none')\n",
    "ax.spines['top'].set_color('none')\n",
    "ax.spines['bottom'].set_position(('data', 0))\n",
    "ax.spines['left'].set_position(('data', 0))\n",
    "ax.plot(1, 0, \">k\", transform=ax.get_yaxis_transform(), clip_on=False)\n",
    "ax.plot(0, 1, \"^k\", transform=ax.get_xaxis_transform(), clip_on=False)\n",
    "ax.set(xlim=(-3, 3), ylim=(-3, 3))\n",
    "\n",
    "\n",
    "plotvec(('a', a), ax, 'r')\n",
    "\n",
    "colors = ('orange', 'y', 'g', 'c')\n",
    "ind = 0\n",
    "for name, [coords, rotation_matrix] in rotated_vecs.items():\n",
    "    x, y = coords\n",
    "    x = float(x)\n",
    "    y = float(y)\n",
    "    \n",
    "    ax.plot([0, x], [0, y], color=colors[ind])\n",
    "    ax.arrow(0, 0, x, y, head_width=0.05, color=colors[ind])\n",
    "    ind += 1\n",
    "    \n",
    "ax.legend(loc='lower right')\n"
   ],
   "metadata": {
    "collapsed": false,
    "ExecuteTime": {
     "end_time": "2024-03-15T18:21:46.395066Z",
     "start_time": "2024-03-15T18:21:46.045641Z"
    }
   }
  },
  {
   "cell_type": "markdown",
   "metadata": {
    "id": "DeW-9Q28G85W"
   },
   "source": [
    "###  Индивидуальное задание\n",
    "Найти собственные числа и собственные векторы линейного оператора. Построить матрицу оператора в заданном базисе. Построить матрицу оператора в базисе из собственных векторов.\n",
    "\n",
    "Вывести на экран матрицу оператора А, матрицу перехода к базису ($e_1$, $e_2$, $e_3$), матрицу оператора в базисе ($e_1$, $e_2$, $e_3$), матрицу перехода к базису из собственных векторов, матрицу оператора в базисе из собственных векторов.\n",
    "\n",
    "Даны матрица оператора A, векторы базиса $e_1$, $e_2$, $e_3$."
   ]
  },
  {
   "cell_type": "markdown",
   "source": [
    "### Вариант №175\n",
    "\n",
    "$$A = \\left[\\begin{matrix}106 & 78 & 46\\\\-168 & -124 & -72\\\\54 & 38 & 18\\end{matrix}\\right],\\quad e_1 = \\left[\\begin{matrix}-3\\\\2\\\\-3\\end{matrix}\\right],\\quad e_2 = \\left[\\begin{matrix}-1\\\\2\\\\-2\\end{matrix}\\right],\\quad e_3 = \\left[\\begin{matrix}3\\\\2\\\\-1\\end{matrix}\\right]$$\n"
   ],
   "metadata": {
    "collapsed": false
   }
  },
  {
   "cell_type": "code",
   "source": [
    "from functools import partial\n",
    "A = Matrix([[106, 78, 46], [-168, -124, -72], [54, 38, 18]])\n",
    "e_1 = [-3, 2, -3]\n",
    "e_2 = [-1, 2, -2]\n",
    "e_3 = [3, 2, -1]\n",
    "\n",
    "res = A.eigenvects()\n",
    "display(Math(latex(res)))\n",
    "print('Матрицы в базисе е:')\n",
    "P = Matrix([e_1, e_2, e_3])\n",
    "AE = P ** (-1) * A * P\n",
    "display(Math(f'P = {latex(P)}, AE = {latex(AE)}'))\n",
    "print('Матрицы в базисе из собственных векторов:')\n",
    "P1 = Matrix([[9/13, 1, 7/10], [-1/13, 0, -1/10], [1, 1, 1]])\n",
    "AV = P1 ** (-1) * A * P1\n",
    "round3 = partial(round, ndigits=2)\n",
    "AV = AV.applyfunc(round3)\n",
    "display(Math(f'P = {latex(P1)}, AV = {latex(AV)}'))\n"
   ],
   "metadata": {
    "id": "TzC0pyPzZCUq",
    "ExecuteTime": {
     "end_time": "2024-03-15T18:22:57.149050Z",
     "start_time": "2024-03-15T18:22:56.570614Z"
    }
   },
   "execution_count": 21,
   "outputs": [
    {
     "data": {
      "text/plain": "<IPython.core.display.Math object>",
      "text/latex": "$\\displaystyle \\left[ \\left( -8, \\  1, \\  \\left[ \\left[\\begin{matrix}\\frac{7}{3}\\\\-4\\\\1\\end{matrix}\\right]\\right]\\right), \\  \\left( -4, \\  1, \\  \\left[ \\left[\\begin{matrix}1\\\\-2\\\\1\\end{matrix}\\right]\\right]\\right), \\  \\left( 12, \\  1, \\  \\left[ \\left[\\begin{matrix}2\\\\-3\\\\1\\end{matrix}\\right]\\right]\\right)\\right]$"
     },
     "metadata": {},
     "output_type": "display_data"
    },
    {
     "name": "stdout",
     "output_type": "stream",
     "text": [
      "Матрицы в базисе е:\n"
     ]
    },
    {
     "data": {
      "text/plain": "<IPython.core.display.Math object>",
      "text/latex": "$\\displaystyle P = \\left[\\begin{matrix}-3 & 2 & -3\\\\-1 & 2 & -2\\\\3 & 2 & -1\\end{matrix}\\right], AE = \\left[\\begin{matrix}-614 & 1068 & -1212\\\\1797 & -3154 & 3574\\\\1898 & -3324 & 3768\\end{matrix}\\right]$"
     },
     "metadata": {},
     "output_type": "display_data"
    },
    {
     "name": "stdout",
     "output_type": "stream",
     "text": [
      "Матрицы в базисе из собственных векторов:\n"
     ]
    },
    {
     "data": {
      "text/plain": "<IPython.core.display.Math object>",
      "text/latex": "$\\displaystyle P = \\left[\\begin{matrix}0.692307692307692 & 1 & 0.7\\\\-0.0769230769230769 & 0 & -0.1\\\\1 & 1 & 1\\end{matrix}\\right], AV = \\left[\\begin{matrix}-7764.0 & -10400.0 & -7696.0\\\\56.46 & 72.0 & 56.0\\\\7760.0 & 10400.0 & 7692.0\\end{matrix}\\right]$"
     },
     "metadata": {},
     "output_type": "display_data"
    }
   ]
  }
 ]
}
