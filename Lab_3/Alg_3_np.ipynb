{
  "nbformat": 4,
  "nbformat_minor": 0,
  "metadata": {
    "kernelspec": {
      "display_name": "Python 3",
      "language": "python",
      "name": "python3"
    },
    "language_info": {
      "codemirror_mode": {
        "name": "ipython",
        "version": 3
      },
      "file_extension": ".py",
      "mimetype": "text/x-python",
      "name": "python",
      "nbconvert_exporter": "python",
      "pygments_lexer": "ipython3",
      "version": "3.7.3"
    },
    "colab": {
      "provenance": []
    }
  },
  "cells": [
    {
      "cell_type": "markdown",
      "metadata": {
        "id": "c6HyBQxAzvAa"
      },
      "source": [
        "# Занятие 3\n",
        "# Алгебра\n",
        "## Решение систем линейных алгебраических уравнений (СЛАУ)"
      ]
    },
    {
      "cell_type": "markdown",
      "metadata": {
        "id": "H2TtQzFozvAj"
      },
      "source": [
        "**Библиотека приближенных вычислений numpy**\n",
        "\n",
        "https://numpy.org/doc/stable/reference/routines.linalg.html#module-numpy.linalg"
      ]
    },
    {
      "cell_type": "code",
      "metadata": {
        "id": "Szq1iyf_zvAk"
      },
      "source": [
        "import numpy as np\n",
        "from numpy import linalg"
      ],
      "execution_count": 1,
      "outputs": []
    },
    {
      "cell_type": "markdown",
      "source": [
        "**numpy.linalg**- часть numpy, посвященная линейной алгебре, там содержатся инструменты создания объектов, представляющих матрицы (np.array) и действий с ними.\n",
        "\n",
        "Создать \"матрицу\" можно несколькими способами:\n",
        "\n",
        "1. На основе других структур данных Python, например, list или tuple\n",
        "\n",
        "2. с помощью специальных функций, возвращающих матрицы определенного вида (ones, zeros, и т.п.)\n",
        "\n",
        "3. Соединение нескольких матриц, выделение части матрицы и т.п.\n",
        "\n",
        "4. Считывая данные в виде array с диска компьютера"
      ],
      "metadata": {
        "id": "OC_VYPxSpuqq"
      }
    },
    {
      "cell_type": "code",
      "source": [
        "A = np.array([[1, 2, 3],\n",
        "              [4, 5, 6]])\n",
        "zeros_5 = np.zeros(5)\n",
        "ones_3_2 = np.ones((3, 2))\n",
        "print(A, zeros_5, ones_3_2, sep='\\n')"
      ],
      "metadata": {
        "colab": {
          "base_uri": "https://localhost:8080/"
        },
        "id": "jSBGFvIHrQWp",
        "outputId": "677274d9-098c-4bfd-ece7-aa49dccac294"
      },
      "execution_count": 2,
      "outputs": [
        {
          "output_type": "stream",
          "name": "stdout",
          "text": [
            "[[1 2 3]\n",
            " [4 5 6]]\n",
            "[0. 0. 0. 0. 0.]\n",
            "[[1. 1.]\n",
            " [1. 1.]\n",
            " [1. 1.]]\n"
          ]
        }
      ]
    },
    {
      "cell_type": "markdown",
      "metadata": {
        "id": "5Y0ARnYvzvAm"
      },
      "source": [
        "##numpy.linalg.solve\n",
        "\n",
        "https://numpy.org/doc/stable/reference/generated/numpy.linalg.solve.html\n",
        "\n",
        "linalg.solve это решатель СЛАУ из N уравнений от N переменных, т.е. матрица левой части квадратная, причем невырожденная.\n",
        "\n",
        "**Входные данные** - array_like структуры данных, представляющие левую и правую части СЛАУ, например, вложенные списки для левой части и списки для правой или двумерные array для левой части и одномерные array для правой.\n",
        "\n",
        "linalg.solve возвращает решение СЛАУ как array такой же размерности, как правая часть. Например, если правая часть СЛАУ - одномерный список, то решение будет одномерным array.\n",
        "\n",
        "### Пример 1.\n",
        "Рассмотрим СЛАУ\n",
        "$$\n",
        "\\left\\{\n",
        "\\begin{matrix}\n",
        "2x + 3y - z = 5\\\\\n",
        "3x - 2y + z = 2\\\\\n",
        "x + y - z = 0\n",
        "\\end{matrix}\n",
        "\\right.\n",
        "$$\n",
        "### Способ 1. СЛАУ в виде вложенного списка.\n",
        "Составим матрицу левой части СЛАУ в виде вложенного списка, вектор правой части в виде обычного списка и вызовем  linalg.solve."
      ]
    },
    {
      "cell_type": "code",
      "metadata": {
        "id": "dyd9g6rrzvAo",
        "colab": {
          "base_uri": "https://localhost:8080/"
        },
        "outputId": "92f4d61d-f4e5-4b8a-c012-5eced886f5ad"
      },
      "source": [
        "A1 = [[2, 3, -1],\n",
        "     [3, -2, 1],\n",
        "     [1, 1, -1]]\n",
        "b1 = [5, 2, 0]\n",
        "b2 = [[5], [2], [0]]\n",
        "\n",
        "for b in (b1, b2):\n",
        "    x = linalg.solve(A1,  b)\n",
        "    print(f'x = {x},\\ntype(x) = {type(x)}, x.ndim = {x.ndim}, x.shape = {x.shape}')"
      ],
      "execution_count": 8,
      "outputs": [
        {
          "output_type": "stream",
          "name": "stdout",
          "text": [
            "x = [1. 2. 3.],\n",
            "type(x) = <class 'numpy.ndarray'>, x.ndim = 1, x.shape = (3,)\n",
            "x = [[1.]\n",
            " [2.]\n",
            " [3.]],\n",
            "type(x) = <class 'numpy.ndarray'>, x.ndim = 2, x.shape = (3, 1)\n"
          ]
        }
      ]
    },
    {
      "cell_type": "markdown",
      "metadata": {
        "id": "hOdhwn9FzvAq"
      },
      "source": [
        "### Способ 2. СЛАУ виде array"
      ]
    },
    {
      "cell_type": "code",
      "source": [
        "A1 = np.array(A1)\n",
        "b_ones = np.ones(3)\n",
        "print(linalg.solve(A1,  b_ones))"
      ],
      "metadata": {
        "colab": {
          "base_uri": "https://localhost:8080/"
        },
        "id": "LR5Bp-8YvlTM",
        "outputId": "75191b5e-b147-4e45-9516-f62497ec7ad1"
      },
      "execution_count": 9,
      "outputs": [
        {
          "output_type": "stream",
          "name": "stdout",
          "text": [
            "[ 0.44444444 -0.22222222 -0.77777778]\n"
          ]
        }
      ]
    },
    {
      "cell_type": "markdown",
      "source": [
        "## Проверка правильности расчетов.\n",
        "**Пример 2.**\n",
        "Рассмотрим СЛАУ\n",
        "$$\n",
        "\\left\\{\n",
        "\\begin{matrix}\n",
        "5x - 3y + z = 11\\\\\n",
        "2x - 2y + z = 7\\\\\n",
        "-x + 3y -2z = -10\n",
        "\\end{matrix}\n",
        "\\right.\n",
        "$$\n",
        "Найдем решение $X_2$ данной СЛАУ, записанной в виде $AX = b$. Проверим подстановкой, что $AX_2 = b$, для удобства будем проверять эквивалентное условие  $AX_2 - b = \\bar 0$.\n",
        "\n",
        "Для правильеного умножения матриц используем @ вместо привычного * (* приводит к поэлементному перемножению матриц)."
      ],
      "metadata": {
        "id": "xkbivnIuKkN7"
      }
    },
    {
      "cell_type": "code",
      "source": [
        "A2 = np.array([[5, -3, 1],\n",
        "               [2, -2, 1],\n",
        "               [-1, 3, -2]])\n",
        "b2 = [11, 7, -10]\n",
        "x2 = linalg.solve(A2,  b2)\n",
        "print(f'Проверка: AX - b = {A2 @ x2 - b2}')"
      ],
      "metadata": {
        "colab": {
          "base_uri": "https://localhost:8080/"
        },
        "id": "PtpqcaQOLKtl",
        "outputId": "f4d66d2c-5773-4579-d289-048c0f165bca"
      },
      "execution_count": 16,
      "outputs": [
        {
          "output_type": "stream",
          "name": "stdout",
          "text": [
            "Проверка: AX - b = [0. 0. 0.]\n"
          ]
        }
      ]
    },
    {
      "cell_type": "markdown",
      "source": [
        "# Транспонирование array\n",
        "\n",
        "При транспонировании создается view исходного array, где оси меняются  местами. При изменении транспонированного array изменяется и исходный:"
      ],
      "metadata": {
        "id": "gnqHm1unMBlJ"
      }
    },
    {
      "cell_type": "code",
      "source": [
        "P = np.array([[5, -3, 1],\n",
        "               [2, -2, 1],\n",
        "               [-1, 3, -2]])\n",
        "D = P.T\n",
        "D[0, 2] = 10\n",
        "P[1, 2] = 0\n",
        "print(f'P.T = {D},\\nP = {P}')"
      ],
      "metadata": {
        "colab": {
          "base_uri": "https://localhost:8080/"
        },
        "id": "8_SedRHlJ1f3",
        "outputId": "1817f4bc-494a-43c5-daba-0c8073b4b53f"
      },
      "execution_count": 21,
      "outputs": [
        {
          "output_type": "stream",
          "name": "stdout",
          "text": [
            "P.T = [[ 5  2 10]\n",
            " [-3 -2  3]\n",
            " [ 1  0 -2]],\n",
            "P = [[ 5 -3  1]\n",
            " [ 2 -2  0]\n",
            " [10  3 -2]]\n"
          ]
        }
      ]
    },
    {
      "cell_type": "markdown",
      "source": [
        "Если нужно получить копию транспонированного array, используем метод copy()"
      ],
      "metadata": {
        "id": "1KyyqnsWMvlt"
      }
    },
    {
      "cell_type": "code",
      "source": [
        "R = np.array([[5, -3, 1],\n",
        "               [2, -2, 1],\n",
        "               [-1, 3, -2]])\n",
        "M = R.T.copy()\n",
        "M[0, 2] = 10\n",
        "R[1, 0] = 8\n",
        "print(f'R.T = {M},\\nR = {R}')"
      ],
      "metadata": {
        "colab": {
          "base_uri": "https://localhost:8080/"
        },
        "id": "B7R05MBzKMf5",
        "outputId": "1d94db61-8a23-4701-d745-51fa9b532103"
      },
      "execution_count": 22,
      "outputs": [
        {
          "output_type": "stream",
          "name": "stdout",
          "text": [
            "R.T = [[ 5  2 10]\n",
            " [-3 -2  3]\n",
            " [ 1  1 -2]],\n",
            "R = [[ 5 -3  1]\n",
            " [ 8 -2  1]\n",
            " [-1  3 -2]]\n"
          ]
        }
      ]
    },
    {
      "cell_type": "markdown",
      "metadata": {
        "id": "Vez6Su0_zvA7"
      },
      "source": [
        "### Пример 3.\n",
        "Записать в матричном виде СЛАУ\n",
        "$$\n",
        "\\left\\{\n",
        "\\begin{matrix}\n",
        "x + ky - z = 1\\\\\n",
        "2x + y + 3 z = -2\\\\\n",
        "-3x + (k - 2)z -3z = 5\n",
        "\\end{matrix}\n",
        "\\right..\n",
        "$$\n",
        "Решить СЛАУ при значениях параметра $k = -1, 0, 2, 5$ и выполнить проверку.\n",
        "\n",
        "Построим матрицу-шаблон, затем в цикле будем придавать нужные значения элементам матрицы левой части, соответствующим значениям параметра."
      ]
    },
    {
      "cell_type": "code",
      "metadata": {
        "id": "ivXRLFSVzvA7",
        "colab": {
          "base_uri": "https://localhost:8080/"
        },
        "outputId": "b356873f-58d6-499f-e7e2-685a23f31e13"
      },
      "source": [
        "A3 = np.array([[1, 0, -1],\n",
        "               [2, 1, 3],\n",
        "               [-3, -2, -3]])\n",
        "b3 = np.array([1, -2, 5])\n",
        "\n",
        "for k in (-1, 0, 2, 5):\n",
        "    A3k = A3.copy()\n",
        "    for j in (0, 2):\n",
        "        A3k[j, 1] += k\n",
        "    print(f'Ak = {A3k}')\n",
        "    x = linalg.solve(A3k,  b3)\n",
        "    print(f'x = {x}, AX - b = {A3k @ x - b3}')"
      ],
      "execution_count": 27,
      "outputs": [
        {
          "output_type": "stream",
          "name": "stdout",
          "text": [
            "Ak = [[ 1 -1 -1]\n",
            " [ 2  1  3]\n",
            " [-3 -3 -3]]\n",
            "x = [-3.33333333e-01 -1.33333333e+00 -1.11022302e-16], AX - b = [-5.55111512e-16 -8.88178420e-16  0.00000000e+00]\n",
            "Ak = [[ 1  0 -1]\n",
            " [ 2  1  3]\n",
            " [-3 -2 -3]]\n",
            "x = [ 1. -4.  0.], AX - b = [0. 0. 0.]\n",
            "Ak = [[ 1  2 -1]\n",
            " [ 2  1  3]\n",
            " [-3  0 -3]]\n",
            "x = [-1.66666667e+00  1.33333333e+00 -1.11022302e-16], AX - b = [-5.55111512e-16 -8.88178420e-16  0.00000000e+00]\n",
            "Ak = [[ 1  5 -1]\n",
            " [ 2  1  3]\n",
            " [-3  3 -3]]\n",
            "x = [-1.22222222e+00  4.44444444e-01 -1.11022302e-16], AX - b = [-3.33066907e-16 -8.88178420e-16  0.00000000e+00]\n"
          ]
        }
      ]
    },
    {
      "cell_type": "markdown",
      "metadata": {
        "id": "68px-SJSzvA9"
      },
      "source": [
        "## Присоединение array в строку или в столбик\n",
        "$A$ и $B$ типа array можно соединить в строку с помощью np.hstack(),\n",
        "а для соединения в столбик используется\n",
        "np.vstack()."
      ]
    },
    {
      "cell_type": "code",
      "metadata": {
        "id": "4hbaUIJOzvA-",
        "colab": {
          "base_uri": "https://localhost:8080/"
        },
        "outputId": "041e15ca-b1e5-4122-bf68-5554c13290a2"
      },
      "source": [
        "A = np.diag([1, 2])\n",
        "b = np.array([3, 4]).reshape((2, 1))\n",
        "Ab = np.hstack((A, b))\n",
        "Ac = np.vstack((A, b.T))\n",
        "print(f'A ={A}\\nb = {b}\\nAb = {Ab}\\nAc = {Ac}')"
      ],
      "execution_count": 38,
      "outputs": [
        {
          "output_type": "stream",
          "name": "stdout",
          "text": [
            "A =[[1 0]\n",
            " [0 2]]\n",
            "b = [[3]\n",
            " [4]]\n",
            "Ab = [[1 0 3]\n",
            " [0 2 4]]\n",
            "Ac = [[1 0]\n",
            " [0 2]\n",
            " [3 4]]\n"
          ]
        }
      ]
    },
    {
      "cell_type": "markdown",
      "metadata": {
        "id": "FxH4X5T2zvA-"
      },
      "source": [
        "### Выделение строки, столбца и подматрицы в матрице\n",
        "Для выделения части матрицы будем использовать диапазоны (срезы, slice)\n",
        "\n",
        "Напомним, что обращение к элементу матрицы осуществляется указанием в квадратных скобках после имени матрицы номера строки и номера столбца через запятую,\n",
        "\n",
        "например, $А[2, 3]$.\n",
        "\n",
        "Если нужно выделить элементы строки, стоящие в столбцах с 3 до 5 (не включая 5!), то вместо номера столбца указываем диапазон (срез) 3:5,\n",
        "двоеточие обозначает, что берутся и все промежуточные индексы.\n",
        "\n",
        "**!!!ВАЖНО!!!**\n",
        "\n",
        "В диапазонах не учитывается последнее значение,\n",
        "так срез 3:5 не включает элемент с номером 5!\n",
        "\n",
        "Например, можно в матрице $A\\_with\\_B$ выделить в первой строке элементы, стоящие в столбцах с 1 до 3 (не включая 3!):"
      ]
    },
    {
      "cell_type": "code",
      "metadata": {
        "id": "tKtuG-KSzvA_",
        "colab": {
          "base_uri": "https://localhost:8080/"
        },
        "outputId": "5cf61527-b8c5-43dd-b186-1c19cb1dc7c0"
      },
      "source": [
        "Ab[0, 1:3]"
      ],
      "execution_count": 39,
      "outputs": [
        {
          "output_type": "execute_result",
          "data": {
            "text/plain": [
              "array([0, 3])"
            ]
          },
          "metadata": {},
          "execution_count": 39
        }
      ]
    },
    {
      "cell_type": "markdown",
      "metadata": {
        "id": "0q09ySJIzvA_"
      },
      "source": [
        "Выделим столбец с номером 1 в матрице $A$"
      ]
    },
    {
      "cell_type": "code",
      "metadata": {
        "id": "zfXvXrgCzvA_",
        "colab": {
          "base_uri": "https://localhost:8080/"
        },
        "outputId": "fa93536a-22c6-4175-b207-1acc4d000fd4"
      },
      "source": [
        "A[:, 1]"
      ],
      "execution_count": 40,
      "outputs": [
        {
          "output_type": "execute_result",
          "data": {
            "text/plain": [
              "array([0, 2])"
            ]
          },
          "metadata": {},
          "execution_count": 40
        }
      ]
    },
    {
      "cell_type": "markdown",
      "metadata": {
        "id": "U_Yf3QnMzvA_"
      },
      "source": [
        "Выделим строку с номером 0 в матрице $A$"
      ]
    },
    {
      "cell_type": "code",
      "metadata": {
        "id": "KEDYWMAxzvBA",
        "colab": {
          "base_uri": "https://localhost:8080/"
        },
        "outputId": "446e99c7-fec2-47e9-8672-76d0fd488291"
      },
      "source": [
        "A[0, :]"
      ],
      "execution_count": 41,
      "outputs": [
        {
          "output_type": "execute_result",
          "data": {
            "text/plain": [
              "array([1, 0])"
            ]
          },
          "metadata": {},
          "execution_count": 41
        }
      ]
    },
    {
      "cell_type": "markdown",
      "source": [
        "Выделим часть матрицы $M$, находящуюся в верхних 4 строках и столбцах с 2-го до 5 (не включая 5-й)"
      ],
      "metadata": {
        "id": "ndblTvmlfF79"
      }
    },
    {
      "cell_type": "code",
      "metadata": {
        "id": "ESoremRazvBB",
        "colab": {
          "base_uri": "https://localhost:8080/"
        },
        "outputId": "32cf56b1-f36d-4d3d-9ab1-6b64977a4fbf"
      },
      "source": [
        "M = np.diag(range(7))\n",
        "print(f'M =\\n{M}\\nM[0:4, 2:5] =\\n{M[0:4, 2:5]}')"
      ],
      "execution_count": 47,
      "outputs": [
        {
          "output_type": "stream",
          "name": "stdout",
          "text": [
            "M =\n",
            "[[0 0 0 0 0 0 0]\n",
            " [0 1 0 0 0 0 0]\n",
            " [0 0 2 0 0 0 0]\n",
            " [0 0 0 3 0 0 0]\n",
            " [0 0 0 0 4 0 0]\n",
            " [0 0 0 0 0 5 0]\n",
            " [0 0 0 0 0 0 6]]\n",
            "M[0:4, 2:5] =\n",
            "[[0 0 0]\n",
            " [0 0 0]\n",
            " [2 0 0]\n",
            " [0 3 0]]\n"
          ]
        }
      ]
    },
    {
      "cell_type": "markdown",
      "metadata": {
        "id": "_KZKi5cgzvBB"
      },
      "source": [
        "### Ввод с консоли:\n",
        "\n",
        "input()\n",
        "\n",
        "есть необязательный переметр - приглашение к вводу:"
      ]
    },
    {
      "cell_type": "code",
      "metadata": {
        "id": "31tGLBLUzvBC",
        "colab": {
          "base_uri": "https://localhost:8080/"
        },
        "outputId": "fc8e45f9-01e6-4ced-b8b5-fb34bc5812d7"
      },
      "source": [
        "numbers_my = input('Введите несколько чисел через пробел: \\n')\n",
        "K = np.array(numbers_my.split(), dtype=int)\n",
        "print(f'Получился array {K}')"
      ],
      "execution_count": 50,
      "outputs": [
        {
          "output_type": "stream",
          "name": "stdout",
          "text": [
            "Введите несколько чисел через пробел: \n",
            "-1 4 2 100\n",
            "Получился array [ -1   4   2 100]\n"
          ]
        }
      ]
    },
    {
      "cell_type": "markdown",
      "metadata": {
        "id": "ZalnsirqzvBF"
      },
      "source": [
        "### Создание матрицы на основе lambda-функции\n",
        "Используем анонимную функцию (lambda-функцию)"
      ]
    },
    {
      "cell_type": "code",
      "metadata": {
        "id": "A9mNh6KKzvBF",
        "colab": {
          "base_uri": "https://localhost:8080/"
        },
        "outputId": "49859909-8262-4474-aab9-39c631dd9e41"
      },
      "source": [
        "P = np.fromfunction(lambda i, j: 2 * i + (-1) ** j, (4, 5), dtype=int)\n",
        "print(f'Получился array\\n{P}')"
      ],
      "execution_count": 52,
      "outputs": [
        {
          "output_type": "stream",
          "name": "stdout",
          "text": [
            "Получился array\n",
            "[[ 1 -1  1 -1  1]\n",
            " [ 3  1  3  1  3]\n",
            " [ 5  3  5  3  5]\n",
            " [ 7  5  7  5  7]]\n"
          ]
        }
      ]
    },
    {
      "cell_type": "markdown",
      "metadata": {
        "id": "jJR8I7pQzvBG"
      },
      "source": [
        "### Создание матрицы на основе функции пользователя"
      ]
    },
    {
      "cell_type": "code",
      "metadata": {
        "id": "i5-kitcqzvBG",
        "colab": {
          "base_uri": "https://localhost:8080/"
        },
        "outputId": "69731ab8-e44c-424a-de0b-39dc84d86d36"
      },
      "source": [
        "def matr(i, j):\n",
        "    return (i + 2) ** (j + 1)\n",
        "\n",
        "Q = np.fromfunction(matr, (3, 4), dtype=int)\n",
        "print(f'Получился array\\n{Q}')"
      ],
      "execution_count": 66,
      "outputs": [
        {
          "output_type": "stream",
          "name": "stdout",
          "text": [
            "Получился array\n",
            "[[  2   4   8  16]\n",
            " [  3   9  27  81]\n",
            " [  4  16  64 256]]\n"
          ]
        }
      ]
    },
    {
      "cell_type": "code",
      "source": [
        "def matr(i, j):\n",
        "    return i == j\n",
        "\n",
        "G = np.fromfunction(matr, (3, 4))\n",
        "print(f'Получился array\\n{G}')"
      ],
      "metadata": {
        "colab": {
          "base_uri": "https://localhost:8080/"
        },
        "id": "vixwIWsQjkQZ",
        "outputId": "84f71173-e729-484f-e562-4c635388ac04"
      },
      "execution_count": 68,
      "outputs": [
        {
          "output_type": "stream",
          "name": "stdout",
          "text": [
            "Получился array\n",
            "[[ True False False False]\n",
            " [False  True False False]\n",
            " [False False  True False]]\n"
          ]
        }
      ]
    }
  ]
}