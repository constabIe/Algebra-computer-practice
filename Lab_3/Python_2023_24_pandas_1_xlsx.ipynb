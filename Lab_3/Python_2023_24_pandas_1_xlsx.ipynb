{
  "nbformat": 4,
  "nbformat_minor": 0,
  "metadata": {
    "colab": {
      "provenance": []
    },
    "kernelspec": {
      "name": "python3",
      "display_name": "Python 3"
    },
    "language_info": {
      "name": "python"
    }
  },
  "cells": [
    {
      "cell_type": "markdown",
      "metadata": {
        "id": "V4njW26kU2d7"
      },
      "source": [
        "## Работа с файлами. Чтение из файла с pandas\n",
        "Данные, представленные в виде таблицы обычно хранятся в файле .xlsx или .csv.\n",
        "Работать с данными, записанными в файлы такого типа, будем с помощью пакета pandas,\n",
        "в нем нам понадобится функция\n",
        "### pandas.read_excel\n",
        "pandas.read_excel(io, sheet_name=0, header=0, names=None, index_col=None, usecols=None, squeeze=False, dtype=None, engine=None, converters=None, true_values=None, false_values=None, skiprows=None, nrows=None, na_values=None, keep_default_na=True, na_filter=True, verbose=False, parse_dates=False, date_parser=None, thousands=None, comment=None, skipfooter=0, convert_float=True, mangle_dupe_cols=True, storage_options=None)\n",
        "\n",
        "Подробности смотрите здесь:\n",
        "\n",
        "https://pandas.pydata.org/pandas-docs/stable/reference/api/pandas.read_excel.html\n",
        "\n",
        "\n",
        "## Пример 1\n",
        "Прочитать данные из файла 'animals.xlsx' и вывести их на экран.\n",
        "\n",
        "Рекомендуется открыть файл и посмотреть на содержимое. Обратите внимание, что в таблице есть названия строк и столбцов, сами эти названия не являются данными, это только названия для удобства пользователя.\n",
        "\n",
        "Считаем из файла и выведем на экран все содержимое 'animals.xlsx'."
      ]
    },
    {
      "cell_type": "code",
      "source": [
        "from google.colab import files\n",
        "import pandas as pd"
      ],
      "metadata": {
        "id": "TN3uTkvJIvuq"
      },
      "execution_count": null,
      "outputs": []
    },
    {
      "cell_type": "code",
      "source": [
        "uploaded = files.upload() # загружаем нужные файлы, обращаться к ним будем по имени\n",
        "for key in uploaded.keys():\n",
        "    print(f'Загружен файл {key}')"
      ],
      "metadata": {
        "colab": {
          "base_uri": "https://localhost:8080/",
          "height": 90
        },
        "id": "u9KAuCQ6YHdH",
        "outputId": "9da9ed45-9de3-4f64-9379-359737f8bfd9"
      },
      "execution_count": null,
      "outputs": [
        {
          "output_type": "display_data",
          "data": {
            "text/plain": [
              "<IPython.core.display.HTML object>"
            ],
            "text/html": [
              "\n",
              "     <input type=\"file\" id=\"files-d0bc9c08-4f04-407e-8ab0-d8a1af2c5df3\" name=\"files[]\" multiple disabled\n",
              "        style=\"border:none\" />\n",
              "     <output id=\"result-d0bc9c08-4f04-407e-8ab0-d8a1af2c5df3\">\n",
              "      Upload widget is only available when the cell has been executed in the\n",
              "      current browser session. Please rerun this cell to enable.\n",
              "      </output>\n",
              "      <script>// Copyright 2017 Google LLC\n",
              "//\n",
              "// Licensed under the Apache License, Version 2.0 (the \"License\");\n",
              "// you may not use this file except in compliance with the License.\n",
              "// You may obtain a copy of the License at\n",
              "//\n",
              "//      http://www.apache.org/licenses/LICENSE-2.0\n",
              "//\n",
              "// Unless required by applicable law or agreed to in writing, software\n",
              "// distributed under the License is distributed on an \"AS IS\" BASIS,\n",
              "// WITHOUT WARRANTIES OR CONDITIONS OF ANY KIND, either express or implied.\n",
              "// See the License for the specific language governing permissions and\n",
              "// limitations under the License.\n",
              "\n",
              "/**\n",
              " * @fileoverview Helpers for google.colab Python module.\n",
              " */\n",
              "(function(scope) {\n",
              "function span(text, styleAttributes = {}) {\n",
              "  const element = document.createElement('span');\n",
              "  element.textContent = text;\n",
              "  for (const key of Object.keys(styleAttributes)) {\n",
              "    element.style[key] = styleAttributes[key];\n",
              "  }\n",
              "  return element;\n",
              "}\n",
              "\n",
              "// Max number of bytes which will be uploaded at a time.\n",
              "const MAX_PAYLOAD_SIZE = 100 * 1024;\n",
              "\n",
              "function _uploadFiles(inputId, outputId) {\n",
              "  const steps = uploadFilesStep(inputId, outputId);\n",
              "  const outputElement = document.getElementById(outputId);\n",
              "  // Cache steps on the outputElement to make it available for the next call\n",
              "  // to uploadFilesContinue from Python.\n",
              "  outputElement.steps = steps;\n",
              "\n",
              "  return _uploadFilesContinue(outputId);\n",
              "}\n",
              "\n",
              "// This is roughly an async generator (not supported in the browser yet),\n",
              "// where there are multiple asynchronous steps and the Python side is going\n",
              "// to poll for completion of each step.\n",
              "// This uses a Promise to block the python side on completion of each step,\n",
              "// then passes the result of the previous step as the input to the next step.\n",
              "function _uploadFilesContinue(outputId) {\n",
              "  const outputElement = document.getElementById(outputId);\n",
              "  const steps = outputElement.steps;\n",
              "\n",
              "  const next = steps.next(outputElement.lastPromiseValue);\n",
              "  return Promise.resolve(next.value.promise).then((value) => {\n",
              "    // Cache the last promise value to make it available to the next\n",
              "    // step of the generator.\n",
              "    outputElement.lastPromiseValue = value;\n",
              "    return next.value.response;\n",
              "  });\n",
              "}\n",
              "\n",
              "/**\n",
              " * Generator function which is called between each async step of the upload\n",
              " * process.\n",
              " * @param {string} inputId Element ID of the input file picker element.\n",
              " * @param {string} outputId Element ID of the output display.\n",
              " * @return {!Iterable<!Object>} Iterable of next steps.\n",
              " */\n",
              "function* uploadFilesStep(inputId, outputId) {\n",
              "  const inputElement = document.getElementById(inputId);\n",
              "  inputElement.disabled = false;\n",
              "\n",
              "  const outputElement = document.getElementById(outputId);\n",
              "  outputElement.innerHTML = '';\n",
              "\n",
              "  const pickedPromise = new Promise((resolve) => {\n",
              "    inputElement.addEventListener('change', (e) => {\n",
              "      resolve(e.target.files);\n",
              "    });\n",
              "  });\n",
              "\n",
              "  const cancel = document.createElement('button');\n",
              "  inputElement.parentElement.appendChild(cancel);\n",
              "  cancel.textContent = 'Cancel upload';\n",
              "  const cancelPromise = new Promise((resolve) => {\n",
              "    cancel.onclick = () => {\n",
              "      resolve(null);\n",
              "    };\n",
              "  });\n",
              "\n",
              "  // Wait for the user to pick the files.\n",
              "  const files = yield {\n",
              "    promise: Promise.race([pickedPromise, cancelPromise]),\n",
              "    response: {\n",
              "      action: 'starting',\n",
              "    }\n",
              "  };\n",
              "\n",
              "  cancel.remove();\n",
              "\n",
              "  // Disable the input element since further picks are not allowed.\n",
              "  inputElement.disabled = true;\n",
              "\n",
              "  if (!files) {\n",
              "    return {\n",
              "      response: {\n",
              "        action: 'complete',\n",
              "      }\n",
              "    };\n",
              "  }\n",
              "\n",
              "  for (const file of files) {\n",
              "    const li = document.createElement('li');\n",
              "    li.append(span(file.name, {fontWeight: 'bold'}));\n",
              "    li.append(span(\n",
              "        `(${file.type || 'n/a'}) - ${file.size} bytes, ` +\n",
              "        `last modified: ${\n",
              "            file.lastModifiedDate ? file.lastModifiedDate.toLocaleDateString() :\n",
              "                                    'n/a'} - `));\n",
              "    const percent = span('0% done');\n",
              "    li.appendChild(percent);\n",
              "\n",
              "    outputElement.appendChild(li);\n",
              "\n",
              "    const fileDataPromise = new Promise((resolve) => {\n",
              "      const reader = new FileReader();\n",
              "      reader.onload = (e) => {\n",
              "        resolve(e.target.result);\n",
              "      };\n",
              "      reader.readAsArrayBuffer(file);\n",
              "    });\n",
              "    // Wait for the data to be ready.\n",
              "    let fileData = yield {\n",
              "      promise: fileDataPromise,\n",
              "      response: {\n",
              "        action: 'continue',\n",
              "      }\n",
              "    };\n",
              "\n",
              "    // Use a chunked sending to avoid message size limits. See b/62115660.\n",
              "    let position = 0;\n",
              "    do {\n",
              "      const length = Math.min(fileData.byteLength - position, MAX_PAYLOAD_SIZE);\n",
              "      const chunk = new Uint8Array(fileData, position, length);\n",
              "      position += length;\n",
              "\n",
              "      const base64 = btoa(String.fromCharCode.apply(null, chunk));\n",
              "      yield {\n",
              "        response: {\n",
              "          action: 'append',\n",
              "          file: file.name,\n",
              "          data: base64,\n",
              "        },\n",
              "      };\n",
              "\n",
              "      let percentDone = fileData.byteLength === 0 ?\n",
              "          100 :\n",
              "          Math.round((position / fileData.byteLength) * 100);\n",
              "      percent.textContent = `${percentDone}% done`;\n",
              "\n",
              "    } while (position < fileData.byteLength);\n",
              "  }\n",
              "\n",
              "  // All done.\n",
              "  yield {\n",
              "    response: {\n",
              "      action: 'complete',\n",
              "    }\n",
              "  };\n",
              "}\n",
              "\n",
              "scope.google = scope.google || {};\n",
              "scope.google.colab = scope.google.colab || {};\n",
              "scope.google.colab._files = {\n",
              "  _uploadFiles,\n",
              "  _uploadFilesContinue,\n",
              "};\n",
              "})(self);\n",
              "</script> "
            ]
          },
          "metadata": {}
        },
        {
          "output_type": "stream",
          "name": "stdout",
          "text": [
            "Saving animals.xlsx to animals.xlsx\n",
            "Загружен файл animals.xlsx\n"
          ]
        }
      ]
    },
    {
      "cell_type": "markdown",
      "source": [
        "Укажем, что первый столбец является названиями строк (index_col), это нужно сделать, поскольку по умолчанию считается, что подписей к строкам нет."
      ],
      "metadata": {
        "id": "HwLZ8nh8ZpxR"
      }
    },
    {
      "cell_type": "code",
      "source": [
        "animals_from_excel = pd.read_excel('animals.xlsx', index_col=0)\n",
        "print(animals_from_excel)"
      ],
      "metadata": {
        "colab": {
          "base_uri": "https://localhost:8080/"
        },
        "id": "S88FliaaL82A",
        "outputId": "f1c8e813-2944-441b-b660-37b7fcb8e921"
      },
      "execution_count": null,
      "outputs": [
        {
          "output_type": "stream",
          "name": "stdout",
          "text": [
            "                                                        Animal  \\\n",
            "Top 20 Tallest Animals (Body Height)                             \n",
            "Tallest terrestrial animal                             Giraffe   \n",
            "Tallest elephant                              African Elephant   \n",
            "Tallest bird                                           Ostrich   \n",
            "Tallest camel                                        Dromedary   \n",
            "Tallest cattle                                            Gaur   \n",
            "Tallest horse                                      Shire Horse   \n",
            "Tallest deer                                             Moose   \n",
            "Tallest cattle                                  American bison   \n",
            "2nd tallest cattle                    Holstein friesian cattle   \n",
            "Tallest rhinoceros                                 White rhino   \n",
            "Tallest hippo                                     Hippopotamus   \n",
            "Talles zebra                                     Grévy's zebra   \n",
            "Tallest animal of prey                              Polar bear   \n",
            "3rd tallest cattle                                    Musk ox    \n",
            "Tallest donkey                               Baudet du Poitou    \n",
            "Tallest wildebeest                            Blue wildebeest    \n",
            "2nd tallest camel                                        Llama   \n",
            "Tallest feline predator                                   Lion   \n",
            "Tallest dog                                         Great Dane   \n",
            "Tallest animal of prey                          Siberian tiger   \n",
            "\n",
            "                                                   Body Height  \n",
            "Top 20 Tallest Animals (Body Height)                            \n",
            "Tallest terrestrial animal                19.6 feet (6 meters)  \n",
            "Tallest elephant                       12.9 feet (3.96 meters)  \n",
            "Tallest bird                             9.1 feet (2.8 meters)  \n",
            "Tallest camel                            7.8 feet (2.4 meters)  \n",
            "Tallest cattle                           7.2 feet (2.2 meters)  \n",
            "Tallest horse                            6.8 feet (2.1 meters)  \n",
            "Tallest deer                             6.8 feet (2.1 meters)  \n",
            "Tallest cattle                          6.6 feet (2.01 meters)  \n",
            "2nd tallest cattle                       6.2 feet (1.9 meters)  \n",
            "Tallest rhinoceros                      6.1 feet (1.86 meters)  \n",
            "Tallest hippo                           5.4 feet (1.65 meters)  \n",
            "Talles zebra                             5.2 feet (1.6 meters)  \n",
            "Tallest animal of prey                  5.2 feet (1.6 meters)   \n",
            "3rd tallest cattle                       4.9 feet (1.5 meters)  \n",
            "Tallest donkey                           4.9 feet (1.5 meters)  \n",
            "Tallest wildebeest                      4.7 feet (1.45 meters)  \n",
            "2nd tallest camel                       4.5 feet (1.40 meters)  \n",
            "Tallest feline predator                   4 feet (1.23 meters)  \n",
            "Tallest dog                           3.67 feet (1.12 meters)   \n",
            "Tallest animal of prey                   3.6 feet (1.1 meters)  \n"
          ]
        }
      ]
    },
    {
      "cell_type": "markdown",
      "source": [
        "Содержимое файла загружено в переменную animals_from_excel, представляющую собой особый вид данных. В нашей переменной animals_from_excel есть названия строк, столбцов и собственно данные. Выделить эти части считанной из файла информации можно так:\n",
        "\n",
        "\n",
        "```\n",
        "animals_from_excel.index\n",
        "animals_from_excel.columns\n",
        "animals_from_excel.values\n",
        "```\n",
        "\n",
        "\n",
        "**Замечание.** Вместо .values лучше использовать .to_numpy()\n",
        "\n",
        "## Пример 2\n",
        "Выведем на экран названия строк и столбцов файла 'animals.xlsx' и данные, записанные в этот файл."
      ],
      "metadata": {
        "id": "6EOidC5mwmtZ"
      }
    },
    {
      "cell_type": "code",
      "source": [
        "print(f\"\"\"index: {animals_from_excel.index},\n",
        "columns: {animals_from_excel.columns},\n",
        "values: {animals_from_excel.values}\n",
        "shape: {animals_from_excel.values.shape}\"\"\")"
      ],
      "metadata": {
        "colab": {
          "base_uri": "https://localhost:8080/"
        },
        "id": "clzoPD9H0Y0J",
        "outputId": "9f7daadc-88dd-4a9c-e8ca-b02e2026768c"
      },
      "execution_count": null,
      "outputs": [
        {
          "output_type": "stream",
          "name": "stdout",
          "text": [
            "index: Index(['Tallest terrestrial animal', 'Tallest elephant', 'Tallest bird',\n",
            "       'Tallest camel', 'Tallest cattle', 'Tallest horse', 'Tallest deer',\n",
            "       'Tallest cattle', '2nd tallest cattle', 'Tallest rhinoceros',\n",
            "       'Tallest hippo', 'Talles zebra', 'Tallest animal of prey',\n",
            "       '3rd tallest cattle', 'Tallest donkey', 'Tallest wildebeest',\n",
            "       '2nd tallest camel', 'Tallest feline predator', 'Tallest dog',\n",
            "       'Tallest animal of prey'],\n",
            "      dtype='object', name='Top 20 Tallest Animals (Body Height)'),\n",
            "columns: Index(['Animal', 'Body Height'], dtype='object'),\n",
            "values: [['Giraffe' '19.6 feet (6 meters)']\n",
            " ['African Elephant' '12.9 feet (3.96 meters)']\n",
            " ['Ostrich' '9.1 feet (2.8 meters)']\n",
            " ['Dromedary' '7.8 feet (2.4 meters)']\n",
            " ['Gaur' '7.2 feet (2.2 meters)']\n",
            " ['Shire Horse' '6.8 feet (2.1 meters)']\n",
            " ['Moose' '6.8 feet (2.1 meters)']\n",
            " ['American bison' '6.6 feet (2.01 meters)']\n",
            " ['Holstein friesian\\xa0cattle' '6.2 feet (1.9 meters)']\n",
            " ['White rhino' '6.1 feet (1.86 meters)']\n",
            " ['Hippopotamus' '5.4 feet (1.65 meters)']\n",
            " [\"Grévy's\\xa0zebra\" '5.2 feet (1.6 meters)']\n",
            " ['Polar bear' '5.2 feet (1.6 meters) ']\n",
            " ['Musk ox\\xa0' '4.9 feet (1.5 meters)']\n",
            " ['Baudet du Poitou\\xa0' '4.9 feet (1.5 meters)']\n",
            " ['Blue\\xa0wildebeest\\xa0' '4.7 feet (1.45 meters)']\n",
            " ['Llama' '4.5 feet (1.40 meters)']\n",
            " ['Lion' '4 feet (1.23 meters)']\n",
            " ['Great Dane' '3.67 feet (1.12 meters) ']\n",
            " ['Siberian tiger' '3.6 feet (1.1 meters)']]\n",
            "shape: (20, 2)\n"
          ]
        }
      ]
    },
    {
      "cell_type": "markdown",
      "source": [
        "Обратим внимание, что мы считали данные только из первого листа 'tallest' нашего файла. Для считывания отдельного листа нужно указать его имя:\n",
        "\n",
        "\n",
        "```\n",
        "longest_animals_from_excel = pd.read_excel('animals.xlsx', sheet_name='longest', index_col=0)\n",
        "```\n",
        "\n",
        "Для того, чтобы не выводить все длинные списки и таблицы, будем пользоваться срезами, указывая в квадратных скобках диапазон номеров элементов, которые нам нужны:\n",
        "\n"
      ],
      "metadata": {
        "id": "Y9UMk4Izdjj3"
      }
    },
    {
      "cell_type": "code",
      "source": [
        "longest_animals_from_excel = pd.read_excel('animals.xlsx', sheet_name='longest', index_col=0)\n",
        "print(f\"\"\"longest_animals:\n",
        "index: {longest_animals_from_excel.index[:4]},\n",
        "columns: {longest_animals_from_excel.columns},\n",
        "values: {longest_animals_from_excel.values[:4, :4]}\"\"\")"
      ],
      "metadata": {
        "colab": {
          "base_uri": "https://localhost:8080/"
        },
        "id": "-TeqSZMEeXFg",
        "outputId": "dc859f55-8ec7-4c11-b1db-6f0b77deacfd"
      },
      "execution_count": null,
      "outputs": [
        {
          "output_type": "stream",
          "name": "stdout",
          "text": [
            "longest_animals:\n",
            "index: Index(['Longest animal', 'Longest cnidarian', 'Longest whale',\n",
            "       '2nd longest invertebrate'],\n",
            "      dtype='object', name='Top 20 Longest Animals (Body Length)'),\n",
            "columns: Index(['Animal', 'Body Length'], dtype='object'),\n",
            "values: [['Giant ribbon worm L. longissimus *' '180.4 feet (55 meters)']\n",
            " ['Siphonophore P. dubia **' '164 feet (50 meters)']\n",
            " ['Blue whale' '109.97 feet (33.52 meters)']\n",
            " ['Giant squid' '60 feet (18.30 meters)']]\n"
          ]
        }
      ]
    },
    {
      "cell_type": "markdown",
      "source": [
        "## Запись в файл\n",
        "Для записи в файл используется метод to_excel класса DataFrame из pandas.\n",
        "```\n",
        "df.to_excel(file_name)\n",
        "```\n",
        "Здесь df это DataFrame из pandas, этот объект нам нужно создать на основе наших данных, указав при необходимости надписи строк и столбцов.\n",
        "\n",
        "Самый простой способ:"
      ],
      "metadata": {
        "id": "vuzi0Y4_gH2A"
      }
    },
    {
      "cell_type": "code",
      "source": [
        "M = [[1, 2, 3], [4, 5, 6]]\n",
        "df = pd.DataFrame(M)\n",
        "file_name = \"M_1.xlsx\"\n",
        "df.to_excel(file_name)\n",
        "files.download(file_name)"
      ],
      "metadata": {
        "colab": {
          "base_uri": "https://localhost:8080/",
          "height": 17
        },
        "id": "T8WEUst9hST2",
        "outputId": "55618be2-e824-41fe-f352-ff8ccc509d8e"
      },
      "execution_count": null,
      "outputs": [
        {
          "output_type": "display_data",
          "data": {
            "text/plain": [
              "<IPython.core.display.Javascript object>"
            ],
            "application/javascript": [
              "\n",
              "    async function download(id, filename, size) {\n",
              "      if (!google.colab.kernel.accessAllowed) {\n",
              "        return;\n",
              "      }\n",
              "      const div = document.createElement('div');\n",
              "      const label = document.createElement('label');\n",
              "      label.textContent = `Downloading \"${filename}\": `;\n",
              "      div.appendChild(label);\n",
              "      const progress = document.createElement('progress');\n",
              "      progress.max = size;\n",
              "      div.appendChild(progress);\n",
              "      document.body.appendChild(div);\n",
              "\n",
              "      const buffers = [];\n",
              "      let downloaded = 0;\n",
              "\n",
              "      const channel = await google.colab.kernel.comms.open(id);\n",
              "      // Send a message to notify the kernel that we're ready.\n",
              "      channel.send({})\n",
              "\n",
              "      for await (const message of channel.messages) {\n",
              "        // Send a message to notify the kernel that we're ready.\n",
              "        channel.send({})\n",
              "        if (message.buffers) {\n",
              "          for (const buffer of message.buffers) {\n",
              "            buffers.push(buffer);\n",
              "            downloaded += buffer.byteLength;\n",
              "            progress.value = downloaded;\n",
              "          }\n",
              "        }\n",
              "      }\n",
              "      const blob = new Blob(buffers, {type: 'application/binary'});\n",
              "      const a = document.createElement('a');\n",
              "      a.href = window.URL.createObjectURL(blob);\n",
              "      a.download = filename;\n",
              "      div.appendChild(a);\n",
              "      a.click();\n",
              "      div.remove();\n",
              "    }\n",
              "  "
            ]
          },
          "metadata": {}
        },
        {
          "output_type": "display_data",
          "data": {
            "text/plain": [
              "<IPython.core.display.Javascript object>"
            ],
            "application/javascript": [
              "download(\"download_5f0fc993-3467-4d0b-a9b7-45cbcbb16747\", \"M_1.xlsx\", 4945)"
            ]
          },
          "metadata": {}
        }
      ]
    },
    {
      "cell_type": "markdown",
      "source": [
        "Если нам нужно, чтобы подписи столбцов были a, b, c, а подписи строк A и B, нужно сделать так:"
      ],
      "metadata": {
        "id": "_zOBLviZiAyo"
      }
    },
    {
      "cell_type": "code",
      "source": [
        "index_1 = ['A', 'B']\n",
        "columns_1 = ['a', 'b', 'c']\n",
        "df = pd.DataFrame(M, index=index_1, columns=columns_1)\n",
        "file_name = \"M_2.xlsx\"\n",
        "df.to_excel(file_name)\n",
        "files.download(file_name)"
      ],
      "metadata": {
        "colab": {
          "base_uri": "https://localhost:8080/",
          "height": 17
        },
        "id": "--HyhK37iQzG",
        "outputId": "7273c896-51a6-4b85-b0b6-dde1f9f6cd0a"
      },
      "execution_count": null,
      "outputs": [
        {
          "output_type": "display_data",
          "data": {
            "text/plain": [
              "<IPython.core.display.Javascript object>"
            ],
            "application/javascript": [
              "\n",
              "    async function download(id, filename, size) {\n",
              "      if (!google.colab.kernel.accessAllowed) {\n",
              "        return;\n",
              "      }\n",
              "      const div = document.createElement('div');\n",
              "      const label = document.createElement('label');\n",
              "      label.textContent = `Downloading \"${filename}\": `;\n",
              "      div.appendChild(label);\n",
              "      const progress = document.createElement('progress');\n",
              "      progress.max = size;\n",
              "      div.appendChild(progress);\n",
              "      document.body.appendChild(div);\n",
              "\n",
              "      const buffers = [];\n",
              "      let downloaded = 0;\n",
              "\n",
              "      const channel = await google.colab.kernel.comms.open(id);\n",
              "      // Send a message to notify the kernel that we're ready.\n",
              "      channel.send({})\n",
              "\n",
              "      for await (const message of channel.messages) {\n",
              "        // Send a message to notify the kernel that we're ready.\n",
              "        channel.send({})\n",
              "        if (message.buffers) {\n",
              "          for (const buffer of message.buffers) {\n",
              "            buffers.push(buffer);\n",
              "            downloaded += buffer.byteLength;\n",
              "            progress.value = downloaded;\n",
              "          }\n",
              "        }\n",
              "      }\n",
              "      const blob = new Blob(buffers, {type: 'application/binary'});\n",
              "      const a = document.createElement('a');\n",
              "      a.href = window.URL.createObjectURL(blob);\n",
              "      a.download = filename;\n",
              "      div.appendChild(a);\n",
              "      a.click();\n",
              "      div.remove();\n",
              "    }\n",
              "  "
            ]
          },
          "metadata": {}
        },
        {
          "output_type": "display_data",
          "data": {
            "text/plain": [
              "<IPython.core.display.Javascript object>"
            ],
            "application/javascript": [
              "download(\"download_66c2964f-fdc2-427d-b6a1-e1764658590b\", \"Animal_2.xlsx\", 4970)"
            ]
          },
          "metadata": {}
        }
      ]
    },
    {
      "cell_type": "markdown",
      "source": [
        "Если нужно, чтобы не было подписей строк в файле, нужно это указать в df.to_excel:"
      ],
      "metadata": {
        "id": "uU1U-6EljP3H"
      }
    },
    {
      "cell_type": "code",
      "source": [
        "file_name = \"M_3.xlsx\"\n",
        "df.to_excel(file_name, index=False)\n",
        "files.download(file_name)"
      ],
      "metadata": {
        "colab": {
          "base_uri": "https://localhost:8080/",
          "height": 17
        },
        "id": "5mPTWtk9jcJV",
        "outputId": "256302e4-de63-4291-919d-494234348c82"
      },
      "execution_count": null,
      "outputs": [
        {
          "output_type": "display_data",
          "data": {
            "text/plain": [
              "<IPython.core.display.Javascript object>"
            ],
            "application/javascript": [
              "\n",
              "    async function download(id, filename, size) {\n",
              "      if (!google.colab.kernel.accessAllowed) {\n",
              "        return;\n",
              "      }\n",
              "      const div = document.createElement('div');\n",
              "      const label = document.createElement('label');\n",
              "      label.textContent = `Downloading \"${filename}\": `;\n",
              "      div.appendChild(label);\n",
              "      const progress = document.createElement('progress');\n",
              "      progress.max = size;\n",
              "      div.appendChild(progress);\n",
              "      document.body.appendChild(div);\n",
              "\n",
              "      const buffers = [];\n",
              "      let downloaded = 0;\n",
              "\n",
              "      const channel = await google.colab.kernel.comms.open(id);\n",
              "      // Send a message to notify the kernel that we're ready.\n",
              "      channel.send({})\n",
              "\n",
              "      for await (const message of channel.messages) {\n",
              "        // Send a message to notify the kernel that we're ready.\n",
              "        channel.send({})\n",
              "        if (message.buffers) {\n",
              "          for (const buffer of message.buffers) {\n",
              "            buffers.push(buffer);\n",
              "            downloaded += buffer.byteLength;\n",
              "            progress.value = downloaded;\n",
              "          }\n",
              "        }\n",
              "      }\n",
              "      const blob = new Blob(buffers, {type: 'application/binary'});\n",
              "      const a = document.createElement('a');\n",
              "      a.href = window.URL.createObjectURL(blob);\n",
              "      a.download = filename;\n",
              "      div.appendChild(a);\n",
              "      a.click();\n",
              "      div.remove();\n",
              "    }\n",
              "  "
            ]
          },
          "metadata": {}
        },
        {
          "output_type": "display_data",
          "data": {
            "text/plain": [
              "<IPython.core.display.Javascript object>"
            ],
            "application/javascript": [
              "download(\"download_bb751369-a084-4cd4-989e-66e523bb4eb3\", \"Animal_3.xlsx\", 4954)"
            ]
          },
          "metadata": {}
        }
      ]
    },
    {
      "cell_type": "markdown",
      "source": [
        "Если нужно, чтобы не было подписей столбцов в файле, то в df.to_excel пишем header=False."
      ],
      "metadata": {
        "id": "du6cfCZcjvxt"
      }
    },
    {
      "cell_type": "code",
      "source": [
        "file_name = \"M_4.xlsx\"\n",
        "df.to_excel(file_name, header=False)\n",
        "files.download(file_name)"
      ],
      "metadata": {
        "colab": {
          "base_uri": "https://localhost:8080/",
          "height": 17
        },
        "id": "R0etgliJkCLd",
        "outputId": "660b7783-c0da-4f44-a968-c28969a9b85e"
      },
      "execution_count": null,
      "outputs": [
        {
          "output_type": "display_data",
          "data": {
            "text/plain": [
              "<IPython.core.display.Javascript object>"
            ],
            "application/javascript": [
              "\n",
              "    async function download(id, filename, size) {\n",
              "      if (!google.colab.kernel.accessAllowed) {\n",
              "        return;\n",
              "      }\n",
              "      const div = document.createElement('div');\n",
              "      const label = document.createElement('label');\n",
              "      label.textContent = `Downloading \"${filename}\": `;\n",
              "      div.appendChild(label);\n",
              "      const progress = document.createElement('progress');\n",
              "      progress.max = size;\n",
              "      div.appendChild(progress);\n",
              "      document.body.appendChild(div);\n",
              "\n",
              "      const buffers = [];\n",
              "      let downloaded = 0;\n",
              "\n",
              "      const channel = await google.colab.kernel.comms.open(id);\n",
              "      // Send a message to notify the kernel that we're ready.\n",
              "      channel.send({})\n",
              "\n",
              "      for await (const message of channel.messages) {\n",
              "        // Send a message to notify the kernel that we're ready.\n",
              "        channel.send({})\n",
              "        if (message.buffers) {\n",
              "          for (const buffer of message.buffers) {\n",
              "            buffers.push(buffer);\n",
              "            downloaded += buffer.byteLength;\n",
              "            progress.value = downloaded;\n",
              "          }\n",
              "        }\n",
              "      }\n",
              "      const blob = new Blob(buffers, {type: 'application/binary'});\n",
              "      const a = document.createElement('a');\n",
              "      a.href = window.URL.createObjectURL(blob);\n",
              "      a.download = filename;\n",
              "      div.appendChild(a);\n",
              "      a.click();\n",
              "      div.remove();\n",
              "    }\n",
              "  "
            ]
          },
          "metadata": {}
        },
        {
          "output_type": "display_data",
          "data": {
            "text/plain": [
              "<IPython.core.display.Javascript object>"
            ],
            "application/javascript": [
              "download(\"download_da86ae6b-c672-47bf-84fa-e53b5672993d\", \"Animal_4.xlsx\", 4944)"
            ]
          },
          "metadata": {}
        }
      ]
    },
    {
      "cell_type": "markdown",
      "source": [
        "## Запись на отдельные листы\n",
        "Если нужно расположить данные на отдельных листах файла xlsx, то используется такая конструкция:\n",
        "\n",
        "\n",
        "```\n",
        "with pd.ExcelWriter(file_name) as writer:\n",
        "    df1.to_excel(writer, sheet_name='df1_name')\n",
        "    df2.to_excel(writer, sheet_name='df2_name')\n",
        "    ...\n",
        "```"
      ],
      "metadata": {
        "id": "Clcf1sJ5e_PA"
      }
    },
    {
      "cell_type": "code",
      "source": [
        "file_name = \"M_5.xlsx\"\n",
        "df1 = animals_from_excel\n",
        "df2 = longest_animals_from_excel\n",
        "with pd.ExcelWriter(file_name) as writer:\n",
        "    df1.to_excel(writer, sheet_name='tallest')\n",
        "    df2.to_excel(writer, sheet_name='longest')\n",
        "files.download(file_name)"
      ],
      "metadata": {
        "colab": {
          "base_uri": "https://localhost:8080/",
          "height": 17
        },
        "id": "dcKj4LhIkrO9",
        "outputId": "61be9185-3852-4641-ff71-9347a5d03ab0"
      },
      "execution_count": null,
      "outputs": [
        {
          "output_type": "display_data",
          "data": {
            "text/plain": [
              "<IPython.core.display.Javascript object>"
            ],
            "application/javascript": [
              "\n",
              "    async function download(id, filename, size) {\n",
              "      if (!google.colab.kernel.accessAllowed) {\n",
              "        return;\n",
              "      }\n",
              "      const div = document.createElement('div');\n",
              "      const label = document.createElement('label');\n",
              "      label.textContent = `Downloading \"${filename}\": `;\n",
              "      div.appendChild(label);\n",
              "      const progress = document.createElement('progress');\n",
              "      progress.max = size;\n",
              "      div.appendChild(progress);\n",
              "      document.body.appendChild(div);\n",
              "\n",
              "      const buffers = [];\n",
              "      let downloaded = 0;\n",
              "\n",
              "      const channel = await google.colab.kernel.comms.open(id);\n",
              "      // Send a message to notify the kernel that we're ready.\n",
              "      channel.send({})\n",
              "\n",
              "      for await (const message of channel.messages) {\n",
              "        // Send a message to notify the kernel that we're ready.\n",
              "        channel.send({})\n",
              "        if (message.buffers) {\n",
              "          for (const buffer of message.buffers) {\n",
              "            buffers.push(buffer);\n",
              "            downloaded += buffer.byteLength;\n",
              "            progress.value = downloaded;\n",
              "          }\n",
              "        }\n",
              "      }\n",
              "      const blob = new Blob(buffers, {type: 'application/binary'});\n",
              "      const a = document.createElement('a');\n",
              "      a.href = window.URL.createObjectURL(blob);\n",
              "      a.download = filename;\n",
              "      div.appendChild(a);\n",
              "      a.click();\n",
              "      div.remove();\n",
              "    }\n",
              "  "
            ]
          },
          "metadata": {}
        },
        {
          "output_type": "display_data",
          "data": {
            "text/plain": [
              "<IPython.core.display.Javascript object>"
            ],
            "application/javascript": [
              "download(\"download_189487b8-cbf7-4b38-9f5f-41df2c1780c7\", \"Animal_5.xlsx\", 6969)"
            ]
          },
          "metadata": {}
        }
      ]
    },
    {
      "cell_type": "markdown",
      "source": [
        "Если нужно записать много листов, то будем делать это в цикле, для этого составим кортеж или список из имен листов и кортеж или список из данных.\n",
        "```\n",
        "sheet_names = ('name_1', 'name_2', ...)\n",
        "dfs = (df1, df2, ...)\n",
        "with pd.ExcelWriter(file_name) as writer:\n",
        "    for df, name in zip(dfs, sheet_names):\n",
        "        df.to_excel(writer, sheet_name=name)\n",
        "```\n",
        "Можно составлять списки с помощью списочных выражений.\n",
        "## Обработка данных, извлеченных из файла xlsx\n",
        "Данные, извлеченные из файла, выделенные с помощью атрибута values, представляют собой двумерную структуру. Можно выделять из нее строки, столбцы, отдельные элементы примерно так, как из двумерных списков.\n",
        "## Пример 3\n",
        "Выведем на экран столбец с названиями животных с листа 'longest', затем 3 строку и элемент 3-й строки последнего столбца."
      ],
      "metadata": {
        "id": "3nTjvbVPl0xc"
      }
    },
    {
      "cell_type": "code",
      "source": [
        "data = longest_animals_from_excel.values\n",
        "print(f\"\"\"Столбец с названиями животных с листа 'longest':\n",
        "{data[:, 0]}\n",
        "3 строка:\n",
        "{data[3, :]}\n",
        "элемент 3-й строки последнего столбца:\n",
        "{data[3, -1]}\"\"\")"
      ],
      "metadata": {
        "colab": {
          "base_uri": "https://localhost:8080/"
        },
        "id": "Yjo1mp3aClXE",
        "outputId": "38c59c8d-75dd-4a14-df71-67b13ebf6d99"
      },
      "execution_count": null,
      "outputs": [
        {
          "output_type": "stream",
          "name": "stdout",
          "text": [
            "Столбец с названиями животных с листа 'longest':\n",
            "['Giant ribbon worm L. longissimus *' 'Siphonophore P. dubia **'\n",
            " 'Blue whale' 'Giant squid' 'Sperm whale' 'Whale shark' 'Orca'\n",
            " 'Reticulated python' 'White shark' 'King cobra' 'Beluga'\n",
            " 'Southern elephant seal' 'Siberian tiger' 'Polar bear, Kodiak bear ***'\n",
            " 'Komodo dragon' 'Leatherback turtle' 'Chinese giant salamander'\n",
            " 'Giant mussel T. gigas']\n",
            "3 строка:\n",
            "['Giant squid' '60 feet (18.30 meters)']\n",
            "элемент 3-й строки последнего столбца:\n",
            "60 feet (18.30 meters)\n"
          ]
        }
      ]
    },
    {
      "cell_type": "markdown",
      "source": [
        "## Пример 4\n",
        "Создадим на основе последнего столбца с листа 'longest' два отдельных столбца с числами - длиной в футах и длиной в метрах."
      ],
      "metadata": {
        "id": "VcYOP0TmFIkU"
      }
    },
    {
      "cell_type": "code",
      "source": [
        "def rep_my(s):\n",
        "    for item in (' feet (', ' meters)'):\n",
        "        s = s.replace(item, ' ')\n",
        "    return [float(item) for item in s.split()]\n",
        "\n",
        "long = pd.read_excel('animals.xlsx', sheet_name='longest', index_col=0)\n",
        "\n",
        "long_len = [rep_my(item) for item in long.values[:, -1]]\n",
        "print(f\"\"\"longest:\n",
        "{long_len}\"\"\")"
      ],
      "metadata": {
        "colab": {
          "base_uri": "https://localhost:8080/"
        },
        "id": "xIMRzsFmFhmT",
        "outputId": "98a02ce3-0b95-4c39-f362-f3a9efb8c3f2"
      },
      "execution_count": null,
      "outputs": [
        {
          "output_type": "stream",
          "name": "stdout",
          "text": [
            "longest:\n",
            "[[180.4, 55.0], [164.0, 50.0], [109.97, 33.52], [60.0, 18.3], [59.0, 18.0], [41.6, 12.7], [32.15, 9.8], [22.8, 6.95], [19.6, 6.0], [18.7, 5.7], [19.6, 6.0], [22.4, 6.85], [10.9, 3.3], [10.17, 3.1], [9.97, 3.04], [8.39, 2.56], [5.9, 1.8], [3.93, 1.2]]\n"
          ]
        }
      ]
    },
    {
      "cell_type": "markdown",
      "source": [
        "## Пример 5\n",
        "Счтаем из файла 'animals.xlsx' листы 'tallest' и 'longest'\n",
        "Запишем в файл 'animals_new.xlsx' на листы 'height' и 'length' два отдельных столбца с числами - длиной в футах и длиной в метрах, остальное как в исходном файле."
      ],
      "metadata": {
        "id": "WpEbFNFKJXdN"
      }
    },
    {
      "cell_type": "code",
      "source": [
        "file_name = \"animals.xlsx\"\n",
        "tall, long = [pd.read_excel(file_name,\n",
        "                            sheet_name=name,\n",
        "                            index_col=0) for name in ('tallest', 'longest')]\n",
        "\n",
        "tall_len, long_len = [[rep_my(item) for item in data.values[:, -1]] for data in (tall, long)]\n",
        "\n",
        "file_name = file_name[:-5] + '_new'+ file_name[-5:]\n",
        "columns = ['feet', 'meters']\n",
        "with pd.ExcelWriter(file_name) as writer:\n",
        "    for name, item, sheet in zip(('height', 'length'),\n",
        "                                 (tall_len, long_len),\n",
        "                                 (tall, long)):\n",
        "        df = pd.DataFrame(data=item, index=sheet.index, columns=columns)\n",
        "        df.to_excel(writer, sheet_name=name)\n",
        "files.download(file_name)"
      ],
      "metadata": {
        "colab": {
          "base_uri": "https://localhost:8080/",
          "height": 17
        },
        "id": "A_OOElPeJt1Z",
        "outputId": "8648f9fb-cd0e-4d9a-aa44-00824a4c4359"
      },
      "execution_count": null,
      "outputs": [
        {
          "output_type": "display_data",
          "data": {
            "text/plain": [
              "<IPython.core.display.Javascript object>"
            ],
            "application/javascript": [
              "\n",
              "    async function download(id, filename, size) {\n",
              "      if (!google.colab.kernel.accessAllowed) {\n",
              "        return;\n",
              "      }\n",
              "      const div = document.createElement('div');\n",
              "      const label = document.createElement('label');\n",
              "      label.textContent = `Downloading \"${filename}\": `;\n",
              "      div.appendChild(label);\n",
              "      const progress = document.createElement('progress');\n",
              "      progress.max = size;\n",
              "      div.appendChild(progress);\n",
              "      document.body.appendChild(div);\n",
              "\n",
              "      const buffers = [];\n",
              "      let downloaded = 0;\n",
              "\n",
              "      const channel = await google.colab.kernel.comms.open(id);\n",
              "      // Send a message to notify the kernel that we're ready.\n",
              "      channel.send({})\n",
              "\n",
              "      for await (const message of channel.messages) {\n",
              "        // Send a message to notify the kernel that we're ready.\n",
              "        channel.send({})\n",
              "        if (message.buffers) {\n",
              "          for (const buffer of message.buffers) {\n",
              "            buffers.push(buffer);\n",
              "            downloaded += buffer.byteLength;\n",
              "            progress.value = downloaded;\n",
              "          }\n",
              "        }\n",
              "      }\n",
              "      const blob = new Blob(buffers, {type: 'application/binary'});\n",
              "      const a = document.createElement('a');\n",
              "      a.href = window.URL.createObjectURL(blob);\n",
              "      a.download = filename;\n",
              "      div.appendChild(a);\n",
              "      a.click();\n",
              "      div.remove();\n",
              "    }\n",
              "  "
            ]
          },
          "metadata": {}
        },
        {
          "output_type": "display_data",
          "data": {
            "text/plain": [
              "<IPython.core.display.Javascript object>"
            ],
            "application/javascript": [
              "download(\"download_6449ae21-0935-4e27-9f24-7580b97c8a2c\", \"animals_new.xlsx\", 6460)"
            ]
          },
          "metadata": {}
        }
      ]
    },
    {
      "cell_type": "markdown",
      "source": [
        "## Чтение текстовых файлов: повторение\n",
        "https://docs.python.org/3/library/functions.html#open\n",
        "\n",
        "Файл можно создать, открыть, записать в него данные, дописать данные в имеющийся файл или обновить данные в файле, можно закрыть файл.\n",
        "\n",
        "Если нужно записать данные в файл, которого пока нет, то вначале создаем файл, открываем его, записываем, закрываем. Обязательно нужно следить за тем, чтобы к моменту завершения программы все открытые файлы были закрыты. При нормальной работе программы, когда она не завершается аварийно с сообщением об ошибке, достаточно, чтобы в коде было предусмотрено закрытие всех файлов. Однако не всегда возможно предусмотреть все варианты данных, используемых программой (например, если в ней есть пользовательский ввод) и обработать все возможные ошибки программно, могут произойти сбои в системе и т.п. Для автоматизации контроля закрытия файлов будем сразу пользоваться конструкцией\n",
        "```\n",
        "with open(file_name, mode='w', encoding='utf-8') as f:\n",
        "    f.write(data)\n",
        "```\n",
        "В данном случае выбран режим перезаписи данных  mode='w' (используется по умолчанию), в этом случае данные, которые уже были записаны в файл, стираются, замещаясь новыми данными data.\n",
        "\n",
        "Другие режимы открытия файла:\n",
        "\n",
        "'r' чтение\n",
        "\n",
        "'x' открытие для создания не существующего файла, выдающее ошибку, если файл уже существует\n",
        "\n",
        "'a' дописывание данных в файл после уже имеющихся в нем данных\n",
        "\n",
        "'b' бинарный режим\n",
        "\n",
        "'t' текстовый режим (по умолчанию)\n",
        "\n",
        "'+' и чтение и запись\n",
        "\n",
        "Режимы отрытия файла \"суммируются\", т.е. можно одновременно использовать несколько режимов, например, 'w+' (чтение и запись, при записи старые данные стираются) 'r+' (чтение и запись, при записи новые данные записываются после старых)\n",
        "# Загрузка файлов в colab.research\n",
        "```\n",
        "from google.colab import files\n",
        "\n",
        "files.upload()\n",
        "```\n",
        "# Скачивание файлов в colab.research\n",
        "```\n",
        "files.download(file_name)\n",
        "```\n",
        "## Особенности чтения файлов.\n",
        "Файл читается так, как если бы текст был записан на одной длинной строке, по которой передвигается от начала к концу считывающее утройство. Например, если считаны первые 10 символов файла, то при попытке считать еще 5 символов будут считаны символы с 11 по 15 включительно. Если все символы файла прочитаны, то больше ничего не удастся считать, если только не переместиться в начало файла или в определенную позицию."
      ],
      "metadata": {
        "id": "KPVnvvOoJiLC"
      }
    }
  ]
}