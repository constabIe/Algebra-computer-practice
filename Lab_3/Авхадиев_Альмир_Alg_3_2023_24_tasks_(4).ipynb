{
  "nbformat": 4,
  "nbformat_minor": 0,
  "metadata": {
    "kernelspec": {
      "display_name": "Python 3",
      "language": "python",
      "name": "python3"
    },
    "language_info": {
      "codemirror_mode": {
        "name": "ipython",
        "version": 3
      },
      "file_extension": ".py",
      "mimetype": "text/x-python",
      "name": "python",
      "nbconvert_exporter": "python",
      "pygments_lexer": "ipython3",
      "version": "3.7.3"
    },
    "colab": {
      "provenance": []
    }
  },
  "cells": [
    {
      "cell_type": "markdown",
      "metadata": {
        "id": "Lq_8i_zvJF8o"
      },
      "source": [
        "# Практическое занятие 3\n",
        "# Компьютерный практикум по алгебре на Python\n",
        "## Решение систем линейных алгебраических уравнений (СЛАУ)"
      ]
    },
    {
      "cell_type": "markdown",
      "metadata": {
        "id": "4pcXPsZ5JF8v"
      },
      "source": [
        "https://docs.sympy.org/latest/modules/solvers/solveset.html#sympy.solvers.solveset.linsolve"
      ]
    },
    {
      "cell_type": "code",
      "metadata": {
        "id": "fLJ7y0XDJF8w"
      },
      "source": [
        "import sympy\n",
        "from sympy import linsolve, Matrix, S, Symbol, symbols, Eq,\\\n",
        "linear_eq_to_matrix, simplify, collect"
      ],
      "execution_count": 93,
      "outputs": []
    },
    {
      "cell_type": "markdown",
      "metadata": {
        "id": "ApqHKVFaJF8x"
      },
      "source": [
        "### Задание 1.\n",
        "Решить СЛАУ, представив их тремя различными способами (расширенная матрица, список уравнений, матричный вид)\n",
        "$$\n",
        "a)\\ \\left\\{\n",
        "\\begin{matrix}\n",
        "-x+5y-3z=8\\\\\n",
        "4x-y+5z=-1\\\\\n",
        "3x+4y+5z=10\n",
        "\\end{matrix}\n",
        "\\right., \\quad\n",
        "b)\\ \\left\\{\n",
        "\\begin{matrix}\n",
        "-x+5y-3z=8\\\\\n",
        "4x-y+5z=-1\\\\\n",
        "3x+4y+2z=7\n",
        "\\end{matrix}\n",
        "\\right., \\quad\n",
        "c)\\ \\left\\{\n",
        "\\begin{matrix}\n",
        "-x+5y-3z=8\\\\\n",
        "4x-y+5z=-1\\\\\n",
        "3x+4y+2z=5\n",
        "\\end{matrix}\n",
        "\\right.\n",
        "$$"
      ]
    },
    {
      "cell_type": "code",
      "source": [
        "SLAE = Matrix([[-1, 5, -3, 8],\n",
        "              [4, -1, 5, -1],\n",
        "              [3, 4, 5, 10]])\n",
        "\n",
        "# (a) Способ 1. СЛАУ в виде расширенной матрицы.\n",
        "display(linsolve(SLAE))\n",
        "\n",
        "# (b) Способ 2. В виде списка из уравнений\n",
        "x, y, z = symbols('x y z')\n",
        "SlAE = [Eq(-x + 5 * y - 3 * z, 8), Eq(4 * x - y + 5 * z, -1), Eq(3 * x + 4 * y + 2 * z, 7)]\n",
        "display(linsolve(SLAE, x, y, z))\n",
        "\n",
        "# (c) Способ 3.\n",
        "A = Matrix([[-1, 5, -3], [4, -1, 5], [3, 4, 2]])\n",
        "b = Matrix([8, -1, 5])\n",
        "display(linsolve((A, b)))\n"
      ],
      "metadata": {
        "id": "X9KtfDMZKjbj",
        "colab": {
          "base_uri": "https://localhost:8080/",
          "height": 77
        },
        "outputId": "bd2d6adc-0d25-45c6-a52f-8a52b351e95b"
      },
      "execution_count": 95,
      "outputs": [
        {
          "output_type": "display_data",
          "data": {
            "text/plain": [
              "{(-1, 2, 1)}"
            ],
            "text/latex": "$\\displaystyle \\left\\{\\left( -1, \\  2, \\  1\\right)\\right\\}$"
          },
          "metadata": {}
        },
        {
          "output_type": "display_data",
          "data": {
            "text/plain": [
              "{(-1, 2, 1)}"
            ],
            "text/latex": "$\\displaystyle \\left\\{\\left( -1, \\  2, \\  1\\right)\\right\\}$"
          },
          "metadata": {}
        },
        {
          "output_type": "display_data",
          "data": {
            "text/plain": [
              "EmptySet"
            ],
            "text/latex": "$\\displaystyle \\emptyset$"
          },
          "metadata": {}
        }
      ]
    },
    {
      "cell_type": "markdown",
      "metadata": {
        "id": "uC_T9sNpJF9X"
      },
      "source": [
        "### Задание 2.\n",
        "\n",
        "Решить СЛАУ с параметром $a$, представив их списком уравнений, а затем приведя к матричному виду с помощью linear_eq_to_matrix\n",
        "$$\n",
        "a)\\ \\left\\{\n",
        "\\begin{matrix}\n",
        "ax+5y-3z=8\\\\\n",
        "4x-y+5z=-1\\\\\n",
        "3x+4y+5z=10\n",
        "\\end{matrix}\n",
        "\\right., \\quad\n",
        "b)\\ \\left\\{\n",
        "\\begin{matrix}\n",
        "(a-1)x+5y-3z=8\\\\\n",
        "(4+a)x-y+5z=-1\\\\\n",
        "(3+2a)x+4y+2z=7\n",
        "\\end{matrix}\n",
        "\\right., \\quad\n",
        "c) \\left\\{\n",
        "\\begin{matrix}\n",
        "-x+5y-3z=8a\\\\\n",
        "4x-ay+5z=-a\\\\\n",
        "3x+4y+2z=5a\n",
        "\\end{matrix}\n",
        "\\right.\n",
        "$$\n",
        "Решить СЛАУ а) при $a=-82/25$, b) при $a=-19/6$, $-3.17$ и $-3.167$, c) при $a=1$.\n",
        "\n",
        "Проанализировать результаты. Для каждого случая (кроме случая несовместной СЛАУ) провести проверку подстановкой.\n",
        "\n",
        "При подстановке дробей пользоваться конструкцией вида $S(num)/den$, например,\n",
        "$S(2)/3$"
      ]
    },
    {
      "cell_type": "code",
      "source": [
        "x, y, z, a = symbols('x y z a')\n",
        "\n",
        "# a)\n",
        "eqns = [Eq(a * x + 5 * y - 3 * z, 8), Eq(4 * x - y + 5 * z, -1), Eq(3 * x + 4 * y + 5 * z, 10)]\n",
        "A, b = linear_eq_to_matrix(eqns, [x, y, z])\n",
        "X = linsolve((A.subs(a, -S(82)/25), b), x, y, z)\n",
        "display(X)\n",
        "\n",
        "\n",
        "# b)\n",
        "eqns = [Eq((a - 1) * x + 5 * y - 3 * z, 8), Eq((4 + a) * x - y + 5 * z, -1), \\\n",
        "    Eq((3 + 2 * a) * x + 4 * y + 2 * z, 7)]\n",
        "A, b = linear_eq_to_matrix(eqns, [x, y, z])\n",
        "\n",
        "# a = -19/6\n",
        "A_1 = A.subs(a, -S(19)/6)\n",
        "X_1 = linsolve((A_1, b), x, y, z)\n",
        "X_1_matrix = Matrix(*X_1)\n",
        "display((A_1 * X_1_matrix - b).T)\n",
        "# a = -3.17\n",
        "A_2 = A.subs(a, -S(317)/100)\n",
        "X_2 = linsolve((A_2, b), x, y, z)\n",
        "X_2_matrix = Matrix(*X_2)\n",
        "display((A_2 * X_2_matrix - b).T)\n",
        "# a = -3.167\n",
        "A_3 = A.subs(a, -S(3167)/1000)\n",
        "X_3 = linsolve((A_3, b), x, y, z)\n",
        "X_3_matrix = Matrix(*X_3)\n",
        "display((A_3 * X_3_matrix - b).T)\n",
        "\n",
        "\n",
        "# c)\n",
        "eqns = [Eq(-x + 5 * y - 3 * z, 8 * a), Eq(4 * x - a * y + 5 * z, -a), \\\n",
        "    Eq(3 * x + 4 * y + 2 * z, 5 * a)]\n",
        "A, b = linear_eq_to_matrix(eqns, [x, y, z])\n",
        "A = A.subs(a, 1)\n",
        "display(linsolve((A, b)))"
      ],
      "metadata": {
        "id": "qPKXsAVWKmY0",
        "colab": {
          "base_uri": "https://localhost:8080/",
          "height": 120
        },
        "outputId": "d8926468-508e-4951-d835-1358540021bf"
      },
      "execution_count": 96,
      "outputs": [
        {
          "output_type": "display_data",
          "data": {
            "text/plain": [
              "EmptySet"
            ],
            "text/latex": "$\\displaystyle \\emptyset$"
          },
          "metadata": {}
        },
        {
          "output_type": "display_data",
          "data": {
            "text/plain": [
              "Matrix([[0, 0, 0]])"
            ],
            "text/latex": "$\\displaystyle \\left[\\begin{matrix}0 & 0 & 0\\end{matrix}\\right]$"
          },
          "metadata": {}
        },
        {
          "output_type": "display_data",
          "data": {
            "text/plain": [
              "Matrix([[0, 0, 0]])"
            ],
            "text/latex": "$\\displaystyle \\left[\\begin{matrix}0 & 0 & 0\\end{matrix}\\right]$"
          },
          "metadata": {}
        },
        {
          "output_type": "display_data",
          "data": {
            "text/plain": [
              "Matrix([[0, 0, 0]])"
            ],
            "text/latex": "$\\displaystyle \\left[\\begin{matrix}0 & 0 & 0\\end{matrix}\\right]$"
          },
          "metadata": {}
        },
        {
          "output_type": "display_data",
          "data": {
            "text/plain": [
              "EmptySet"
            ],
            "text/latex": "$\\displaystyle \\emptyset$"
          },
          "metadata": {}
        }
      ]
    },
    {
      "cell_type": "markdown",
      "metadata": {
        "id": "Zm2BtqFeJF90"
      },
      "source": [
        "### Задание 3\n",
        "В расширенной матрице СЛАУ из Задания 1 а)\n",
        "\n",
        "1) выделить матрицу левой части\n",
        "\n",
        "2) выделить столбец правой части\n",
        "\n",
        "3) транспонировать матрицу, полученную в 1)\n",
        "\n",
        "4) получить расширенную матрицу из матрицы 3) и столбца 2)\n",
        "\n",
        "5) создать на основе лямбда-функции матрицу $3\\times 4$ из расположенных в шахматном порядке чисел 1 и $-1$."
      ]
    },
    {
      "cell_type": "code",
      "source": [
        "SLAE = Matrix([[-1, 5, -3, 8],\n",
        "              [4, -1, 5, -1],\n",
        "              [3, 4, 5, 10]])\n",
        "# 1)\n",
        "A = SLAE[:3, :3]\n",
        "display(A)\n",
        "\n",
        "# 2)\n",
        "b = SLAE[:, 3]\n",
        "display(b)\n",
        "\n",
        "# 3)\n",
        "display(A.transpose())\n",
        "\n",
        "# 4)\n",
        "Ab = A.row_join(b)\n",
        "display(Ab)\n",
        "\n",
        "# 5)\n",
        "chess_matrix = Matrix(3, 4, lambda i, j: (-1) ** (i+j))\n",
        "display(chess_matrix)"
      ],
      "metadata": {
        "id": "85rYx6qZKp6z",
        "colab": {
          "base_uri": "https://localhost:8080/",
          "height": 322
        },
        "outputId": "4ad8437e-ce3d-48fe-d132-354c3f511dc5"
      },
      "execution_count": 97,
      "outputs": [
        {
          "output_type": "display_data",
          "data": {
            "text/plain": [
              "Matrix([\n",
              "[-1,  5, -3],\n",
              "[ 4, -1,  5],\n",
              "[ 3,  4,  5]])"
            ],
            "text/latex": "$\\displaystyle \\left[\\begin{matrix}-1 & 5 & -3\\\\4 & -1 & 5\\\\3 & 4 & 5\\end{matrix}\\right]$"
          },
          "metadata": {}
        },
        {
          "output_type": "display_data",
          "data": {
            "text/plain": [
              "Matrix([\n",
              "[ 8],\n",
              "[-1],\n",
              "[10]])"
            ],
            "text/latex": "$\\displaystyle \\left[\\begin{matrix}8\\\\-1\\\\10\\end{matrix}\\right]$"
          },
          "metadata": {}
        },
        {
          "output_type": "display_data",
          "data": {
            "text/plain": [
              "Matrix([\n",
              "[-1,  4, 3],\n",
              "[ 5, -1, 4],\n",
              "[-3,  5, 5]])"
            ],
            "text/latex": "$\\displaystyle \\left[\\begin{matrix}-1 & 4 & 3\\\\5 & -1 & 4\\\\-3 & 5 & 5\\end{matrix}\\right]$"
          },
          "metadata": {}
        },
        {
          "output_type": "display_data",
          "data": {
            "text/plain": [
              "Matrix([\n",
              "[-1,  5, -3,  8],\n",
              "[ 4, -1,  5, -1],\n",
              "[ 3,  4,  5, 10]])"
            ],
            "text/latex": "$\\displaystyle \\left[\\begin{matrix}-1 & 5 & -3 & 8\\\\4 & -1 & 5 & -1\\\\3 & 4 & 5 & 10\\end{matrix}\\right]$"
          },
          "metadata": {}
        },
        {
          "output_type": "display_data",
          "data": {
            "text/plain": [
              "Matrix([\n",
              "[ 1, -1,  1, -1],\n",
              "[-1,  1, -1,  1],\n",
              "[ 1, -1,  1, -1]])"
            ],
            "text/latex": "$\\displaystyle \\left[\\begin{matrix}1 & -1 & 1 & -1\\\\-1 & 1 & -1 & 1\\\\1 & -1 & 1 & -1\\end{matrix}\\right]$"
          },
          "metadata": {}
        }
      ]
    },
    {
      "cell_type": "markdown",
      "metadata": {
        "id": "M_AOl3WSJF91"
      },
      "source": [
        "### Индивидуальное задание.\n"
      ]
    },
    {
      "cell_type": "markdown",
      "source": [
        "\n",
        "Вариант N 175\n",
        "\n",
        "\n",
        "Решить СЛАУ c параметром тремя способами (расширенная матрица, список уравнений, матричная форма).\n",
        "\n",
        "1)Вначале составить список уравнений и решить вторым способом,\n",
        "2)затем список уравнений преобразовать в матричный вид и решить третьим способом.\n",
        "3)Затем составить из матрицы левой части и столбца правой расширенную матрицу СЛАУ и решить первым способом.\n",
        "4)После этого провести проверку подстановкой.\n",
        "\n",
        "5)Затем отдельно рассмотреть значение параметра, при котором решение СЛАУ нельзя найти по общей формуле,\n",
        "полученной ранее.\n",
        "Найти решение СЛАУ при этом значении параметра первым или третьим способом, используя подстановку subs.\n",
        "\\begin{align*}\n",
        "    A = \\left[\\begin{matrix}-7 & 3 & -4 & -2\\\\-6 & 2 & -8 & 6\\\\\\gamma & 4 & -9 & -2\\\\-1 & 1 & 4 & -8\\end{matrix}\\right]\n",
        "\\qquad b = \\left[\\begin{matrix}87\\\\54\\\\128\\\\33\\end{matrix}\\right]\n",
        "\\end{align*}\n"
      ],
      "metadata": {
        "id": "57X9tU_yxjld"
      }
    },
    {
      "cell_type": "code",
      "source": [
        "a, b, c, d, y = symbols('a b c d \\gamma')\n",
        "\n",
        "# 1)\n",
        "eqns = [Eq(-7*a + 3*b - 4*c - 2*d, 87), Eq(-6*a + 2*b - 8*c +6*d, 54), Eq(y*a + 4*b - 9*c - 2*d, 128), Eq(-a + b + 4*c - 8*d, 33)]\n",
        "display(linsolve(eqns, a, b, c, d))\n",
        "\n",
        "# 2)\n",
        "A, b_ = linear_eq_to_matrix(eqns, [a, b, c, d])\n",
        "display(linsolve((A, b_), a, b, c, d))\n",
        "\n",
        "# 3)\n",
        "SLAE = A.row_join(b_)\n",
        "X = linsolve(SLAE, a, b, c, d)\n",
        "display(X)\n",
        "\n",
        "# 4)\n",
        "X_matrix = Matrix(*X)\n",
        "display(simplify(A * X_matrix - b_).T)\n",
        "\n",
        "# 5)\n",
        "display(linsolve(A.subs(y, -S(82)/8), b))\n"
      ],
      "metadata": {
        "colab": {
          "base_uri": "https://localhost:8080/",
          "height": 178
        },
        "id": "iIYPQiOPxskp",
        "outputId": "0812b116-f002-441d-9f8b-d7cf7174e057"
      },
      "execution_count": 98,
      "outputs": [
        {
          "output_type": "display_data",
          "data": {
            "text/plain": [
              "{(35*d/(8*\\gamma + 82) + 59/(4*\\gamma + 41), d*(20*\\gamma + 275)/(8*\\gamma + 82) + (120*\\gamma + 1348)/(4*\\gamma + 41), d*(11*\\gamma + 104)/(8*\\gamma + 82) + (3*\\gamma + 16)/(4*\\gamma + 41), d)}"
            ],
            "text/latex": "$\\displaystyle \\left\\{\\left( \\frac{35 d}{8 \\gamma + 82} + \\frac{59}{4 \\gamma + 41}, \\  \\frac{d \\left(20 \\gamma + 275\\right)}{8 \\gamma + 82} + \\frac{120 \\gamma + 1348}{4 \\gamma + 41}, \\  \\frac{d \\left(11 \\gamma + 104\\right)}{8 \\gamma + 82} + \\frac{3 \\gamma + 16}{4 \\gamma + 41}, \\  d\\right)\\right\\}$"
          },
          "metadata": {}
        },
        {
          "output_type": "display_data",
          "data": {
            "text/plain": [
              "{(35*d/(8*\\gamma + 82) + 59/(4*\\gamma + 41), d*(20*\\gamma + 275)/(8*\\gamma + 82) + (120*\\gamma + 1348)/(4*\\gamma + 41), d*(11*\\gamma + 104)/(8*\\gamma + 82) + (3*\\gamma + 16)/(4*\\gamma + 41), d)}"
            ],
            "text/latex": "$\\displaystyle \\left\\{\\left( \\frac{35 d}{8 \\gamma + 82} + \\frac{59}{4 \\gamma + 41}, \\  \\frac{d \\left(20 \\gamma + 275\\right)}{8 \\gamma + 82} + \\frac{120 \\gamma + 1348}{4 \\gamma + 41}, \\  \\frac{d \\left(11 \\gamma + 104\\right)}{8 \\gamma + 82} + \\frac{3 \\gamma + 16}{4 \\gamma + 41}, \\  d\\right)\\right\\}$"
          },
          "metadata": {}
        },
        {
          "output_type": "display_data",
          "data": {
            "text/plain": [
              "{(35*d/(8*\\gamma + 82) + 59/(4*\\gamma + 41), d*(20*\\gamma + 275)/(8*\\gamma + 82) + (120*\\gamma + 1348)/(4*\\gamma + 41), d*(11*\\gamma + 104)/(8*\\gamma + 82) + (3*\\gamma + 16)/(4*\\gamma + 41), d)}"
            ],
            "text/latex": "$\\displaystyle \\left\\{\\left( \\frac{35 d}{8 \\gamma + 82} + \\frac{59}{4 \\gamma + 41}, \\  \\frac{d \\left(20 \\gamma + 275\\right)}{8 \\gamma + 82} + \\frac{120 \\gamma + 1348}{4 \\gamma + 41}, \\  \\frac{d \\left(11 \\gamma + 104\\right)}{8 \\gamma + 82} + \\frac{3 \\gamma + 16}{4 \\gamma + 41}, \\  d\\right)\\right\\}$"
          },
          "metadata": {}
        },
        {
          "output_type": "display_data",
          "data": {
            "text/plain": [
              "Matrix([[0, 0, 0, 0]])"
            ],
            "text/latex": "$\\displaystyle \\left[\\begin{matrix}0 & 0 & 0 & 0\\end{matrix}\\right]$"
          },
          "metadata": {}
        },
        {
          "output_type": "display_data",
          "data": {
            "text/plain": [
              "EmptySet"
            ],
            "text/latex": "$\\displaystyle \\emptyset$"
          },
          "metadata": {}
        }
      ]
    }
  ]
}