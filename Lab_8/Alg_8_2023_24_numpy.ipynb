{
 "nbformat": 4,
 "nbformat_minor": 0,
 "metadata": {
  "kernelspec": {
   "display_name": "Python 3",
   "language": "python",
   "name": "python3"
  },
  "language_info": {
   "codemirror_mode": {
    "name": "ipython",
    "version": 3
   },
   "file_extension": ".py",
   "mimetype": "text/x-python",
   "name": "python",
   "nbconvert_exporter": "python",
   "pygments_lexer": "ipython3",
   "version": "3.7.3"
  },
  "colab": {
   "provenance": []
  }
 },
 "cells": [
  {
   "cell_type": "markdown",
   "metadata": {
    "id": "c6HyBQxAzvAa"
   },
   "source": [
    "# Практическое занятие 8\n",
    "# Компьютерный практикум по алгебре на Python\n",
    "## Численное решение систем линейных алгебраических уравнений (СЛАУ) с numpy."
   ]
  },
  {
   "cell_type": "markdown",
   "metadata": {
    "id": "H2TtQzFozvAj"
   },
   "source": [
    "https://numpy.org/doc/stable/reference/routines.linalg.html"
   ]
  },
  {
   "cell_type": "code",
   "metadata": {
    "id": "Szq1iyf_zvAk",
    "ExecuteTime": {
     "end_time": "2024-01-12T17:58:50.128498Z",
     "start_time": "2024-01-12T17:58:49.298019Z"
    }
   },
   "source": [
    "import numpy as np\n",
    "from numpy import linalg"
   ],
   "execution_count": 1,
   "outputs": []
  },
  {
   "cell_type": "markdown",
   "source": [
    "#Представление матриц в numpy.\n",
    "\n",
    "!!! Сейчас матрицы в numpy рекомендуется представлять в виде структуры данных \"2d numpy.array object\", а не a \"numpy.matrix object\", даже для задач линейной алгебры.\n",
    "\n",
    "2d numpy.array object это вложенный (двумерный) массив, его элементы (в отличие от списков list) данные одного типа, т.е. все элементы числа int, float,комплексные числа или какой-то другой числовой тип.\n",
    "\n",
    "Сначала составим матрицу."
   ],
   "metadata": {
    "id": "P4HXR20BDgcu"
   }
  },
  {
   "cell_type": "code",
   "source": [
    "my_matr = np.array([[1, 2, 3],\n",
    "                    [4, 5, 6]])\n",
    "my_matr"
   ],
   "metadata": {
    "colab": {
     "base_uri": "https://localhost:8080/"
    },
    "id": "1F-tKp6qHKxz",
    "outputId": "1b2c85e2-7f03-465a-8079-50a52e04c3f4",
    "ExecuteTime": {
     "end_time": "2024-01-12T17:58:50.296772Z",
     "start_time": "2024-01-12T17:58:50.049143Z"
    }
   },
   "execution_count": 2,
   "outputs": [
    {
     "data": {
      "text/plain": "array([[1, 2, 3],\n       [4, 5, 6]])"
     },
     "execution_count": 2,
     "metadata": {},
     "output_type": "execute_result"
    }
   ]
  },
  {
   "cell_type": "markdown",
   "source": [
    "Если конструктору numpy.array передать список, содержащий разные типы чисел, то все числа преобразуются к наиболее общему типу. Например, если в списке есть int и float, то все станут float, а если еще есть комплексные числа, то все будут преобразованы в комплексные числа."
   ],
   "metadata": {
    "id": "UOtCEaClHea0"
   }
  },
  {
   "cell_type": "code",
   "source": [
    "my_matr_1 = np.array([[1, 2.5, 3],\n",
    "                     [4, 5, 6]])\n",
    "my_matr_2 = np.array([[1, 2 + 1j, 3],\n",
    "                     [4, 5, 6]])\n",
    "print('my_matr_1', my_matr_1, 'my_matr_2', my_matr_2, sep='\\n')"
   ],
   "metadata": {
    "colab": {
     "base_uri": "https://localhost:8080/"
    },
    "id": "pwY3o_GQHdaV",
    "outputId": "195314bd-f4db-4a6c-b340-b200c952bff6",
    "ExecuteTime": {
     "end_time": "2024-01-12T17:58:50.300081Z",
     "start_time": "2024-01-12T17:58:50.099262Z"
    }
   },
   "execution_count": 3,
   "outputs": [
    {
     "name": "stdout",
     "output_type": "stream",
     "text": [
      "my_matr_1\n",
      "[[1.  2.5 3. ]\n",
      " [4.  5.  6. ]]\n",
      "my_matr_2\n",
      "[[1.+0.j 2.+1.j 3.+0.j]\n",
      " [4.+0.j 5.+0.j 6.+0.j]]\n"
     ]
    }
   ]
  },
  {
   "cell_type": "markdown",
   "source": [
    "Для некоторых стандартных видов матриц есть специальные конструкторы, например\n",
    "\n",
    "для **единичной** матрицы numpy.identity(n, dtype=None, *, like=None) и numpy.eye(N, M=None, k=0, dtype=<class 'float'>, order='C', *, like=None)\n",
    "\n",
    "для **матрицы из нулей** numpy.zeros(shape, dtype=float, order='C', *, like=None)"
   ],
   "metadata": {
    "id": "EnfJKQqdIqJp"
   }
  },
  {
   "cell_type": "code",
   "source": [
    "print(f\"\"\"np.identity(3):\\n{np.identity(3)},\n",
    "np.eye(3, 4):\\n{np.eye(3, 4)},\n",
    "np.eye(3, 4, dtype=int):\\n{np.eye(3, 4, dtype=int)},\n",
    "np.zeros((2, 3)):\\n{np.zeros((2, 3))},\n",
    "np.zeros((2, 3), dtype=complex):\\n{np.zeros((2, 3), dtype=complex)}.\"\"\", sep='\\n')"
   ],
   "metadata": {
    "colab": {
     "base_uri": "https://localhost:8080/"
    },
    "id": "EVBi0pihJKco",
    "outputId": "2d321244-0cac-4649-f643-fec0f7edd0a1",
    "ExecuteTime": {
     "end_time": "2024-01-12T17:58:50.306058Z",
     "start_time": "2024-01-12T17:58:50.166703Z"
    }
   },
   "execution_count": 4,
   "outputs": [
    {
     "name": "stdout",
     "output_type": "stream",
     "text": [
      "np.identity(3):\n",
      "[[1. 0. 0.]\n",
      " [0. 1. 0.]\n",
      " [0. 0. 1.]],\n",
      "np.eye(3, 4):\n",
      "[[1. 0. 0. 0.]\n",
      " [0. 1. 0. 0.]\n",
      " [0. 0. 1. 0.]],\n",
      "np.eye(3, 4, dtype=int):\n",
      "[[1 0 0 0]\n",
      " [0 1 0 0]\n",
      " [0 0 1 0]],\n",
      "np.zeros((2, 3)):\n",
      "[[0. 0. 0.]\n",
      " [0. 0. 0.]],\n",
      "np.zeros((2, 3), dtype=complex):\n",
      "[[0.+0.j 0.+0.j 0.+0.j]\n",
      " [0.+0.j 0.+0.j 0.+0.j]].\n"
     ]
    }
   ]
  },
  {
   "cell_type": "markdown",
   "metadata": {
    "id": "5Y0ARnYvzvAm"
   },
   "source": [
    "## numpy.linalg.solve\n",
    "\n",
    "linalg.solve это решатель СЛАУ из N уравнений от N переменных.Возможное число решений одно, иначе выдается ошибка.\n",
    "\n",
    "### Пример 1. Совместная СЛАУ с единственным решением.\n"
   ]
  },
  {
   "cell_type": "code",
   "metadata": {
    "id": "SGZ1_0ApzvAw",
    "colab": {
     "base_uri": "https://localhost:8080/"
    },
    "outputId": "0a0bcdd0-ac7c-4ceb-c077-027b9805205a",
    "ExecuteTime": {
     "end_time": "2024-01-12T17:58:50.310793Z",
     "start_time": "2024-01-12T17:58:50.172613Z"
    }
   },
   "source": [
    "A = np.array([[2, 3, -1],\n",
    "              [3, -2, 1],\n",
    "              [1, 1, -1]])\n",
    "b = np.array([5, 2, 0])\n",
    "X = linalg.solve(A, b)\n",
    "print(f'Решение СЛАУ: {X}')"
   ],
   "execution_count": 5,
   "outputs": [
    {
     "name": "stdout",
     "output_type": "stream",
     "text": [
      "Решение СЛАУ: [1. 2. 3.]\n"
     ]
    }
   ]
  },
  {
   "cell_type": "markdown",
   "source": [
    "Как выполнить проверку? В случае отсутствия ошибок округлений при вычислениях должно выполняться $AX = b$.\n",
    "\n",
    "Для умножения матриц (т.е. array) используется оператор @ или метод matmul (то же, что и @):"
   ],
   "metadata": {
    "id": "O0GRY4q_MIoV"
   }
  },
  {
   "cell_type": "code",
   "source": [
    "A @ X == b"
   ],
   "metadata": {
    "colab": {
     "base_uri": "https://localhost:8080/"
    },
    "id": "PtB7r9tTMeba",
    "outputId": "7c65aaea-7ff5-46f6-ac1c-da8d98777a75",
    "ExecuteTime": {
     "end_time": "2024-01-12T17:58:50.647086Z",
     "start_time": "2024-01-12T17:58:50.187986Z"
    }
   },
   "execution_count": 6,
   "outputs": [
    {
     "data": {
      "text/plain": "array([ True,  True,  True])"
     },
     "execution_count": 6,
     "metadata": {},
     "output_type": "execute_result"
    }
   ]
  },
  {
   "cell_type": "markdown",
   "source": [
    "Как видим, матрицы-столбцы левой и правой частей не совпадают в одной координате. Почему? По причине округлений при вычислениях. Посмотрим, насколько сильно отличаются левая и правая части:"
   ],
   "metadata": {
    "id": "GojQVaNwNkc9"
   }
  },
  {
   "cell_type": "code",
   "source": [
    "print(f'A @ X = {A @ X},\\nb = {b}')"
   ],
   "metadata": {
    "colab": {
     "base_uri": "https://localhost:8080/"
    },
    "id": "ZcdEHSPOM-bJ",
    "outputId": "8caa39c0-f95e-49bc-8263-6d2db54790a1",
    "ExecuteTime": {
     "end_time": "2024-01-12T17:58:50.648695Z",
     "start_time": "2024-01-12T17:58:50.200511Z"
    }
   },
   "execution_count": 7,
   "outputs": [
    {
     "name": "stdout",
     "output_type": "stream",
     "text": [
      "A @ X = [5. 2. 0.],\n",
      "b = [5 2 0]\n"
     ]
    }
   ]
  },
  {
   "cell_type": "markdown",
   "source": [
    "Поскольку в жизни при использовании приближенных вычислений всегда результат подстановки решения будет несколько отличаться от правой части, то сравнение проводится лишь с некоторой точностью с помощью numpy.allclose(a, b, rtol=1e-05, atol=1e-08, equal_nan=False)\n",
    "\n",
    "https://numpy.org/devdocs/reference/generated/numpy.allclose.html\n",
    "\n",
    "numpy.allclose() сравнивает поэлементно первый и второй свои аргументы и возвращает True, если они все отличаются друг от друга не более чем на допустимую величину, определяемую параметрами rtol (относительная погрешность) и atol (абсолютная погрешность).\n",
    "\n",
    "При сравнении друх чисел $a$ и $b$ вычисляется величина $|a - b|$  и сравнивается с допустимой погрешностью $atol + rtol * |b|$. Если выполняется $|a - b|\\le atol + rtol * |b|$, то считается, что $a$ и $b$ приближенно равны."
   ],
   "metadata": {
    "id": "DWOKkPJ1OVxT"
   }
  },
  {
   "cell_type": "code",
   "source": [
    "np.allclose(A @ X, b)"
   ],
   "metadata": {
    "colab": {
     "base_uri": "https://localhost:8080/"
    },
    "id": "9UaS_ofINPpK",
    "outputId": "a7c4fd51-8ee1-4bff-b2a2-8fdb8caf892b",
    "ExecuteTime": {
     "end_time": "2024-01-12T17:58:50.650584Z",
     "start_time": "2024-01-12T17:58:50.215997Z"
    }
   },
   "execution_count": 8,
   "outputs": [
    {
     "data": {
      "text/plain": "True"
     },
     "execution_count": 8,
     "metadata": {},
     "output_type": "execute_result"
    }
   ]
  },
  {
   "cell_type": "markdown",
   "metadata": {
    "id": "iOc23Ur8zvAy"
   },
   "source": [
    "### Пример 2. Несовместная СЛАУ\n",
    "$$\n",
    "\\left\\{\n",
    "\\begin{matrix}\n",
    "2x + 3y - z = 5\\\\\n",
    "3x - 2y + z = 2\\\\\n",
    "5x + y = 0\n",
    "\\end{matrix}\n",
    "\\right.\n",
    "$$\n",
    "\n",
    "В случае этой несовместной СЛАУ linalg.solve выдает ошибку \"Singular matrix\". Чтобы программа не завершалась ошибкой, будем вычислять определитель левой части (если матрица квадратная) или ранг (в общем случае)."
   ]
  },
  {
   "cell_type": "code",
   "source": [
    "A = np.array([[2, 3, -1], [3, -2, 1], [5, 1, 0]])\n",
    "b = np.array([5, 2, 0])\n",
    "print(f'Определитель |А| = {linalg.det(A)}, ранг rg(А) = {linalg.matrix_rank(A)}')"
   ],
   "metadata": {
    "colab": {
     "base_uri": "https://localhost:8080/"
    },
    "id": "5KBh8u-CbbmV",
    "outputId": "d32ab48f-3361-4b9a-b979-9871f3039d0d",
    "ExecuteTime": {
     "end_time": "2024-01-12T17:58:50.697049Z",
     "start_time": "2024-01-12T17:58:50.234855Z"
    }
   },
   "execution_count": 9,
   "outputs": [
    {
     "name": "stdout",
     "output_type": "stream",
     "text": [
      "Определитель |А| = 0.0, ранг rg(А) = 2\n"
     ]
    }
   ]
  },
  {
   "cell_type": "markdown",
   "source": [
    "Для проверки СЛАУ на совместность по теореме Кронекера-Капелли нужно определить ранг расширенной матрицы СЛАУ, а для этого надо эту матрицу составить. Для соединения двух матриц в одну в numpy есть много функций (concatenate, stack, hstack, vstack и т.п), но в нашем случае, когда нужно к двумерному массиву присоединить одномерный столбец, лучше подойдет column_stack()."
   ],
   "metadata": {
    "id": "47OJRpgIgb3G"
   }
  },
  {
   "cell_type": "code",
   "metadata": {
    "id": "b6jT5-9nzvA1",
    "colab": {
     "base_uri": "https://localhost:8080/"
    },
    "outputId": "3025cd9f-4c0c-44de-da90-3da4acbc25de",
    "ExecuteTime": {
     "end_time": "2024-01-12T17:58:50.699052Z",
     "start_time": "2024-01-12T17:58:50.248055Z"
    }
   },
   "source": [
    "Ab = np.column_stack((A, b))\n",
    "print(f'Ab:\\n{Ab}\\nранг Ab rg(Аb) = {linalg.matrix_rank(Ab)}')"
   ],
   "execution_count": 10,
   "outputs": [
    {
     "name": "stdout",
     "output_type": "stream",
     "text": [
      "Ab:\n",
      "[[ 2  3 -1  5]\n",
      " [ 3 -2  1  2]\n",
      " [ 5  1  0  0]]\n",
      "ранг Ab rg(Аb) = 3\n"
     ]
    }
   ]
  },
  {
   "cell_type": "markdown",
   "source": [
    "Видим, что ранг расширенной матрицы больше, чем ранг левой части, следовательно, СЛАУ несовместна."
   ],
   "metadata": {
    "id": "OMs9VZfJkWQL"
   }
  },
  {
   "cell_type": "markdown",
   "metadata": {
    "id": "WQmibXfLzvA1"
   },
   "source": [
    "### Пример 3. Недоопределенная СЛАУ\n",
    "$$\n",
    "\\left\\{\n",
    "\\begin{matrix}\n",
    "2x + 3y - z = 5\\\\\n",
    "3x - 2y + z = 2\\\\\n",
    "5x + y = 7\n",
    "\\end{matrix}\n",
    "\\right.\n",
    "$$"
   ]
  },
  {
   "cell_type": "code",
   "metadata": {
    "id": "sybkkYpLzvA2",
    "colab": {
     "base_uri": "https://localhost:8080/"
    },
    "outputId": "781b3c86-d37d-4911-d06d-caaf88d97121",
    "ExecuteTime": {
     "end_time": "2024-01-12T17:58:50.700551Z",
     "start_time": "2024-01-12T17:58:50.264879Z"
    }
   },
   "source": [
    "A = np.array([[2, 3, -1], [3, -2, 1], [5, 1, 0]])\n",
    "b = np.array([5, 2, 7])\n",
    "Ab = np.column_stack((A, b))\n",
    "print(f'ранг A rg(А) = {linalg.matrix_rank(A)}, ранг Ab rg(Аb) = {linalg.matrix_rank(Ab)}')"
   ],
   "execution_count": 11,
   "outputs": [
    {
     "name": "stdout",
     "output_type": "stream",
     "text": [
      "ранг A rg(А) = 2, ранг Ab rg(Аb) = 2\n"
     ]
    }
   ]
  },
  {
   "cell_type": "markdown",
   "source": [
    "С помощью linalg.solve() такую СЛАУ решить нельзя, поскольку матрица левой части неполного ранга."
   ],
   "metadata": {
    "id": "taEPVqnslVmw"
   }
  },
  {
   "cell_type": "markdown",
   "metadata": {
    "id": "FxH4X5T2zvA-"
   },
   "source": [
    "### Выделение строки, столбца и подматрицы в np.array\n",
    "Для выделения части матрицы будем использовать диапазоны (срезы, slice)\n",
    "\n",
    "Напомним, что обращение к элементу матрицы осуществляется указанием в квадратных скобках после имени матрицы номера строки и номера столбца через запятую,\n",
    "\n",
    "например, $А[2, 3]$.\n",
    "\n",
    "Если нужно выделить элементы строки, стоящие в столбцах с 3 до 5 (не включая 5!), то вместо номера столбца указываем диапазон (срез) 3:5,\n",
    "двоеточие обозначает, что берутся и все промежуточные индексы.\n",
    "\n",
    "**!!!ВАЖНО!!!**\n",
    "\n",
    "В диапазонах не учитывается последнее значение,\n",
    "так срез 3:5 не включает элемент с номером 5!"
   ]
  },
  {
   "cell_type": "code",
   "metadata": {
    "id": "tKtuG-KSzvA_",
    "colab": {
     "base_uri": "https://localhost:8080/"
    },
    "outputId": "4c58ef07-fc0a-4be1-c8e2-2c599357035c",
    "ExecuteTime": {
     "end_time": "2024-01-12T17:58:50.799092Z",
     "start_time": "2024-01-12T17:58:50.299083Z"
    }
   },
   "source": [
    "Qmatr = np.array([[i * j for i in range(1, 9)] for j in range(2, 8)])\n",
    "Qmatr"
   ],
   "execution_count": 12,
   "outputs": [
    {
     "data": {
      "text/plain": "array([[ 2,  4,  6,  8, 10, 12, 14, 16],\n       [ 3,  6,  9, 12, 15, 18, 21, 24],\n       [ 4,  8, 12, 16, 20, 24, 28, 32],\n       [ 5, 10, 15, 20, 25, 30, 35, 40],\n       [ 6, 12, 18, 24, 30, 36, 42, 48],\n       [ 7, 14, 21, 28, 35, 42, 49, 56]])"
     },
     "execution_count": 12,
     "metadata": {},
     "output_type": "execute_result"
    }
   ]
  },
  {
   "cell_type": "markdown",
   "metadata": {
    "id": "0q09ySJIzvA_"
   },
   "source": [
    "Выделим столбец с номером 1 в матрице Qmatr"
   ]
  },
  {
   "cell_type": "code",
   "metadata": {
    "id": "zfXvXrgCzvA_",
    "colab": {
     "base_uri": "https://localhost:8080/"
    },
    "outputId": "c5d95c00-5fb8-46d7-e105-019e6c8cc453",
    "ExecuteTime": {
     "end_time": "2024-01-12T17:58:50.800746Z",
     "start_time": "2024-01-12T17:58:50.337017Z"
    }
   },
   "source": [
    "Qmatr[:, 1]"
   ],
   "execution_count": 13,
   "outputs": [
    {
     "data": {
      "text/plain": "array([ 4,  6,  8, 10, 12, 14])"
     },
     "execution_count": 13,
     "metadata": {},
     "output_type": "execute_result"
    }
   ]
  },
  {
   "cell_type": "markdown",
   "metadata": {
    "id": "U_Yf3QnMzvA_"
   },
   "source": [
    "Выделим строку с номером 0 в матрице Qmatr"
   ]
  },
  {
   "cell_type": "code",
   "metadata": {
    "id": "KEDYWMAxzvBA",
    "colab": {
     "base_uri": "https://localhost:8080/"
    },
    "outputId": "0a77e34d-9ea6-472b-ca56-1d4d8bc2991e",
    "ExecuteTime": {
     "end_time": "2024-01-12T17:58:50.806639Z",
     "start_time": "2024-01-12T17:58:50.363948Z"
    }
   },
   "source": [
    "Qmatr[0, :]"
   ],
   "execution_count": 14,
   "outputs": [
    {
     "data": {
      "text/plain": "array([ 2,  4,  6,  8, 10, 12, 14, 16])"
     },
     "execution_count": 14,
     "metadata": {},
     "output_type": "execute_result"
    }
   ]
  },
  {
   "cell_type": "markdown",
   "metadata": {
    "id": "OKmhh0dAzvBA"
   },
   "source": [
    "Допишем снизу к матрице Qmatr ее строку номер 1"
   ]
  },
  {
   "cell_type": "code",
   "metadata": {
    "id": "HjvqxA11zvBA",
    "colab": {
     "base_uri": "https://localhost:8080/"
    },
    "outputId": "fb3d195c-478d-4b3a-8471-a08f35719d3f",
    "ExecuteTime": {
     "end_time": "2024-01-12T17:58:50.808531Z",
     "start_time": "2024-01-12T17:58:50.386732Z"
    }
   },
   "source": [
    "np.row_stack((Qmatr, Qmatr[1, :]))"
   ],
   "execution_count": 15,
   "outputs": [
    {
     "data": {
      "text/plain": "array([[ 2,  4,  6,  8, 10, 12, 14, 16],\n       [ 3,  6,  9, 12, 15, 18, 21, 24],\n       [ 4,  8, 12, 16, 20, 24, 28, 32],\n       [ 5, 10, 15, 20, 25, 30, 35, 40],\n       [ 6, 12, 18, 24, 30, 36, 42, 48],\n       [ 7, 14, 21, 28, 35, 42, 49, 56],\n       [ 3,  6,  9, 12, 15, 18, 21, 24]])"
     },
     "execution_count": 15,
     "metadata": {},
     "output_type": "execute_result"
    }
   ]
  },
  {
   "cell_type": "markdown",
   "metadata": {
    "id": "cnlh9ELSzvBA"
   },
   "source": [
    "Допишем справа к матрице $A$ ее столбец номер 0"
   ]
  },
  {
   "cell_type": "code",
   "metadata": {
    "id": "da_RdZS7zvBA",
    "colab": {
     "base_uri": "https://localhost:8080/"
    },
    "outputId": "ec4663a3-1fde-49f6-9e4a-afffa23541da",
    "ExecuteTime": {
     "end_time": "2024-01-12T17:58:50.811015Z",
     "start_time": "2024-01-12T17:58:50.414501Z"
    }
   },
   "source": [
    "np.column_stack((Qmatr, Qmatr[:, 0]))"
   ],
   "execution_count": 16,
   "outputs": [
    {
     "data": {
      "text/plain": "array([[ 2,  4,  6,  8, 10, 12, 14, 16,  2],\n       [ 3,  6,  9, 12, 15, 18, 21, 24,  3],\n       [ 4,  8, 12, 16, 20, 24, 28, 32,  4],\n       [ 5, 10, 15, 20, 25, 30, 35, 40,  5],\n       [ 6, 12, 18, 24, 30, 36, 42, 48,  6],\n       [ 7, 14, 21, 28, 35, 42, 49, 56,  7]])"
     },
     "execution_count": 16,
     "metadata": {},
     "output_type": "execute_result"
    }
   ]
  },
  {
   "cell_type": "markdown",
   "source": [
    "**Заметим, что np.row_stack и np.column_stack возвращают результат, не меняя саму матрицу.**"
   ],
   "metadata": {
    "id": "uYjUFqQk2mxs"
   }
  },
  {
   "cell_type": "markdown",
   "metadata": {
    "id": "ZmctpRsxzvBD"
   },
   "source": [
    "### Транспонирование\n",
    "Транспонируем Qmatr с помощью transpose()."
   ]
  },
  {
   "cell_type": "code",
   "metadata": {
    "id": "IHRiq2GizvBD",
    "colab": {
     "base_uri": "https://localhost:8080/"
    },
    "outputId": "38d1d6c4-f635-4a69-f53c-3ca54e124097",
    "ExecuteTime": {
     "end_time": "2024-01-12T17:58:50.839783Z",
     "start_time": "2024-01-12T17:58:50.437572Z"
    }
   },
   "source": [
    "np.transpose(Qmatr)"
   ],
   "execution_count": 17,
   "outputs": [
    {
     "data": {
      "text/plain": "array([[ 2,  3,  4,  5,  6,  7],\n       [ 4,  6,  8, 10, 12, 14],\n       [ 6,  9, 12, 15, 18, 21],\n       [ 8, 12, 16, 20, 24, 28],\n       [10, 15, 20, 25, 30, 35],\n       [12, 18, 24, 30, 36, 42],\n       [14, 21, 28, 35, 42, 49],\n       [16, 24, 32, 40, 48, 56]])"
     },
     "execution_count": 17,
     "metadata": {},
     "output_type": "execute_result"
    }
   ]
  },
  {
   "cell_type": "code",
   "source": [
    "Qmatr.T"
   ],
   "metadata": {
    "colab": {
     "base_uri": "https://localhost:8080/"
    },
    "id": "3vmsJh8gJyHo",
    "outputId": "787bd53c-0ac7-4937-91ae-76391ebdfc31",
    "ExecuteTime": {
     "end_time": "2024-01-12T17:58:50.842730Z",
     "start_time": "2024-01-12T17:58:50.462904Z"
    }
   },
   "execution_count": 18,
   "outputs": [
    {
     "data": {
      "text/plain": "array([[ 2,  3,  4,  5,  6,  7],\n       [ 4,  6,  8, 10, 12, 14],\n       [ 6,  9, 12, 15, 18, 21],\n       [ 8, 12, 16, 20, 24, 28],\n       [10, 15, 20, 25, 30, 35],\n       [12, 18, 24, 30, 36, 42],\n       [14, 21, 28, 35, 42, 49],\n       [16, 24, 32, 40, 48, 56]])"
     },
     "execution_count": 18,
     "metadata": {},
     "output_type": "execute_result"
    }
   ]
  },
  {
   "cell_type": "markdown",
   "source": [
    "## Работа с файлами.\n",
    "\n",
    "### Чтение из файла с pandas\n",
    "Данные, представленные в виде таблицы обычно хранятся в файле .xlsx или .csv.\n",
    "Работать с данными, записанными в файлы такого типа, будем с помощью пакета pandas,\n",
    "в нем нам понадобится функция\n",
    "**pandas.read_excel**\n",
    "\n",
    "pandas.read_excel(io, sheet_name=0, header=0, names=None, index_col=None, usecols=None, squeeze=False, dtype=None, engine=None, converters=None, true_values=None, false_values=None, skiprows=None, nrows=None, na_values=None, keep_default_na=True, na_filter=True, verbose=False, parse_dates=False, date_parser=None, thousands=None, comment=None, skipfooter=0, convert_float=True, mangle_dupe_cols=True, storage_options=None)\n",
    "\n",
    "Подробности смотрите здесь:\n",
    "\n",
    "https://pandas.pydata.org/pandas-docs/stable/reference/api/pandas.read_excel.html\n",
    "\n",
    "\n",
    "## Пример 1\n",
    "Считать из файла 'SLAE_1.xlsx' матрицу левой части и столбец правой части и вывести их на экран."
   ],
   "metadata": {
    "id": "zMlVkQVxQ_Kx"
   }
  },
  {
   "cell_type": "code",
   "source": [
    "from google.colab import files\n",
    "import pandas as pd\n",
    "uploaded = files.upload() # загружаем нужные файлы, обращаться к ним будем по имени\n",
    "for file_name in uploaded.keys():\n",
    "    print(f'Загружен файл {file_name}')\n",
    "\n",
    "Adf = pd.read_excel(file_name, sheet_name='A', header=None)\n",
    "bdf = pd.read_excel(file_name, sheet_name='b', header=None)\n",
    "print(Adf, bdf, sep='\\n')"
   ],
   "metadata": {
    "colab": {
     "base_uri": "https://localhost:8080/",
     "height": 368
    },
    "id": "te06313WRSSW",
    "outputId": "0e32eb6e-0b1d-49ce-cd89-8709f04b89a9",
    "ExecuteTime": {
     "end_time": "2024-01-12T17:58:52.356707Z",
     "start_time": "2024-01-12T17:58:50.486334Z"
    }
   },
   "execution_count": 19,
   "outputs": [
    {
     "ename": "ModuleNotFoundError",
     "evalue": "No module named 'google'",
     "output_type": "error",
     "traceback": [
      "\u001B[0;31m---------------------------------------------------------------------------\u001B[0m",
      "\u001B[0;31mModuleNotFoundError\u001B[0m                       Traceback (most recent call last)",
      "Cell \u001B[0;32mIn[19], line 1\u001B[0m\n\u001B[0;32m----> 1\u001B[0m \u001B[38;5;28;01mfrom\u001B[39;00m \u001B[38;5;21;01mgoogle\u001B[39;00m\u001B[38;5;21;01m.\u001B[39;00m\u001B[38;5;21;01mcolab\u001B[39;00m \u001B[38;5;28;01mimport\u001B[39;00m files\n\u001B[1;32m      2\u001B[0m \u001B[38;5;28;01mimport\u001B[39;00m \u001B[38;5;21;01mpandas\u001B[39;00m \u001B[38;5;28;01mas\u001B[39;00m \u001B[38;5;21;01mpd\u001B[39;00m\n\u001B[1;32m      3\u001B[0m uploaded \u001B[38;5;241m=\u001B[39m files\u001B[38;5;241m.\u001B[39mupload() \u001B[38;5;66;03m# загружаем нужные файлы, обращаться к ним будем по имени\u001B[39;00m\n",
      "\u001B[0;31mModuleNotFoundError\u001B[0m: No module named 'google'"
     ]
    }
   ]
  },
  {
   "cell_type": "markdown",
   "source": [
    "Из файла мы считали матрицу и столбец в виде DataFrame, эта структура данных содержит не только значения элементов матрицы или столбца, но и подписи строк и столбцов (index и columns). Выделим саму матрицу и столбец $b$."
   ],
   "metadata": {
    "id": "cKNryJvgS9F-"
   }
  },
  {
   "cell_type": "code",
   "source": [
    "print(Adf.values, bdf.values, sep='\\n')"
   ],
   "metadata": {
    "colab": {
     "base_uri": "https://localhost:8080/"
    },
    "id": "ZsTZ3P3iTiVX",
    "outputId": "923b9167-5956-4d22-d907-60e435dd4413",
    "ExecuteTime": {
     "start_time": "2024-01-12T17:58:52.336913Z"
    }
   },
   "execution_count": null,
   "outputs": []
  },
  {
   "cell_type": "markdown",
   "source": [
    "Однако вместо атрибута .values рекомендуется использовать метод .to_numpy() (см.\n",
    "https://pandas.pydata.org/pandas-docs/stable/reference/api/pandas.DataFrame.to_numpy.html#pandas.DataFrame.to_numpy)\n",
    "\n",
    "Решим СЛАУ $AX=b$ и выведем полученное решение на экран"
   ],
   "metadata": {
    "id": "F34hEUNTTyqh"
   }
  },
  {
   "cell_type": "code",
   "source": [
    "A = Adf.to_numpy()\n",
    "b = bdf.to_numpy()\n",
    "X = linalg.solve(A, b)\n",
    "print(X.T)"
   ],
   "metadata": {
    "colab": {
     "base_uri": "https://localhost:8080/"
    },
    "id": "YuL3dtqPUsZX",
    "outputId": "4199048d-589f-4422-d0a1-7836653abb5e",
    "ExecuteTime": {
     "end_time": "2024-01-12T18:52:48.556510Z",
     "start_time": "2024-01-12T18:52:48.466342Z"
    }
   },
   "execution_count": 20,
   "outputs": [
    {
     "ename": "NameError",
     "evalue": "name 'Adf' is not defined",
     "output_type": "error",
     "traceback": [
      "\u001B[0;31m---------------------------------------------------------------------------\u001B[0m",
      "\u001B[0;31mNameError\u001B[0m                                 Traceback (most recent call last)",
      "Cell \u001B[0;32mIn[20], line 1\u001B[0m\n\u001B[0;32m----> 1\u001B[0m A \u001B[38;5;241m=\u001B[39m Adf\u001B[38;5;241m.\u001B[39mto_numpy()\n\u001B[1;32m      2\u001B[0m b \u001B[38;5;241m=\u001B[39m bdf\u001B[38;5;241m.\u001B[39mto_numpy()\n\u001B[1;32m      3\u001B[0m X \u001B[38;5;241m=\u001B[39m linalg\u001B[38;5;241m.\u001B[39msolve(A, b)\n",
      "\u001B[0;31mNameError\u001B[0m: name 'Adf' is not defined"
     ]
    }
   ]
  },
  {
   "cell_type": "markdown",
   "source": [
    "## Запись в файл\n",
    "Для записи в файл используется метод to_excel класса DataFrame из pandas.\n",
    "```\n",
    "df.to_excel(file_name)\n",
    "```\n",
    "Здесь df это DataFrame из pandas, этот объект нам нужно создать на основе наших данных, указав при необходимости надписи строк и столбцов. Матрица $A$ и столбец $b$ у нас есть в виде DataFrame, это считанные из файла Adf и bdf. Нам надо получить DataFrame из $X$.\n"
   ],
   "metadata": {
    "id": "3qeYPS09SpnO"
   }
  },
  {
   "cell_type": "code",
   "source": [
    "Xdf = pd.DataFrame(X)"
   ],
   "metadata": {
    "id": "5oUM59_9Wr60",
    "ExecuteTime": {
     "start_time": "2024-01-12T17:58:52.347820Z"
    }
   },
   "execution_count": null,
   "outputs": []
  },
  {
   "cell_type": "markdown",
   "source": [
    "Запишем полученное решение в формеDataFrame в файл  'SLAE_1.xlsx' на лист $X$. Аргумент mode='a' нужен для того, чтобы в файл был добавлен новый лист, а все, что уже было, сохранилось."
   ],
   "metadata": {
    "id": "2ZmVrUBaVmDZ"
   }
  },
  {
   "cell_type": "code",
   "source": [
    "with pd.ExcelWriter(file_name, mode='a') as writer:\n",
    "    Xdf.to_excel(writer, sheet_name='X', header=False, index=False)"
   ],
   "metadata": {
    "id": "yscxvqbRXNqi",
    "ExecuteTime": {
     "start_time": "2024-01-12T17:58:52.348924Z"
    }
   },
   "execution_count": null,
   "outputs": []
  },
  {
   "cell_type": "markdown",
   "source": [
    "Скачать полученный файл можно так:"
   ],
   "metadata": {
    "id": "X90igdVZYFp1"
   }
  },
  {
   "cell_type": "code",
   "source": [
    "files.download(file_name)"
   ],
   "metadata": {
    "colab": {
     "base_uri": "https://localhost:8080/",
     "height": 17
    },
    "id": "VLjndxBzYKD_",
    "outputId": "08fb7755-943c-4e1f-fe72-a73773ef9a84",
    "ExecuteTime": {
     "start_time": "2024-01-12T17:58:52.349607Z"
    }
   },
   "execution_count": null,
   "outputs": []
  }
 ]
}
