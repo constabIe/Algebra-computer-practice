{
 "nbformat": 4,
 "nbformat_minor": 0,
 "metadata": {
  "kernelspec": {
   "display_name": "Python 3",
   "language": "python",
   "name": "python3"
  },
  "language_info": {
   "codemirror_mode": {
    "name": "ipython",
    "version": 3
   },
   "file_extension": ".py",
   "mimetype": "text/x-python",
   "name": "python",
   "nbconvert_exporter": "python",
   "pygments_lexer": "ipython3",
   "version": "3.7.3"
  },
  "colab": {
   "provenance": []
  }
 },
 "cells": [
  {
   "cell_type": "markdown",
   "metadata": {
    "id": "KqMzidc80GGB"
   },
   "source": [
    "# Практическое занятие 8\n",
    "# Компьютерный практикум по алгебре на Python\n",
    "## Численное решение систем линейных алгебраических уравнений (СЛАУ) с numpy."
   ]
  },
  {
   "cell_type": "markdown",
   "metadata": {
    "id": "675Fb5ND0GGK"
   },
   "source": [
    "https://numpy.org/doc/stable/reference/routines.linalg.html"
   ]
  },
  {
   "cell_type": "code",
   "metadata": {
    "id": "TNk5d0Si0GGK",
    "ExecuteTime": {
     "end_time": "2024-02-04T17:47:44.424224Z",
     "start_time": "2024-02-04T17:47:44.403452Z"
    }
   },
   "source": [
    "import numpy as np\n",
    "from numpy import linalg\n",
    "import pandas as pd\n",
    "\n",
    "from IPython.display import display, Latex, Math\n",
    "from sympy import latex\n",
    "# from google.colab import files"
   ],
   "execution_count": 2,
   "outputs": []
  },
  {
   "cell_type": "markdown",
   "metadata": {
    "id": "dMGJ1uQC0GGM"
   },
   "source": [
    "### Задание 1.\n",
    "Решить СЛАУ с помощью linalg.solve() и выполнить проверку.\n",
    "$$\n",
    "\\left\\{\n",
    "\\begin{matrix}\n",
    "-x+5y-3z=8\\\\\n",
    "4x-y+5z=-1\\\\\n",
    "3x+4y+5z=10\n",
    "\\end{matrix}\n",
    "\\right.\n",
    "$$"
   ]
  },
  {
   "cell_type": "code",
   "source": [
    "A = np.array([[-1, 5, -3], [4, -1, 5], [3, 4, 5]])\n",
    "b = np.array([8, -1, 10])\n",
    "\n",
    "slv = linalg.solve(A, b)\n",
    "display(A @ slv == b)\n",
    "display(np.allclose(A @ slv, b))"
   ],
   "metadata": {
    "id": "sNsDjz5jHQDb",
    "outputId": "552e53de-de97-41dc-de24-7c30896bc836",
    "ExecuteTime": {
     "end_time": "2024-02-04T17:47:46.870707Z",
     "start_time": "2024-02-04T17:47:46.829017Z"
    }
   },
   "execution_count": 3,
   "outputs": [
    {
     "data": {
      "text/plain": "array([ True,  True,  True])"
     },
     "metadata": {},
     "output_type": "display_data"
    },
    {
     "data": {
      "text/plain": "True"
     },
     "metadata": {},
     "output_type": "display_data"
    }
   ]
  },
  {
   "cell_type": "markdown",
   "source": [
    "### Задание 2.\n",
    "Определить с помощью Теоремы Кронекера-Капелли и linalg.matrix_rank, совместна ли СЛАУ\n",
    "$$\n",
    "\\left\\{\n",
    "\\begin{matrix}\n",
    "-x+5y-3z=8\\\\\n",
    "4x-y+5z=-1\\\\\n",
    "3x+4y+2z=7\n",
    "\\end{matrix}\n",
    "\\right.\n",
    "$$\n",
    "\n",
    "Сделать вывод о числе решений (текстом)"
   ],
   "metadata": {
    "id": "E6-UJMGKB8Ej"
   }
  },
  {
   "cell_type": "code",
   "source": [
    "A = np.array([[-1, 5, -3], [4, -1, 5], [3, 4, 2]])\n",
    "b = np.array([8, -1, 7])\n",
    "\n",
    "rg_A = linalg.matrix_rank(A)\n",
    "rg_Ab = linalg.matrix_rank(np.column_stack((A, b)))\n",
    "display(Latex(fr'$rgA = rgA|b = \\text{rg_Ab} \\wedge \\text{{linalg.solve(A, b) выдает LinAlgError: Singular matrix}} \\Rightarrow \\text{{СЛАУ имеет более одного решения}}$'))\n"
   ],
   "metadata": {
    "id": "vWDsIP4VHRoa",
    "outputId": "d038d66b-0988-4d49-b664-bf5d4c2d7697",
    "ExecuteTime": {
     "end_time": "2024-02-04T17:47:56.539679Z",
     "start_time": "2024-02-04T17:47:56.515825Z"
    }
   },
   "execution_count": 5,
   "outputs": [
    {
     "data": {
      "text/plain": "<IPython.core.display.Latex object>",
      "text/latex": "$rgA = rgA|b = \\text2 \\wedge \\text{linalg.solve(A, b) выдает LinAlgError: Singular matrix} \\Rightarrow \\text{СЛАУ имеет более одного решения}$"
     },
     "metadata": {},
     "output_type": "display_data"
    }
   ]
  },
  {
   "cell_type": "markdown",
   "metadata": {
    "id": "m8SPA6yz0GGP"
   },
   "source": [
    "### Задание 3\n",
    "В расширенной матрице СЛАУ из Задания 2\n",
    "\n",
    "1) выделить матрицу левой части\n",
    "\n",
    "2) выделить столбец правой части\n",
    "\n",
    "3) транспонировать матрицу, полученную в 1)\n",
    "\n",
    "4) получить расширенную матрицу из матрицы 3) и столбца 2)\n",
    "\n",
    "5) создать на основе списочного выражения np.array $3\\times 4$ из расположенных в шахматном порядке чисел 1 и $-1$."
   ]
  },
  {
   "cell_type": "code",
   "source": [
    "Ab = np.column_stack((A, b))\n",
    "\n",
    "A = Ab[:3, :3]\n",
    "b = Ab[:3, -1]\n",
    "A_transposed = np.transpose(A)\n",
    "expanded = np.column_stack((A_transposed, b))\n",
    "chess = np.array([[(-1) ** (i + j) for i in range(1, 5)] for j in range(1, 4)])\n",
    "print('1) ', A, '2)', b, '3)', A_transposed, '4)', expanded, '5)', chess, sep='\\n')"
   ],
   "metadata": {
    "id": "LtWnxmLdHVA0",
    "outputId": "e0620dfa-e69c-4d17-b70f-adf0ef3efba2",
    "ExecuteTime": {
     "end_time": "2024-02-04T17:48:02.212399Z",
     "start_time": "2024-02-04T17:48:02.179553Z"
    }
   },
   "execution_count": 6,
   "outputs": [
    {
     "name": "stdout",
     "output_type": "stream",
     "text": [
      "1) \n",
      "[[-1  5 -3]\n",
      " [ 4 -1  5]\n",
      " [ 3  4  2]]\n",
      "2)\n",
      "[ 8 -1  7]\n",
      "3)\n",
      "[[-1  4  3]\n",
      " [ 5 -1  4]\n",
      " [-3  5  2]]\n",
      "4)\n",
      "[[-1  4  3  8]\n",
      " [ 5 -1  4 -1]\n",
      " [-3  5  2  7]]\n",
      "5)\n",
      "[[ 1 -1  1 -1]\n",
      " [-1  1 -1  1]\n",
      " [ 1 -1  1 -1]]\n"
     ]
    }
   ]
  },
  {
   "cell_type": "markdown",
   "source": [
    "### Задание 4.\n",
    "Исследовать на совместность СЛАУ с параметром $a$ при значениях параметра $a=-1$, $a=0$ и $a=1$ и найти решение, если оно единственно и провести проверку подстановкой.\n",
    "$$\n",
    "\\left\\{\n",
    "\\begin{matrix}\n",
    "-x+5y-3z=8a\\\\\n",
    "4x-ay+5z=-a\\\\\n",
    "3x+4y+2z=5a\n",
    "\\end{matrix}\n",
    "\\right.\n",
    "$$\n",
    "**Указание** - описать функцию check_SLAE от аргументов $A$ и $b$ (матрица левой части и столбец правой части), которая возвращает 0 для несовместной СЛАУ, 1 для совместной СЛАУ с единственным решением и 2 в остальных случаях.\n",
    "\n",
    "Затем в цикле по значениям параметра $a$ проверять с помощью check_SLAE совместность и единственность решения СЛАУ и выводить на экран значение параметра и решение СЛАУ, если оно существует и единственно или \"решений нет\" или \"решение не единственно\"."
   ],
   "metadata": {
    "id": "3ezovPlhQWdy"
   }
  },
  {
   "cell_type": "code",
   "source": [
    "def check_SLAE(A, b):\n",
    "    if linalg.matrix_rank(A) != linalg.matrix_rank(np.column_stack((A, b))):\n",
    "        return 0\n",
    "    elif linalg.matrix_rank(A) == linalg.matrix_rank(np.column_stack((A, b))):\n",
    "        return 1\n",
    "    \n",
    "    return 2\n",
    "\n",
    "for a in [-1, 0, 1]:\n",
    "    A = np.array([[-1, 5, -3], [4, -a, 5], [3, 4, 2]])\n",
    "    b = np.array([8 * a, -a, 5 * a])\n",
    "    \n",
    "    flag = check_SLAE(A, b)\n",
    "    if flag == 0:\n",
    "        print(f'при a = {a} решений нет')\n",
    "    elif flag == 1:\n",
    "        print(f'при a = {a} ', linalg.solve(A, b))\n",
    "    else:\n",
    "        print(f'при a = {a} решение не единственно')"
   ],
   "metadata": {
    "id": "M6GbeBFMHWqB",
    "ExecuteTime": {
     "end_time": "2024-02-04T17:48:51.015738Z",
     "start_time": "2024-02-04T17:48:50.990774Z"
    }
   },
   "execution_count": 7,
   "outputs": [
    {
     "name": "stdout",
     "output_type": "stream",
     "text": [
      "при a = -1  [-1.28571429 -1.          1.42857143]\n",
      "при a = 0  [ 0.  0. -0.]\n",
      "при a = 1 решений нет\n"
     ]
    }
   ]
  },
  {
   "cell_type": "markdown",
   "source": [
    "### Задание 5.\n",
    "Считать из файла 'SLAE_5.xlsx' матрицу левой части и столбец правой части с листов 'A5' и 'b5' и вывести их на экран.\n",
    "\n",
    "Решить СЛАУ $AX=b$ и вывести полученное решение на экран.\n",
    "\n",
    "Записать полученное решение в файл  'SLAE_5.xlsx' на лист 'X5'.\n",
    "\n",
    "Скачать полученный файл."
   ],
   "metadata": {
    "id": "AlxPOVRAYm_5"
   }
  },
  {
   "cell_type": "code",
   "source": [
    "uploaded = files.upload()\n",
    "for fn in uploaded.keys():\n",
    "    print(f'The file {fn} has been uploaded')\n",
    "    Adf = pd.read_excel(fn, sheet_name='A5', header=None)\n",
    "    bdf = pd.read_excel(fn, sheet_name='b5', header=None)\n",
    "    print(A, b, sep='\\n')\n",
    "\n",
    "A = Adf.to_numpy()\n",
    "b = bdf.to_numpy()\n",
    "\n",
    "X = linalg.solve(A_arr, b_arr)\n",
    "Xdf = pd.DataFrame(X)\n",
    "with pd.ExcelWriter(fn, mode='a') as writer:\n",
    "    Xdf.to_excel(writer, sheet_name='X5', header=False, index=False)\n",
    "\n",
    "files.download(fn)"
   ],
   "metadata": {
    "id": "A5k0VYVtHZLO",
    "colab": {
     "base_uri": "https://localhost:8080/",
     "height": 177
    },
    "outputId": "126471e7-bd14-4309-fb62-d1271715352d",
    "ExecuteTime": {
     "end_time": "2024-02-04T17:47:32.972595Z",
     "start_time": "2024-02-04T17:47:32.909922Z"
    }
   },
   "execution_count": null,
   "outputs": []
  },
  {
   "cell_type": "markdown",
   "metadata": {
    "id": "PtPxOU3a0GGR"
   },
   "source": [
    "### Индивидуальное задание.\n",
    "Исследовать на совместность СЛАУ с параметром $a$ при заданных значениях параметра $a$ и найти решение, если оно единственно и провести проверку подстановкой.\n",
    "\n",
    "На листы 'A1', 'A2' и т.п. файла 'Name_Ind_8_SLAE.xlsx' записать матрицы при заданных значениях параметра $a$, на листы 'b1', 'b2' и т.п. столбцы правой части СЛАУ, на листы 'X1', 'X2' и т.п. решения СЛАУ (если оно существует!).\n"
   ]
  },
  {
   "cell_type": "markdown",
   "source": [
    "N 175\n",
    "\\begin{align*}\n",
    " A = \\left[\\begin{matrix}4 & a & -7 & 8\\\\-3 & 5 & -7 & -9\\\\0 & -3 & 8 & -5\\\\-15 & -19 & 14 & -33\\end{matrix}\\right],\n",
    "    \\qquad b = \\left[\\begin{matrix}-20\\\\-45\\\\37\\\\27\\end{matrix}\\right], \\alpha = 2, \\alpha = 8, \\alpha = 9.\n",
    " \\end{align*}"
   ],
   "metadata": {
    "collapsed": false,
    "id": "gm7PSLYAv7zf"
   }
  },
  {
   "cell_type": "code",
   "source": [
    "uploaded = files.upload()\n",
    "\n",
    "for name in uploaded.keys():\n",
    "    with pd.ExcelWriter(name, mode='w') as f:\n",
    "        a = [2, 8, 9]\n",
    "        for i in range(len(a)):\n",
    "            A = np.array([[4, a[i], -7, 8], [-3, 5, -7, -9], [0, -3, 8, -5], [-15, -19, 14, -33]])\n",
    "            b = np.array([-20, -45, 37, 27])\n",
    "\n",
    "            Adf = pd.DataFrame(A)\n",
    "            Adf.to_excel(f, sheet_name='A' + str(i + 1), header=False, index=False)\n",
    "\n",
    "            bdf = pd.DataFrame(b)\n",
    "            bdf.to_excel(f, sheet_name='b' + str(i + 1), header=False, index=False)\n",
    "\n",
    "            if linalg.matrix_rank(A) == linalg.matrix_rank(np.column_stack((A, b))):\n",
    "                X = linalg.solve(A, b)\n",
    "                Xdf = pd.DataFrame(X)\n",
    "                Xdf.to_excel(f, sheet_name='X' + str(i + 1), header=False, index=False)\n",
    "    files.download(name)"
   ],
   "metadata": {
    "id": "clATXRkyHZ8I",
    "colab": {
     "base_uri": "https://localhost:8080/",
     "height": 73
    },
    "outputId": "c3cfc9cd-79f9-4d13-bd19-141f9d9e21fb",
    "ExecuteTime": {
     "start_time": "2024-02-04T17:47:32.914822Z"
    }
   },
   "execution_count": null,
   "outputs": []
  }
 ]
}
