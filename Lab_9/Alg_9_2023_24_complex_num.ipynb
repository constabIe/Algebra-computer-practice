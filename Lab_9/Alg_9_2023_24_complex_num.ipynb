{
  "cells": [
    {
      "cell_type": "code",
      "execution_count": null,
      "metadata": {
        "id": "8R_hWp04kHRB"
      },
      "outputs": [],
      "source": [
        "import numpy as np\n",
        "import sympy\n",
        "from sympy import I, latex, S\n",
        "from IPython.display import display, Latex\n",
        "import matplotlib.pyplot as plt"
      ]
    },
    {
      "cell_type": "markdown",
      "metadata": {
        "id": "gJosfznxkHRH"
      },
      "source": [
        "# Практическое занятие 9\n",
        "# Компьютерный практикум по алгебре на Python\n",
        "## Комплексные числа в sympy\n",
        "\n",
        "### Алгебраическая форма комплексного числа\n",
        "$z = a + bi$, $a$ и $b$ вещественные числа, $i=\\sqrt{-1}$ мнимая единица, $z$ - комплексное число. В Sympy мнимая единица записывается $I$, в Python $j$.\n",
        "### Пример 1.\n",
        "Даны комплексные числа\n",
        "$$\n",
        "z_1 = 2 + 3i,\\quad z_2 = -3 + i,\\quad z_3 = 5i,\\quad z_4 = -i,\\quad z_5 = -5 - 10i,\n",
        "$$\n",
        "вычислить\n",
        "$$\n",
        "3z_1 - 5z_2,\\quad z_2^2 - 3z_1^3,\\quad \\sqrt{z_3},\\quad z_4^{1 / 6},\\quad z_5^{-2 / 7}.\n",
        "$$"
      ]
    },
    {
      "cell_type": "code",
      "execution_count": null,
      "metadata": {
        "id": "N_By06mUkHRK",
        "outputId": "9dddb77f-d45c-43ee-8f40-96fe1fe54d19",
        "colab": {
          "base_uri": "https://localhost:8080/",
          "height": 47
        }
      },
      "outputs": [
        {
          "output_type": "display_data",
          "data": {
            "text/plain": [
              "<IPython.core.display.Latex object>"
            ],
            "text/latex": "\\text{Комплексные числа } 21 + 4 i\\quad - 3 \\left(2 + 3 i\\right)^{3} + \\left(-3 + i\\right)^{2}\\quad \\sqrt{5} \\sqrt{i}\\quad \\sqrt[6]{- i}\\quad \\frac{1}{\\left(-5 - 10 i\\right)^{\\frac{2}{7}}}\\quad "
          },
          "metadata": {}
        }
      ],
      "source": [
        "z1 = 2 + 3 * I\n",
        "z2 = -3 + I\n",
        "z3 = 5 * I\n",
        "z4 = -I\n",
        "z5 = -5 - 10 * I\n",
        "complex_numbers = (3 * z1 - 5 * z2, z2 ** 2 - 3 * z1 ** 3, z3 ** sympy.S.Half,\n",
        "                   z4 ** (sympy.S(1) / 6), z5 ** (-sympy.S(2) / 7))\n",
        "display(Latex((r'\\text{{Комплексные числа }} ' +\\\n",
        "'{}\\quad ' * len(complex_numbers)).format(*map(latex,\n",
        "                                                complex_numbers))))"
      ]
    },
    {
      "cell_type": "markdown",
      "metadata": {
        "id": "LvFkLhzOkHRM"
      },
      "source": [
        "Упростим выражения $z_2^2 - 3z_1^3$ и $z_5^{-2 / 7}$:"
      ]
    },
    {
      "cell_type": "code",
      "execution_count": null,
      "metadata": {
        "id": "rL6_pMZWkHRN",
        "outputId": "d3e515d5-0b5d-40b5-a4e8-5f0f70a9cd04",
        "colab": {
          "base_uri": "https://localhost:8080/",
          "height": 52
        }
      },
      "outputs": [
        {
          "output_type": "display_data",
          "data": {
            "text/plain": [
              "<IPython.core.display.Latex object>"
            ],
            "text/latex": "- 3 \\left(2 + 3 i\\right)^{3} + \\left(-3 + i\\right)^{2} = 146 - 33 i,\\qquad \\frac{1}{\\left(-5 - 10 i\\right)^{\\frac{2}{7}}} = \\frac{5^{\\frac{5}{7}}}{5 \\left(-1 - 2 i\\right)^{\\frac{2}{7}}}"
          },
          "metadata": {}
        }
      ],
      "source": [
        "expr_z2 = z2 ** 2 - 3 * z1 ** 3\n",
        "expr_z5 = z5 ** (-sympy.S(2) / 7)\n",
        "display(Latex('{0} = {1},\\qquad {2} = {3}'.format(*map(latex, (expr_z2,\n",
        "                                         expr_z2.simplify(),\n",
        "                                         expr_z5, expr_z5.simplify())))))"
      ]
    },
    {
      "cell_type": "markdown",
      "metadata": {
        "id": "drUt4IahkHRN"
      },
      "source": [
        "Первое выражение получились в алгебраической форме, а второе нет. Приведем в подходящий вид второе выражение немного позже.\n",
        "### Пример 2.\n",
        "Вычисления Примера 1 проделаем для мнимой единицы из Python (numpy использует комплексные числа Python, своих отдельных нет). Для получения комплексных чисел в Python есть встроенная функция complex с аргументами - вещественной и мнимой частями комплексного числа."
      ]
    },
    {
      "cell_type": "code",
      "execution_count": null,
      "metadata": {
        "id": "86kL4zoJkHRO",
        "outputId": "26ef0f61-4b01-4f98-efe3-a742c56ca492",
        "colab": {
          "base_uri": "https://localhost:8080/"
        }
      },
      "outputs": [
        {
          "output_type": "stream",
          "name": "stdout",
          "text": [
            "(21+4j), (146-33j), (1.5811388300841898+1.5811388300841895j), (0.9659258262890683-0.25881904510252074j), (0.4193012965072991+0.2754745230972611j)\n"
          ]
        }
      ],
      "source": [
        "z1 = complex(2, 3)\n",
        "z2 = complex(-3, 1)\n",
        "z3 = complex(0, 5)\n",
        "z4 = complex(0, -1)\n",
        "z5 = complex(-5, - 10)\n",
        "print(3 * z1 - 5 * z2, z2 ** 2 - 3 * z1 ** 3, z3 ** (1 / 2),\n",
        "        z4 ** (1 / 6), z5 ** (-2 / 7), sep=', ')"
      ]
    },
    {
      "cell_type": "markdown",
      "metadata": {
        "id": "5M6I-MjZkHRP"
      },
      "source": [
        "Заметим, что у комплексного числа $n$ различных корней степени $n$, а у нас получился только один."
      ]
    },
    {
      "cell_type": "markdown",
      "metadata": {
        "id": "2EUuLswnkHRQ"
      },
      "source": [
        "### Пример 3.\n",
        "Для получения всех корней $n$-й степени комплексного числа в sympy есть функция root, ее аргументы - число (или выражение), степень корня и необязательный параметр - номер корня, по умолчанию 0, что соответствует главном значению корня. Используем ее для получения всех четвертой степени из $1 - i$:"
      ]
    },
    {
      "cell_type": "code",
      "execution_count": null,
      "metadata": {
        "id": "7Ykn4QijkHRR",
        "outputId": "97b5331b-6220-4a8b-8a74-2f784ac9701a",
        "colab": {
          "base_uri": "https://localhost:8080/",
          "height": 38
        }
      },
      "outputs": [
        {
          "output_type": "display_data",
          "data": {
            "text/plain": [
              "<IPython.core.display.Latex object>"
            ],
            "text/latex": "\\left[ \\sqrt[4]{1 - i}, \\  i \\sqrt[4]{1 - i}, \\  - \\sqrt[4]{1 - i}, \\  - i \\sqrt[4]{1 - i}\\right]"
          },
          "metadata": {}
        }
      ],
      "source": [
        "n = 4\n",
        "roots_list_3 = [sympy.root(1 - I, n, k) for k in range(n)]\n",
        "display(Latex(latex(roots_list_3)))"
      ]
    },
    {
      "cell_type": "markdown",
      "source": [
        "Для экономии памяти (имеет смысл в случае списка большой длины) можно использовать вместо списка генераторы, но нужно помнить, что это одноразовые объекты, их стоит создавать на месте, а не записывать в переменные."
      ],
      "metadata": {
        "id": "RyDn0D7vtvdz"
      }
    },
    {
      "cell_type": "code",
      "source": [
        "display(Latex('{0}, {1}, {2}, {3}'.format(*map(latex,\\\n",
        "                                (sympy.root(1 - I, n, k) for k in range(n))))))"
      ],
      "metadata": {
        "colab": {
          "base_uri": "https://localhost:8080/",
          "height": 38
        },
        "id": "PFzW6WTctaoN",
        "outputId": "ead290ff-4b68-420f-9c7e-ac4f9039df94"
      },
      "execution_count": null,
      "outputs": [
        {
          "output_type": "display_data",
          "data": {
            "text/plain": [
              "<IPython.core.display.Latex object>"
            ],
            "text/latex": "\\sqrt[4]{1 - i}, i \\sqrt[4]{1 - i}, - \\sqrt[4]{1 - i}, - i \\sqrt[4]{1 - i}"
          },
          "metadata": {}
        }
      ]
    },
    {
      "cell_type": "markdown",
      "source": [
        "Нехорошо явно перечислять количество корней в части '{0}, {1}, {2}, {3}', ведь впоследствии может понадобиться найти пять корней пятой степени или два корня второй. Для более универсальной организации вывода корней на экран можем воспользоваться автоматическим формированием строки с помощью метода строк join. Строка, к которой применяется метод join, используется в качестве разделителя."
      ],
      "metadata": {
        "id": "MiNehETQwisN"
      }
    },
    {
      "cell_type": "code",
      "source": [
        "display(Latex(',\\ '.join(['{}'] * n).format(*map(latex,\\\n",
        "                                (sympy.root(1 - I, n, k) for k in range(n))))))"
      ],
      "metadata": {
        "colab": {
          "base_uri": "https://localhost:8080/",
          "height": 38
        },
        "id": "8PR3S2kFX7ah",
        "outputId": "760ab577-28c7-410e-8774-2b61a23a6775"
      },
      "execution_count": null,
      "outputs": [
        {
          "output_type": "display_data",
          "data": {
            "text/plain": [
              "<IPython.core.display.Latex object>"
            ],
            "text/latex": "\\sqrt[4]{1 - i},\\ i \\sqrt[4]{1 - i},\\ - \\sqrt[4]{1 - i},\\ - i \\sqrt[4]{1 - i}"
          },
          "metadata": {}
        }
      ]
    },
    {
      "cell_type": "markdown",
      "metadata": {
        "id": "uz4ecfyVkHRS"
      },
      "source": [
        "Для получения значения выражения, содержащего комплексные числа, в алгебраической форме можно использовать функцию expand_complex:"
      ]
    },
    {
      "cell_type": "code",
      "source": [
        "display(*map(Latex, map(latex, map(sympy.expand_complex, roots_list_3))))"
      ],
      "metadata": {
        "colab": {
          "base_uri": "https://localhost:8080/",
          "height": 104
        },
        "id": "wOlrBExo690d",
        "outputId": "002a062a-14b0-416d-ccc4-e061000c386b"
      },
      "execution_count": null,
      "outputs": [
        {
          "output_type": "display_data",
          "data": {
            "text/plain": [
              "<IPython.core.display.Latex object>"
            ],
            "text/latex": "\\sqrt[8]{2} \\cos{\\left(\\frac{\\pi}{16} \\right)} - \\sqrt[8]{2} i \\sin{\\left(\\frac{\\pi}{16} \\right)}"
          },
          "metadata": {}
        },
        {
          "output_type": "display_data",
          "data": {
            "text/plain": [
              "<IPython.core.display.Latex object>"
            ],
            "text/latex": "\\sqrt[8]{2} \\sin{\\left(\\frac{\\pi}{16} \\right)} + \\sqrt[8]{2} i \\cos{\\left(\\frac{\\pi}{16} \\right)}"
          },
          "metadata": {}
        },
        {
          "output_type": "display_data",
          "data": {
            "text/plain": [
              "<IPython.core.display.Latex object>"
            ],
            "text/latex": "- \\sqrt[8]{2} \\cos{\\left(\\frac{\\pi}{16} \\right)} + \\sqrt[8]{2} i \\sin{\\left(\\frac{\\pi}{16} \\right)}"
          },
          "metadata": {}
        },
        {
          "output_type": "display_data",
          "data": {
            "text/plain": [
              "<IPython.core.display.Latex object>"
            ],
            "text/latex": "- \\sqrt[8]{2} \\sin{\\left(\\frac{\\pi}{16} \\right)} - \\sqrt[8]{2} i \\cos{\\left(\\frac{\\pi}{16} \\right)}"
          },
          "metadata": {}
        }
      ]
    },
    {
      "cell_type": "code",
      "source": [
        "display(Latex((r',\\ '.join(['{}'] * len(roots_list_3))).format(*map(latex,\\\n",
        "                                    map(sympy.expand_complex, roots_list_3)))))"
      ],
      "metadata": {
        "colab": {
          "base_uri": "https://localhost:8080/",
          "height": 39
        },
        "id": "s8hWZQ8UY_Am",
        "outputId": "2f4e16b6-73b4-4bb8-8fb8-a79f0f49c852"
      },
      "execution_count": null,
      "outputs": [
        {
          "output_type": "display_data",
          "data": {
            "text/plain": [
              "<IPython.core.display.Latex object>"
            ],
            "text/latex": "\\sqrt[8]{2} \\cos{\\left(\\frac{\\pi}{16} \\right)} - \\sqrt[8]{2} i \\sin{\\left(\\frac{\\pi}{16} \\right)},\\ \\sqrt[8]{2} \\sin{\\left(\\frac{\\pi}{16} \\right)} + \\sqrt[8]{2} i \\cos{\\left(\\frac{\\pi}{16} \\right)},\\ - \\sqrt[8]{2} \\cos{\\left(\\frac{\\pi}{16} \\right)} + \\sqrt[8]{2} i \\sin{\\left(\\frac{\\pi}{16} \\right)},\\ - \\sqrt[8]{2} \\sin{\\left(\\frac{\\pi}{16} \\right)} - \\sqrt[8]{2} i \\cos{\\left(\\frac{\\pi}{16} \\right)}"
          },
          "metadata": {}
        }
      ]
    },
    {
      "cell_type": "code",
      "source": [
        "display(Latex((r',\\ '.join([rf'r_{k} = {{{k}}}' for k\\\n",
        "in range(len(roots_list_3))])).format(*map(latex, map(sympy.expand_complex,\n",
        "                                                      roots_list_3)))))"
      ],
      "metadata": {
        "colab": {
          "base_uri": "https://localhost:8080/",
          "height": 39
        },
        "id": "IGxZAPLUZ-rQ",
        "outputId": "1c6bc4ae-db0a-4d2b-83aa-01f29c6e43c2"
      },
      "execution_count": null,
      "outputs": [
        {
          "output_type": "display_data",
          "data": {
            "text/plain": [
              "<IPython.core.display.Latex object>"
            ],
            "text/latex": "r_0 = \\sqrt[8]{2} \\cos{\\left(\\frac{\\pi}{16} \\right)} - \\sqrt[8]{2} i \\sin{\\left(\\frac{\\pi}{16} \\right)},\\ r_1 = \\sqrt[8]{2} \\sin{\\left(\\frac{\\pi}{16} \\right)} + \\sqrt[8]{2} i \\cos{\\left(\\frac{\\pi}{16} \\right)},\\ r_2 = - \\sqrt[8]{2} \\cos{\\left(\\frac{\\pi}{16} \\right)} + \\sqrt[8]{2} i \\sin{\\left(\\frac{\\pi}{16} \\right)},\\ r_3 = - \\sqrt[8]{2} \\sin{\\left(\\frac{\\pi}{16} \\right)} - \\sqrt[8]{2} i \\cos{\\left(\\frac{\\pi}{16} \\right)}"
          },
          "metadata": {}
        }
      ]
    },
    {
      "cell_type": "markdown",
      "source": [
        "Если нужна нумерация корней с 1, то можно сделать так"
      ],
      "metadata": {
        "id": "Q2UHb1eEgWuV"
      }
    },
    {
      "cell_type": "code",
      "source": [
        "display(Latex((r',\\ '.join([rf'r_{k + 1} = {{{k}}}' for k\\\n",
        "in range(len(roots_list_3))])).format(*map(latex, map(sympy.expand_complex,\n",
        "                                                      roots_list_3)))))"
      ],
      "metadata": {
        "colab": {
          "base_uri": "https://localhost:8080/",
          "height": 39
        },
        "id": "HW5P4TYwgTbI",
        "outputId": "dcbe03a2-bdd6-4727-facc-07fd8f78741a"
      },
      "execution_count": null,
      "outputs": [
        {
          "output_type": "display_data",
          "data": {
            "text/plain": [
              "<IPython.core.display.Latex object>"
            ],
            "text/latex": "r_1 = \\sqrt[8]{2} \\cos{\\left(\\frac{\\pi}{16} \\right)} - \\sqrt[8]{2} i \\sin{\\left(\\frac{\\pi}{16} \\right)},\\ r_2 = \\sqrt[8]{2} \\sin{\\left(\\frac{\\pi}{16} \\right)} + \\sqrt[8]{2} i \\cos{\\left(\\frac{\\pi}{16} \\right)},\\ r_3 = - \\sqrt[8]{2} \\cos{\\left(\\frac{\\pi}{16} \\right)} + \\sqrt[8]{2} i \\sin{\\left(\\frac{\\pi}{16} \\right)},\\ r_4 = - \\sqrt[8]{2} \\sin{\\left(\\frac{\\pi}{16} \\right)} - \\sqrt[8]{2} i \\cos{\\left(\\frac{\\pi}{16} \\right)}"
          },
          "metadata": {}
        }
      ]
    },
    {
      "cell_type": "markdown",
      "metadata": {
        "id": "kslZigB1kHRT"
      },
      "source": [
        "### Пример 4.\n",
        "Изобразим на координатной плоскости точки, соответствующие корням из Примера 3, подпишем точки номерами корней и их формулами."
      ]
    },
    {
      "cell_type": "code",
      "source": [
        "for x, y, k_complex_z in zip(map(sympy.re, roots_list_3),\n",
        "                              map(sympy.im, roots_list_3),\n",
        "                              enumerate(roots_list_3)):\n",
        "    plt.scatter(x, y)\n",
        "    k, complex_z = k_complex_z\n",
        "    plt.annotate(f'$A_{k} = {sympy.latex(complex_z)}$',\n",
        "            xy=(x, y),\n",
        "            xytext=(x + 0.05, y - 0.05))\n",
        "plt.axis('equal')\n",
        "plt.xlabel(\"Re\")\n",
        "plt.ylabel(\"Im\")\n",
        "plt.xlim(-4, 4.5)\n",
        "plt.ylim(-1.5, 1.5)"
      ],
      "metadata": {
        "colab": {
          "base_uri": "https://localhost:8080/",
          "height": 472
        },
        "id": "kBMk_qnxht-d",
        "outputId": "273171e8-5601-4353-bcda-b6e7d70931db"
      },
      "execution_count": null,
      "outputs": [
        {
          "output_type": "execute_result",
          "data": {
            "text/plain": [
              "(-1.5, 1.5)"
            ]
          },
          "metadata": {},
          "execution_count": 60
        },
        {
          "output_type": "display_data",
          "data": {
            "text/plain": [
              "<Figure size 640x480 with 1 Axes>"
            ],
            "image/png": "[encoded data removed]"
          },
          "metadata": {}
        }
      ]
    },
    {
      "cell_type": "markdown",
      "source": [
        "Представим комплексные числа в тригонометрической форме"
      ],
      "metadata": {
        "id": "ven2FGx6j_jL"
      }
    },
    {
      "cell_type": "code",
      "source": [
        "for x, y, k_complex_z in zip(map(sympy.re, roots_list_3),\n",
        "                              map(sympy.im, roots_list_3),\n",
        "                              enumerate(roots_list_3)):\n",
        "    plt.scatter(x, y)\n",
        "    k, complex_z = k_complex_z\n",
        "    plt.annotate(f'$A_{k} = {sympy.latex(sympy.expand_complex(complex_z))}$',\n",
        "            xy=(x, y),\n",
        "            xytext=(x + 0.05, y - 0.05))\n",
        "plt.axis('equal')\n",
        "plt.xlabel(\"Re\")\n",
        "plt.ylabel(\"Im\")\n",
        "plt.xlim(-4.5, 6)\n",
        "plt.ylim(-1.5, 1.5)"
      ],
      "metadata": {
        "colab": {
          "base_uri": "https://localhost:8080/",
          "height": 472
        },
        "id": "IKKLHtbgg16I",
        "outputId": "45ea909c-acc0-498c-c65b-b5bab0fb7255"
      },
      "execution_count": null,
      "outputs": [
        {
          "output_type": "execute_result",
          "data": {
            "text/plain": [
              "(-1.5, 1.5)"
            ]
          },
          "metadata": {},
          "execution_count": 61
        },
        {
          "output_type": "display_data",
          "data": {
            "text/plain": [
              "<Figure size 640x480 with 1 Axes>"
            ],
            "image/png": "[encoded data removed]"
          },
          "metadata": {}
        }
      ]
    },
    {
      "cell_type": "markdown",
      "metadata": {
        "id": "k4YHnyTekHRU"
      },
      "source": [
        "### Пример 5.\n",
        "Для получения всех корней уравнения с учетом кратности в sympy есть функция roots (в sympy.polys.polyroots). Используем ее для получения всех корней третьей степени из $i$, эти корни являются корнями уравнения $z^3 - i = 0$:"
      ]
    },
    {
      "cell_type": "code",
      "execution_count": null,
      "metadata": {
        "id": "stbMCs4rkHRU",
        "outputId": "9a463fe1-13c5-4e59-92d4-e2efcde61541",
        "colab": {
          "base_uri": "https://localhost:8080/",
          "height": 86
        }
      },
      "outputs": [
        {
          "output_type": "display_data",
          "data": {
            "text/plain": [
              "<IPython.core.display.Latex object>"
            ],
            "text/latex": "r_0 = \\frac{\\sqrt{3}}{2} + \\frac{i}{2}"
          },
          "metadata": {}
        },
        {
          "output_type": "display_data",
          "data": {
            "text/plain": [
              "<IPython.core.display.Latex object>"
            ],
            "text/latex": "r_1 = - i"
          },
          "metadata": {}
        },
        {
          "output_type": "display_data",
          "data": {
            "text/plain": [
              "<IPython.core.display.Latex object>"
            ],
            "text/latex": "r_2 = - \\frac{\\sqrt{3}}{2} + \\frac{i}{2}"
          },
          "metadata": {}
        }
      ],
      "source": [
        "z = sympy.Symbol('z')\n",
        "display(*[Latex(f'r_{i} = {latex(item)}') for i, item in\\\n",
        "          enumerate(sympy.roots(z ** 3 - I))])"
      ]
    },
    {
      "cell_type": "markdown",
      "source": [
        "Можно вывести корни в одной строке"
      ],
      "metadata": {
        "id": "vjimF6iWmB09"
      }
    },
    {
      "cell_type": "code",
      "source": [
        "display(Latex(r',\\ '.join((f'r_{i} = {latex(item)}') for i, item in\\\n",
        "          enumerate(sympy.roots(S('w') ** 3 - I)))))"
      ],
      "metadata": {
        "colab": {
          "base_uri": "https://localhost:8080/",
          "height": 41
        },
        "id": "djQiJRJrlJEo",
        "outputId": "e2448a80-9646-4409-d87a-a879f3653c32"
      },
      "execution_count": null,
      "outputs": [
        {
          "output_type": "display_data",
          "data": {
            "text/plain": [
              "<IPython.core.display.Latex object>"
            ],
            "text/latex": "r_0 = \\frac{\\sqrt{3}}{2} + \\frac{i}{2},\\ r_1 = - i,\\ r_2 = - \\frac{\\sqrt{3}}{2} + \\frac{i}{2}"
          },
          "metadata": {}
        }
      ]
    },
    {
      "cell_type": "markdown",
      "source": [
        "Можно использовать нумерацию с единицы"
      ],
      "metadata": {
        "id": "rhdM16HxmHMX"
      }
    },
    {
      "cell_type": "code",
      "source": [
        "roots_list_5 = sympy.roots(S('w') ** 3 - I)\n",
        "display(Latex((r',\\ '.join([rf'r_{k + 1} = {{{k}}}' for k\\\n",
        "in range(len(roots_list_5))])).format(*map(latex, roots_list_5))))"
      ],
      "metadata": {
        "colab": {
          "base_uri": "https://localhost:8080/",
          "height": 41
        },
        "id": "0Tr3wmfTl5I3",
        "outputId": "3e5b514c-5193-4717-f19a-04a30de4eba7"
      },
      "execution_count": null,
      "outputs": [
        {
          "output_type": "display_data",
          "data": {
            "text/plain": [
              "<IPython.core.display.Latex object>"
            ],
            "text/latex": "r_1 = \\frac{\\sqrt{3}}{2} + \\frac{i}{2},\\ r_2 = - i,\\ r_3 = - \\frac{\\sqrt{3}}{2} + \\frac{i}{2}"
          },
          "metadata": {}
        }
      ]
    },
    {
      "cell_type": "markdown",
      "metadata": {
        "id": "Gk2s5M_okHRW"
      },
      "source": [
        "### Пример 6.\n",
        "Для получения значения выражения, содержащего комплексные числа, в алгебраической форме можно использовать функцию expand_complex, а можно выделить вещественную и мнимую часть выражения и составить из них комплексное число:"
      ]
    },
    {
      "cell_type": "code",
      "execution_count": null,
      "metadata": {
        "id": "jZez67w9kHRW",
        "outputId": "812eab68-07a4-45f1-d89f-328d37af1f7e",
        "colab": {
          "base_uri": "https://localhost:8080/",
          "height": 77
        }
      },
      "outputs": [
        {
          "output_type": "display_data",
          "data": {
            "text/plain": [
              "<IPython.core.display.Latex object>"
            ],
            "text/latex": "\\frac{1}{\\left(3 - 7 i\\right)^{\\frac{2}{7}}} = \\frac{58^{\\frac{6}{7}} \\cos{\\left(\\frac{2 \\operatorname{atan}{\\left(\\frac{7}{3} \\right)}}{7} \\right)}}{58} + \\frac{58^{\\frac{6}{7}} i \\sin{\\left(\\frac{2 \\operatorname{atan}{\\left(\\frac{7}{3} \\right)}}{7} \\right)}}{58}"
          },
          "metadata": {}
        }
      ],
      "source": [
        "res6 = (3 - 7 * I) ** (-sympy.S(2) / 7)\n",
        "display(Latex(f'{latex(res6)} = {latex(sympy.re(res6) + sympy.im(res6) * I)}'))"
      ]
    },
    {
      "cell_type": "markdown",
      "metadata": {
        "id": "Fsw6PbeUkHRX"
      },
      "source": [
        "## Тригонометрическая форма комплексного числа\n",
        "$$\n",
        "z = r(\\cos(\\varphi) + i\\sin(\\varphi)),\n",
        "$$\n",
        "где $r$  - модуль числа, $\\varphi$ - аргумент (угол)\n",
        "### Пример 7.\n",
        "Запишем в тригонометрической форме комплексное число $\\sqrt{3} - i$"
      ]
    },
    {
      "cell_type": "code",
      "execution_count": null,
      "metadata": {
        "id": "QYBNhWkFkHRX",
        "outputId": "b687a977-2774-4941-925d-d835f2a9310f",
        "colab": {
          "base_uri": "https://localhost:8080/",
          "height": 38
        }
      },
      "outputs": [
        {
          "output_type": "display_data",
          "data": {
            "text/plain": [
              "<IPython.core.display.Latex object>"
            ],
            "text/latex": "r \\left(i \\sin{\\left(\\phi \\right)} + \\cos{\\left(\\phi \\right)}\\right),\\quad r = 2,\\quad\n\\phi = - \\frac{\\pi}{6}\\text{, что при подстановке дает }2\n\\left((\\cos \\left(- \\frac{\\pi}{6}\\right)\n+ i \\sin \\left(- \\frac{\\pi}{6}\\right)\\right)"
          },
          "metadata": {}
        }
      ],
      "source": [
        "z7 = 3 ** sympy.S.Half - 1 * I\n",
        "r0 = sympy.functions.Abs(z7)\n",
        "phi0 = sympy.functions.arg(z7)\n",
        "r, phi = sympy.symbols('r phi')\n",
        "z7_trig = r * (sympy.cos(phi) + sympy.sin(phi) * I)\n",
        "display(Latex(fr\"\"\"{latex(z7_trig)},\\quad r = {latex(r0)},\\quad\n",
        "\\phi = {latex(phi0)}\\text{{, что при подстановке дает }}{latex(r0)}\n",
        "\\left((\\cos \\left({latex(phi0)}\\right)\n",
        "+ i \\sin \\left({latex(phi0)}\\right)\\right)\"\"\"))"
      ]
    },
    {
      "cell_type": "markdown",
      "metadata": {
        "id": "6s_5lI4RkHRY"
      },
      "source": [
        "Проверим подстановкой, что это то же самое число:"
      ]
    },
    {
      "cell_type": "code",
      "execution_count": null,
      "metadata": {
        "id": "HVN7hg1okHRY",
        "outputId": "fcc161d0-9191-4b40-f86c-8d8740ec5cc5",
        "colab": {
          "base_uri": "https://localhost:8080/",
          "height": 40
        }
      },
      "outputs": [
        {
          "output_type": "execute_result",
          "data": {
            "text/plain": [
              "sqrt(3) - I"
            ],
            "text/latex": "$\\displaystyle \\sqrt{3} - i$"
          },
          "metadata": {},
          "execution_count": 67
        }
      ],
      "source": [
        "z7_trig.subs({r: r0, phi: phi0})"
      ]
    },
    {
      "cell_type": "markdown",
      "metadata": {
        "id": "sM9YqGdFkHRY"
      },
      "source": [
        "### Пример 8.\n",
        "Изобразим комплексные числа $k(\\cos(k\\pi / 6) + i \\sin(k\\pi / 6)$, $k = 0, ..., 6$, заданные в тригонометрической форме, в полярной системе координат. Подписать точки $K$, $L$, $M$, $N$, $O$, $P$, $Q$."
      ]
    },
    {
      "cell_type": "code",
      "source": [
        "n = 7\n",
        "for k in range(n):\n",
        "    phi = k * np.pi / 6\n",
        "    plt.polar(phi, k, 'go')\n",
        "    plt.annotate(chr(ord('K') + k), xy=(phi, k),\n",
        "                 xytext=(phi, k), textcoords='offset points')\n",
        "plt.savefig('my_first_picture.png')"
      ],
      "metadata": {
        "colab": {
          "base_uri": "https://localhost:8080/",
          "height": 459
        },
        "id": "EzljxkPquoe0",
        "outputId": "6d5ef12d-3f71-4188-cfde-659a15aa8d41"
      },
      "execution_count": null,
      "outputs": [
        {
          "output_type": "display_data",
          "data": {
            "text/plain": [
              "<Figure size 640x480 with 1 Axes>"
            ],
            "image/png": "[encoded data removed]"
          },
          "metadata": {}
        }
      ]
    },
    {
      "cell_type": "markdown",
      "metadata": {
        "id": "OPD4S6bLkHRa"
      },
      "source": [
        "Обратим внимание, что в полярной системе координат координаты - угол и радиус (расстояние от точки о начала координат), поэтому для координат подписей к точкам тоже нужно использовать такие полярные координаты, а не $x$ и $y$.\n",
        "## Комплексно-сопряженное число\n",
        "$$\n",
        "\\bar z = a - bi\n",
        "$$\n",
        "комплексно-сопряженное число для $z = a + bi$.\n",
        "### Пример 9.\n",
        "Найдем комплексно-сопряженные числа для $-3 + 2i$, $(\\sqrt{2} - i)^3$, $(1 + i)^{1 / 3}$"
      ]
    },
    {
      "cell_type": "code",
      "source": [
        "z_array = (-3 + 2 * I,\n",
        "           (2 ** (sympy.S.Half) - 1 * I) ** 3,\n",
        "           (1 + 1 * I) ** (1 / sympy.S(3)))\n",
        "display(*[Latex(fr'z = {item},\\ \\bar z = {conjugate_item}') \\\n",
        "          for item, conjugate_item in\\\n",
        "          (map(latex, (z, sympy.re(z) - I * sympy.im(z))) for z in z_array)\n",
        "          ])"
      ],
      "metadata": {
        "colab": {
          "base_uri": "https://localhost:8080/",
          "height": 94
        },
        "id": "Nu-A5wa4465f",
        "outputId": "d89a27a5-80e4-4965-d20e-5688e084ebfb"
      },
      "execution_count": null,
      "outputs": [
        {
          "output_type": "display_data",
          "data": {
            "text/plain": [
              "<IPython.core.display.Latex object>"
            ],
            "text/latex": "z = -3 + 2 i,\\ \\bar z = -3 - 2 i"
          },
          "metadata": {}
        },
        {
          "output_type": "display_data",
          "data": {
            "text/plain": [
              "<IPython.core.display.Latex object>"
            ],
            "text/latex": "z = \\left(\\sqrt{2} - i\\right)^{3},\\ \\bar z = - \\sqrt{2} + 5 i"
          },
          "metadata": {}
        },
        {
          "output_type": "display_data",
          "data": {
            "text/plain": [
              "<IPython.core.display.Latex object>"
            ],
            "text/latex": "z = \\sqrt[3]{1 + i},\\ \\bar z = \\sqrt[6]{2} \\left(\\frac{\\sqrt{2}}{4} + \\frac{\\sqrt{6}}{4}\\right) - \\sqrt[6]{2} i \\left(- \\frac{\\sqrt{2}}{4} + \\frac{\\sqrt{6}}{4}\\right)"
          },
          "metadata": {}
        }
      ]
    },
    {
      "cell_type": "markdown",
      "metadata": {
        "id": "jlgQKk8qkHRa"
      },
      "source": [
        "## Произведение комплексного числа и его комплексно-сопряженного\n",
        "равно квадрату модуля комплексного числа.\n",
        "### Пример 10.\n",
        "Проверим $\\bar z\\cdot z = |z|^2$."
      ]
    },
    {
      "cell_type": "code",
      "source": [
        "a, b = sympy.symbols('a b', real=True)\n",
        "z8 = a + b * I\n",
        "display((sympy.conjugate(z8) * z8).simplify(), sympy.functions.Abs(z8) ** 2)"
      ],
      "metadata": {
        "colab": {
          "base_uri": "https://localhost:8080/",
          "height": 60
        },
        "id": "f3BUohwz5g0U",
        "outputId": "d7ff00ac-0d79-4156-be31-c99b61fe0193"
      },
      "execution_count": null,
      "outputs": [
        {
          "output_type": "display_data",
          "data": {
            "text/plain": [
              "a**2 + b**2"
            ],
            "text/latex": "$\\displaystyle a^{2} + b^{2}$"
          },
          "metadata": {}
        },
        {
          "output_type": "display_data",
          "data": {
            "text/plain": [
              "a**2 + b**2"
            ],
            "text/latex": "$\\displaystyle a^{2} + b^{2}$"
          },
          "metadata": {}
        }
      ]
    }
  ],
  "metadata": {
    "kernelspec": {
      "display_name": "Python 3",
      "language": "python",
      "name": "python3"
    },
    "language_info": {
      "codemirror_mode": {
        "name": "ipython",
        "version": 3
      },
      "file_extension": ".py",
      "mimetype": "text/x-python",
      "name": "python",
      "nbconvert_exporter": "python",
      "pygments_lexer": "ipython3",
      "version": "3.7.3"
    },
    "colab": {
      "provenance": []
    }
  },
  "nbformat": 4,
  "nbformat_minor": 0
}