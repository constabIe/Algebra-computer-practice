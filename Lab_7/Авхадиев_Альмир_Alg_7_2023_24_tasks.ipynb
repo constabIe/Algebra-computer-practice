{
 "cells": [
  {
   "cell_type": "code",
   "execution_count": 50,
   "metadata": {
    "id": "8eFsGTqm2yYh",
    "ExecuteTime": {
     "end_time": "2024-01-05T18:26:58.732134Z",
     "start_time": "2024-01-05T18:26:58.572500Z"
    }
   },
   "outputs": [],
   "source": [
    "import sympy\n",
    "from sympy import  Point, Line, Line3D, Plane, Point3D, Eq, Matrix, S, Symbol, symbols,\\\n",
    "latex, nsolve, solve\n",
    "from IPython.display import display, Latex\n",
    "\n",
    "from sympy.abc import x, y, z, t"
   ]
  },
  {
   "cell_type": "markdown",
   "metadata": {
    "id": "QsFfXQQN2yYq"
   },
   "source": [
    "# Практическое занятие 7\n",
    "# Компьютерный практикум по алгебре на Python\n",
    "https://docs.sympy.org/latest/search.html?q=geometry\n",
    "\n",
    "## Прямые и плоскости в пространстве. Модуль Geometry\n",
    "### Задание 1.\n",
    "Даны точки: $A(3, -2, 3)$,  $B(-2, 3, 1)$, $C(1, -8, 6)$, $D(1, 2, 4)$, $F(-7, 8, -1)$.\n",
    "\n",
    "Составить словарь точек (ключи - точки, значения - имена точек).\n",
    "\n",
    "Вывести на экран значения записей словаря (т.е. имена точек).\n",
    "\n",
    "Проверить, различны ли прямые $AB$ и $AF$, $AB$ и $AC$, плоскости $ABC$ и $ACF$, $ABC$ и $ACD$.\n",
    "\n",
    "Вывести на экран текст вида \"$AB$ и $AF$ одинаковы\" (или \"не одинаковы\")."
   ]
  },
  {
   "cell_type": "code",
   "execution_count": 51,
   "metadata": {
    "colab": {
     "base_uri": "https://localhost:8080/",
     "height": 118
    },
    "id": "0-OuJjONkSYp",
    "outputId": "bff35354-d19b-4b5b-f044-46aa5f6646f5",
    "ExecuteTime": {
     "end_time": "2024-01-05T18:26:59.426580Z",
     "start_time": "2024-01-05T18:26:58.631066Z"
    }
   },
   "outputs": [
    {
     "data": {
      "text/plain": "dict_values(['A', 'B', 'C', 'D', 'F'])"
     },
     "metadata": {},
     "output_type": "display_data"
    },
    {
     "data": {
      "text/plain": "<IPython.core.display.Latex object>",
      "text/latex": "$AB\\ и\\ AC\\ одинаковы$"
     },
     "metadata": {},
     "output_type": "display_data"
    },
    {
     "data": {
      "text/plain": "<IPython.core.display.Latex object>",
      "text/latex": "$AB\\ и\\ AF\\ не\\ одинаковы$"
     },
     "metadata": {},
     "output_type": "display_data"
    },
    {
     "data": {
      "text/plain": "<IPython.core.display.Latex object>",
      "text/latex": "$ABC\\ и\\ ACF\\ не\\ одинаковы$"
     },
     "metadata": {},
     "output_type": "display_data"
    },
    {
     "data": {
      "text/plain": "<IPython.core.display.Latex object>",
      "text/latex": "$ABC\\ и\\ ACD\\ одинаковы$"
     },
     "metadata": {},
     "output_type": "display_data"
    }
   ],
   "source": [
    "A = Point3D(3, -2, 3)\n",
    "B = Point3D(-2, 3, 1)\n",
    "C = Point3D(1, -8, 6)\n",
    "D = Point3D(1, 2, 4)\n",
    "F = Point3D(-7, 8, -1)\n",
    "\n",
    "points = {point: point_name for point, point_name in zip((A, B, C, D, F), ('A', 'B', 'C', 'D', 'F'))}\n",
    "display(points.values())\n",
    "\n",
    "AB = Line3D(A, B)\n",
    "AF = Line3D(A, F)\n",
    "AC = Line3D(A, C)\n",
    "ABC = Plane(A, B, C)\n",
    "ACF = Plane(A, C, F)\n",
    "ACD = Plane(A, C, D)\n",
    "\n",
    "def f(line1, line2, flag):\n",
    "    if not flag:\n",
    "        display(Latex(fr'${line1}\\ и\\ {line2}\\ одинаковы$'))\n",
    "    else:\n",
    "        display(Latex(fr'${line1}\\ и\\ {line2}\\ не\\ одинаковы$'))\n",
    "    return \n",
    "\n",
    "\n",
    "f('AB', 'AC', AB.equals(AC))\n",
    "f('AB', 'AF', AB.equals(AF))\n",
    "f('ABC', 'ACF', ABC.equals(ACF))\n",
    "f('ABC', 'ACD', ABC.equals(ACD))\n"
   ]
  },
  {
   "cell_type": "markdown",
   "metadata": {
    "id": "DFLIFpCO2yYz"
   },
   "source": [
    "###  Задание 2\n",
    "Вывести на экран уравнение плоскости ACD и расстояние от оставшихся точек до этой плоскости."
   ]
  },
  {
   "cell_type": "code",
   "execution_count": 52,
   "metadata": {
    "colab": {
     "base_uri": "https://localhost:8080/",
     "height": 86
    },
    "id": "kT5dPcM3kTTw",
    "outputId": "2ab2ec48-1387-4cb1-fff1-f749c9acff0c",
    "ExecuteTime": {
     "end_time": "2024-01-05T18:26:59.427481Z",
     "start_time": "2024-01-05T18:26:59.053460Z"
    }
   },
   "outputs": [
    {
     "data": {
      "text/plain": "<IPython.core.display.Latex object>",
      "text/latex": "$\\text{ACD: } - 18 x - 4 y - 20 z + 106 = 0$"
     },
     "metadata": {},
     "output_type": "display_data"
    },
    {
     "data": {
      "text/plain": "<IPython.core.display.Latex object>",
      "text/latex": "$От\\ B\\ до\\ ACD : \\frac{11 \\sqrt{185}}{37}$"
     },
     "metadata": {},
     "output_type": "display_data"
    },
    {
     "data": {
      "text/plain": "<IPython.core.display.Latex object>",
      "text/latex": "$От\\ B\\ до\\ ACD : \\frac{22 \\sqrt{185}}{37}$"
     },
     "metadata": {},
     "output_type": "display_data"
    }
   ],
   "source": [
    "display(Latex(fr'$\\text{{ACD: }} {latex(Eq(ACD.equation(), 0))}$'))\n",
    "\n",
    "def f(point: str, plane: str, distance):\n",
    "    display(Latex(fr'$От\\ {point}\\ до\\ {plane} : {latex(distance)}$'))\n",
    "    return\n",
    "\n",
    "f('B', 'ACD', ACD.distance(B))\n",
    "f('B', 'ACD', ACD.distance(F))"
   ]
  },
  {
   "cell_type": "markdown",
   "metadata": {
    "id": "szAjbRFeJ724"
   },
   "source": [
    "###  Задание 2*\n",
    "Вывести на экран уравнения плоскостей, в которых лежит ровно три точки из Задания 1. Затем вывести на экран расстояние от оставшихся точек до каждой их этих плоскостей.\n",
    "\n",
    "Можно по желанию воспользоваться результатами Задания 1 для упрощения поиска."
   ]
  },
  {
   "cell_type": "code",
   "execution_count": 59,
   "metadata": {
    "colab": {
     "base_uri": "https://localhost:8080/"
    },
    "id": "-sAzy-77kUSZ",
    "outputId": "0cff46a0-9797-4bdd-f46f-9d5f8d586758",
    "ExecuteTime": {
     "end_time": "2024-01-05T18:30:05.924779Z",
     "start_time": "2024-01-05T18:30:04.762308Z"
    }
   },
   "outputs": [
    {
     "data": {
      "text/plain": "<IPython.core.display.Latex object>",
      "text/latex": "$\\text{от }\\mathtt{\\text{GKS}}:6 x - 4 y - 5 z + 18 = 0$"
     },
     "metadata": {},
     "output_type": "display_data"
    },
    {
     "data": {
      "text/plain": "<IPython.core.display.Latex object>",
      "text/latex": "$\\ \\ \\ \\ \\ \\ \\ \\ \\ \\ \\ \\ \\text{до точки } \\mathtt{\\text{L}}:\\ \\frac{225 \\sqrt{77}}{77}$"
     },
     "metadata": {},
     "output_type": "display_data"
    },
    {
     "data": {
      "text/plain": "<IPython.core.display.Latex object>",
      "text/latex": "$\\ \\ \\ \\ \\ \\ \\ \\ \\ \\ \\ \\ \\text{до точки } \\mathtt{\\text{P}}:\\ \\frac{75 \\sqrt{77}}{77}$"
     },
     "metadata": {},
     "output_type": "display_data"
    },
    {
     "name": "stdout",
     "output_type": "stream",
     "text": []
    },
    {
     "data": {
      "text/plain": "<IPython.core.display.Latex object>",
      "text/latex": "$\\text{от }\\mathtt{\\text{KLS}}:93 x + 88 y + 110 z - 171 = 0$"
     },
     "metadata": {},
     "output_type": "display_data"
    },
    {
     "data": {
      "text/plain": "<IPython.core.display.Latex object>",
      "text/latex": "$\\ \\ \\ \\ \\ \\ \\ \\ \\ \\ \\ \\ \\text{до точки } \\mathtt{\\text{G}}:\\ \\frac{225 \\sqrt{28493}}{28493}$"
     },
     "metadata": {},
     "output_type": "display_data"
    },
    {
     "data": {
      "text/plain": "<IPython.core.display.Latex object>",
      "text/latex": "$\\ \\ \\ \\ \\ \\ \\ \\ \\ \\ \\ \\ \\text{до точки } \\mathtt{\\text{P}}:\\ \\frac{300 \\sqrt{28493}}{28493}$"
     },
     "metadata": {},
     "output_type": "display_data"
    },
    {
     "name": "stdout",
     "output_type": "stream",
     "text": [
      "\n"
     ]
    },
    {
     "data": {
      "text/plain": "<IPython.core.display.Latex object>",
      "text/latex": "$\\text{от }\\mathtt{\\text{KPS}}:- 39 x - 24 y - 30 z + 33 = 0$"
     },
     "metadata": {},
     "output_type": "display_data"
    },
    {
     "data": {
      "text/plain": "<IPython.core.display.Latex object>",
      "text/latex": "$\\ \\ \\ \\ \\ \\ \\ \\ \\ \\ \\ \\ \\text{до точки } \\mathtt{\\text{G}}:\\ \\frac{25 \\sqrt{37}}{111}$"
     },
     "metadata": {},
     "output_type": "display_data"
    },
    {
     "data": {
      "text/plain": "<IPython.core.display.Latex object>",
      "text/latex": "$\\ \\ \\ \\ \\ \\ \\ \\ \\ \\ \\ \\ \\text{до точки } \\mathtt{\\text{L}}:\\ \\frac{100 \\sqrt{37}}{111}$"
     },
     "metadata": {},
     "output_type": "display_data"
    },
    {
     "name": "stdout",
     "output_type": "stream",
     "text": [
      "\n"
     ]
    }
   ],
   "source": [
    "pts = [[point_name, point_coords] for point_coords, point_name in points.items()]\n",
    "\n",
    "res = []\n",
    "for p1 in range(len(pts)):\n",
    "    for p2 in range(p1, len(pts)):\n",
    "        for p3 in range(p2, len(pts)):\n",
    "            if not Point3D.are_collinear(pts[p1][1], pts[p2][1], pts[p3][1]):\n",
    "                    pl = Plane(pts[p1][1], pts[p2][1], pts[p3][1])\n",
    "                    flag = True\n",
    "                    dists = []\n",
    "                    for p, p_name in points.items():\n",
    "                        if p != pts[p1][1] and p != pts[p2][1] and p != pts[p3][1]:\n",
    "                            if pl.equation(x=x, y=y, z=z).subs([(x, p[0]), (y, p[1]), (z, p[2])]) == 0:\n",
    "                                flag = False\n",
    "                                break\n",
    "                            else:\n",
    "                                distance = p.distance(pl)\n",
    "                                dists.append([p_name, distance])         \n",
    "                    if flag:\n",
    "                        res.append([[pts[p1][0] + pts[p2][0] + pts[p3][0], pl.equation()], dists])\n",
    "                        \n",
    "for i in range(len(res)):\n",
    "    display(Latex(fr'$\\text{{от }}{latex(res[i][0][0])}:{latex(Eq(res[i][0][1], 0))}$'))\n",
    "    for j in range(len(res[i][1])):\n",
    "        display(Latex(fr'$\\ \\ \\ \\ \\ \\ \\ \\ \\ \\ \\ \\ \\text{{до точки }} {latex(res[i][1][j][0])}:\\ {latex(res[i][1][j][1])}$'))\n",
    "    print('\\n')"
   ]
  },
  {
   "cell_type": "markdown",
   "metadata": {
    "id": "Y9SJb76H2yY1"
   },
   "source": [
    "###  Задание 3\n",
    "Построить плоскость, перпендикулярную плоскости $ABC$, проходящую через $D$ и начало координат. Найти линию пересечения $ABC$ и этой плоскости.\n",
    "\n",
    "Вывести на экран уравнение полученной плоскости и уравнения линии пересечения $ABC$ и этой плоскости."
   ]
  },
  {
   "cell_type": "code",
   "execution_count": 54,
   "metadata": {
    "colab": {
     "base_uri": "https://localhost:8080/",
     "height": 114
    },
    "id": "zTVVOyZMkVxb",
    "outputId": "17797bcb-1a28-4414-eda6-f3fed4a2771e",
    "ExecuteTime": {
     "end_time": "2024-01-05T18:27:00.528315Z",
     "start_time": "2024-01-05T18:26:59.674090Z"
    }
   },
   "outputs": [
    {
     "data": {
      "text/plain": "<IPython.core.display.Latex object>",
      "text/latex": "$- 4 x + 28 y - 13 z = 0$"
     },
     "metadata": {},
     "output_type": "display_data"
    },
    {
     "name": "stdout",
     "output_type": "stream",
     "text": []
    },
    {
     "data": {
      "text/plain": "<IPython.core.display.Latex object>",
      "text/latex": "$- 121 x + 1367 y - 1183 = 0$"
     },
     "metadata": {},
     "output_type": "display_data"
    },
    {
     "data": {
      "text/plain": "<IPython.core.display.Latex object>",
      "text/latex": "$160 x + 1367 z - 2548 = 0$"
     },
     "metadata": {},
     "output_type": "display_data"
    }
   ],
   "source": [
    "perpen_pl = ABC.perpendicular_plane(D, Point3D(0, 0, 0))\n",
    "display(Latex(fr'${latex(Eq(perpen_pl.equation(), 0))}$'))\n",
    "\n",
    "insec_line = ABC.intersection(perpen_pl)[0].equation()\n",
    "print('\\n')\n",
    "display(Latex(fr'${latex(Eq(insec_line[0], 0))}$'))\n",
    "display(Latex(fr'${latex(Eq(insec_line[1], 0))}$'))"
   ]
  },
  {
   "cell_type": "markdown",
   "metadata": {
    "id": "rBqOF-CW2yY3"
   },
   "source": [
    "###  Задание 4\n",
    "Найти пересечение плоскости $ABC$ и прямой $DK$, где $K(3,-2, 3)$. Проверить с помощью словаря точек, не является ли точка пересечения одной из заданных точек."
   ]
  },
  {
   "cell_type": "code",
   "execution_count": 55,
   "metadata": {
    "id": "0KyZc7fSkW5J",
    "outputId": "3c0fc721-52ed-4726-84c9-4f4b701286b2",
    "ExecuteTime": {
     "end_time": "2024-01-05T18:27:01.073918Z",
     "start_time": "2024-01-05T18:27:00.516440Z"
    }
   },
   "outputs": [
    {
     "data": {
      "text/plain": "Point3D(3, -2, 3)",
      "text/latex": "$\\displaystyle \\operatorname{Point3D}\\left(3, -2, 3\\right)$"
     },
     "metadata": {},
     "output_type": "display_data"
    },
    {
     "data": {
      "text/plain": "<IPython.core.display.Latex object>",
      "text/latex": "$\\text{True}$"
     },
     "metadata": {},
     "output_type": "display_data"
    }
   ],
   "source": [
    "K = Point3D(3, -2, 3)\n",
    "DK = Line3D(D, K)\n",
    "\n",
    "ABC_DK_insec_pt = ABC.intersection(DK)[0]\n",
    "display(ABC_DK_insec_pt)\n",
    "for p in points.keys():\n",
    "    if ABC_DK_insec_pt == p:\n",
    "        display(Latex(fr'$\\text{{True}}$'))"
   ]
  },
  {
   "cell_type": "markdown",
   "metadata": {
    "id": "R5udVUCQ2yY5"
   },
   "source": [
    "###  Задание 5\n",
    "Построить плоскость, параллельную плоскости $ABC$, проходящую через точку $M(-1, 6, 3)$, вывести на экран ее уравнение.\n",
    "\n",
    "Найти и вывести на экран расстояние от прямой $AB$ до построенной плоскости."
   ]
  },
  {
   "cell_type": "code",
   "execution_count": 56,
   "metadata": {
    "id": "OmuHXd09kYcJ",
    "outputId": "eff8237d-af97-4242-fc95-b14db3ffc3a3",
    "ExecuteTime": {
     "end_time": "2024-01-05T18:27:01.313197Z",
     "start_time": "2024-01-05T18:27:01.062800Z"
    }
   },
   "outputs": [
    {
     "data": {
      "text/plain": "<IPython.core.display.Latex object>",
      "text/latex": "$3 x + 19 y + 40 z - 231 = 0$"
     },
     "metadata": {},
     "output_type": "display_data"
    },
    {
     "data": {
      "text/plain": "14*sqrt(1970)/197",
      "text/latex": "$\\displaystyle \\frac{14 \\sqrt{1970}}{197}$"
     },
     "metadata": {},
     "output_type": "display_data"
    }
   ],
   "source": [
    "M = Point3D(-1, 6, 3)\n",
    "ABC_M_parall_pl = ABC.parallel_plane(M)\n",
    "\n",
    "display(Latex(fr'${latex(Eq(ABC_M_parall_pl.equation(), 0))}$'))\n",
    "\n",
    "d = ABC_M_parall_pl.distance(AB)\n",
    "display(d)"
   ]
  },
  {
   "cell_type": "markdown",
   "metadata": {
    "id": "YQtDk8082yY6"
   },
   "source": [
    "###  Задание 6*\n",
    "Даны точки: $A(3, -2, 3)$,  $B(-2, 3, 1)$, $C(1, -8, 6)$, $D(1, 2, 4)$, $F(-7, 8, -1)$.\n",
    "\n",
    "Составить словарь всех прямых (в нем должны быть и прямая $AB$, и $BA$!), каждая из которых проходит хотя бы через две заданные точки, ключ - сама прямая (Line), значение - список из имен ВСЕХ точек, лежащих на этой прямой. Вывести на экран имена только тех прямых, на которых лежит не менее трех точек из условия, а также список точек, лежащих на прямой."
   ]
  },
  {
   "cell_type": "code",
   "execution_count": 57,
   "metadata": {
    "id": "37WPKZppkZbo",
    "ExecuteTime": {
     "end_time": "2024-01-05T18:27:02.893908Z",
     "start_time": "2024-01-05T18:27:01.323742Z"
    }
   },
   "outputs": [
    {
     "name": "stdout",
     "output_type": "stream",
     "text": [
      "{'AB': ['A', 'B', 'F'], 'AF': ['A', 'B', 'F'], 'BA': ['A', 'B', 'F'], 'BF': ['A', 'B', 'F'], 'FA': ['A', 'B', 'F'], 'FB': ['A', 'B', 'F']}\n"
     ]
    }
   ],
   "source": [
    "lines = dict()\n",
    "for point1, point1_name in points.items():\n",
    "    for point2, point2_name in points.items():\n",
    "        if point1 != point2:\n",
    "            direction_vec = point2 - point1\n",
    "            for point, point_name in points.items():\n",
    "                T = []\n",
    "                for i in range(3):\n",
    "                    equation = Eq(point[i], direction_vec[i]*t + point2[i])\n",
    "                    constant = solve(equation, t)\n",
    "                    if len(constant):\n",
    "                        T.append(*constant)\n",
    "                flag = True\n",
    "                for i in range(len(T)):\n",
    "                    for j in range(i, len(T)):\n",
    "                        if T[i] != T[j]:\n",
    "                            flag = False\n",
    "                            break\n",
    "                if flag:\n",
    "                    if point1_name + point2_name in lines:\n",
    "                        lines[point1_name + point2_name].append(point_name)\n",
    "                    else:\n",
    "                        lines[point1_name + point2_name] = [point_name]\n",
    "ans = dict()\n",
    "for key, val in lines.items():\n",
    "    if len(val) >= 3:\n",
    "        ans[key] = val\n",
    "print(ans)\n"
   ]
  },
  {
   "cell_type": "markdown",
   "metadata": {
    "collapsed": false,
    "id": "030Myjinl9gs"
   },
   "source": [
    "Вариант N 175\n",
    "\n",
    "Даны точки: $G (-2, 4, -2),\\  K (-1, 3, 0),\\ L (-23, 25, 1),\\ P (5, -3, -3),\\ S (-1, -2, 4)$.\n",
    "Составить словарь с ключами - точками (например, Point3D(3, 2, 1)) и значениями - именами точек (G, K и т.д.).\n",
    "\n",
    "\n",
    "Найти и вывести на экран\n",
    "\n",
    "\n",
    "расстояние от точек $S$ и $L$ до плоскости $GKP$,\n",
    "\n",
    "\n",
    "уравнение плоскости $GKP$,\n",
    "\n",
    "\n",
    "параметрические уравнения прямой $SL$.\n",
    "\n",
    "\n",
    "Определить и вывести на экран, какие 4 из заданных точек лежат в одной плоскости (пользуясь словарем точек, вывести имена точек).\n",
    "\n",
    "\n",
    "Определить и вывести на экран, какие 3 из заданных точек лежат на одной прямой (пользуясь словарем точек, вывести имена точек)."
   ]
  },
  {
   "cell_type": "code",
   "execution_count": 58,
   "metadata": {
    "colab": {
     "base_uri": "https://localhost:8080/",
     "height": 1000
    },
    "id": "_NxtwwT1kamB",
    "outputId": "985f4802-e2a5-4647-c4ed-7ee083574791",
    "ExecuteTime": {
     "end_time": "2024-01-05T18:27:04.327809Z",
     "start_time": "2024-01-05T18:27:02.930548Z"
    }
   },
   "outputs": [
    {
     "data": {
      "text/plain": "<IPython.core.display.Latex object>",
      "text/latex": "$\\text{Расстояние от точки S до плоскости GKP: } \\frac{5 \\sqrt{2}}{2}$"
     },
     "metadata": {},
     "output_type": "display_data"
    },
    {
     "data": {
      "text/plain": "<IPython.core.display.Latex object>",
      "text/latex": "$\\text{Расстояние от точки L до плоскости GKP: } 0$"
     },
     "metadata": {},
     "output_type": "display_data"
    },
    {
     "data": {
      "text/plain": "<IPython.core.display.Latex object>",
      "text/latex": "$\\text{Параметрические уравнения прямой SL: } \\left[\\begin{matrix}x\\\\y\\\\z\\end{matrix}\\right] = \\left[\\begin{matrix}- 22 t - 1\\\\27 t - 2\\\\4 - 3 t\\end{matrix}\\right]$"
     },
     "metadata": {},
     "output_type": "display_data"
    },
    {
     "data": {
      "text/plain": "<IPython.core.display.Latex object>",
      "text/latex": "$\\text{Четыре точки, лежащие в одной плоскости: }$"
     },
     "metadata": {},
     "output_type": "display_data"
    },
    {
     "data": {
      "text/plain": "<IPython.core.display.Latex object>",
      "text/latex": "$\\ \\ \\ \\ G,\\ K,\\ L,\\ P$"
     },
     "metadata": {},
     "output_type": "display_data"
    },
    {
     "data": {
      "text/plain": "<IPython.core.display.Latex object>",
      "text/latex": "$\\ \\ \\ \\ G,\\ K,\\ P,\\ L$"
     },
     "metadata": {},
     "output_type": "display_data"
    },
    {
     "data": {
      "text/plain": "<IPython.core.display.Latex object>",
      "text/latex": "$\\ \\ \\ \\ G,\\ L,\\ K,\\ P$"
     },
     "metadata": {},
     "output_type": "display_data"
    },
    {
     "data": {
      "text/plain": "<IPython.core.display.Latex object>",
      "text/latex": "$\\ \\ \\ \\ G,\\ L,\\ P,\\ K$"
     },
     "metadata": {},
     "output_type": "display_data"
    },
    {
     "data": {
      "text/plain": "<IPython.core.display.Latex object>",
      "text/latex": "$\\ \\ \\ \\ G,\\ L,\\ P,\\ S$"
     },
     "metadata": {},
     "output_type": "display_data"
    },
    {
     "data": {
      "text/plain": "<IPython.core.display.Latex object>",
      "text/latex": "$\\ \\ \\ \\ G,\\ L,\\ S,\\ P$"
     },
     "metadata": {},
     "output_type": "display_data"
    },
    {
     "data": {
      "text/plain": "<IPython.core.display.Latex object>",
      "text/latex": "$\\ \\ \\ \\ G,\\ P,\\ K,\\ L$"
     },
     "metadata": {},
     "output_type": "display_data"
    },
    {
     "data": {
      "text/plain": "<IPython.core.display.Latex object>",
      "text/latex": "$\\ \\ \\ \\ G,\\ P,\\ L,\\ K$"
     },
     "metadata": {},
     "output_type": "display_data"
    },
    {
     "data": {
      "text/plain": "<IPython.core.display.Latex object>",
      "text/latex": "$\\ \\ \\ \\ G,\\ P,\\ L,\\ S$"
     },
     "metadata": {},
     "output_type": "display_data"
    },
    {
     "data": {
      "text/plain": "<IPython.core.display.Latex object>",
      "text/latex": "$\\ \\ \\ \\ G,\\ P,\\ S,\\ L$"
     },
     "metadata": {},
     "output_type": "display_data"
    },
    {
     "data": {
      "text/plain": "<IPython.core.display.Latex object>",
      "text/latex": "$\\ \\ \\ \\ G,\\ S,\\ L,\\ P$"
     },
     "metadata": {},
     "output_type": "display_data"
    },
    {
     "data": {
      "text/plain": "<IPython.core.display.Latex object>",
      "text/latex": "$\\ \\ \\ \\ G,\\ S,\\ P,\\ L$"
     },
     "metadata": {},
     "output_type": "display_data"
    },
    {
     "data": {
      "text/plain": "<IPython.core.display.Latex object>",
      "text/latex": "$\\ \\ \\ \\ K,\\ G,\\ L,\\ P$"
     },
     "metadata": {},
     "output_type": "display_data"
    },
    {
     "data": {
      "text/plain": "<IPython.core.display.Latex object>",
      "text/latex": "$\\ \\ \\ \\ K,\\ G,\\ P,\\ L$"
     },
     "metadata": {},
     "output_type": "display_data"
    },
    {
     "data": {
      "text/plain": "<IPython.core.display.Latex object>",
      "text/latex": "$\\ \\ \\ \\ K,\\ L,\\ G,\\ P$"
     },
     "metadata": {},
     "output_type": "display_data"
    },
    {
     "data": {
      "text/plain": "<IPython.core.display.Latex object>",
      "text/latex": "$\\ \\ \\ \\ K,\\ L,\\ P,\\ G$"
     },
     "metadata": {},
     "output_type": "display_data"
    },
    {
     "data": {
      "text/plain": "<IPython.core.display.Latex object>",
      "text/latex": "$\\ \\ \\ \\ K,\\ P,\\ G,\\ L$"
     },
     "metadata": {},
     "output_type": "display_data"
    },
    {
     "data": {
      "text/plain": "<IPython.core.display.Latex object>",
      "text/latex": "$\\ \\ \\ \\ K,\\ P,\\ L,\\ G$"
     },
     "metadata": {},
     "output_type": "display_data"
    },
    {
     "data": {
      "text/plain": "<IPython.core.display.Latex object>",
      "text/latex": "$\\ \\ \\ \\ L,\\ G,\\ K,\\ P$"
     },
     "metadata": {},
     "output_type": "display_data"
    },
    {
     "data": {
      "text/plain": "<IPython.core.display.Latex object>",
      "text/latex": "$\\ \\ \\ \\ L,\\ G,\\ P,\\ K$"
     },
     "metadata": {},
     "output_type": "display_data"
    },
    {
     "data": {
      "text/plain": "<IPython.core.display.Latex object>",
      "text/latex": "$\\ \\ \\ \\ L,\\ G,\\ P,\\ S$"
     },
     "metadata": {},
     "output_type": "display_data"
    },
    {
     "data": {
      "text/plain": "<IPython.core.display.Latex object>",
      "text/latex": "$\\ \\ \\ \\ L,\\ G,\\ S,\\ P$"
     },
     "metadata": {},
     "output_type": "display_data"
    },
    {
     "data": {
      "text/plain": "<IPython.core.display.Latex object>",
      "text/latex": "$\\ \\ \\ \\ L,\\ K,\\ G,\\ P$"
     },
     "metadata": {},
     "output_type": "display_data"
    },
    {
     "data": {
      "text/plain": "<IPython.core.display.Latex object>",
      "text/latex": "$\\ \\ \\ \\ L,\\ K,\\ P,\\ G$"
     },
     "metadata": {},
     "output_type": "display_data"
    },
    {
     "data": {
      "text/plain": "<IPython.core.display.Latex object>",
      "text/latex": "$\\ \\ \\ \\ L,\\ P,\\ G,\\ K$"
     },
     "metadata": {},
     "output_type": "display_data"
    },
    {
     "data": {
      "text/plain": "<IPython.core.display.Latex object>",
      "text/latex": "$\\ \\ \\ \\ L,\\ P,\\ G,\\ S$"
     },
     "metadata": {},
     "output_type": "display_data"
    },
    {
     "data": {
      "text/plain": "<IPython.core.display.Latex object>",
      "text/latex": "$\\ \\ \\ \\ L,\\ P,\\ K,\\ G$"
     },
     "metadata": {},
     "output_type": "display_data"
    },
    {
     "data": {
      "text/plain": "<IPython.core.display.Latex object>",
      "text/latex": "$\\ \\ \\ \\ L,\\ P,\\ S,\\ G$"
     },
     "metadata": {},
     "output_type": "display_data"
    },
    {
     "data": {
      "text/plain": "<IPython.core.display.Latex object>",
      "text/latex": "$\\ \\ \\ \\ L,\\ S,\\ G,\\ P$"
     },
     "metadata": {},
     "output_type": "display_data"
    },
    {
     "data": {
      "text/plain": "<IPython.core.display.Latex object>",
      "text/latex": "$\\ \\ \\ \\ L,\\ S,\\ P,\\ G$"
     },
     "metadata": {},
     "output_type": "display_data"
    },
    {
     "data": {
      "text/plain": "<IPython.core.display.Latex object>",
      "text/latex": "$\\ \\ \\ \\ P,\\ G,\\ K,\\ L$"
     },
     "metadata": {},
     "output_type": "display_data"
    },
    {
     "data": {
      "text/plain": "<IPython.core.display.Latex object>",
      "text/latex": "$\\ \\ \\ \\ P,\\ G,\\ L,\\ K$"
     },
     "metadata": {},
     "output_type": "display_data"
    },
    {
     "data": {
      "text/plain": "<IPython.core.display.Latex object>",
      "text/latex": "$\\ \\ \\ \\ P,\\ G,\\ L,\\ S$"
     },
     "metadata": {},
     "output_type": "display_data"
    },
    {
     "data": {
      "text/plain": "<IPython.core.display.Latex object>",
      "text/latex": "$\\ \\ \\ \\ P,\\ G,\\ S,\\ L$"
     },
     "metadata": {},
     "output_type": "display_data"
    },
    {
     "data": {
      "text/plain": "<IPython.core.display.Latex object>",
      "text/latex": "$\\ \\ \\ \\ P,\\ K,\\ G,\\ L$"
     },
     "metadata": {},
     "output_type": "display_data"
    },
    {
     "data": {
      "text/plain": "<IPython.core.display.Latex object>",
      "text/latex": "$\\ \\ \\ \\ P,\\ K,\\ L,\\ G$"
     },
     "metadata": {},
     "output_type": "display_data"
    },
    {
     "data": {
      "text/plain": "<IPython.core.display.Latex object>",
      "text/latex": "$\\ \\ \\ \\ P,\\ L,\\ G,\\ K$"
     },
     "metadata": {},
     "output_type": "display_data"
    },
    {
     "data": {
      "text/plain": "<IPython.core.display.Latex object>",
      "text/latex": "$\\ \\ \\ \\ P,\\ L,\\ G,\\ S$"
     },
     "metadata": {},
     "output_type": "display_data"
    },
    {
     "data": {
      "text/plain": "<IPython.core.display.Latex object>",
      "text/latex": "$\\ \\ \\ \\ P,\\ L,\\ K,\\ G$"
     },
     "metadata": {},
     "output_type": "display_data"
    },
    {
     "data": {
      "text/plain": "<IPython.core.display.Latex object>",
      "text/latex": "$\\ \\ \\ \\ P,\\ L,\\ S,\\ G$"
     },
     "metadata": {},
     "output_type": "display_data"
    },
    {
     "data": {
      "text/plain": "<IPython.core.display.Latex object>",
      "text/latex": "$\\ \\ \\ \\ P,\\ S,\\ G,\\ L$"
     },
     "metadata": {},
     "output_type": "display_data"
    },
    {
     "data": {
      "text/plain": "<IPython.core.display.Latex object>",
      "text/latex": "$\\ \\ \\ \\ P,\\ S,\\ L,\\ G$"
     },
     "metadata": {},
     "output_type": "display_data"
    },
    {
     "data": {
      "text/plain": "<IPython.core.display.Latex object>",
      "text/latex": "$\\ \\ \\ \\ S,\\ G,\\ L,\\ P$"
     },
     "metadata": {},
     "output_type": "display_data"
    },
    {
     "data": {
      "text/plain": "<IPython.core.display.Latex object>",
      "text/latex": "$\\ \\ \\ \\ S,\\ G,\\ P,\\ L$"
     },
     "metadata": {},
     "output_type": "display_data"
    },
    {
     "data": {
      "text/plain": "<IPython.core.display.Latex object>",
      "text/latex": "$\\ \\ \\ \\ S,\\ L,\\ G,\\ P$"
     },
     "metadata": {},
     "output_type": "display_data"
    },
    {
     "data": {
      "text/plain": "<IPython.core.display.Latex object>",
      "text/latex": "$\\ \\ \\ \\ S,\\ L,\\ P,\\ G$"
     },
     "metadata": {},
     "output_type": "display_data"
    },
    {
     "data": {
      "text/plain": "<IPython.core.display.Latex object>",
      "text/latex": "$\\ \\ \\ \\ S,\\ P,\\ G,\\ L$"
     },
     "metadata": {},
     "output_type": "display_data"
    },
    {
     "data": {
      "text/plain": "<IPython.core.display.Latex object>",
      "text/latex": "$\\ \\ \\ \\ S,\\ P,\\ L,\\ G$"
     },
     "metadata": {},
     "output_type": "display_data"
    },
    {
     "data": {
      "text/plain": "<IPython.core.display.Latex object>",
      "text/latex": "$\\text{Три точки, лежащие на одной прямой: }$"
     },
     "metadata": {},
     "output_type": "display_data"
    },
    {
     "data": {
      "text/plain": "<IPython.core.display.Latex object>",
      "text/latex": "$\\ \\ \\ \\ G,\\ L,\\ P$"
     },
     "metadata": {},
     "output_type": "display_data"
    },
    {
     "data": {
      "text/plain": "<IPython.core.display.Latex object>",
      "text/latex": "$\\ \\ \\ \\ G,\\ P,\\ L$"
     },
     "metadata": {},
     "output_type": "display_data"
    },
    {
     "data": {
      "text/plain": "<IPython.core.display.Latex object>",
      "text/latex": "$\\ \\ \\ \\ L,\\ G,\\ P$"
     },
     "metadata": {},
     "output_type": "display_data"
    },
    {
     "data": {
      "text/plain": "<IPython.core.display.Latex object>",
      "text/latex": "$\\ \\ \\ \\ L,\\ P,\\ G$"
     },
     "metadata": {},
     "output_type": "display_data"
    },
    {
     "data": {
      "text/plain": "<IPython.core.display.Latex object>",
      "text/latex": "$\\ \\ \\ \\ P,\\ G,\\ L$"
     },
     "metadata": {},
     "output_type": "display_data"
    },
    {
     "data": {
      "text/plain": "<IPython.core.display.Latex object>",
      "text/latex": "$\\ \\ \\ \\ P,\\ L,\\ G$"
     },
     "metadata": {},
     "output_type": "display_data"
    }
   ],
   "source": [
    "G = Point3D(-2, 4, -2)\n",
    "K = Point3D(-1, 3, 0)\n",
    "L = Point3D(-23, 25, 1)\n",
    "P = Point3D(5, -3, -3)\n",
    "S = Point3D(-1, -2, 4)\n",
    "points = {point: point_name for point_name, point in zip(('G', 'K', 'L', 'P', 'S'), (Point3D(-2, 4, -2), Point3D(-1, 3, 0), Point3D(-23, 25, 1), Point3D(5, -3, -3), Point3D(-1, -2, 4)))}\n",
    "\n",
    "GKP = Plane(G, K, P)\n",
    "SL = Line3D(S, L)\n",
    "\n",
    "display(Latex(fr'$\\text{{Расстояние от точки S до плоскости GKP: }} {latex(S.distance(GKP))}$'))\n",
    "display(Latex(fr'$\\text{{Расстояние от точки L до плоскости GKP: }} {latex(L.distance(GKP))}$'))\n",
    "\n",
    "direction_vec = Matrix([i for i in L - S])\n",
    "parametric_SL = Matrix([i for i in S]) + direction_vec * t\n",
    "X = Matrix([x, y, z])\n",
    "display(Latex(fr'$\\text{{Параметрические уравнения прямой SL: }} {latex(Eq(X, parametric_SL))}$'))\n",
    "\n",
    "res_pl = []\n",
    "for point1, point_name1 in points.items():\n",
    "    for point2, point_name2 in points.items():\n",
    "        for point3, point_name3 in points.items():\n",
    "            for point4, point_name4 in points.items():\n",
    "                if point1 != point2 and point1 != point3 and point1 != point4 \\\n",
    "                        and point2 != point3 and point2 != point4 \\\n",
    "                        and point3 != point4:\n",
    "                    if Point3D.are_coplanar(point1, point2, point3, point4):\n",
    "                        res_pl.append([point_name1, point_name2, point_name3, point_name4])\n",
    "display(Latex(fr'$\\text{{Четыре точки, лежащие в одной плоскости: }}$'))\n",
    "for i in range(len(res_pl)):\n",
    "    txt = ''\n",
    "    for j in range(len(res_pl[i])):\n",
    "        if j + 1 != len(res_pl[i]):\n",
    "            txt += f'{res_pl[i][j]},\\ '\n",
    "        else:\n",
    "            txt += f'{res_pl[i][j]}'\n",
    "    display(Latex(f\"$\\ \\ \\ \\ {txt}$\"))\n",
    "    \n",
    "    \n",
    "res_pt = []\n",
    "for point1, point_name1 in points.items():\n",
    "    for point2, point_name2 in points.items():\n",
    "        for point3, point_name3 in points.items():\n",
    "            if point1 != point2 and point1 != point3 and point2 != point3:\n",
    "                if Point3D.are_collinear(point1, point2, point3):\n",
    "                    res_pt.append([point_name1, point_name2, point_name3])\n",
    "\n",
    "display(Latex(fr'$\\text{{Три точки, лежащие на одной прямой: }}$'))\n",
    "for i in range(len(res_pt)):\n",
    "    txt = ''\n",
    "    for j in range(len(res_pt[i])):\n",
    "        if j + 1 != len(res_pt[i]):\n",
    "            txt += f'{res_pt[i][j]},\\ '\n",
    "        else:\n",
    "            txt += f'{res_pt[i][j]}'\n",
    "    display(Latex(f\"$\\ \\ \\ \\ {txt}$\"))"
   ]
  }
 ],
 "metadata": {
  "colab": {
   "provenance": []
  },
  "kernelspec": {
   "display_name": "Python 3 (ipykernel)",
   "language": "python",
   "name": "python3"
  },
  "language_info": {
   "codemirror_mode": {
    "name": "ipython",
    "version": 3
   },
   "file_extension": ".py",
   "mimetype": "text/x-python",
   "name": "python",
   "nbconvert_exporter": "python",
   "pygments_lexer": "ipython3",
   "version": "3.11.5"
  }
 },
 "nbformat": 4,
 "nbformat_minor": 4
}
