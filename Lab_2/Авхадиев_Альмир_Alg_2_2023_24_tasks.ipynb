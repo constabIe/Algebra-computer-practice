{
  "nbformat": 4,
  "nbformat_minor": 0,
  "metadata": {
    "kernelspec": {
      "display_name": "Python 3",
      "language": "python",
      "name": "python3"
    },
    "language_info": {
      "codemirror_mode": {
        "name": "ipython",
        "version": 3
      },
      "file_extension": ".py",
      "mimetype": "text/x-python",
      "name": "python",
      "nbconvert_exporter": "python",
      "pygments_lexer": "ipython3",
      "version": "3.7.3"
    },
    "colab": {
      "provenance": []
    }
  },
  "cells": [
    {
      "cell_type": "markdown",
      "metadata": {
        "id": "V1qo8kCJaU1a"
      },
      "source": [
        "# Практическое занятие 2\n",
        "# Компьютерный практикум по алгебре на Python"
      ]
    },
    {
      "cell_type": "markdown",
      "metadata": {
        "id": "nrNldgTvaU1k"
      },
      "source": [
        "## Матрицы. Подстановки, действия над строками, столбцами и элементами. Формулы Крамера для решения СЛАУ.\n",
        "\n",
        "https://docs.sympy.org/latest/tutorial/matrices.html\n",
        "\n",
        "С помощью конструктора класса Matrix можно создавать матрицы, элементами которых служат не только числа или числовые выражения, но и символы Symbol, играющие роль математических переменных. Переменные могут принимать какие-то значения, эти значения можно подставлять в матрицы (и не только в них!) с помощью метода subs."
      ]
    },
    {
      "cell_type": "code",
      "metadata": {
        "id": "DW7G-QrZaU1l"
      },
      "source": [
        "from sympy import Symbol, symbols, Matrix, pi, evalf, sqrt, Eq"
      ],
      "execution_count": 4,
      "outputs": []
    },
    {
      "cell_type": "markdown",
      "metadata": {
        "id": "pebe8gBxaU1n"
      },
      "source": [
        "### Задание 1\n",
        "Решить по формулам Крамера СЛАУ\n",
        "\\begin{align*}\n",
        "\\left\\{\\begin{matrix} 2 x_{1} +  x_{3}  = -8\n",
        "\\\\- 4 x_{1} + 5 x_{2}  = 20\n",
        "\\\\- 6 x_{2} + x_{3}  = 2\n",
        "\\end{matrix}\\right.\n",
        " \\end{align*}\n",
        "Проверить правильность найденного решения подстановкой (в математическом смысле! subs не нужно использовать).\n",
        "\n",
        "Под проверкой правильности понимается проверка выполнения равенства $AX=b$ или $AX-b=\\bar 0$."
      ]
    },
    {
      "cell_type": "code",
      "source": [
        "A = Matrix([[2, 0, 1], [-4, 5, 0], [0, -6, 1]])\n",
        "b = Matrix([-8, 20, 2])\n",
        "det_A = A.det()\n",
        "X = [0 for i in range(A.shape[0])]\n",
        "\n",
        "for i in range(3):\n",
        "  Ai = A.copy()\n",
        "  Ai.col_del(i)\n",
        "  X[i] = Ai.col_insert(i, b).det() / det_A\n",
        "\n",
        "X = Matrix(X)\n",
        "display((X.T), (A * X - b).T)"
      ],
      "metadata": {
        "id": "0sM4zx8bc_2W",
        "colab": {
          "base_uri": "https://localhost:8080/",
          "height": 59
        },
        "outputId": "3d19b3ae-88f2-4d5f-ebb7-0aa4f4308603"
      },
      "execution_count": 5,
      "outputs": [
        {
          "output_type": "display_data",
          "data": {
            "text/plain": [
              "Matrix([[-5, 0, 2]])"
            ],
            "text/latex": "$\\displaystyle \\left[\\begin{matrix}-5 & 0 & 2\\end{matrix}\\right]$"
          },
          "metadata": {}
        },
        {
          "output_type": "display_data",
          "data": {
            "text/plain": [
              "Matrix([[0, 0, 0]])"
            ],
            "text/latex": "$\\displaystyle \\left[\\begin{matrix}0 & 0 & 0\\end{matrix}\\right]$"
          },
          "metadata": {}
        }
      ]
    },
    {
      "cell_type": "markdown",
      "metadata": {
        "id": "WfVS2gyDaU1r"
      },
      "source": [
        "### Задание 2\n",
        "Решить по формулам Крамера СЛАУ с параметром\n",
        "\\begin{align*}\n",
        "\\left\\{\\begin{matrix} a x_{1} + 2 x_{2}  = -7\n",
        "\\\\- 4 x_{1} + 5 x_{2} + 3 x_{3} = 9\n",
        "\\\\ 3 x_{1} + x_{3}  = 2\n",
        "\\end{matrix}\\right.\n",
        " \\end{align*}\n",
        "Проверить правильность найденного решения подстановкой.\n",
        "\n",
        "Составить матрицу $S$, столбцы которой являются решениями данной СЛАУ при $a = -1, 0, 3$.\n",
        "\n",
        "**Указание.**\n",
        "\n",
        "Оформить решение по формулам Крамера в виде функции.\n",
        "\n",
        "Параметр $a$ описать как символ.\n",
        "\n",
        "Использовать подстановки **subs** для построения матриц данной СЛАУ при $a = -1, 0, 3$ на основе матрицы с параметром.\n",
        "\n",
        "Воспользоваться **simplify** для того, чтобы упростить выражение при проверке."
      ]
    },
    {
      "cell_type": "code",
      "source": [
        "x = Symbol('a')\n",
        "A = Matrix([[x, 2, 0], [-4, 5, 3], [3, 0, 1]])\n",
        "b = Matrix([-7, 9, 2])\n",
        "det_A = A.det()\n",
        "len = [i for i in A.shape]\n",
        "\n",
        "def func(var):\n",
        "  X = [0 for i in range(len[0])]\n",
        "  for i in range(len[0]):\n",
        "    Si = A.copy()\n",
        "    Si.col_del(i)\n",
        "    X[i] = Si.col_insert(i, b).det() / det_A\n",
        "\n",
        "  return (Matrix(X).subs(x, var))\n",
        "\n",
        "a = [-1, 0, 3]\n",
        "for i in range(3):\n",
        "  print(f'При а = {a[i]}:\\n')\n",
        "  display(func(a[i]))\n",
        "  print('\\n')\n"
      ],
      "metadata": {
        "id": "IzlvJIPmdBtu",
        "colab": {
          "base_uri": "https://localhost:8080/",
          "height": 404
        },
        "outputId": "28b07c3e-0c9c-45ec-9c2a-f659f676c6b9"
      },
      "execution_count": 8,
      "outputs": [
        {
          "output_type": "stream",
          "name": "stdout",
          "text": [
            "При а = -1:\n",
            "\n"
          ]
        },
        {
          "output_type": "display_data",
          "data": {
            "text/plain": [
              "Matrix([\n",
              "[-41/21],\n",
              "[-94/21],\n",
              "[  55/7]])"
            ],
            "text/latex": "$\\displaystyle \\left[\\begin{matrix}- \\frac{41}{21}\\\\- \\frac{94}{21}\\\\\\frac{55}{7}\\end{matrix}\\right]$"
          },
          "metadata": {}
        },
        {
          "output_type": "stream",
          "name": "stdout",
          "text": [
            "\n",
            "\n",
            "При а = 0:\n",
            "\n"
          ]
        },
        {
          "output_type": "display_data",
          "data": {
            "text/plain": [
              "Matrix([\n",
              "[-41/26],\n",
              "[  -7/2],\n",
              "[175/26]])"
            ],
            "text/latex": "$\\displaystyle \\left[\\begin{matrix}- \\frac{41}{26}\\\\- \\frac{7}{2}\\\\\\frac{175}{26}\\end{matrix}\\right]$"
          },
          "metadata": {}
        },
        {
          "output_type": "stream",
          "name": "stdout",
          "text": [
            "\n",
            "\n",
            "При а = 3:\n",
            "\n"
          ]
        },
        {
          "output_type": "display_data",
          "data": {
            "text/plain": [
              "Matrix([\n",
              "[-1],\n",
              "[-2],\n",
              "[ 5]])"
            ],
            "text/latex": "$\\displaystyle \\left[\\begin{matrix}-1\\\\-2\\\\5\\end{matrix}\\right]$"
          },
          "metadata": {}
        },
        {
          "output_type": "stream",
          "name": "stdout",
          "text": [
            "\n",
            "\n"
          ]
        }
      ]
    },
    {
      "cell_type": "markdown",
      "metadata": {
        "id": "Ufm8BDgxaU1t"
      },
      "source": [
        "### Задание 3.\n",
        "Решить по формулам Крамера СЛАУ с параметрами\n",
        "\\begin{align*}\n",
        "\\left\\{\\begin{matrix} x_{1} + a_{12} x_{2}  = b_1\n",
        "\\\\ x_{1} + a_{22} x_{2}  = b_2\n",
        "\\end{matrix}\\right.\n",
        "\\end{align*}\n",
        "Проверить правильность найденного решения подстановкой.\n",
        "\n",
        "Найти такие наборы параметров, для которых полученное решение неприменимо (подсказка - из-за деления на ноль).\n",
        "\n",
        "Показать, что для этих наборов определитель матрицы левой части равен нулю, использовать подстановки subs."
      ]
    },
    {
      "cell_type": "code",
      "source": [
        "a12, a22 = symbols('a12 a22')\n",
        "b1, b2 = symbols('b1 b2')\n",
        "x1, x2 = symbols('x1 x2')\n",
        "\n",
        "A = Matrix([[1, a12], [1, a22]])\n",
        "b = Matrix([b1, b2])\n",
        "\n",
        "X = Matrix([0, 0])\n",
        "A_det = A.det()\n",
        "for i in range(A.shape[0]):\n",
        "    Ai = A.copy()\n",
        "    Ai.col_del(i)\n",
        "    X[i] = Ai.col_insert(i, b).det() / A_det\n",
        "display(X.T)\n",
        "display(Eq(A * X, b))\n",
        "print('\\nРешение неприменимо (знаменатель равен нулю) при (a22 - a12) = 0, т.е. при равенстве параметров, например 10:')\n",
        "a12_p = a22_p = 10\n",
        "display(X.T.subs([(a12, a12_p), (a22, a22_p)]))\n",
        "print('\\nОпределитель левой части для такого набора равен:')\n",
        "display(A.subs([(a12, a12_p), (a22, a22_p)]).det())\n",
        "\n"
      ],
      "metadata": {
        "id": "mtMc4R3ddDAG",
        "colab": {
          "base_uri": "https://localhost:8080/",
          "height": 206
        },
        "outputId": "534b417b-89a3-4f9f-c0e7-14e38b92c992"
      },
      "execution_count": 5,
      "outputs": [
        {
          "output_type": "display_data",
          "data": {
            "text/plain": [
              "Matrix([[(-a12*b2 + a22*b1)/(-a12 + a22), (-b1 + b2)/(-a12 + a22)]])"
            ],
            "text/latex": "$\\displaystyle \\left[\\begin{matrix}\\frac{- a_{12} b_{2} + a_{22} b_{1}}{- a_{12} + a_{22}} & \\frac{- b_{1} + b_{2}}{- a_{12} + a_{22}}\\end{matrix}\\right]$"
          },
          "metadata": {}
        },
        {
          "output_type": "display_data",
          "data": {
            "text/plain": [
              "Eq(Matrix([\n",
              "[a12*(-b1 + b2)/(-a12 + a22) + (-a12*b2 + a22*b1)/(-a12 + a22)],\n",
              "[a22*(-b1 + b2)/(-a12 + a22) + (-a12*b2 + a22*b1)/(-a12 + a22)]]), Matrix([\n",
              "[b1],\n",
              "[b2]]))"
            ],
            "text/latex": "$\\displaystyle \\left[\\begin{matrix}\\frac{a_{12} \\left(- b_{1} + b_{2}\\right)}{- a_{12} + a_{22}} + \\frac{- a_{12} b_{2} + a_{22} b_{1}}{- a_{12} + a_{22}}\\\\\\frac{a_{22} \\left(- b_{1} + b_{2}\\right)}{- a_{12} + a_{22}} + \\frac{- a_{12} b_{2} + a_{22} b_{1}}{- a_{12} + a_{22}}\\end{matrix}\\right] = \\left[\\begin{matrix}b_{1}\\\\b_{2}\\end{matrix}\\right]$"
          },
          "metadata": {}
        },
        {
          "output_type": "stream",
          "name": "stdout",
          "text": [
            "\n",
            "Решение неприменимо (знаменатель равен нулю) при (a22 - a12) = 0, т.е. при равенстве параметров, например 10:\n"
          ]
        },
        {
          "output_type": "display_data",
          "data": {
            "text/plain": [
              "Matrix([[zoo*(10*b1 - 10*b2), zoo*(-b1 + b2)]])"
            ],
            "text/latex": "$\\displaystyle \\left[\\begin{matrix}\\tilde{\\infty} \\left(10 b_{1} - 10 b_{2}\\right) & \\tilde{\\infty} \\left(- b_{1} + b_{2}\\right)\\end{matrix}\\right]$"
          },
          "metadata": {}
        },
        {
          "output_type": "stream",
          "name": "stdout",
          "text": [
            "\n",
            "Определитель левой части для такого набора равен:\n"
          ]
        },
        {
          "output_type": "display_data",
          "data": {
            "text/plain": [
              "0"
            ],
            "text/latex": "$\\displaystyle 0$"
          },
          "metadata": {}
        }
      ]
    },
    {
      "cell_type": "markdown",
      "metadata": {
        "id": "bsNtxeRDaU1w"
      },
      "source": [
        "### Задание 4.\n",
        "Дана матрица\n",
        "\\begin{align*}\n",
        "M =\n",
        "\\left(\\begin{matrix}\n",
        "p & 1 & 0 \\\\\n",
        "1 & q & 1 \\\\\n",
        "0 & 1 & r\n",
        "\\end{matrix}\\right)\n",
        "\\end{align*}\n",
        "Вычислить определитель этой матрицы.\n",
        "Найти целочисленные наборы параметров $p$, $q$, $r$, для которых определитель $M$ равен нулю. Рассматривать целые числа от 0 до 12 (НЕ включительно). Использовать подстановки subs в заранее вычисленный определитель.\n",
        "\n",
        "Из найденных наборов, содержащих равный 0 элемент, как столбцов составить матрицу $P$.\n",
        "\n",
        "Из найденных наборов, состоящих только из положительных элементов, как строк составить матрицу $R$."
      ]
    },
    {
      "cell_type": "code",
      "source": [
        "# Два последних предложения в условии написаны криво, поэтому не серчайте, если я неправильно его понял 😁.\n",
        "p, q, r = symbols('p q r')\n",
        "M = Matrix([[p, 1, 0], [1, q, 1], [0, 1, r]])\n",
        "det_M = M.det()\n",
        "P = []\n",
        "R = []\n",
        "\n",
        "for i in range(0, 12):\n",
        "  for j in range(0, 12):\n",
        "    for w in range(0, 12):\n",
        "      d = det_M.subs({p: i, q: j, r: w})\n",
        "      if d == 0:\n",
        "        if (i == 0 or j == 0 or w == 0):\n",
        "          P.append([i, j, w])\n",
        "        else:\n",
        "          R.append([i, j, w])\n",
        "\n",
        "print('Matrix Р:\\n')\n",
        "display(Matrix(P).T)\n",
        "print('\\nMatrix R:\\n')\n",
        "display(Matrix(R))"
      ],
      "metadata": {
        "id": "3cagI3UOdEn3",
        "colab": {
          "base_uri": "https://localhost:8080/",
          "height": 204
        },
        "outputId": "ba8def05-eb29-4716-9136-1900cc175cf0"
      },
      "execution_count": 7,
      "outputs": [
        {
          "output_type": "stream",
          "name": "stdout",
          "text": [
            "Matrix Р:\n",
            "\n"
          ]
        },
        {
          "output_type": "display_data",
          "data": {
            "text/plain": [
              "Matrix([\n",
              "[0, 0, 0, 0, 0, 0, 0, 0, 0, 0,  0,  0],\n",
              "[0, 1, 2, 3, 4, 5, 6, 7, 8, 9, 10, 11],\n",
              "[0, 0, 0, 0, 0, 0, 0, 0, 0, 0,  0,  0]])"
            ],
            "text/latex": "$\\displaystyle \\left[\\begin{array}{cccccccccccc}0 & 0 & 0 & 0 & 0 & 0 & 0 & 0 & 0 & 0 & 0 & 0\\\\0 & 1 & 2 & 3 & 4 & 5 & 6 & 7 & 8 & 9 & 10 & 11\\\\0 & 0 & 0 & 0 & 0 & 0 & 0 & 0 & 0 & 0 & 0 & 0\\end{array}\\right]$"
          },
          "metadata": {}
        },
        {
          "output_type": "stream",
          "name": "stdout",
          "text": [
            "\n",
            "Matrix R:\n",
            "\n"
          ]
        },
        {
          "output_type": "display_data",
          "data": {
            "text/plain": [
              "Matrix([\n",
              "[1, 2, 1],\n",
              "[2, 1, 2]])"
            ],
            "text/latex": "$\\displaystyle \\left[\\begin{matrix}1 & 2 & 1\\\\2 & 1 & 2\\end{matrix}\\right]$"
          },
          "metadata": {}
        }
      ]
    },
    {
      "cell_type": "markdown",
      "metadata": {
        "id": "sr7hz7rNaU1y"
      },
      "source": [
        "### Индивидуальное задание.\n",
        "1) В матрице $A$ выполнить заданную подстановку.\n",
        "\n",
        "2) В матрице $B$\n",
        "выполнить подстановки в форме списка,\n",
        "а также выполнить подстановки в форме словаря.\n",
        "\n",
        "Подстановки в форме словаря выполнить одновременно и не одновременно.\n",
        "\n",
        "\n",
        "Результат каждой подстановки выводить в виде отдельной матрицы."
      ]
    },
    {
      "cell_type": "markdown",
      "source": [
        "\n",
        "Индивидуальное задание.\n",
        "\n",
        "Вариант №175 (Просто скопировал из файла для удобства)\n",
        "\n",
        "\n",
        "    1) В матрице\n",
        "\\begin{align*}\n",
        "\\left[\\begin{matrix}9 & 6 & 16\\\\y & 8 & 7\\\\6 & 18 & 9\\\\6 & 4 & c\\\\1 & 3 & 9\\\\8 & 6 & 2\\\\17 & 7 & 10\\end{matrix}\\right]\n",
        "\\end{align*}\n",
        "выполнить подстановку $c=\\frac{7 y}{c}$\n",
        "\n",
        "\n",
        "    2) В матрице\n",
        "\\begin{align*}\n",
        "\\left[\\begin{matrix}v + 2 & 19 & 9 & 0 & 15 & 6 & 11\\\\14 & 18 & 16 & 17 & h + 4 & r + 3 & 1\\\\13 & 5 & 14 & 4 & 16 & 3 & 6\\\\4 & 3 & 13 & 15 & x - 4 & 4 & 19\\\\5 & 10 & 19 & 11 & 2 & q + 2 & 16\\end{matrix}\\right]\n",
        "\\end{align*}\n",
        "\n",
        "выполнить подстановки в форме списка\n",
        "\n",
        "$q=q - 2 r$,\n",
        "\n",
        "$r=\\frac{5 q}{v}$,\n",
        "\n",
        "$v=q - 3 x$\n",
        "\n",
        "а также выполнить следующие подстановки в форме словаря:\n",
        "\n",
        "$q=v + 4$,\n",
        "\n",
        "$v=q - 2$\n",
        "\n",
        "\n",
        "    Подстановки в форме словаря выполнить одновременно и не одновременно\n",
        "\n",
        "\n",
        "    Результат каждой подстановки выводить в виде отдельной матрицы"
      ],
      "metadata": {
        "id": "c29aEfRjPMfi"
      }
    },
    {
      "cell_type": "code",
      "source": [
        "# Номер одын\n",
        "\n",
        "y, c = symbols('y c')\n",
        "d = 7 * y / c\n",
        "matrix = Matrix([[9,  6,  16], \\\n",
        "                 [y,  8,  7], \\\n",
        "                 [6,  18, 9], \\\n",
        "                 [6,  4,  c], \\\n",
        "                 [1,  3,  9], \\\n",
        "                 [8,  6,  2], \\\n",
        "                 [17, 7,  10]])\n",
        "matrix.subs(c, d)\n"
      ],
      "metadata": {
        "colab": {
          "base_uri": "https://localhost:8080/",
          "height": 160
        },
        "id": "-AZbcs9SPYox",
        "outputId": "d60752ce-9059-4a66-e0eb-855b9b7dee53"
      },
      "execution_count": 12,
      "outputs": [
        {
          "output_type": "execute_result",
          "data": {
            "text/plain": [
              "Matrix([\n",
              "[ 9,  6,    16],\n",
              "[ y,  8,     7],\n",
              "[ 6, 18,     9],\n",
              "[ 6,  4, 7*y/c],\n",
              "[ 1,  3,     9],\n",
              "[ 8,  6,     2],\n",
              "[17,  7,    10]])"
            ],
            "text/latex": "$\\displaystyle \\left[\\begin{matrix}9 & 6 & 16\\\\y & 8 & 7\\\\6 & 18 & 9\\\\6 & 4 & \\frac{7 y}{c}\\\\1 & 3 & 9\\\\8 & 6 & 2\\\\17 & 7 & 10\\end{matrix}\\right]$"
          },
          "metadata": {},
          "execution_count": 12
        }
      ]
    },
    {
      "cell_type": "code",
      "source": [
        "# Номер два\n",
        "\n",
        "q, r, v, h, x = symbols('q r v h x')\n",
        "matrix = Matrix([[v + 2,  19, 9,  0,  15,    6,     11], \\\n",
        "                 [14,     18, 16, 17, h + 4, r + 3, 1 ], \\\n",
        "                 [13,     5,  14, 4,  16,    3,     6 ], \\\n",
        "                 [4,      3,  13, 15, x - 4, 4,     19], \\\n",
        "                 [5,      10, 19, 11, 2,     q + 2, 16]])\n",
        "\n",
        "print('Подстановка в форме списка:\\n')\n",
        "display(matrix.subs([(q, q - 2 * r), (r, 5 * q / v), (v, q - 3 * x)]))\n",
        "\n",
        "print('\\nПодстановка в форме словаря не одновременная:\\n')\n",
        "display(matrix.subs({q: v + 4, v: q - 2}))\n",
        "\n",
        "print('\\nПодстановка в форме словаря одновременная:\\n')\n",
        "display(matrix.subs({q: v + 4, v: q - 2}, simultaneous=True))\n"
      ],
      "metadata": {
        "colab": {
          "base_uri": "https://localhost:8080/",
          "height": 465
        },
        "id": "8NjfYbL3S1WK",
        "outputId": "8a8f7e76-4c5a-48a0-e5be-e0c0b2f3610f"
      },
      "execution_count": 28,
      "outputs": [
        {
          "output_type": "stream",
          "name": "stdout",
          "text": [
            "Подстановка в форме списка:\n",
            "\n"
          ]
        },
        {
          "output_type": "display_data",
          "data": {
            "text/plain": [
              "Matrix([\n",
              "[q - 3*x + 2, 19,  9,  0,    15,                      6, 11],\n",
              "[         14, 18, 16, 17, h + 4,      5*q/(q - 3*x) + 3,  1],\n",
              "[         13,  5, 14,  4,    16,                      3,  6],\n",
              "[          4,  3, 13, 15, x - 4,                      4, 19],\n",
              "[          5, 10, 19, 11,     2, q - 10*q/(q - 3*x) + 2, 16]])"
            ],
            "text/latex": "$\\displaystyle \\left[\\begin{matrix}q - 3 x + 2 & 19 & 9 & 0 & 15 & 6 & 11\\\\14 & 18 & 16 & 17 & h + 4 & \\frac{5 q}{q - 3 x} + 3 & 1\\\\13 & 5 & 14 & 4 & 16 & 3 & 6\\\\4 & 3 & 13 & 15 & x - 4 & 4 & 19\\\\5 & 10 & 19 & 11 & 2 & q - \\frac{10 q}{q - 3 x} + 2 & 16\\end{matrix}\\right]$"
          },
          "metadata": {}
        },
        {
          "output_type": "stream",
          "name": "stdout",
          "text": [
            "\n",
            "Подстановка в форме словаря не одновременная:\n",
            "\n"
          ]
        },
        {
          "output_type": "display_data",
          "data": {
            "text/plain": [
              "Matrix([\n",
              "[ q, 19,  9,  0,    15,     6, 11],\n",
              "[14, 18, 16, 17, h + 4, r + 3,  1],\n",
              "[13,  5, 14,  4,    16,     3,  6],\n",
              "[ 4,  3, 13, 15, x - 4,     4, 19],\n",
              "[ 5, 10, 19, 11,     2, q + 4, 16]])"
            ],
            "text/latex": "$\\displaystyle \\left[\\begin{matrix}q & 19 & 9 & 0 & 15 & 6 & 11\\\\14 & 18 & 16 & 17 & h + 4 & r + 3 & 1\\\\13 & 5 & 14 & 4 & 16 & 3 & 6\\\\4 & 3 & 13 & 15 & x - 4 & 4 & 19\\\\5 & 10 & 19 & 11 & 2 & q + 4 & 16\\end{matrix}\\right]$"
          },
          "metadata": {}
        },
        {
          "output_type": "stream",
          "name": "stdout",
          "text": [
            "\n",
            "Подстановка в форме словаря одновременная:\n",
            "\n"
          ]
        },
        {
          "output_type": "display_data",
          "data": {
            "text/plain": [
              "Matrix([\n",
              "[ q, 19,  9,  0,    15,     6, 11],\n",
              "[14, 18, 16, 17, h + 4, r + 3,  1],\n",
              "[13,  5, 14,  4,    16,     3,  6],\n",
              "[ 4,  3, 13, 15, x - 4,     4, 19],\n",
              "[ 5, 10, 19, 11,     2, v + 6, 16]])"
            ],
            "text/latex": "$\\displaystyle \\left[\\begin{matrix}q & 19 & 9 & 0 & 15 & 6 & 11\\\\14 & 18 & 16 & 17 & h + 4 & r + 3 & 1\\\\13 & 5 & 14 & 4 & 16 & 3 & 6\\\\4 & 3 & 13 & 15 & x - 4 & 4 & 19\\\\5 & 10 & 19 & 11 & 2 & v + 6 & 16\\end{matrix}\\right]$"
          },
          "metadata": {}
        }
      ]
    }
  ]
}