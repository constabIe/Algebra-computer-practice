{
  "nbformat": 4,
  "nbformat_minor": 0,
  "metadata": {
    "kernelspec": {
      "display_name": "Python 3",
      "language": "python",
      "name": "python3"
    },
    "language_info": {
      "codemirror_mode": {
        "name": "ipython",
        "version": 3
      },
      "file_extension": ".py",
      "mimetype": "text/x-python",
      "name": "python",
      "nbconvert_exporter": "python",
      "pygments_lexer": "ipython3",
      "version": "3.7.3"
    },
    "colab": {
      "provenance": []
    }
  },
  "cells": [
    {
      "cell_type": "code",
      "metadata": {
        "id": "89leUlBEO3kD"
      },
      "source": [
        "from sympy import linsolve, Matrix, S, Symbol, symbols, linear_eq_to_matrix,\\\n",
        "Eq, zeros, latex\n",
        "from IPython.display import Latex"
      ],
      "execution_count": null,
      "outputs": []
    },
    {
      "cell_type": "markdown",
      "metadata": {
        "id": "PVEyzdFgO3kJ"
      },
      "source": [
        "# Занятие 5\n",
        "# Алгебра\n",
        "\n",
        "##  Прямые и плоскости в пространстве. Уравнения прямых и  плоскостей.\n",
        "### Задание 1.\n",
        "Определить, пересекаются ли плоскости (все сразу). Если пересекаются, найти точку пересечения.\n",
        "\n",
        "Составить СЛАУ в виде списка уравнений, решить с помощью linsolve.\n",
        "\n",
        "$-8x+5y-2z+28=0$\n",
        "\n",
        "$-11x-10y-16z+71=0$\n",
        "\n",
        "$-7x+3y+8z-27=0$."
      ]
    },
    {
      "cell_type": "code",
      "source": [
        "x, y, z = symbols('x y z')\n",
        "planes_A = Matrix([[-8, 5, -2, 28], [-11, -10, -16, 71], [-7, 3, 8, -27]])\n",
        "planes_b = Matrix([0, 0, 0])\n",
        "res = linsolve(planes_A, x, y, z)\n",
        "X = Matrix([x, y, z])\n",
        "display(Latex(fr'{latex(Eq(X, Matrix(*res), evaluate=False))}'))"
      ],
      "metadata": {
        "id": "6wKgw-cMH1ZM",
        "colab": {
          "base_uri": "https://localhost:8080/",
          "height": 99
        },
        "outputId": "80da8109-774f-4650-e2ea-663e2701b10c"
      },
      "execution_count": 53,
      "outputs": [
        {
          "output_type": "display_data",
          "data": {
            "text/plain": [
              "<IPython.core.display.Latex object>"
            ],
            "text/latex": "\\left[\\begin{matrix}x\\\\y\\\\z\\end{matrix}\\right] = \\left[\\begin{matrix}-1\\\\2\\\\-5\\end{matrix}\\right]"
          },
          "metadata": {}
        }
      ]
    },
    {
      "cell_type": "markdown",
      "metadata": {
        "id": "ypS69_K9O3kQ"
      },
      "source": [
        "### Задание 2.\n",
        "Найти точку пересечения прямой, проходящей через точки $A(-3,5,1)$ и $B(5,2,-3)$ и плоскости, в которой лежат точки\n",
        "$K(4,3,0)$, $M(2,4,-2)$ и $N(-2,2,-1)$."
      ]
    },
    {
      "cell_type": "code",
      "source": [
        "x, y, z, t = symbols('x y z t')\n",
        "A = Matrix([-3, 5, 1])\n",
        "B = Matrix([5, 2, -3])\n",
        "ab = B - A\n",
        "AB = A + ab*t\n",
        "\n",
        "X = Matrix([x, y, z])\n",
        "AB_sys = [Eq(X[i], AB[i]) for i in range(3)]\n",
        "\n",
        "K = Matrix([4, 3, 0])\n",
        "M = Matrix([2, 4, -2])\n",
        "N = Matrix([-2, 2, -1])\n",
        "det = Matrix([[x - K[0], y - M[0], z - N[0]],\n",
        "              [K[1] - K[0], M[1] - M[0], N[1] - N[0]],\n",
        "              [K[2] - K[0], M[2] - M[0], N[2] - N[0]]]).det()\n",
        "\n",
        "slae = AB_sys + plane\n",
        "res = linsolve(slae, x, y, z, t)\n",
        "display(Latex(fr'{latex(Eq(Matrix([x, y, z]), Matrix(*res)[:-1, :], evaluate=False))}'))"
      ],
      "metadata": {
        "id": "JP9b46XPH25D",
        "colab": {
          "base_uri": "https://localhost:8080/",
          "height": 99
        },
        "outputId": "e43c7efa-d948-4acc-baa0-2651b4a7aad2"
      },
      "execution_count": 84,
      "outputs": [
        {
          "output_type": "display_data",
          "data": {
            "text/plain": [
              "<IPython.core.display.Latex object>"
            ],
            "text/latex": "\\left[\\begin{matrix}x\\\\y\\\\z\\end{matrix}\\right] = \\left[\\begin{matrix}\\frac{67}{43}\\\\\\frac{283}{86}\\\\- \\frac{55}{43}\\end{matrix}\\right]"
          },
          "metadata": {}
        }
      ]
    },
    {
      "cell_type": "markdown",
      "metadata": {
        "id": "ok151h_IO3kS"
      },
      "source": [
        "### Задание 3.\n",
        "Составить параметрические уравнения прямой, являющейся линией пересечения плоскостей $𝑦+2𝑧−4=0$ и $4𝑥+3𝑦+2𝑧−4=0$.\n",
        "\n",
        "Указание: составить СЛАУ из уравнений плоскостей, воспользоваться linsolve(), заменить переменную в полученном решении на параметр t и составить СЛАУ из параметрических уравнений."
      ]
    },
    {
      "cell_type": "code",
      "source": [
        "x, y, z, t = symbols('x y z t')\n",
        "planes = [[0, 1, 2, 4], [4, 3, 2, 4]]\n",
        "res = linsolve(Matrix(planes), x, y, t)\n",
        "ab = Matrix(*res)\n",
        "X = Matrix([x, y, z])\n",
        "AB = [Eq(X[i], ab[i]) for i in range(3)]\n",
        "display(Latex(fr'{latex(AB)}'))"
      ],
      "metadata": {
        "id": "RbuMsA8EH4Ub",
        "colab": {
          "base_uri": "https://localhost:8080/",
          "height": 38
        },
        "outputId": "632f9acb-ebe5-4059-e732-c79be08c53d4"
      },
      "execution_count": null,
      "outputs": [
        {
          "output_type": "display_data",
          "data": {
            "text/plain": [
              "<IPython.core.display.Latex object>"
            ],
            "text/latex": "\\left[ x = t - 2, \\  y = 4 - 2 t, \\  z = t\\right]"
          },
          "metadata": {}
        }
      ]
    },
    {
      "cell_type": "markdown",
      "metadata": {
        "id": "kU3zatrMO3ka"
      },
      "source": [
        "###  Задание 4.\n",
        "Прямая задана параметрическими уравнениями:\n",
        "$$\n",
        "\\left\\{\\begin{matrix}\n",
        "x=2+5t\\\\\n",
        "y=-1-2t\\\\\n",
        "z=4-3t\n",
        "\\end{matrix}\\right..\n",
        "$$\n",
        "Представить прямую в виде линии пересечения двух плоскостей, одна из которых проходит через начало координат, а вторая плоскость перпендикулярна первой плоскости. Вывести на экран уравнения плоскостей.\n",
        "\n",
        "Указание: составить параметрические уравнения прямой в виде списка правых частей уравнений, затем по образцу Примера 5 составить уравнение плоскости, проходящей через начало координат (по трем точкам). Для составления второй плоскости заметим, что вектор нормали к первой плоскости и любой вектор прямой параллельны второй плоскости, поэтому можно применить формулу 4 уравнения плоскости.\n",
        "Вектор нормали можно составить вручную, глядя на уравнение первой плоскости."
      ]
    },
    {
      "cell_type": "code",
      "source": [
        "equations = [2 + 5*t, -1 - 2*t, 4 - 3*t ]\n",
        "X1 = zeros (3, 1)\n",
        "X2 = zeros (3, 1)\n",
        "S = zeros (3, 1)\n",
        "X = Matrix([x, y, z])\n",
        "for i in range (0, 3) :\n",
        "  X1[i] = equations[i].subs(t, 1)\n",
        "  X2[i] = equations[i].subs(t, 2)\n",
        "res = Matrix([(P - X1).T for P in (X, X2, S)]).det()\n",
        "P1 = Eq(res, 0)\n",
        "display(P1)\n",
        "\n",
        "N = zeros (3, 1)\n",
        "sym = [x, y, z]\n",
        "for i in range (0, 3):\n",
        "  N[i] = Matrix([(P - X1).T for P in (X, X2, S)]).det().subs({sym[i] : 1, sym[i - 1] : 0, sym[i - 2] : 0})\n",
        "P2 = Eq(Matrix([(X - X1).T, (X1 - X2).T, N.T]).det(), 0)\n",
        "display(P2)"
      ],
      "metadata": {
        "id": "CZIe6FSEH5qT",
        "colab": {
          "base_uri": "https://localhost:8080/",
          "height": 59
        },
        "outputId": "2e83b43b-c316-4353-ea58-15f9556cb813"
      },
      "execution_count": null,
      "outputs": [
        {
          "output_type": "display_data",
          "data": {
            "text/plain": [
              "Eq(11*x + 26*y + z, 0)"
            ],
            "text/latex": "$\\displaystyle 11 x + 26 y + z = 0$"
          },
          "metadata": {}
        },
        {
          "output_type": "display_data",
          "data": {
            "text/plain": [
              "Eq(-76*x + 38*y - 152*z + 798, 0)"
            ],
            "text/latex": "$\\displaystyle - 76 x + 38 y - 152 z + 798 = 0$"
          },
          "metadata": {}
        }
      ]
    },
    {
      "cell_type": "markdown",
      "metadata": {
        "id": "-4N5c7jDO3kd"
      },
      "source": [
        "### Индивидуальное задание\n",
        "Даны точки $A$, $B$, $C$, $M$, $K$ и $P$  в пространстве. Составить уравнение плоскостей $ABC$ и $MKP$, найти линию пересечения плоскостей или установить их параллельность.\n",
        "\n",
        "Составить систему параметрических уравнений прямых $MK$ и $CN$, прямая $CN$ перпендикулярна плоскости $ABC$. Найти точку пересечения $MK$ и $CN$."
      ]
    },
    {
      "cell_type": "markdown",
      "source": [
        "###Вариант N 175\n",
        "\n",
        "Даны точки $A\\left( 4, \\  5, \\  -4\\right)$, $B\\left( 5, \\  4, \\  -2\\right)$, $C\\left( 2, \\  4, \\  4\\right)$, $M\\left( -2, \\  -10, \\  5\\right)$, $K\\left( -8, \\  -4, \\  -7\\right)$ и $P\\left( -8, \\  -7, \\  5\\right)$.\n",
        "\n",
        "\n",
        "Составить уравнение плоскостей $АВС$ и $MKP$,\n",
        "найти линию пересечения плоскостей или установить их параллельность.\n",
        "\n",
        "Составить систему параметрических уравнений прямых $MK$ и $CN$,\n",
        "прямая $CN$ перпендикулярна плоскости $АВС$.\n",
        "Найти точку пересечения $MK$ и $CN$."
      ],
      "metadata": {
        "id": "SKFAddo09Ago"
      }
    },
    {
      "cell_type": "code",
      "source": [
        "x, y, z, t, t1, t2 = symbols('x y z t t1 t2')\n",
        "A = Matrix([4, 5, -4])\n",
        "B = Matrix([5, 4, -2])\n",
        "C = Matrix([2, 4, 4])\n",
        "M = Matrix([-2, -10, 5])\n",
        "K = Matrix([-8, -4, -7])\n",
        "P = Matrix([-8, -7, 5])\n",
        "\n",
        "# Вывод уравнений плоскостей\n",
        "vAB = B - A\n",
        "vAC = C - A\n",
        "detABC = Matrix([[x - A[0], y - A[1], z - A[2]],\n",
        "                 [vAB[0], vAB[1], vAB[2]],\n",
        "                 [vAC[0], vAC[1], vAC[2]]]).det()\n",
        "ABC = [Eq(detABC, 0)]\n",
        "display(Latex(fr'\\text{{Плоскость ABC: }} {latex(*ABC)}'))\n",
        "\n",
        "vMP = P - M\n",
        "vMK = K - M\n",
        "detMPK = Matrix([[x - M[0], y - M[1], z - M[2]],\n",
        "                 [vMP[0], vMP[1], vMP[2]],\n",
        "                 [vMK[0], vMK[1], vMK[2]]]).det()\n",
        "MPK = [Eq(detMPK, 0)]\n",
        "display(Latex(fr'\\text{{Плоскость MPK: }} {latex(*MPK)}'))\n",
        "\n",
        "# Проверка на пересечение или параллельность плоскостей\n",
        "res = linsolve(ABC + MPK, x, y, z, t)\n",
        "display(Latex(fr'\\text{{Решение CЛАУ }} {latex(res)} \\Rightarrow \\text{{Плоскости не пересекаются}}'))\n",
        "\n",
        "MPK = linear_eq_to_matrix(MPK, [x, y, z])\n",
        "ABC = linear_eq_to_matrix(ABC, [x, y, z])\n",
        "flag = ((S(ABC[0][0]) / MPK[0][0] == S(ABC[0][1]) / MPK[0][1]) == S(ABC[0][2]) / MPK[0][2]) != S(72)/-702\n",
        "display(Latex(fr'\\text{{flag = }} {latex(flag)} \\Rightarrow \\text{{Плоскости параллельны}}'))\n",
        "\n",
        "\n",
        "# Вывод MK и CN\n",
        "X = Matrix([x, y, z])\n",
        "\n",
        "mk = K - M\n",
        "MK = M + mk*t1\n",
        "MK_sys = [Eq(X[i], MK[i]) for i in range(3)]\n",
        "display(Latex(fr'\\text{{ Уравнение прямой }} MK:\\ {latex(Eq(X, MK, evaluate=False))}'))\n",
        "\n",
        "cn = Matrix([ABC[0][i] for i in range(3)])\n",
        "CN = C + cn*t2\n",
        "CN_sys = [Eq(X[i], CN[i]) for i in range(3)]\n",
        "display(Latex(fr'\\text{{ Уравнение прямой }} CN:\\ {latex(Eq(X, CN, evaluate=False))}'))\n",
        "\n",
        "# Проверка на персечение прямых MK и CN\n",
        "insec = CN_sys + MK_sys\n",
        "insec_res = linsolve(insec, x, y, z, t1, t2)\n",
        "display(Latex(fr'\\text{{ Решение СЛАУ}}{latex(insec_res)}\\Rightarrow \\\n",
        "                 \\text{{прямые MK и СN пересекаются в точке}} {latex(Matrix(*insec_res)[:-2, :])}'))"
      ],
      "metadata": {
        "id": "vBzbxNOtH7JL",
        "colab": {
          "base_uri": "https://localhost:8080/",
          "height": 299
        },
        "outputId": "a03336e2-2887-42fe-f58e-fb4a329f5c66"
      },
      "execution_count": 92,
      "outputs": [
        {
          "output_type": "display_data",
          "data": {
            "text/plain": [
              "<IPython.core.display.Latex object>"
            ],
            "text/latex": "\\text{Плоскость ABC: } - 6 x - 12 y - 3 z + 72 = 0"
          },
          "metadata": {}
        },
        {
          "output_type": "display_data",
          "data": {
            "text/plain": [
              "<IPython.core.display.Latex object>"
            ],
            "text/latex": "\\text{Плоскость MPK: } - 36 x - 72 y - 18 z - 702 = 0"
          },
          "metadata": {}
        },
        {
          "output_type": "display_data",
          "data": {
            "text/plain": [
              "<IPython.core.display.Latex object>"
            ],
            "text/latex": "\\text{Решение CЛАУ } \\emptyset \\Rightarrow \\text{Плоскости не пересекаются}"
          },
          "metadata": {}
        },
        {
          "output_type": "display_data",
          "data": {
            "text/plain": [
              "<IPython.core.display.Latex object>"
            ],
            "text/latex": "\\text{flag = } \\text{True} \\Rightarrow \\text{Плоскости параллельны}"
          },
          "metadata": {}
        },
        {
          "output_type": "display_data",
          "data": {
            "text/plain": [
              "<IPython.core.display.Latex object>"
            ],
            "text/latex": "\\text{ Уравнение прямой } MK:\\ \\left[\\begin{matrix}x\\\\y\\\\z\\end{matrix}\\right] = \\left[\\begin{matrix}- 6 t_{1} - 2\\\\6 t_{1} - 10\\\\5 - 12 t_{1}\\end{matrix}\\right]"
          },
          "metadata": {}
        },
        {
          "output_type": "display_data",
          "data": {
            "text/plain": [
              "<IPython.core.display.Latex object>"
            ],
            "text/latex": "\\text{ Уравнение прямой } CN:\\ \\left[\\begin{matrix}x\\\\y\\\\z\\end{matrix}\\right] = \\left[\\begin{matrix}2 - 6 t_{2}\\\\4 - 12 t_{2}\\\\4 - 3 t_{2}\\end{matrix}\\right]"
          },
          "metadata": {}
        },
        {
          "output_type": "display_data",
          "data": {
            "text/plain": [
              "<IPython.core.display.Latex object>"
            ],
            "text/latex": "\\text{ Решение СЛАУ}\\left\\{\\left( -4, \\  -8, \\  1, \\  \\frac{1}{3}, \\  1\\right)\\right\\}\\Rightarrow \\\n                 \\text{прямые MK и СN пересекаются в точке} \\left[\\begin{matrix}-4\\\\-8\\\\1\\end{matrix}\\right]"
          },
          "metadata": {}
        }
      ]
    }
  ]
}