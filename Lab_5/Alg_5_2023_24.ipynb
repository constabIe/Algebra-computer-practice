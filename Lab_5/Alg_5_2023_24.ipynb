{
  "nbformat": 4,
  "nbformat_minor": 0,
  "metadata": {
    "kernelspec": {
      "display_name": "Python 3",
      "language": "python",
      "name": "python3"
    },
    "language_info": {
      "codemirror_mode": {
        "name": "ipython",
        "version": 3
      },
      "file_extension": ".py",
      "mimetype": "text/x-python",
      "name": "python",
      "nbconvert_exporter": "python",
      "pygments_lexer": "ipython3",
      "version": "3.7.3"
    },
    "colab": {
      "provenance": []
    }
  },
  "cells": [
    {
      "cell_type": "code",
      "metadata": {
        "id": "Dps1TUmz2qz3"
      },
      "source": [
        "from sympy import linsolve, Matrix, S, Symbol, symbols, linear_eq_to_matrix,\\\n",
        "Eq, zeros, latex\n",
        "from IPython.display import Latex"
      ],
      "execution_count": 1,
      "outputs": []
    },
    {
      "cell_type": "markdown",
      "metadata": {
        "id": "tcl0k_zD2qz7"
      },
      "source": [
        "# Практическое занятие 5\n",
        "# Компьютерный практикум по алгебре на Python\n",
        "## Прямые и плоскости в пространстве. Уравнения прямых и  плоскостей.\n",
        "1. Общее уравнение плоскости:\n",
        "$$\n",
        "Ax+By+Cz+D=0,\n",
        "$$\n",
        "коэффициенты $A$, $B$ и $C$ являются координатами вектора нормали (он по определению перпендикулярен плоскости).\n",
        "\n",
        "2. Пусть $A(x_0,y_0,z_0)$ - фиксированная точка на плоскости $\\alpha$, вектор $\\bar{n}(n_x,n_y,n_z)$ - нормаль к плоскости $\\alpha$, тогда в векторной форме уравнение плоскости $\\alpha$ запишется в виде:\n",
        "$$\n",
        "\\bar{n}\\cdot{\\overline{MA}}=0,\n",
        "$$\n",
        "где $M(x,y,z)$ - произвольная точка на плоскости $\\alpha$, ${\\overline{MA}}$ - вектор в плоскости $\\alpha$, знак $\\cdot$ означает скалярное произведение.\n",
        "\n",
        "3. Пусть $A(x_1,y_1,z_1)$, $B(x_2,y_2,z_2)$ и $C(x_3,y_3,z_3)$ - три точки, определяющие плоскость, тогда уравнение плоскости можно записать в виде:\n",
        "$$\n",
        "\\left|\\begin{matrix}\n",
        "x-x_1&y-y_1&z-z_1\\\\\n",
        "x_2-x_1&y_2-y_1&z_2-z_1\\\\\n",
        "x_3-x_1&y_3-y_1&z_3-z_1\n",
        "\\end{matrix}\\right|=0\n",
        "$$\n",
        "4. Пусть в плоскости лежит точка $A(x_0, y_0, z_0)$ и плоскость параллельна векторам $a_1(x_1, y_1, z_1)$ и  $a_2(x_2, y_2, z_2)$, тогда уравнение плоскости можно записать в виде:\n",
        "$$\n",
        "\\left|\\begin{matrix}\n",
        "x-x_0& y-y_0& z-z_0\\\\\n",
        "x_1& y_1& z_1\\\\\n",
        "x_2& y_2& z_2\n",
        "\\end{matrix}\\right|=0\n",
        "$$\n",
        "### Уравнение прямой в пространстве:\n",
        "Параметрические уравнения прямой:\n",
        "$$\n",
        "\\left\\{\\begin{matrix}\n",
        "x=x_0+ta_1\\\\\n",
        "y=y_0+ta_2\\\\\n",
        "z=z_0+ta_3\n",
        "\\end{matrix}\\right.\n",
        "$$\n",
        "в векторной форме:\n",
        "$$\n",
        "X=A+t\\bar{a}\n",
        "$$\n",
        "$X$ и $A$ - радиус-векторы произвольной точки $X$ и заданной точки $A$, лежащих на прямой с направляющим вектором $\\bar{a}(a_1, a_2, a_3)$.\n",
        "\n",
        "Прямую в пространстве можно задать как линию пересечения двух плоскостей:\n",
        "$$\n",
        "\\left\\{\\begin{matrix}\n",
        "A_1x+B_1y+C_1z+D_1=0\\\\\n",
        "A_2x+B_2y+C_2z+D_2=0\n",
        "\\end{matrix}\\right.\n",
        "$$\n"
      ]
    },
    {
      "cell_type": "markdown",
      "metadata": {
        "id": "cJZAcL_s2q0D"
      },
      "source": [
        "## Пример 1.\n",
        "Пусть плоскость $\\alpha$ задана общим уравнением\n",
        "$$\n",
        "3x+5y-2z+5=0.\n",
        "$$\n",
        "Найти точку на плоскости, через которую проходит прямая, заданная уравнениями:\n",
        "$$\n",
        "\\left\\{\\begin{matrix}\n",
        "x=1+3t\\\\\n",
        "y=-2+2t\\\\\n",
        "z=-t\n",
        "\\end{matrix}\\right.\n",
        "$$\n",
        "Решим СЛАУ:\n",
        "$$\n",
        "\\left\\{\\begin{matrix}\n",
        "3x+5y-2z+5=0\\\\\n",
        "x=1+3t\\\\\n",
        "y=-2+2t\\\\\n",
        "z=-t\n",
        "\\end{matrix}\\right.,\n",
        "$$\n",
        "Введем ее в виде списка уравнений, и решим с помощью linsolve()"
      ]
    },
    {
      "cell_type": "code",
      "metadata": {
        "colab": {
          "base_uri": "https://localhost:8080/",
          "height": 38
        },
        "id": "7xR_kQa72q0E",
        "outputId": "28bdf749-82b6-40a9-d156-2633a075d68c"
      },
      "source": [
        "x, y, z, t = symbols('x y z t')\n",
        "SLAE = [Eq(3 * x + 5 * y - 2 * z + 5, 0), Eq(x, 1 + 3 * t), Eq(y, -2 + 2 * t), Eq(z, -t)]\n",
        "res = linsolve(SLAE, x, y, z, t)\n",
        "display(Latex(fr'\\text{{ Решение }}{latex(res)}'))"
      ],
      "execution_count": 2,
      "outputs": [
        {
          "output_type": "display_data",
          "data": {
            "text/plain": [
              "<IPython.core.display.Latex object>"
            ],
            "text/latex": "\\text{ Решение }\\left\\{\\left( \\frac{9}{7}, \\  - \\frac{38}{21}, \\  - \\frac{2}{21}, \\  \\frac{2}{21}\\right)\\right\\}"
          },
          "metadata": {}
        }
      ]
    },
    {
      "cell_type": "markdown",
      "metadata": {
        "id": "CVRRo1ek2q0G"
      },
      "source": [
        "Выделим координаты $x,y,z$ точки пересечения:"
      ]
    },
    {
      "cell_type": "code",
      "metadata": {
        "colab": {
          "base_uri": "https://localhost:8080/",
          "height": 38
        },
        "id": "euLeg4JA4Enu",
        "outputId": "588f999c-42f3-4541-fade-352455a27036"
      },
      "source": [
        "display(Latex(fr'\\text{{ Решение в виде матрицы }}{latex(Matrix(*res)[:-1, :].T)}'))"
      ],
      "execution_count": 3,
      "outputs": [
        {
          "output_type": "display_data",
          "data": {
            "text/plain": [
              "<IPython.core.display.Latex object>"
            ],
            "text/latex": "\\text{ Решение в виде матрицы }\\left[\\begin{matrix}\\frac{9}{7} & - \\frac{38}{21} & - \\frac{2}{21}\\end{matrix}\\right]"
          },
          "metadata": {}
        }
      ]
    },
    {
      "cell_type": "markdown",
      "metadata": {
        "id": "uNR9jcfy2q0H"
      },
      "source": [
        "## Пример 2.\n",
        "Определить, пересекаются ли прямые в пространстве, если одна из них проходит через точки $A(1, 2, 3)$ и $B(-3, 5, 0)$, а вторая прямая проходит через начало координат перпендикулярно плоскости $5x - 2y + 3z - 1 = 0$.\n",
        "\n",
        "Вначале найдем координаты направляющего вектора для прямой $AB$, для этого составим матрицы (векторы-столбцы) из координат точек  $A$ и $B$, затем вычтем один вектор-столбец из другого:"
      ]
    },
    {
      "cell_type": "code",
      "metadata": {
        "colab": {
          "base_uri": "https://localhost:8080/",
          "height": 38
        },
        "id": "nhlBIl-a2q0I",
        "outputId": "d259a1df-ee69-4b7d-aba4-791c46f0fcb6"
      },
      "source": [
        "A = Matrix([1, 2, 3])\n",
        "B = Matrix([-3, 5, 0])\n",
        "a1 = B - A\n",
        "display(Latex(fr'\\text{{ Направляющий вектор прямой }} AB\\ {latex(a1.T)}'))"
      ],
      "execution_count": 5,
      "outputs": [
        {
          "output_type": "display_data",
          "data": {
            "text/plain": [
              "<IPython.core.display.Latex object>"
            ],
            "text/latex": "\\text{ Направляющий вектор прямой } AB\\ \\left[\\begin{matrix}-4 & 3 & -3\\end{matrix}\\right]"
          },
          "metadata": {}
        }
      ]
    },
    {
      "cell_type": "markdown",
      "metadata": {
        "id": "pYZsHiXx2q0I"
      },
      "source": [
        "Запишем уравнение прямой $AB$ в векторной форме:"
      ]
    },
    {
      "cell_type": "code",
      "metadata": {
        "colab": {
          "base_uri": "https://localhost:8080/",
          "height": 78
        },
        "id": "0vje3T8G2q0J",
        "outputId": "b1bd1a30-69d9-4479-fbab-ca8ccb7296e1"
      },
      "source": [
        "x, y, z, t1 = symbols('x y z t1')\n",
        "X = Matrix([x, y, z])\n",
        "AB = A + t1 * a1\n",
        "display(Latex(fr'\\text{{ Уравнение прямой }} AB\\ {latex(Eq(X, AB, evaluate=False))}'))"
      ],
      "execution_count": 6,
      "outputs": [
        {
          "output_type": "display_data",
          "data": {
            "text/plain": [
              "<IPython.core.display.Latex object>"
            ],
            "text/latex": "\\text{ Уравнение прямой } AB\\ \\left[\\begin{matrix}x\\\\y\\\\z\\end{matrix}\\right] = \\left[\\begin{matrix}1 - 4 t_{1}\\\\3 t_{1} + 2\\\\3 - 3 t_{1}\\end{matrix}\\right]"
          },
          "metadata": {}
        }
      ]
    },
    {
      "cell_type": "markdown",
      "metadata": {
        "id": "uIMPeM4c6Ehv"
      },
      "source": [
        "Более красивый и привычный вид система будет иметь, если составить отдельные уравнения для каждой координаты."
      ]
    },
    {
      "cell_type": "code",
      "metadata": {
        "colab": {
          "base_uri": "https://localhost:8080/",
          "height": 102
        },
        "id": "i1MYeL-76QfV",
        "outputId": "e13f98f8-3d49-4225-f918-2fd41b7b62e8"
      },
      "source": [
        "AB_sys = [Eq(X[i], AB[i]) for i in range(len(AB))]\n",
        "display(Latex(fr'\\text{{Параметрические уравнения прямой }} AB\\ {latex(AB_sys)}'))\n",
        "display(*AB_sys)"
      ],
      "execution_count": 8,
      "outputs": [
        {
          "output_type": "display_data",
          "data": {
            "text/plain": [
              "<IPython.core.display.Latex object>"
            ],
            "text/latex": "\\text{Параметрические уравнения прямой } AB\\ \\left[ x = 1 - 4 t_{1}, \\  y = 3 t_{1} + 2, \\  z = 3 - 3 t_{1}\\right]"
          },
          "metadata": {}
        },
        {
          "output_type": "display_data",
          "data": {
            "text/plain": [
              "Eq(x, 1 - 4*t1)"
            ],
            "text/latex": "$\\displaystyle x = 1 - 4 t_{1}$"
          },
          "metadata": {}
        },
        {
          "output_type": "display_data",
          "data": {
            "text/plain": [
              "Eq(y, 3*t1 + 2)"
            ],
            "text/latex": "$\\displaystyle y = 3 t_{1} + 2$"
          },
          "metadata": {}
        },
        {
          "output_type": "display_data",
          "data": {
            "text/plain": [
              "Eq(z, 3 - 3*t1)"
            ],
            "text/latex": "$\\displaystyle z = 3 - 3 t_{1}$"
          },
          "metadata": {}
        }
      ]
    },
    {
      "cell_type": "markdown",
      "source": [
        "Можно преобразовать в формулу в latex отдельные уравнения и вывести их последовательно с дополнительными пояснениями (мы просто пронумеруем уравнения)."
      ],
      "metadata": {
        "id": "5O34XggE9h-k"
      }
    },
    {
      "cell_type": "code",
      "source": [
        "display(Latex('(1)\\ {0},\\ (2)\\ {1},\\ (3)\\ {2}'.format(*[latex(item) for item in AB_sys])))"
      ],
      "metadata": {
        "colab": {
          "base_uri": "https://localhost:8080/",
          "height": 38
        },
        "id": "t4M8kNY48SkD",
        "outputId": "8c393627-9e5b-4eed-aec0-6b30228803a9"
      },
      "execution_count": 13,
      "outputs": [
        {
          "output_type": "display_data",
          "data": {
            "text/plain": [
              "<IPython.core.display.Latex object>"
            ],
            "text/latex": "(1)\\ x = 1 - 4 t_{1},\\ (2)\\ y = 3 t_{1} + 2,\\ (3)\\ z = 3 - 3 t_{1}"
          },
          "metadata": {}
        }
      ]
    },
    {
      "cell_type": "markdown",
      "metadata": {
        "id": "mxDxSWef2q0J"
      },
      "source": [
        "Здесь мы влспользовались методом format класса str. В строке, к которой применяется метод format отмечаются позиции, в которые нужно вставить аргументы format. Позиции для вставок отмечаются положительными целыми числами (номерами аргументов), заключенными к фигурные скобки. Один и тот же аргумент можно вставлять в несколько разных мест строки. Также можно вставлять аргументы в строку не в том порядке, в каком они идут в format, например '(1):\\ {2},\\ (2):\\ {0},\\ (3):\\ {1}'.\n",
        "\n",
        "Составим уравнение второй прямой, она проходит через точку $O(0, 0, 0)$, ее направляющим вектором является\n",
        "вектор нормали к плоскости $5x - 2y + 3z - 1 = 0$, т.е. $(5, -2, 3)$."
      ]
    },
    {
      "cell_type": "code",
      "metadata": {
        "colab": {
          "base_uri": "https://localhost:8080/",
          "height": 78
        },
        "id": "B3HJN_-22q0K",
        "outputId": "d8c44a64-f2a1-4665-9516-b4bdaeb7a59b"
      },
      "source": [
        "t2 = Symbol('t2')\n",
        "a2 = Matrix([5, -2, 3])\n",
        "OC = t2 * a2\n",
        "OC_sys = [Eq(X[i], OC[i]) for i in range(len(OC))]\n",
        "display(Latex(fr'\\text{{Параметрические уравнения второй прямой }}{latex(Eq(X, OC, evaluate=False))}\\text{{ или }}{latex(OC_sys)}'))"
      ],
      "execution_count": 17,
      "outputs": [
        {
          "output_type": "display_data",
          "data": {
            "text/plain": [
              "<IPython.core.display.Latex object>"
            ],
            "text/latex": "\\text{Параметрические уравнения второй прямой }\\left[\\begin{matrix}x\\\\y\\\\z\\end{matrix}\\right] = \\left[\\begin{matrix}5 t_{2}\\\\- 2 t_{2}\\\\3 t_{2}\\end{matrix}\\right]\\text{ или }\\left[ x = 5 t_{2}, \\  y = - 2 t_{2}, \\  z = 3 t_{2}\\right]"
          },
          "metadata": {}
        }
      ]
    },
    {
      "cell_type": "markdown",
      "metadata": {
        "id": "DdDhm5hg2q0K"
      },
      "source": [
        "Составим СЛАУ из уравнений двух этих прямых"
      ]
    },
    {
      "cell_type": "code",
      "metadata": {
        "colab": {
          "base_uri": "https://localhost:8080/",
          "height": 38
        },
        "id": "aVp3m3Ki2q0K",
        "outputId": "fda3857b-733b-4461-fd5f-3aba4c96b152"
      },
      "source": [
        "SLAE1 = AB_sys + OC_sys\n",
        "display(Latex(fr'\\text{{СЛАУ из уравнений двух прямых }}{latex(SLAE1)}'))"
      ],
      "execution_count": 19,
      "outputs": [
        {
          "output_type": "display_data",
          "data": {
            "text/plain": [
              "<IPython.core.display.Latex object>"
            ],
            "text/latex": "\\text{СЛАУ из уравнений двух прямых }\\left[ x = 1 - 4 t_{1}, \\  y = 3 t_{1} + 2, \\  z = 3 - 3 t_{1}, \\  x = 5 t_{2}, \\  y = - 2 t_{2}, \\  z = 3 t_{2}\\right]"
          },
          "metadata": {}
        }
      ]
    },
    {
      "cell_type": "code",
      "metadata": {
        "colab": {
          "base_uri": "https://localhost:8080/",
          "height": 37
        },
        "id": "Zudfvr4O2q0L",
        "outputId": "e5ed75e7-e054-4a4a-d7ec-65b7ca617ef0"
      },
      "source": [
        "display(Latex(fr'\\text{{Решение СЛАУ }}{latex(linsolve(SLAE1, t1, t2))}'))"
      ],
      "execution_count": 20,
      "outputs": [
        {
          "output_type": "display_data",
          "data": {
            "text/plain": [
              "<IPython.core.display.Latex object>"
            ],
            "text/latex": "\\text{Решение СЛАУ }\\emptyset"
          },
          "metadata": {}
        }
      ]
    },
    {
      "cell_type": "markdown",
      "metadata": {
        "id": "hX09bXg32q0L"
      },
      "source": [
        "СЛАУ несовместна, прямые не пересекаются.\n",
        "\n",
        "Можно проверить совместность СЛАУ с помощью теоремы Кронекера-Капелли, для этого\n",
        "приведем СЛАУ к матричному виду с помощью linear_eq_to_matrix"
      ]
    },
    {
      "cell_type": "code",
      "metadata": {
        "id": "2MJvMrgJ2q0L"
      },
      "source": [
        "A2, b2 = linear_eq_to_matrix(SLAE1, [x, y, z, t1, t2])"
      ],
      "execution_count": 21,
      "outputs": []
    },
    {
      "cell_type": "markdown",
      "metadata": {
        "id": "eMrZOf9_2q0M"
      },
      "source": [
        "Составим расширенную матрицу СЛАУ"
      ]
    },
    {
      "cell_type": "code",
      "metadata": {
        "colab": {
          "base_uri": "https://localhost:8080/",
          "height": 139
        },
        "id": "CQi0p0fs2q0M",
        "outputId": "8f38dca4-e428-4555-81c3-b0a9d900ab7c"
      },
      "source": [
        "A2b2 = A2.row_join(b2)\n",
        "display(A2b2)"
      ],
      "execution_count": 22,
      "outputs": [
        {
          "output_type": "display_data",
          "data": {
            "text/plain": [
              "Matrix([\n",
              "[1, 0, 0,  4,  0, 1],\n",
              "[0, 1, 0, -3,  0, 2],\n",
              "[0, 0, 1,  3,  0, 3],\n",
              "[1, 0, 0,  0, -5, 0],\n",
              "[0, 1, 0,  0,  2, 0],\n",
              "[0, 0, 1,  0, -3, 0]])"
            ],
            "text/latex": "$\\displaystyle \\left[\\begin{matrix}1 & 0 & 0 & 4 & 0 & 1\\\\0 & 1 & 0 & -3 & 0 & 2\\\\0 & 0 & 1 & 3 & 0 & 3\\\\1 & 0 & 0 & 0 & -5 & 0\\\\0 & 1 & 0 & 0 & 2 & 0\\\\0 & 0 & 1 & 0 & -3 & 0\\end{matrix}\\right]$"
          },
          "metadata": {}
        }
      ]
    },
    {
      "cell_type": "markdown",
      "metadata": {
        "id": "9t8nOLzD2q0M"
      },
      "source": [
        "Сравним ранги матрицы левой части и расширенной матрицы"
      ]
    },
    {
      "cell_type": "code",
      "metadata": {
        "colab": {
          "base_uri": "https://localhost:8080/"
        },
        "id": "Jq6s5E1X2q0N",
        "outputId": "fd0e8c07-a286-4dfb-f805-992af5e6719f"
      },
      "source": [
        "A2.rank() == A2b2.rank()"
      ],
      "execution_count": 23,
      "outputs": [
        {
          "output_type": "execute_result",
          "data": {
            "text/plain": [
              "False"
            ]
          },
          "metadata": {},
          "execution_count": 23
        }
      ]
    },
    {
      "cell_type": "markdown",
      "metadata": {
        "id": "c0SMrKVY2q0N"
      },
      "source": [
        "Вывод: СЛАУ несовместна, следовательно, прямые не пересекаются."
      ]
    },
    {
      "cell_type": "markdown",
      "metadata": {
        "id": "dLFee_8X2q0N"
      },
      "source": [
        "## Пример 3.\n",
        "Найти точку пересечения прямых в пространстве, если одна из них проходит через точки $A(-1,2,1)$ и $B(3,5,2)$, а вторая прямая проходит через точки $C(1, 3, 7)$ и $D(-3, 1/2, 1/2)$.\n",
        "\n",
        "Составим параметрические уравнения $AB$:"
      ]
    },
    {
      "cell_type": "code",
      "metadata": {
        "colab": {
          "base_uri": "https://localhost:8080/",
          "height": 81
        },
        "id": "nVVaELDl2q0O",
        "outputId": "90c33a03-fd1f-422f-d1d3-15dfcacb415e"
      },
      "source": [
        "A = Matrix([-1, 2, 1])\n",
        "B = Matrix([3, 5, 2])\n",
        "a1 = B - A\n",
        "AB = A + t1 * a1\n",
        "AB_sys = [Eq(X[i], AB[i]) for i in range(len(AB))]\n",
        "display(*AB_sys)"
      ],
      "execution_count": 24,
      "outputs": [
        {
          "output_type": "display_data",
          "data": {
            "text/plain": [
              "Eq(x, 4*t1 - 1)"
            ],
            "text/latex": "$\\displaystyle x = 4 t_{1} - 1$"
          },
          "metadata": {}
        },
        {
          "output_type": "display_data",
          "data": {
            "text/plain": [
              "Eq(y, 3*t1 + 2)"
            ],
            "text/latex": "$\\displaystyle y = 3 t_{1} + 2$"
          },
          "metadata": {}
        },
        {
          "output_type": "display_data",
          "data": {
            "text/plain": [
              "Eq(z, t1 + 1)"
            ],
            "text/latex": "$\\displaystyle z = t_{1} + 1$"
          },
          "metadata": {}
        }
      ]
    },
    {
      "cell_type": "markdown",
      "metadata": {
        "id": "MLjSgfio7pYW"
      },
      "source": [
        "Составим параметрические уравнения $CD$:"
      ]
    },
    {
      "cell_type": "code",
      "metadata": {
        "colab": {
          "base_uri": "https://localhost:8080/",
          "height": 106
        },
        "id": "Ag8WffH32q0O",
        "outputId": "08cfd977-d4cc-45bf-c223-2499cbda7ee9"
      },
      "source": [
        "C = Matrix([1, 3, 7])\n",
        "D = Matrix([-3, S(1)/2, S(1)/2])\n",
        "a2 = D - C\n",
        "CD = C + t2 * a2\n",
        "CD_sys = [Eq(X[i], CD[i]) for i in range(len(CD))]\n",
        "display(*CD_sys)"
      ],
      "execution_count": 25,
      "outputs": [
        {
          "output_type": "display_data",
          "data": {
            "text/plain": [
              "Eq(x, 1 - 4*t2)"
            ],
            "text/latex": "$\\displaystyle x = 1 - 4 t_{2}$"
          },
          "metadata": {}
        },
        {
          "output_type": "display_data",
          "data": {
            "text/plain": [
              "Eq(y, 3 - 5*t2/2)"
            ],
            "text/latex": "$\\displaystyle y = 3 - \\frac{5 t_{2}}{2}$"
          },
          "metadata": {}
        },
        {
          "output_type": "display_data",
          "data": {
            "text/plain": [
              "Eq(z, 7 - 13*t2/2)"
            ],
            "text/latex": "$\\displaystyle z = 7 - \\frac{13 t_{2}}{2}$"
          },
          "metadata": {}
        }
      ]
    },
    {
      "cell_type": "markdown",
      "metadata": {
        "id": "tI3SNiDX7sPU"
      },
      "source": [
        "Составим систему из параметрических уравнений $AB$ и $CD$:"
      ]
    },
    {
      "cell_type": "code",
      "metadata": {
        "colab": {
          "base_uri": "https://localhost:8080/",
          "height": 170
        },
        "id": "kjZc8ICc2q0O",
        "outputId": "0ab5afbf-1831-436e-8ebc-7a30318294f5"
      },
      "source": [
        "SLAE2 = AB_sys + CD_sys\n",
        "display(*SLAE2)"
      ],
      "execution_count": 26,
      "outputs": [
        {
          "output_type": "display_data",
          "data": {
            "text/plain": [
              "Eq(x, 4*t1 - 1)"
            ],
            "text/latex": "$\\displaystyle x = 4 t_{1} - 1$"
          },
          "metadata": {}
        },
        {
          "output_type": "display_data",
          "data": {
            "text/plain": [
              "Eq(y, 3*t1 + 2)"
            ],
            "text/latex": "$\\displaystyle y = 3 t_{1} + 2$"
          },
          "metadata": {}
        },
        {
          "output_type": "display_data",
          "data": {
            "text/plain": [
              "Eq(z, t1 + 1)"
            ],
            "text/latex": "$\\displaystyle z = t_{1} + 1$"
          },
          "metadata": {}
        },
        {
          "output_type": "display_data",
          "data": {
            "text/plain": [
              "Eq(x, 1 - 4*t2)"
            ],
            "text/latex": "$\\displaystyle x = 1 - 4 t_{2}$"
          },
          "metadata": {}
        },
        {
          "output_type": "display_data",
          "data": {
            "text/plain": [
              "Eq(y, 3 - 5*t2/2)"
            ],
            "text/latex": "$\\displaystyle y = 3 - \\frac{5 t_{2}}{2}$"
          },
          "metadata": {}
        },
        {
          "output_type": "display_data",
          "data": {
            "text/plain": [
              "Eq(z, 7 - 13*t2/2)"
            ],
            "text/latex": "$\\displaystyle z = 7 - \\frac{13 t_{2}}{2}$"
          },
          "metadata": {}
        }
      ]
    },
    {
      "cell_type": "markdown",
      "metadata": {
        "id": "LOSat4Ji2q0P"
      },
      "source": [
        "Проверим, совместна ли наша СЛАУ, для этого составим матрицу левой части системы и расширенную матрицу и сравним ранги."
      ]
    },
    {
      "cell_type": "code",
      "metadata": {
        "colab": {
          "base_uri": "https://localhost:8080/"
        },
        "id": "wL4yT4OK2q0P",
        "outputId": "a483b10c-8865-4c4e-9657-940570d27865"
      },
      "source": [
        "A3, b3 = linear_eq_to_matrix(SLAE2, [x, y, z, t1, t2])\n",
        "A3b3 = A3.row_join(b3)\n",
        "print(f'Система{\" не\" * (A3.rank() < A3b3.rank())} совместна')"
      ],
      "execution_count": 27,
      "outputs": [
        {
          "output_type": "stream",
          "name": "stdout",
          "text": [
            "Система совместна\n"
          ]
        }
      ]
    },
    {
      "cell_type": "markdown",
      "metadata": {
        "id": "FRV-9BjW2q0Q"
      },
      "source": [
        "Поскольку СЛАУ совместна, можем найти точку пересечения:"
      ]
    },
    {
      "cell_type": "code",
      "metadata": {
        "colab": {
          "base_uri": "https://localhost:8080/",
          "height": 38
        },
        "id": "poLUfLwx2q0Q",
        "outputId": "ddb84f25-6467-40d6-cd53-f5e6495e4d53"
      },
      "source": [
        "Set_t1_t2 = linsolve(SLAE2, x, y, z, t1, t2)\n",
        "sol3 = Matrix(*Set_t1_t2)[:3, :]\n",
        "display(Latex(fr'\\text{{Точка пересечения двух прямых }}{latex(sol3.T)}'))"
      ],
      "execution_count": 28,
      "outputs": [
        {
          "output_type": "display_data",
          "data": {
            "text/plain": [
              "<IPython.core.display.Latex object>"
            ],
            "text/latex": "\\text{Точка пересечения двух прямых }\\left[\\begin{matrix}-3 & \\frac{1}{2} & \\frac{1}{2}\\end{matrix}\\right]"
          },
          "metadata": {}
        }
      ]
    },
    {
      "cell_type": "markdown",
      "metadata": {
        "id": "GMp1knZx2q0R"
      },
      "source": [
        "## Пример 4.\n",
        "Найти точку пересечения плоскости $3x + 4y - z + 5 = 0$ с прямой, проходящей через точку $A(-1, 0, 1)$ параллельно вектору $a(3, -2, 0)$.\n",
        "\n",
        "Составим канонические уравнения прямой и уравнение плоскости, обединим все уравнения в одну систему и решим ее с помощью linsolve, затем выделим значения переменных $x$, $y$, $z$."
      ]
    },
    {
      "cell_type": "code",
      "metadata": {
        "colab": {
          "base_uri": "https://localhost:8080/",
          "height": 81
        },
        "id": "iRxjXo4k2q0R",
        "outputId": "10aaeca8-6639-41c3-a28a-b9af94181984"
      },
      "source": [
        "x, y, z, t = symbols('x y z t')\n",
        "X = Matrix([x, y, z])\n",
        "A = Matrix([-1, 0, 1])\n",
        "a = Matrix([3, -2, 0])\n",
        "SLAE_AB = [Eq(X[i], A[i] + a[i] * t) for i in range(len(A))]\n",
        "display(Latex(fr'\\text{{СЛАУ}}{latex(SLAE_AB)}'))\n",
        "KMN = Eq(3 * x + 4 * y - z + 5, 0)\n",
        "display(Latex(fr'\\text{{Уравнение плоскости }}KMN\\ {latex(KMN)}'))\n",
        "SLAE_AB.append(KMN)\n",
        "display(Latex(fr'\\text{{Точка пересечения }}{latex(Matrix(*linsolve(SLAE_AB, x, y, z, t))[:-1, :].T)}'))"
      ],
      "execution_count": 29,
      "outputs": [
        {
          "output_type": "display_data",
          "data": {
            "text/plain": [
              "<IPython.core.display.Latex object>"
            ],
            "text/latex": "\\text{СЛАУ}\\left[ x = 3 t - 1, \\  y = - 2 t, \\  z = 1\\right]"
          },
          "metadata": {}
        },
        {
          "output_type": "display_data",
          "data": {
            "text/plain": [
              "<IPython.core.display.Latex object>"
            ],
            "text/latex": "\\text{Уравнение плоскости }KMN\\ 3 x + 4 y - z + 5 = 0"
          },
          "metadata": {}
        },
        {
          "output_type": "display_data",
          "data": {
            "text/plain": [
              "<IPython.core.display.Latex object>"
            ],
            "text/latex": "\\text{Точка пересечения }\\left[\\begin{matrix}-4 & 2 & 1\\end{matrix}\\right]"
          },
          "metadata": {}
        }
      ]
    },
    {
      "cell_type": "markdown",
      "metadata": {
        "id": "tqUuitSw2q0S"
      },
      "source": [
        "## Пример 5.\n",
        "Составить уравнение плоскости, проходящей через начало координат, в которой лежит прямая, заданная уравнениями:\n",
        "$$\n",
        "\\left\\{\\begin{matrix}\n",
        "x = 3 + 2t\\\\\n",
        "y = 2 - 3t\\\\\n",
        "z = 5 + 2t\n",
        "\\end{matrix}\\right.\n",
        "$$\n",
        "\n",
        "Найдем две различные точки на прямой, придавая разные значения параметру $t$, например, 0 и 1. Затем составим уравнение плоскости, проходящей через 3 точки.   "
      ]
    },
    {
      "cell_type": "code",
      "metadata": {
        "colab": {
          "base_uri": "https://localhost:8080/",
          "height": 38
        },
        "id": "OaCaWTkU2q0S",
        "outputId": "552d250d-6492-450e-fb23-0f6f4c6a2453"
      },
      "source": [
        "O = zeros(3, 1)\n",
        "A = Matrix([3, 2, 5])\n",
        "a = Matrix([2, -3, 2])\n",
        "x, y, z, t = symbols('x y z t')\n",
        "X = Matrix([x, y, z])\n",
        "AB = A + t * a\n",
        "M1 = AB.subs(t, 0)\n",
        "M2 = AB.subs(t, 1)\n",
        "display(Latex(fr'\\text{{Уравнение плоскости }}{latex(Eq(Matrix([(P - M1).T for P in (X, M2, O)]).det(), 0))}'))"
      ],
      "execution_count": 30,
      "outputs": [
        {
          "output_type": "display_data",
          "data": {
            "text/plain": [
              "<IPython.core.display.Latex object>"
            ],
            "text/latex": "\\text{Уравнение плоскости }19 x + 4 y - 13 z = 0"
          },
          "metadata": {}
        }
      ]
    }
  ]
}