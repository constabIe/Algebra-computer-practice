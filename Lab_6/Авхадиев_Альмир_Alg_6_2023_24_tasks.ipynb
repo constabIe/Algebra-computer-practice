{
 "nbformat": 4,
 "nbformat_minor": 0,
 "metadata": {
  "kernelspec": {
   "display_name": "Python 3",
   "language": "python",
   "name": "python3"
  },
  "language_info": {
   "codemirror_mode": {
    "name": "ipython",
    "version": 3
   },
   "file_extension": ".py",
   "mimetype": "text/x-python",
   "name": "python",
   "nbconvert_exporter": "python",
   "pygments_lexer": "ipython3",
   "version": "3.7.3"
  },
  "colab": {
   "provenance": []
  }
 },
 "cells": [
  {
   "cell_type": "code",
   "metadata": {
    "id": "7VmodJtRlts5"
   },
   "source": [
    "import sympy\n",
    "from sympy import  Symbol, symbols, S, Point, Line, Plane, Point3D,\\\n",
    "Matrix, Eq, latex\n",
    "from IPython.display import display, Latex"
   ],
   "execution_count": 1,
   "outputs": []
  },
  {
   "cell_type": "markdown",
   "metadata": {
    "id": "AUjRxXCzlts-"
   },
   "source": [
    "# Практическое занятие 6\n",
    "# Компьютерный практикум по алгебре на Python\n",
    "##  Прямые и плоскости в пространстве. Geometry.\n",
    "### Задание 1.\n",
    "Задать точки $A(-1, 2, -4)$,\n",
    "$B(2, -2, 1)$,\n",
    "$C(5, 3, -6)$,\n",
    "$D(0, 3, -6)$ как Point из Geometry и\n",
    "найти с помощью  **angle_between** угол между плоскостями $ABC$ и  $ABD$.\n"
   ]
  },
  {
   "cell_type": "code",
   "source": [
    "A = Point(-1, 2, -4)\n",
    "B = Point(2, -2, 1)\n",
    "C = Point(5, 3, -6)\n",
    "D = Point(0, 3, -6)\n",
    "\n",
    "ABC = Plane(A, B, C)\n",
    "ABD = Plane(A, B, D)\n",
    "\n",
    "ABC.angle_between(ABD)"
   ],
   "metadata": {
    "id": "DBnpC8QWA8Eo",
    "colab": {
     "base_uri": "https://localhost:8080/",
     "height": 67
    },
    "outputId": "6e23e966-cdaa-4053-eb4e-4a469f74af16"
   },
   "execution_count": 6,
   "outputs": [
    {
     "output_type": "execute_result",
     "data": {
      "text/plain": [
       "acos(99*sqrt(40454)/20227)"
      ],
      "text/latex": "$\\displaystyle \\operatorname{acos}{\\left(\\frac{99 \\sqrt{40454}}{20227} \\right)}$"
     },
     "metadata": {},
     "execution_count": 6
    }
   ]
  },
  {
   "cell_type": "markdown",
   "metadata": {
    "id": "wg9WwHnwlttE"
   },
   "source": [
    "### Задание 2.\n",
    "Найти угол между прямой, проходящей через точки $A(-3,5,1)$ и $B(5,2,-3)$ и плоскостью, в которой лежат точки\n",
    "$K(4,3,0)$, $M(2,4,-2)$ и $N(-2,2,-1)$."
   ]
  },
  {
   "cell_type": "code",
   "source": [
    "A = Point(-3, 5, 1)\n",
    "B = Point(5, 2, -3)\n",
    "K = Point(4, 3, 0)\n",
    "M = Point(2, 4, -2)\n",
    "N = Point(-2, 2, -1)\n",
    "\n",
    "AB = Line(B, A)\n",
    "KMN = Plane(K, M, N)\n",
    "\n",
    "KMN.angle_between(AB)"
   ],
   "metadata": {
    "id": "WlYRPVNMA8__",
    "colab": {
     "base_uri": "https://localhost:8080/",
     "height": 67
    },
    "outputId": "2de32373-e2f0-40b2-c858-45ce808c947a"
   },
   "execution_count": 11,
   "outputs": [
    {
     "output_type": "execute_result",
     "data": {
      "text/plain": [
       "asin(86*sqrt(15397)/15397)"
      ],
      "text/latex": "$\\displaystyle \\operatorname{asin}{\\left(\\frac{86 \\sqrt{15397}}{15397} \\right)}$"
     },
     "metadata": {},
     "execution_count": 11
    }
   ]
  },
  {
   "cell_type": "markdown",
   "metadata": {
    "id": "1D0Y4l43lttF"
   },
   "source": [
    "### Задание 3.\n",
    "Проверить, лежат ли точки в одной плоскости\n",
    "\n",
    "а) $A(3, 2, -1)$, $B(2, -1, 0)$, $C(5, 2, -6)$, $D(6, 5, -7)$\n",
    "\n",
    "b) $A(-1, 5, -4)$, $B(7, -2, 1)$, $C(6, 3, -8)$, $D(0, 3, 0)$\n",
    "\n",
    "Вывести на экран сообщение \"Точки лежат в одной плоскости\" или \"Точки не лежат в одной плоскости\"."
   ]
  },
  {
   "cell_type": "code",
   "source": [
    "def f(flag):\n",
    "  if flag:\n",
    "    return 'Точки\\ лежат\\ в\\ одной\\ плоскости'\n",
    "  return 'Точки\\ не\\ лежат\\ в\\ одной\\ плоскости'\n",
    "# a)\n",
    "A = Point(3, 2, -1)\n",
    "B = Point(2, -1, 0)\n",
    "C = Point(5, 2, -6)\n",
    "D = Point(6, 5, -7)\n",
    "\n",
    "res = Point3D.are_coplanar(A, B, C, D)\n",
    "txt = f(res)\n",
    "display(Latex(fr'\\text{{a)}}\\ \\ \\text{txt}'))\n",
    "\n",
    "# b)\n",
    "A = Point(-1, 5, -4)\n",
    "B = Point(7, -2, 1)\n",
    "C = Point(6, 3, -8)\n",
    "D = Point(0, 3, 0)\n",
    "\n",
    "res = Point3D.are_coplanar(A, B, C, D)\n",
    "txt = f(res)\n",
    "display(Latex(fr'\\text{{b)}}\\ \\ \\text{txt}'))\n"
   ],
   "metadata": {
    "id": "1VHHADUOA-Vn",
    "colab": {
     "base_uri": "https://localhost:8080/",
     "height": 57
    },
    "outputId": "ed95f810-d9bb-459e-d9ed-47c5802948e3"
   },
   "execution_count": 7,
   "outputs": [
    {
     "output_type": "display_data",
     "data": {
      "text/plain": [
       "<IPython.core.display.Latex object>"
      ],
      "text/latex": "\\text{a)}\\ \\ \\textТочки\\ лежат\\ в\\ одной\\ плоскости"
     },
     "metadata": {}
    },
    {
     "output_type": "display_data",
     "data": {
      "text/plain": [
       "<IPython.core.display.Latex object>"
      ],
      "text/latex": "\\text{b)}\\ \\ \\textТочки\\ не\\ лежат\\ в\\ одной\\ плоскости"
     },
     "metadata": {}
    }
   ]
  },
  {
   "cell_type": "markdown",
   "source": [
    "###  Задание 4.\n",
    "Для плоскостей Задания 1 найти векторы нормали (воспользоваться свойством normal_vector), преобразовать их в матрицы-столбцы и вычислить угол между плоскостями с помощью скалярного произведения. Сравнить с результатом Задания 1."
   ],
   "metadata": {
    "id": "e3a-OT4B8RUG"
   }
  },
  {
   "cell_type": "code",
   "source": [
    "A = Point(-1, 2, -4)\n",
    "B = Point(2, -2, 1)\n",
    "C = Point(5, 3, -6)\n",
    "D = Point(0, 3, -6)\n",
    "\n",
    "ABC = Plane(A, B, C)\n",
    "ABD = Plane(A, B, D)\n",
    "\n",
    "normal_ABC = Matrix(ABC.normal_vector).T\n",
    "normal_ABD = Matrix(ABD.normal_vector).T\n",
    "\n",
    "phi = sympy.acos(normal_ABC.dot(normal_ABD)/(sympy.sqrt(normal_ABD.dot(normal_ABD)) * sympy.sqrt(normal_ABC.dot(normal_ABC))))\n",
    "phi == ABC.angle_between(ABD)"
   ],
   "metadata": {
    "id": "zTsI-FcIA_To",
    "colab": {
     "base_uri": "https://localhost:8080/"
    },
    "outputId": "114ee4e8-fdcf-4b15-eeee-5d0dd1ef7f1a"
   },
   "execution_count": 4,
   "outputs": [
    {
     "output_type": "execute_result",
     "data": {
      "text/plain": [
       "True"
      ]
     },
     "metadata": {},
     "execution_count": 4
    }
   ]
  },
  {
   "cell_type": "markdown",
   "metadata": {
    "id": "giXGCDt2lttH"
   },
   "source": [
    "###  Задание 5.\n",
    "Прямая задана параметрическими уравнениями:\n",
    "$$\n",
    "\\left\\{\\begin{matrix}\n",
    "x=2+5t\\\\\n",
    "y=-1-2t\\\\\n",
    "z=4-3t\n",
    "\\end{matrix}\\right..\n",
    "$$\n",
    "Представить прямую в виде линии пересечения двух плоскостей (вывести на экран уравнения плоскостей),\n",
    "одна из которых проходит через начало координат, а вторая плоскость перпендикулярна первой плоскости.\n",
    "\n",
    "**Указание:** сначала найти две различные точки на прямой и далее решить средствами для работы с прямыми и плоскостями из модуля Geometry."
   ]
  },
  {
   "cell_type": "code",
   "source": [
    "from sympy.abc import t\n",
    "from sympy import Plane\n",
    "line = Matrix([[2 + 5 * t], [-1 - 2 * t], [4 - 3 * t]])\n",
    "A, B = [line.subs(t, var) for var in range(1, 3)]\n",
    "\n",
    "pl_1 = Plane(A, B, (0, 0, 0))\n",
    "pl_2 = pl_1.perpendicular_plane(A, B)\n",
    "display(Eq(pl_1.equation(), 0))\n",
    "display(Eq(pl_2.equation(), 0))"
   ],
   "metadata": {
    "id": "sYEF6uteBAVg",
    "colab": {
     "base_uri": "https://localhost:8080/",
     "height": 59
    },
    "outputId": "ea7f588e-f70f-44cd-9189-1c628701050f"
   },
   "execution_count": 30,
   "outputs": [
    {
     "output_type": "display_data",
     "data": {
      "text/plain": [
       "Eq(11*x + 26*y + z, 0)"
      ],
      "text/latex": "$\\displaystyle 11 x + 26 y + z = 0$"
     },
     "metadata": {}
    },
    {
     "output_type": "display_data",
     "data": {
      "text/plain": [
       "Eq(76*x - 38*y + 152*z - 798, 0)"
      ],
      "text/latex": "$\\displaystyle 76 x - 38 y + 152 z - 798 = 0$"
     },
     "metadata": {}
    }
   ]
  },
  {
   "cell_type": "markdown",
   "metadata": {
    "id": "vrK0LeOdlttJ"
   },
   "source": [
    "###  Задание 6*.\n",
    "Даны точки  пространстве\n",
    "$A(-2, 7, -5)$, $B(6, 2, -4)$, $C(14, -3, -2)$, $D(22, -8, -2)$, $K(30, -7, -4)$,\n",
    "$M(94, -35, -2)$.\n",
    "\n",
    "Определить, какие тройки точек лежат на одной прямой, какие четверки - в одной плоскости.\n",
    "\n",
    "Для проверки того, что три точки лежат на одной прямой использовать Point3D.are_collinear.\n",
    "\n",
    "Вывести на экран тройки точек, лежащие на одной прямой и четверки точек, лежащих в одной плоскости."
   ]
  },
  {
   "cell_type": "code",
   "source": [
    "A = Point(-2, 7, -5)\n",
    "B = Point(6, 2, -4)\n",
    "C = Point(14, -3, -2)\n",
    "D = Point(22, -8, -2)\n",
    "K = Point(30, -7, -4)\n",
    "M = Point(94, -35, -2)\n",
    "\n",
    "points = [A, B, C, D, K, M]\n",
    "lett = ['A', 'B', 'C', 'D', 'K', 'M']\n",
    "res_three = []\n",
    "for i in range(len(points)):\n",
    "    for j in range(i + 1, len(points)):\n",
    "        for k in range(j + 1, len(points)):\n",
    "            if Point3D.are_collinear(points[i], points[j], points[k]):\n",
    "                res_three.append([lett[i], lett[j], lett[k]])\n",
    "\n",
    "res_four = []\n",
    "for i in range(len(points)):\n",
    "    for j in range(i + 1, len(points)):\n",
    "        for k in range(j + 1, len(points)):\n",
    "            for w in range(k + 1, len(points)):\n",
    "                if Point3D.are_coplanar(points[i], points[j], points[k], points[w]):\n",
    "                    res_four.append([lett[i], lett[j], lett[k], lett[w]])\n",
    "\n",
    "\n",
    "display(Latex(fr'\\text{{Тройки точек, лежащие на одной прямой:}} '))\n",
    "for i in range(len(res_three)):\n",
    "    txt = '\\ \\ \\ ' + res_three[i][0]\n",
    "    for j in range(1, 3):\n",
    "        txt += ',\\ ' + res_three[i][j]\n",
    "    display(Latex(fr'\\text{txt}'))\n",
    "print('\\n')\n",
    "display(Latex(fr'\\text{{Четверки точек, лежащих в одной плоскости:}}'))\n",
    "for i in range(len(res_four)):\n",
    "    txt = '\\ \\ \\ '+res_four[i][0]\n",
    "    for j in range(1, 4):\n",
    "        txt += ',\\ ' + res_four[i][j]\n",
    "    display(Latex(fr'\\text{txt}'))\n"
   ],
   "metadata": {
    "id": "Muwz7xCcBBmg",
    "colab": {
     "base_uri": "https://localhost:8080/",
     "height": 280
    },
    "outputId": "123027f5-6f57-4aeb-80d3-121dbe8c7ba3"
   },
   "execution_count": 6,
   "outputs": [
    {
     "output_type": "display_data",
     "data": {
      "text/plain": [
       "<IPython.core.display.Latex object>"
      ],
      "text/latex": "\\text{Тройки точек, лежащие на одной прямой: } "
     },
     "metadata": {}
    },
    {
     "output_type": "display_data",
     "data": {
      "text/plain": [
       "<IPython.core.display.Latex object>"
      ],
      "text/latex": "\\text\\ \\ \\ A,\\ B,\\ D"
     },
     "metadata": {}
    },
    {
     "output_type": "display_data",
     "data": {
      "text/plain": [
       "<IPython.core.display.Latex object>"
      ],
      "text/latex": "\\text\\ \\ \\ A,\\ K,\\ M"
     },
     "metadata": {}
    },
    {
     "output_type": "stream",
     "name": "stdout",
     "text": []
    },
    {
     "output_type": "display_data",
     "data": {
      "text/plain": [
       "<IPython.core.display.Latex object>"
      ],
      "text/latex": "\\text{Четверки точек, лежащих в одной плоскости:}"
     },
     "metadata": {}
    },
    {
     "output_type": "display_data",
     "data": {
      "text/plain": [
       "<IPython.core.display.Latex object>"
      ],
      "text/latex": "\\text\\ \\ \\ A,\\ B,\\ C,\\ D"
     },
     "metadata": {}
    },
    {
     "output_type": "display_data",
     "data": {
      "text/plain": [
       "<IPython.core.display.Latex object>"
      ],
      "text/latex": "\\text\\ \\ \\ A,\\ B,\\ D,\\ K"
     },
     "metadata": {}
    },
    {
     "output_type": "display_data",
     "data": {
      "text/plain": [
       "<IPython.core.display.Latex object>"
      ],
      "text/latex": "\\text\\ \\ \\ A,\\ B,\\ D,\\ M"
     },
     "metadata": {}
    },
    {
     "output_type": "display_data",
     "data": {
      "text/plain": [
       "<IPython.core.display.Latex object>"
      ],
      "text/latex": "\\text\\ \\ \\ A,\\ B,\\ K,\\ M"
     },
     "metadata": {}
    },
    {
     "output_type": "display_data",
     "data": {
      "text/plain": [
       "<IPython.core.display.Latex object>"
      ],
      "text/latex": "\\text\\ \\ \\ A,\\ C,\\ K,\\ M"
     },
     "metadata": {}
    },
    {
     "output_type": "display_data",
     "data": {
      "text/plain": [
       "<IPython.core.display.Latex object>"
      ],
      "text/latex": "\\text\\ \\ \\ A,\\ D,\\ K,\\ M"
     },
     "metadata": {}
    },
    {
     "output_type": "display_data",
     "data": {
      "text/plain": [
       "<IPython.core.display.Latex object>"
      ],
      "text/latex": "\\text\\ \\ \\ B,\\ D,\\ K,\\ M"
     },
     "metadata": {}
    }
   ]
  },
  {
   "cell_type": "markdown",
   "metadata": {
    "id": "FE1XD5JYlttL"
   },
   "source": [
    "###  Задание 7*.\n",
    "Составить уравнения всех (различных!) плоскостей, определяемых точками задания 1.\n",
    "\n",
    "Указание: решать аналогично Примеру 11, проверить, что $A$, $B$, $C$ не лежат на одной прямой и составить плоскость $ABC$, включить ее в список плоскостей."
   ]
  },
  {
   "cell_type": "code",
   "source": [
    "A = Point(-1, 2, -4)\n",
    "B = Point(2, -2, 1)\n",
    "C = Point(5, 3, -6)\n",
    "D = Point(0, 3, -6)\n",
    "\n",
    "points = [A, B, C, D]\n",
    "pls = []\n",
    "for i in range(len(points)):\n",
    "    for j in range(i + 1, len(points)):\n",
    "        for k in range(j + 1, len(points)):\n",
    "            if not Point3D.are_collinear(points[i], points[j], points[k]):\n",
    "                pl = Plane(points[i], points[j], points[k])\n",
    "                if pl not in pls:\n",
    "                    pls.append(pl)\n",
    "\n",
    "        for i in range(len(pls)):\n",
    "    display(Eq(pls[i].equation(), 0))\n"
   ],
   "metadata": {
    "id": "6-imt_zJBDZp",
    "colab": {
     "base_uri": "https://localhost:8080/",
     "height": 101
    },
    "outputId": "a06bd652-2ecf-4816-e6b4-e8d6774ddfec"
   },
   "execution_count": 34,
   "outputs": [
    {
     "output_type": "display_data",
     "data": {
      "text/plain": [
       "Eq(3*x + 36*y + 27*z + 39, 0)"
      ],
      "text/latex": "$\\displaystyle 3 x + 36 y + 27 z + 39 = 0$"
     },
     "metadata": {}
    },
    {
     "output_type": "display_data",
     "data": {
      "text/plain": [
       "Eq(3*x + 11*y + 7*z + 9, 0)"
      ],
      "text/latex": "$\\displaystyle 3 x + 11 y + 7 z + 9 = 0$"
     },
     "metadata": {}
    },
    {
     "output_type": "display_data",
     "data": {
      "text/plain": [
       "Eq(10*y + 5*z, 0)"
      ],
      "text/latex": "$\\displaystyle 10 y + 5 z = 0$"
     },
     "metadata": {}
    },
    {
     "output_type": "display_data",
     "data": {
      "text/plain": [
       "Eq(35*y + 25*z + 45, 0)"
      ],
      "text/latex": "$\\displaystyle 35 y + 25 z + 45 = 0$"
     },
     "metadata": {}
    }
   ]
  },
  {
   "cell_type": "markdown",
   "metadata": {
    "id": "ZWS39VoElttM"
   },
   "source": [
    "### Индивидуальное задание\n",
    "Даны точки в пространстве\n",
    "$A$, $B$, $C$ и\n",
    "$M$.\n",
    "\n",
    "Найти угол между прямой $AB$ и плоскостью $CDM$, угол между $AC$ и $CM$, угол между плоскостями $ABC$ и $CDM$.\n",
    "\n",
    "Составить уравнение:\n",
    "\n",
    "a) плоскости, параллельной $ABC$ и проходящей через $M$,\n",
    "\n",
    "b) плоскости, перпендикулярной $ABC$ и проходящей через $A$ и $M$,\n",
    "\n",
    "c) прямой (параметрическое!), перпендикулярной $ABC$ и проходящей через $C$."
   ]
  },
  {
   "cell_type": "markdown",
   "source": [
    "Вариант N 175\n",
    "\n",
    "Точки: A (-2, 0, 4), B (-1, 5, 1), C (-1, 1, -2), D (-4, -1, -2) и M (-3, 2, 1)."
   ],
   "metadata": {
    "id": "_HlbU_IJMPs5"
   }
  },
  {
   "cell_type": "code",
   "source": [
    "A = Point(-2, 0, 4)\n",
    "B = Point(-1, 5, 1)\n",
    "C = Point(-1, 1, -2)\n",
    "D = Point(-4, -1, -2)\n",
    "M = Point(-3, 2, 1)\n",
    "\n",
    "AB = Line(A, B)\n",
    "CDM = Plane(C, D, M)\n",
    "res_1 = CDM.angle_between(AB)\n",
    "display(Latex(fr'\\text{{Угол между прямой $AB$ и плоскостью $CDM$: }} {latex(res_1)}'))\n",
    "\n",
    "AC = Line(A, C)\n",
    "CM = Line(C, M)\n",
    "res_2 = AC.smallest_angle_between(CM)\n",
    "display(Latex(fr'\\text{{Угол между $AC$ и $CM$: }} {latex(res_2)}'))\n",
    "\n",
    "ABC = Plane(A,B,C)\n",
    "res_3 = ABC.angle_between(CDM)\n",
    "display(Latex(fr'\\text{{Угол между плоскостями $ABC$ и $CDM$: }} {latex(res_3)}'))\n",
    "\n",
    "res_a = ABC.parallel_plane(M).equation()\n",
    "display(Latex(fr'\\text{{$a)\\ $}} {latex(Eq(res_a, 0))}'))\n",
    "\n",
    "res_b = ABC.perpendicular_plane(A, M).equation()\n",
    "display(Latex(fr'\\text{{$b)\\ $}} {latex(Eq(res_b, 0))}'))\n",
    "\n",
    "res_c = ABC.perpendicular_line(C)\n",
    "p1 = Matrix([i for i in res_c.p1])\n",
    "p2 = Matrix([i for i in res_c.p2])\n",
    "from sympy.abc import t\n",
    "vec = p1 + (p1 - p2) * t\n",
    "X = Matrix(['x', 'y', 'z'])\n",
    "display(Latex(fr'\\text{{$c)\\ $}} {latex(X)}\\text{{=}}{latex(vec)}'))"
   ],
   "metadata": {
    "id": "GC247453BEy3",
    "colab": {
     "base_uri": "https://localhost:8080/",
     "height": 210
    },
    "outputId": "3ffe9037-93ca-47d8-a527-7f867d0c3605"
   },
   "execution_count": 61,
   "outputs": [
    {
     "output_type": "display_data",
     "data": {
      "text/plain": [
       "<IPython.core.display.Latex object>"
      ],
      "text/latex": "\\text{Угол между прямой $AB$ и плоскостью $CDM$: } \\operatorname{asin}{\\left(\\frac{6 \\sqrt{5810}}{581} \\right)}"
     },
     "metadata": {}
    },
    {
     "output_type": "display_data",
     "data": {
      "text/plain": [
       "<IPython.core.display.Latex object>"
      ],
      "text/latex": "\\text{Угол между $AC$ и $CM$: } \\operatorname{acos}{\\left(\\frac{\\sqrt{133}}{14} \\right)}"
     },
     "metadata": {}
    },
    {
     "output_type": "display_data",
     "data": {
      "text/plain": [
       "<IPython.core.display.Latex object>"
      ],
      "text/latex": "\\text{Угол между плоскостями $ABC$ и $CDM$: } \\operatorname{acos}{\\left(\\frac{217 \\sqrt{31291}}{62582} \\right)}"
     },
     "metadata": {}
    },
    {
     "output_type": "display_data",
     "data": {
      "text/plain": [
       "<IPython.core.display.Latex object>"
      ],
      "text/latex": "\\text{$a)\\ $} - 27 x + 3 y - 4 z - 83 = 0"
     },
     "metadata": {}
    },
    {
     "output_type": "display_data",
     "data": {
      "text/plain": [
       "<IPython.core.display.Latex object>"
      ],
      "text/latex": "\\text{$b)\\ $} x + 77 y + 51 z - 202 = 0"
     },
     "metadata": {}
    },
    {
     "output_type": "display_data",
     "data": {
      "text/plain": [
       "<IPython.core.display.Latex object>"
      ],
      "text/latex": "\\text{$c)\\ $} \\left[\\begin{matrix}x\\\\y\\\\z\\end{matrix}\\right]\\text{=}\\left[\\begin{matrix}27 t - 1\\\\1 - 3 t\\\\4 t - 2\\end{matrix}\\right]"
     },
     "metadata": {}
    }
   ]
  }
 ]
}
