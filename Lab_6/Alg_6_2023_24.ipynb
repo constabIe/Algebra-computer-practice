{
  "nbformat": 4,
  "nbformat_minor": 0,
  "metadata": {
    "kernelspec": {
      "display_name": "Python 3",
      "language": "python",
      "name": "python3"
    },
    "language_info": {
      "codemirror_mode": {
        "name": "ipython",
        "version": 3
      },
      "file_extension": ".py",
      "mimetype": "text/x-python",
      "name": "python",
      "nbconvert_exporter": "python",
      "pygments_lexer": "ipython3",
      "version": "3.7.3"
    },
    "colab": {
      "provenance": []
    }
  },
  "cells": [
    {
      "cell_type": "code",
      "metadata": {
        "id": "5R8IZlggldtD"
      },
      "source": [
        "import sympy\n",
        "from sympy import  Matrix, Point, Line, Plane, Point3D, Eq, latex\n",
        "from IPython.display import display, Latex"
      ],
      "execution_count": null,
      "outputs": []
    },
    {
      "cell_type": "markdown",
      "metadata": {
        "id": "1C0L1VRZldtL"
      },
      "source": [
        "# Практическое занятие 6\n",
        "# Компьютерный практикум по алгебре на Python\n",
        "https://docs.sympy.org/latest/search.html?q=geometry\n",
        "\n",
        "## Прямые и плоскости в пространстве. Модуль Geometry\n",
        "Угол $\\varphi$ между векторами $a(x_1, y_1, z_1)$ и $b(x_2, y_2, z_2)$:\n",
        "$$\n",
        "\\cos \\varphi = \\frac{(a, b)}{|a| \\cdot |b|},\n",
        "$$\n",
        "где $(a, b) = x_1 x_2 + y_1y_2 + z_1z_2$ --- скалярное произведение, $|a| = \\sqrt{x_1^2 + y_1^2 + z_1^2} = \\sqrt{(a, a)}$.\n",
        "### Пример 1.\n",
        "Найти угол между векторами $a(-3, 2, -6)$ и $b(7, -4, 4)$.\n",
        "\n",
        "Зададим векторы в виде матриц-столбцов:"
      ]
    },
    {
      "cell_type": "code",
      "metadata": {
        "id": "NPR90tR6ldtR",
        "colab": {
          "base_uri": "https://localhost:8080/",
          "height": 38
        },
        "outputId": "bae82b6d-03d1-4dd9-e0af-a5ea3d06aedd"
      },
      "source": [
        "a = Matrix([-3, 2, -6])\n",
        "b = Matrix([7, -4, 4])\n",
        "display(Latex(f'a = {latex(a.T)},\\ b = {latex(b.T)}'))"
      ],
      "execution_count": null,
      "outputs": [
        {
          "output_type": "display_data",
          "data": {
            "text/plain": [
              "<IPython.core.display.Latex object>"
            ],
            "text/latex": "a = \\left[\\begin{matrix}-3 & 2 & -6\\end{matrix}\\right],\\ b = \\left[\\begin{matrix}7 & -4 & 4\\end{matrix}\\right]"
          },
          "metadata": {}
        }
      ]
    },
    {
      "cell_type": "markdown",
      "metadata": {
        "id": "J_DfmgY6ldtS"
      },
      "source": [
        "Для вычисления скалярного произведения воспользуемся методом `.dot()`\n",
        "\n",
        "Скалярное произведение векторов X и Y:\n",
        "\n",
        "`X.dot(Y)`\n",
        "\n",
        "Вычислим скалярное произведение векторов $a$ и $b$:"
      ]
    },
    {
      "cell_type": "code",
      "metadata": {
        "colab": {
          "base_uri": "https://localhost:8080/",
          "height": 38
        },
        "id": "WZ9ukd7uldtT",
        "outputId": "d36348f7-8efc-4986-d0e2-6fe64df4e2e3"
      },
      "source": [
        "display(Latex(f'a \\cdot b = {latex(a.dot(b))}'))"
      ],
      "execution_count": null,
      "outputs": [
        {
          "output_type": "display_data",
          "data": {
            "text/plain": [
              "<IPython.core.display.Latex object>"
            ],
            "text/latex": "a \\cdot b = -53"
          },
          "metadata": {}
        }
      ]
    },
    {
      "cell_type": "markdown",
      "metadata": {
        "id": "Ffbzr5SKldtU"
      },
      "source": [
        "## Замечание.\n",
        "Аргументом .dot() может быть также list или tuple, т.е. в выражении X.dot(Y) только Y может быть list, tuple или Matrix, при этом X - только Matrix, поскольку dot - метод класса Matrix.\n",
        "\n",
        "Найдем угол между векторами, для этого вначале вычислим косинус угла, а затем сам угол. Для вычисления квадратного корня без округления будем пользоваться функцией sqrt из модуля sympy, а для того, чтобы можно было использовать при необходимости sqrt из другого модуля (например, math), будем вызывать ее, указывая явно имя модуля, т.е. sympy.sqrt. Чтобы можно было извлекать корень с помощью sqrt из sympy вызовом sympy.sqrt, подключаем весь модуль так:\n",
        "\n",
        "`import sympy`\n",
        "\n",
        "это сделано в самой верхней кодовой ячейке."
      ]
    },
    {
      "cell_type": "code",
      "metadata": {
        "colab": {
          "base_uri": "https://localhost:8080/",
          "height": 38
        },
        "id": "KGsi4IyTldtV",
        "outputId": "912ebfff-2378-48a8-bf34-2e9c4287366b"
      },
      "source": [
        "cos_phi = a.dot(b) / sympy.sqrt((a.dot(a)) * (b.dot(b)))\n",
        "phi = sympy.acos(cos_phi)\n",
        "display(Latex(fr\"\"\"\\cos\\phi = {latex(cos_phi)},\\\n",
        "\\phi = {latex(phi)}\\approx {round(phi, 4)}\"\"\"))"
      ],
      "execution_count": null,
      "outputs": [
        {
          "output_type": "display_data",
          "data": {
            "text/plain": [
              "<IPython.core.display.Latex object>"
            ],
            "text/latex": "\\cos\\phi = - \\frac{53}{63},\\\n\\phi = \\operatorname{acos}{\\left(- \\frac{53}{63} \\right)}\\approx 2.5704"
          },
          "metadata": {}
        }
      ]
    },
    {
      "cell_type": "markdown",
      "metadata": {
        "id": "B3I4SzenldtW"
      },
      "source": [
        "## Geometry\n",
        "Модуль Geometry предназначен для работы с геометрическими объектами, такими как точки, прямые на плоскости и в пространстве, плоскости, плоские многоугольники и т.п.\n",
        "\n",
        "В Geometry реализованы такие геометрические объекты как точка, прямая, плоскость,  отрезок, луч, треугольник, многоугольник, правильный многоугольник, окружность, эллипс, кривая.\n",
        "\n",
        "**Point**\n",
        "\n",
        "Класс точек в модуле Geometry называется Point, это родительский класс двумерных (Point2D) и трехмерных (Point3D) точек.\n",
        "\n",
        "\n",
        "**class sympy.geometry.point.Point**\n",
        "\n",
        "Описание класса и его методов и свойств здесь:\n",
        "\n",
        "https://docs.sympy.org/latest/modules/geometry/points.html#sympy.geometry.point.Point\n",
        "\n",
        "**Point** - точка в $n$-мерном Евклидовом пространстве.\n",
        "\n",
        "**Параметры:**\n",
        "\n",
        "**coords:** последовательность из $n$ координат. При $n=2$ или 3 используется соответственно Point2D или Point3D.\n",
        "\n",
        "**evaluate:** если True (значение по умолчанию), все вещественные числа (float) приводятся к типу, соответствующему значению.\n",
        "\n",
        "**dim:** число координат точки."
      ]
    },
    {
      "cell_type": "code",
      "source": [
        "A1 = Point(-1.5, sympy.sqrt(2), -4 / 3, evaluate=True)\n",
        "A2 = Point(-1.5, sympy.sqrt(2), -4 / 3, evaluate=False)\n",
        "A3 = Point(-1.5, sympy.sqrt(2), -4 / 3)\n",
        "display(Latex(f'evaluate=True:\\ {latex(A1)}'),\n",
        "        Latex(f'evaluate=False:\\ {latex(A2)}'),\n",
        "        Latex(f'A3:\\ {latex(A3)}'))"
      ],
      "metadata": {
        "colab": {
          "base_uri": "https://localhost:8080/",
          "height": 82
        },
        "id": "F1yv-oprUYiL",
        "outputId": "3ff9b5c4-47a2-4a13-800d-9664fe8cc275"
      },
      "execution_count": null,
      "outputs": [
        {
          "output_type": "display_data",
          "data": {
            "text/plain": [
              "<IPython.core.display.Latex object>"
            ],
            "text/latex": "evaluate=True:\\ \\operatorname{Point3D}\\left(- \\frac{3}{2}, \\sqrt{2}, - \\frac{4}{3}\\right)"
          },
          "metadata": {}
        },
        {
          "output_type": "display_data",
          "data": {
            "text/plain": [
              "<IPython.core.display.Latex object>"
            ],
            "text/latex": "evaluate=False:\\ \\operatorname{Point3D}\\left(-1.5, \\sqrt{2}, -1.33333333333333\\right)"
          },
          "metadata": {}
        },
        {
          "output_type": "display_data",
          "data": {
            "text/plain": [
              "<IPython.core.display.Latex object>"
            ],
            "text/latex": "A3:\\ \\operatorname{Point3D}\\left(- \\frac{3}{2}, \\sqrt{2}, - \\frac{4}{3}\\right)"
          },
          "metadata": {}
        }
      ]
    },
    {
      "cell_type": "markdown",
      "source": [
        "### Пример 2\n",
        "Найти угол между прямыми $AB$ и $CD$, $A(-1, 2, -4)$, $B(2, -2, 1)$, $C(5, 3, -6)$, $D(0, 3, -6)$.\n",
        "\n",
        "Вначале зададим точки:"
      ],
      "metadata": {
        "id": "eur0H4_lXQuz"
      }
    },
    {
      "cell_type": "code",
      "metadata": {
        "colab": {
          "base_uri": "https://localhost:8080/",
          "height": 38
        },
        "id": "D4843aQYldtY",
        "outputId": "df559e7c-2f2e-42fd-f499-27bb16ed35ae"
      },
      "source": [
        "A = Point(-1, 2, -4)\n",
        "B = Point(2, -2, 1)\n",
        "C = Point(5, 3, -6)\n",
        "D = Point(0, 3, -6)\n",
        "display(Latex(f'A = {A},\\ B = {B},\\ C = {C},\\ D = {D}'))"
      ],
      "execution_count": null,
      "outputs": [
        {
          "output_type": "display_data",
          "data": {
            "text/plain": [
              "<IPython.core.display.Latex object>"
            ],
            "text/latex": "A = Point3D(-1, 2, -4),\\ B = Point3D(2, -2, 1),\\ C = Point3D(5, 3, -6),\\ D = Point3D(0, 3, -6)"
          },
          "metadata": {}
        }
      ]
    },
    {
      "cell_type": "markdown",
      "source": [
        "Можно вывести на экран список этих точек:"
      ],
      "metadata": {
        "id": "UDfy6pCcXZC2"
      }
    },
    {
      "cell_type": "code",
      "source": [
        "display(Latex(latex([A, B, C, D])))"
      ],
      "metadata": {
        "colab": {
          "base_uri": "https://localhost:8080/",
          "height": 38
        },
        "id": "XnaAuPS3XK5e",
        "outputId": "04c512a4-c0b0-4f94-c93e-cab8cb4b2026"
      },
      "execution_count": null,
      "outputs": [
        {
          "output_type": "display_data",
          "data": {
            "text/plain": [
              "<IPython.core.display.Latex object>"
            ],
            "text/latex": "\\left[ Point3D\\left(-1, 2, -4\\right), \\  Point3D\\left(2, -2, 1\\right), \\  Point3D\\left(5, 3, -6\\right), \\  Point3D\\left(0, 3, -6\\right)\\right]"
          },
          "metadata": {}
        }
      ]
    },
    {
      "cell_type": "markdown",
      "source": [
        "С помощью метода строк format можно вывести такой текст:"
      ],
      "metadata": {
        "id": "kFzk67hxXfyn"
      }
    },
    {
      "cell_type": "code",
      "source": [
        "display(Latex('A = {0},\\ B = {1},\\ C = {2},\\ D = {3}'.format(*(latex(item) for item in (A, B, C, D)))))"
      ],
      "metadata": {
        "colab": {
          "base_uri": "https://localhost:8080/",
          "height": 38
        },
        "id": "zcgKgnTAXoDk",
        "outputId": "a3c5f7fa-808a-4d1d-e0df-75c179dd46d7"
      },
      "execution_count": null,
      "outputs": [
        {
          "output_type": "display_data",
          "data": {
            "text/plain": [
              "<IPython.core.display.Latex object>"
            ],
            "text/latex": "A = Point3D\\left(-1, 2, -4\\right),\\ B = Point3D\\left(2, -2, 1\\right),\\ C = Point3D\\left(5, 3, -6\\right),\\ D = Point3D\\left(0, 3, -6\\right)"
          },
          "metadata": {}
        }
      ]
    },
    {
      "cell_type": "markdown",
      "metadata": {
        "id": "ZqkaYZoHldta"
      },
      "source": [
        "Проверим, лежат ли точки в одной плоскости:"
      ]
    },
    {
      "cell_type": "code",
      "metadata": {
        "colab": {
          "base_uri": "https://localhost:8080/"
        },
        "id": "csCsCSrBldtb",
        "outputId": "40a9b63c-3f19-47a2-d400-cc21278bb25c"
      },
      "source": [
        "Point3D.are_coplanar(A, B, C, D)"
      ],
      "execution_count": null,
      "outputs": [
        {
          "output_type": "execute_result",
          "data": {
            "text/plain": [
              "False"
            ]
          },
          "metadata": {},
          "execution_count": 10
        }
      ]
    },
    {
      "cell_type": "markdown",
      "source": [
        "Вывод: не лежат, прямые скрещиваются.\n",
        "\n",
        "Для более понятного вывода сделаем так:"
      ],
      "metadata": {
        "id": "SrGruL7dYMXN"
      }
    },
    {
      "cell_type": "code",
      "source": [
        "print(f'Точки A, B, C, D {\"не \" * (not Point3D.are_coplanar(A, B, C, D))}лежат в одной плоскости')"
      ],
      "metadata": {
        "colab": {
          "base_uri": "https://localhost:8080/"
        },
        "id": "6lGqhp4gYTq2",
        "outputId": "b94b5bc1-f605-4430-f02e-03db02e80413"
      },
      "execution_count": null,
      "outputs": [
        {
          "output_type": "stream",
          "name": "stdout",
          "text": [
            "Точки A, B, C, D не лежат в одной плоскости\n"
          ]
        }
      ]
    },
    {
      "cell_type": "markdown",
      "metadata": {
        "id": "UZUHZa4dldtb"
      },
      "source": [
        "### Line\n",
        "Line - прямая в $n$-мерном Евклидовом пространстве,\n",
        "класс прямых в модуле Geometry. Поддрерживаются прямые на плоскости и в пространстве.\n",
        "\n",
        "class sympy.geometry.line.LinearEntity(p1, p2=None, **kwargs) **Текст, выделенный полужирным шрифтом**\n",
        "\n",
        "это родительский класс для классов Line, Ray и Segment.\n",
        "\n",
        "Описание класса и его методов и свойств здесь:\n",
        "\n",
        "https://docs.sympy.org/latest/modules/geometry/lines.html\n",
        "\n",
        "**Свойства (атрибуты) класса Line:**\n",
        "\n",
        "\n",
        "**ambient_dimension** - размерность (2 или 3)\n",
        "\n",
        "**direction** - направляющий вектор\n",
        "\n",
        "**length** - длина, для прямой и луча - бесконечность, для отрезка - расстояние между его концами.\n",
        "\n",
        "**p1** - первая точка на прямой\n",
        "\n",
        "**p2** - вторая точка на прямой (отличная от p1!)\n",
        "\n",
        "**points** - tuple из точек p1 и p2, т.е. (p1, p2)\n",
        "\n",
        "**Методы класса Line:**\n",
        "\n",
        "**angle_between** - угол в радианах между прямой и другой прямой или плоскостью\n",
        "\n",
        "smallest_angle_between - меньший из смежный углов, образующихся при пересечении прямых (для пересечения прямой и плоскости или двух плоскостей пока не реализован).\n",
        "\n",
        "Об остальных методах - позже.\n",
        "\n",
        "Зададим линии, проходящие через точки:"
      ]
    },
    {
      "cell_type": "code",
      "metadata": {
        "colab": {
          "base_uri": "https://localhost:8080/",
          "height": 60
        },
        "id": "3tUV7LRIldtc",
        "outputId": "f9339d48-98f2-42f7-9861-af8e856c9fb4"
      },
      "source": [
        "AB = Line(A, B)\n",
        "CD = Line(C, D)\n",
        "display(Latex(f'AB:\\\\ {AB}'), Latex(f'CD:\\\\ {CD}'))"
      ],
      "execution_count": null,
      "outputs": [
        {
          "output_type": "display_data",
          "data": {
            "text/plain": [
              "<IPython.core.display.Latex object>"
            ],
            "text/latex": "AB:\\ Line3D(Point3D(-1, 2, -4), Point3D(2, -2, 1))"
          },
          "metadata": {}
        },
        {
          "output_type": "display_data",
          "data": {
            "text/plain": [
              "<IPython.core.display.Latex object>"
            ],
            "text/latex": "CD:\\ Line3D(Point3D(5, 3, -6), Point3D(0, 3, -6))"
          },
          "metadata": {}
        }
      ]
    },
    {
      "cell_type": "markdown",
      "metadata": {
        "id": "YkBW3hQeldtd"
      },
      "source": [
        "Из геометрии мы знаем, что угол между прямыми - это минимальный из углов, образующийся при пересечении прямых. В Geometry  реализованы два метода для угла между прямыми, angle_between, вычисляющий какой-нибудь из смежных углов, образующихся при пересечении прямых, и smallest_angle_between, который выдает именно тот угол, который в геометрии принято считать углом между прямыми.\n",
        "\n",
        "Найдем какой-нибудь угол между прямыми и минимальный из углов, образующихся при пересечении прямой и пересекающей ее прямой, параллельной второй из скрещивающихся прямых:"
      ]
    },
    {
      "cell_type": "code",
      "metadata": {
        "colab": {
          "base_uri": "https://localhost:8080/",
          "height": 47
        },
        "id": "VO4h4wQyldte",
        "outputId": "049bf3bd-815e-4c85-99ea-c6c547b9cb01"
      },
      "source": [
        "display(Latex(fr\"\"\"\\text{{Угол между AB и CD }}{latex(AB.angle_between(CD))},\n",
        "\\text{{меньший угол между AB и CD }}{latex(AB.smallest_angle_between(CD))}\"\"\"))"
      ],
      "execution_count": null,
      "outputs": [
        {
          "output_type": "display_data",
          "data": {
            "text/plain": [
              "<IPython.core.display.Latex object>"
            ],
            "text/latex": "\\text{Угол между AB и CD }\\operatorname{acos}{\\left(- \\frac{3 \\sqrt{2}}{10} \\right)},\n\\text{меньший угол между AB и CD }\\operatorname{acos}{\\left(\\frac{3 \\sqrt{2}}{10} \\right)}"
          },
          "metadata": {}
        }
      ]
    },
    {
      "cell_type": "markdown",
      "metadata": {
        "id": "IchJcYkfldtf"
      },
      "source": [
        "### Пример 3\n",
        "Найти угол между плоскостями $ABC$ и $ACD$.\n",
        "\n",
        "Вначале зададим плоскости тремя точками, не лежащими на одной прямой, затем вычислим угол (для плоскостей не реализован метод smallest_angle_between):"
      ]
    },
    {
      "cell_type": "code",
      "metadata": {
        "colab": {
          "base_uri": "https://localhost:8080/",
          "height": 47
        },
        "id": "_71ko_XZldtg",
        "outputId": "8224b2c1-5eaa-4385-c76e-36c7247c4ead"
      },
      "source": [
        "ABC = Plane(A, B, C)\n",
        "ACD = Plane(A, C, D)\n",
        "display(Latex(fr\"\"\"\\text{{Угол между ABC и ACD равен }}\n",
        "{latex(ABC.angle_between(ACD))}\"\"\"))"
      ],
      "execution_count": null,
      "outputs": [
        {
          "output_type": "display_data",
          "data": {
            "text/plain": [
              "<IPython.core.display.Latex object>"
            ],
            "text/latex": "\\text{Угол между ABC и ACD равен }\n\\operatorname{acos}{\\left(\\frac{33 \\sqrt{1130}}{1130} \\right)}"
          },
          "metadata": {}
        }
      ]
    },
    {
      "cell_type": "markdown",
      "metadata": {
        "id": "NtA74wjjldth"
      },
      "source": [
        "## Методы и свойства точек\n",
        "\n",
        "**Point3D.are_collinear**\n",
        "лежат ли точки на одной прямой\n",
        "\n",
        "**Point3D.are_coplanar**\n",
        "лежат ли точки в одной плоскости\n",
        "\n",
        "## Методы и свойства прямой\n",
        "\n",
        "**equation()**\n",
        "уравнение прямой в формате tuple, состоящего из общих уравнений двух плоскостей, пересекающихся по этой прямой\n",
        "\n",
        "**is_parallel()**\n",
        "параллельны ли две прямые\n",
        "\n",
        "\n",
        "**is_perpendicular()**\n",
        "перпендикулярны ли две прямые\n",
        "\n",
        "\n",
        "**is_similar()**\n",
        "совпадают ли две прямые\n",
        "\n",
        "\n",
        "**parallel_line(P)**\n",
        "этот метод возвращает объект Line - прямую, проходящую через точку $P$ параллельно заданной прямой\n",
        "\n",
        "**perpendicular_line(P)**\n",
        "этот метод возвращает объект Line - прямую,  проходящую через точку $P$  перпендикулярно заданной прямой\n",
        "\n",
        "## Методы и свойства плоскости\n",
        "\n",
        "**equation()**\n",
        "уравнение плоскости в формате выражения левой части общего уравнения плоскости\n",
        "\n",
        "**normal_vector**\n",
        "вектор нормали к плоскости (свойство, вызывается без ())\n",
        "\n",
        "**is_parallel()**\n",
        "параллельны ли две плоскости\n",
        "\n",
        "**is_perpendicular()**\n",
        "перпендикулярны ли две плоскости\n",
        "\n",
        "**is_coplanar()**\n",
        "совпадают ли плоскости\n",
        "\n",
        "**parallel_plane(P)**\n",
        "этот метод возвращает объект Plane - плоскость, проходящую через точку $P$ параллельно заданной плоскости\n",
        "\n",
        "**perpendicular_plane(A, B)**\n",
        "этот метод возвращает объект Plane - плоскость, проходящую через точки $A$ и $B$ перпендикулярно заданной плоскости\n",
        "\n",
        "**perpendicular_line(P)**\n",
        "этот метод возвращает объект Line - прямую, проходящую через точку $P$ перпендикулярно заданной плоскости\n",
        "\n",
        "### Пример 4\n",
        "Уравнение плоскости:"
      ]
    },
    {
      "cell_type": "code",
      "metadata": {
        "colab": {
          "base_uri": "https://localhost:8080/",
          "height": 38
        },
        "id": "QcrsE7jfldti",
        "outputId": "da1a4b12-64f8-4ad2-81ed-21b55522a237"
      },
      "source": [
        "ABC.equation()"
      ],
      "execution_count": null,
      "outputs": [
        {
          "output_type": "execute_result",
          "data": {
            "text/plain": [
              "3*x + 36*y + 27*z + 39"
            ],
            "text/latex": "$\\displaystyle 3 x + 36 y + 27 z + 39$"
          },
          "metadata": {},
          "execution_count": 28
        }
      ]
    },
    {
      "cell_type": "markdown",
      "metadata": {
        "id": "R4IRXmIswPch"
      },
      "source": [
        "Получили выражение для левой части уравнения плоскости. Если нужно именно уравнение, составим его:"
      ]
    },
    {
      "cell_type": "code",
      "metadata": {
        "colab": {
          "base_uri": "https://localhost:8080/",
          "height": 38
        },
        "id": "i-vKc8lPwhVx",
        "outputId": "6d9ae1ac-6615-46df-feea-efac51610d27"
      },
      "source": [
        "Eq(ABC.equation(), 0)"
      ],
      "execution_count": null,
      "outputs": [
        {
          "output_type": "execute_result",
          "data": {
            "text/plain": [
              "Eq(3*x + 36*y + 27*z + 39, 0)"
            ],
            "text/latex": "$\\displaystyle 3 x + 36 y + 27 z + 39 = 0$"
          },
          "metadata": {},
          "execution_count": 29
        }
      ]
    },
    {
      "cell_type": "markdown",
      "metadata": {
        "id": "q1BUR42Nldtj"
      },
      "source": [
        "### Пример 5\n",
        "Вектор нормали к плоскости:"
      ]
    },
    {
      "cell_type": "code",
      "metadata": {
        "colab": {
          "base_uri": "https://localhost:8080/",
          "height": 37
        },
        "id": "-JWrdWmfldtk",
        "outputId": "d2b48d68-cb6e-4176-e3eb-23ffd7b09518"
      },
      "source": [
        "display(Latex(fr'\\text{{Вектор нормали к плоскости ABC }}\\bar n = {ABC.normal_vector}'))"
      ],
      "execution_count": null,
      "outputs": [
        {
          "output_type": "display_data",
          "data": {
            "text/plain": [
              "<IPython.core.display.Latex object>"
            ],
            "text/latex": "\\text{Вектор нормали к плоскости ABC }\\bar n = (3, 36, 27)"
          },
          "metadata": {}
        }
      ]
    },
    {
      "cell_type": "markdown",
      "source": [
        "Полученный вектор нормали это не Matrix, а tuple:"
      ],
      "metadata": {
        "id": "xxtlcnnpa4K0"
      }
    },
    {
      "cell_type": "code",
      "source": [
        "type(ABC.normal_vector)"
      ],
      "metadata": {
        "colab": {
          "base_uri": "https://localhost:8080/"
        },
        "id": "fdIJ8CzbarfO",
        "outputId": "a0f5cb6c-2fc9-42c3-c3dc-9118bbc43e81"
      },
      "execution_count": null,
      "outputs": [
        {
          "output_type": "execute_result",
          "data": {
            "text/plain": [
              "sympy.core.containers.Tuple"
            ]
          },
          "metadata": {},
          "execution_count": 22
        }
      ]
    },
    {
      "cell_type": "markdown",
      "metadata": {
        "id": "JFjFb1Y3ldtl"
      },
      "source": [
        "### Пример 6\n",
        "Уравнение плоскости, параллельной ABC, проходящей через D"
      ]
    },
    {
      "cell_type": "code",
      "metadata": {
        "colab": {
          "base_uri": "https://localhost:8080/",
          "height": 38
        },
        "id": "uDo2EIxaldtl",
        "outputId": "92fe68eb-5c3f-4e6a-e72c-d00dd9131314"
      },
      "source": [
        "Plane6 = ABC.parallel_plane(D)\n",
        "Plane6.equation()"
      ],
      "execution_count": null,
      "outputs": [
        {
          "output_type": "execute_result",
          "data": {
            "text/plain": [
              "3*x + 36*y + 27*z + 54"
            ],
            "text/latex": "$\\displaystyle 3 x + 36 y + 27 z + 54$"
          },
          "metadata": {},
          "execution_count": 24
        }
      ]
    },
    {
      "cell_type": "markdown",
      "metadata": {
        "id": "8AEJdySeldtm"
      },
      "source": [
        "### Пример 7\n",
        "Проверка параллельности и перпендикулярности плоскостей:"
      ]
    },
    {
      "cell_type": "code",
      "metadata": {
        "colab": {
          "base_uri": "https://localhost:8080/"
        },
        "id": "WRl2_EMqldtm",
        "outputId": "261ef6be-8b78-4eec-e43c-3ce47d7f63aa"
      },
      "source": [
        "print(f\"\"\"Параллельны ли ABD и Plane6? \\\n",
        "{\"не \" * (not Plane6.is_parallel(ABC))}параллельны,\n",
        "Перпендикулярны ли ABD и Plane6? \\\n",
        "{\"не \" * (not Plane6.is_perpendicular(ABC))}перпендикулярны\"\"\")"
      ],
      "execution_count": null,
      "outputs": [
        {
          "output_type": "stream",
          "name": "stdout",
          "text": [
            "Параллельны ли ABD и Plane6? параллельны,\n",
            "Перпендикулярны ли ABD и Plane6? не перпендикулярны\n"
          ]
        }
      ]
    },
    {
      "cell_type": "markdown",
      "metadata": {
        "id": "mvRnhhvtldtm"
      },
      "source": [
        "### Пример 8\n",
        "Построение плоскости, перпендикулярной плоскости $ABC$ и проходящей через точки $A$ и $B$:"
      ]
    },
    {
      "cell_type": "code",
      "metadata": {
        "colab": {
          "base_uri": "https://localhost:8080/",
          "height": 37
        },
        "id": "T5nu31rYldtn",
        "outputId": "be4818dd-b43f-4974-8e22-c0b9fe1cfcdd"
      },
      "source": [
        "Plane8AB = ABC.perpendicular_plane(A, B)\n",
        "Plane8AB"
      ],
      "execution_count": null,
      "outputs": [
        {
          "output_type": "execute_result",
          "data": {
            "text/plain": [
              "Plane(Point3D(-1, 2, -4), (-288, -66, 120))"
            ],
            "text/latex": "$\\displaystyle \\operatorname{Plane}\\left(\\operatorname{Point3D}\\left(-1, 2, -4\\right), \\left( -288, \\  -66, \\  120\\right)\\right)$"
          },
          "metadata": {},
          "execution_count": 30
        }
      ]
    },
    {
      "cell_type": "markdown",
      "metadata": {
        "id": "ysi7bSKbldtn"
      },
      "source": [
        "Проверим перпендикулярность плоскостей:"
      ]
    },
    {
      "cell_type": "code",
      "metadata": {
        "colab": {
          "base_uri": "https://localhost:8080/"
        },
        "id": "3nbTfoW9ldto",
        "outputId": "55044da8-5bda-4296-bed1-e907d1fbae10"
      },
      "source": [
        "print(f'Перпендикулярны ли ABC и Plane8AB? {\"не \" * (not ABC.is_perpendicular(Plane8AB))}перпендикулярны')"
      ],
      "execution_count": null,
      "outputs": [
        {
          "output_type": "stream",
          "name": "stdout",
          "text": [
            "Перпендикулярны ли ABC и Plane8AB? перпендикулярны\n"
          ]
        }
      ]
    },
    {
      "cell_type": "markdown",
      "metadata": {
        "id": "FPYsk1bTldto"
      },
      "source": [
        "### Пример 9\n",
        "Построение прямой, перпендикулярной плоскости $ABC$ и проходящей через точку $D$:"
      ]
    },
    {
      "cell_type": "code",
      "metadata": {
        "colab": {
          "base_uri": "https://localhost:8080/",
          "height": 37
        },
        "id": "tHER2ZOoldto",
        "outputId": "4c4179d0-3672-4a72-94b4-5661c0a7be6a"
      },
      "source": [
        "Line9 = ABC.perpendicular_line(D)\n",
        "Line9"
      ],
      "execution_count": null,
      "outputs": [
        {
          "output_type": "execute_result",
          "data": {
            "text/plain": [
              "Line3D(Point3D(0, 3, -6), Point3D(3, 39, 21))"
            ],
            "text/latex": "$\\displaystyle \\operatorname{Line3D}\\left(\\operatorname{Point3D}\\left(0, 3, -6\\right), \\operatorname{Point3D}\\left(3, 39, 21\\right)\\right)$"
          },
          "metadata": {},
          "execution_count": 32
        }
      ]
    },
    {
      "cell_type": "markdown",
      "metadata": {
        "id": "TxReYtsmldtp"
      },
      "source": [
        "Проверим, что Line9 перпендикулярна  $ABC$"
      ]
    },
    {
      "cell_type": "code",
      "metadata": {
        "colab": {
          "base_uri": "https://localhost:8080/"
        },
        "id": "3_avr-vPldtp",
        "outputId": "a55372e7-fbb5-4c0f-f831-5d8684ef51ff"
      },
      "source": [
        "print(f'Перпендикулярны ли ABC и Line9? {\"не \" * (not ABC.is_perpendicular(Line9))}перпендикулярны')"
      ],
      "execution_count": null,
      "outputs": [
        {
          "output_type": "stream",
          "name": "stdout",
          "text": [
            "Перпендикулярны ли ABC и Line9? перпендикулярны\n"
          ]
        }
      ]
    },
    {
      "cell_type": "markdown",
      "metadata": {
        "id": "Y8ogU-KGldtp"
      },
      "source": [
        "### Пример 10\n",
        "Угол между прямой и плоскостью"
      ]
    },
    {
      "cell_type": "code",
      "metadata": {
        "colab": {
          "base_uri": "https://localhost:8080/",
          "height": 68
        },
        "id": "GPOD7Qt9ldtq",
        "outputId": "8c8db594-2acb-4d3f-ee67-fcc245dc875d"
      },
      "source": [
        "ACD.angle_between(Line9)"
      ],
      "execution_count": null,
      "outputs": [
        {
          "output_type": "execute_result",
          "data": {
            "text/plain": [
              "asin(33*sqrt(1130)/1130)"
            ],
            "text/latex": "$\\displaystyle \\operatorname{asin}{\\left(\\frac{33 \\sqrt{1130}}{1130} \\right)}$"
          },
          "metadata": {},
          "execution_count": 35
        }
      ]
    },
    {
      "cell_type": "markdown",
      "metadata": {
        "id": "n-xvxSbqldtq"
      },
      "source": [
        "###  Пример 11\n",
        "Даны точки  пространстве\n",
        "$A(-4, -1, -5)$, $B(4, -6, 7)$, $C(12, -11, 20)$, $D(20, -16, 31)$, $K(28, -17, 41)$,\n",
        "$M(92, -49, 133)$.\n",
        "Вывести на экран уравнения всех (различных!) прямых, проходящих через все пары этих точек."
      ]
    },
    {
      "cell_type": "code",
      "metadata": {
        "colab": {
          "base_uri": "https://localhost:8080/",
          "height": 251
        },
        "id": "ec88X3YCldtr",
        "outputId": "4e4a6d95-0dbd-4872-d5c0-eca8416a0ac4"
      },
      "source": [
        "A = Point(-4, -1, -5)\n",
        "B = Point(4, -6, 7)\n",
        "C = Point(12, -11, 20)\n",
        "D = Point(20, -16, 31)\n",
        "K = Point(28, -17, 41)\n",
        "M = Point(92, -49, 133)\n",
        "points = (A, B, C, D, K, M)\n",
        "point_names = ('A', 'B', 'C', 'D', 'K', 'M')\n",
        "num = len(points)\n",
        "lines = [('A', 'B', Line(A, B))]\n",
        "for i in range(num):\n",
        "    for j in range(i + 1, num):\n",
        "        Line1 = Line(points[i], points[j])\n",
        "        res = True\n",
        "        for Line2 in lines:\n",
        "            if Line1.is_similar(Line2[-1]):\n",
        "                res = False\n",
        "                break\n",
        "        if res:\n",
        "            lines.append((point_names[i], point_names[j], Line1))\n",
        "\n",
        "for point1, point2, Line0 in lines:\n",
        "    display(Latex(f'{point1}{point2}:\\ {latex(Line0.equation())}'))"
      ],
      "execution_count": null,
      "outputs": [
        {
          "output_type": "display_data",
          "data": {
            "text/plain": [
              "<IPython.core.display.Latex object>"
            ],
            "text/latex": "AB:\\ \\left( 5 x + 8 y + 28, \\  - 3 x + 2 z - 2\\right)"
          },
          "metadata": {}
        },
        {
          "output_type": "display_data",
          "data": {
            "text/plain": [
              "<IPython.core.display.Latex object>"
            ],
            "text/latex": "AC:\\ \\left( 5 x + 8 y + 28, \\  - 25 x + 16 z - 20\\right)"
          },
          "metadata": {}
        },
        {
          "output_type": "display_data",
          "data": {
            "text/plain": [
              "<IPython.core.display.Latex object>"
            ],
            "text/latex": "AK:\\ \\left( x + 2 y + 6, \\  - 23 x + 16 z - 12\\right)"
          },
          "metadata": {}
        },
        {
          "output_type": "display_data",
          "data": {
            "text/plain": [
              "<IPython.core.display.Latex object>"
            ],
            "text/latex": "BC:\\ \\left( 5 x + 8 y + 28, \\  - 13 x + 8 z - 4\\right)"
          },
          "metadata": {}
        },
        {
          "output_type": "display_data",
          "data": {
            "text/plain": [
              "<IPython.core.display.Latex object>"
            ],
            "text/latex": "BK:\\ \\left( 11 x + 24 y + 100, \\  - 17 x + 12 z - 16\\right)"
          },
          "metadata": {}
        },
        {
          "output_type": "display_data",
          "data": {
            "text/plain": [
              "<IPython.core.display.Latex object>"
            ],
            "text/latex": "BM:\\ \\left( 43 x + 88 y + 356, \\  - 63 x + 44 z - 56\\right)"
          },
          "metadata": {}
        },
        {
          "output_type": "display_data",
          "data": {
            "text/plain": [
              "<IPython.core.display.Latex object>"
            ],
            "text/latex": "CD:\\ \\left( 5 x + 8 y + 28, \\  - 11 x + 8 z - 28\\right)"
          },
          "metadata": {}
        },
        {
          "output_type": "display_data",
          "data": {
            "text/plain": [
              "<IPython.core.display.Latex object>"
            ],
            "text/latex": "CK:\\ \\left( 3 x + 8 y + 52, \\  - 21 x + 16 z - 68\\right)"
          },
          "metadata": {}
        },
        {
          "output_type": "display_data",
          "data": {
            "text/plain": [
              "<IPython.core.display.Latex object>"
            ],
            "text/latex": "CM:\\ \\left( 19 x + 40 y + 212, \\  - 113 x + 80 z - 244\\right)"
          },
          "metadata": {}
        },
        {
          "output_type": "display_data",
          "data": {
            "text/plain": [
              "<IPython.core.display.Latex object>"
            ],
            "text/latex": "DK:\\ \\left( x + 8 y + 108, \\  - 5 x + 4 z - 24\\right)"
          },
          "metadata": {}
        },
        {
          "output_type": "display_data",
          "data": {
            "text/plain": [
              "<IPython.core.display.Latex object>"
            ],
            "text/latex": "DM:\\ \\left( 11 x + 24 y + 164, \\  - 17 x + 12 z - 32\\right)"
          },
          "metadata": {}
        }
      ]
    }
  ]
}