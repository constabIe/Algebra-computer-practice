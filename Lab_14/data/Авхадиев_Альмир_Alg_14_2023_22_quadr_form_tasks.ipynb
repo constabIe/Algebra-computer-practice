{
 "cells": [
  {
   "cell_type": "code",
   "execution_count": 53,
   "metadata": {
    "id": "nVsRFN7HPrjP",
    "ExecuteTime": {
     "end_time": "2024-03-18T15:48:09.948848Z",
     "start_time": "2024-03-18T15:48:09.923181Z"
    }
   },
   "outputs": [],
   "source": [
    "import sympy as sp\n",
    "import numpy as np\n",
    "from sympy import Eq, S, latex, plot_implicit, Matrix, symbols\n",
    "from sympy import simplify, expand, collect, solve, solveset\n",
    "from sympy import pi as Pi\n",
    "from sympy import cos as Cos\n",
    "from sympy import sin as Sin\n",
    "import pandas as pd\n",
    "from IPython.display import Latex, display\n",
    "# from google.colab import files"
   ]
  },
  {
   "cell_type": "code",
   "execution_count": 3,
   "outputs": [],
   "source": [
    "from sympy.abc import x, y, z"
   ],
   "metadata": {
    "collapsed": false,
    "ExecuteTime": {
     "end_time": "2024-03-18T14:56:28.674832Z",
     "start_time": "2024-03-18T14:56:28.647247Z"
    }
   }
  },
  {
   "cell_type": "markdown",
   "metadata": {
    "id": "iy2K466yPrjR"
   },
   "source": [
    "# Практическое занятие 14\n",
    "# Компьютерный практикум по алгебре на Python\n",
    "### Задание 1.\n",
    "Составить матрицу квадратичной формы $16x^2-21y^2+3z^2-4xy-4xz+10yz$, проверить, что она определяет именно заданный многочлен."
   ]
  },
  {
   "cell_type": "code",
   "source": [
    "u = 16 * x ** 2 - 21 * y ** 2 + 3 * z ** 2 - 4 * x * y - 4 * x * z + 10 * y * z\n",
    "A = Matrix([[16, -2, -2], [-2, -21, 5], [-2, 5, 3]])\n",
    "X = Matrix([x, y, z])\n",
    "check = X.T * A * X\n",
    "check = simplify(expand(check[0]))\n",
    "display(Latex(fr\"$$A = {latex(A)}$$\"))\n",
    "display(Latex(fr\"$$X^T AT = {latex(check)} \\Rightarrow X^T AT - u = {latex(check - u)}$$\"))"
   ],
   "metadata": {
    "id": "_U0A19rog2_l",
    "ExecuteTime": {
     "end_time": "2024-03-18T15:16:31.248882Z",
     "start_time": "2024-03-18T15:16:31.190368Z"
    }
   },
   "execution_count": 13,
   "outputs": [
    {
     "data": {
      "text/plain": "<IPython.core.display.Latex object>",
      "text/latex": "$$A = \\left[\\begin{matrix}16 & -2 & -2\\\\-2 & -21 & 5\\\\-2 & 5 & 3\\end{matrix}\\right]$$"
     },
     "metadata": {},
     "output_type": "display_data"
    },
    {
     "data": {
      "text/plain": "<IPython.core.display.Latex object>",
      "text/latex": "$$X^T AT = 16 x^{2} - 4 x y - 4 x z - 21 y^{2} + 10 y z + 3 z^{2} \\Rightarrow X^T AT - u = 0$$"
     },
     "metadata": {},
     "output_type": "display_data"
    }
   ]
  },
  {
   "cell_type": "markdown",
   "source": [
    "### Задание 2.\n",
    "Заданы векторы  $e_1=(1, 0, 1)$, $e_2=(-1, 0, 1)$, $e_1=(0, 1, 0)$.\n",
    "Вывести (используя цикл!) на экран матрицу квадратичной формы Задания 1 в новом базисе из векторов\n",
    "\n",
    "\n",
    "1.   ($e_1$, $e_2$, $e_3$),\n",
    "2.   ($e_1$, $e_2 - e_1$, $e_3$),\n",
    "3.   ($e_1$, $e_2$, $e_3 - e_1$),\n",
    "4.   ($e_1$, $e_2 - e_1$, $e_3 - e_1$),\n",
    "5.   ($e_1 + e_2$, $e_2$, $e_3 + e_2$),\n",
    "\n",
    "при этом в файл \"task2.xlsx\" записать на листы $A_1$, $A_2$, ... матрицы в новом базисе, а на листы  $P_1$, $P_2$, ... соответствующие матрицы перехода."
   ],
   "metadata": {
    "id": "5SjHvz59du7t"
   }
  },
  {
   "cell_type": "code",
   "source": [
    "e_1 = [1, 0, 1]\n",
    "e_2 = [-1, 0, 1]\n",
    "e_3 = [0, 1, 0]\n",
    "\n",
    "\n",
    "def vecs_arifs(A, B, sign='+'):\n",
    "    C = []\n",
    "    if sign == '-':\n",
    "        for i in range(len(A)):\n",
    "            C.append(A[i] - B[i])\n",
    "    elif sign == '+':\n",
    "        for i in range(len(A)):\n",
    "            C.append(A[i] + B[i])\n",
    "\n",
    "    return C\n",
    "\n",
    "\n",
    "P_list = [Matrix([e_1, e_2, e_3]).T,\n",
    "          Matrix([e_1, vecs_arifs(e_2, e_1, '-'), e_3]).T,\n",
    "          Matrix([e_1, e_2, vecs_arifs(e_3, e_1, '-')]).T,\n",
    "          Matrix([e_1, vecs_arifs(e_2, e_1, '-'), vecs_arifs(e_3, e_1, '-')]).T,\n",
    "          Matrix([vecs_arifs(e_2, e_1, '+'), e_2, vecs_arifs(e_3, e_2, '+')]).T]\n",
    "A_new_list = [P.T * A * P for P in P_list]\n",
    "\n",
    "with pd.ExcelWriter(\"/Users/almiravhadiev/Downloads/HSE/Math_Pracs/Algebra/Lab_14/task2.xlsx\", mode='w') as f:\n",
    "    for i in range(len(A_new_list)):\n",
    "        A_pd = pd.DataFrame(A_new_list[i].tolist())\n",
    "        A_pd.to_excel(f, sheet_name='A' + str(i + 1), header=None, index=None)\n"
   ],
   "metadata": {
    "id": "4AbF-qRtg4MD",
    "ExecuteTime": {
     "end_time": "2024-03-18T15:27:58.142129Z",
     "start_time": "2024-03-18T15:27:58.090742Z"
    }
   },
   "execution_count": 32,
   "outputs": []
  },
  {
   "cell_type": "markdown",
   "metadata": {
    "id": "9UM-8WNdPrjW"
   },
   "source": [
    "### Задание 3.\n",
    "В цикле из файла \"task3.xlsx\" считать матрицы, вывести на экран каждую матрицу и ее собственные числа и собственные векторы."
   ]
  },
  {
   "cell_type": "code",
   "source": [
    "with pd.ExcelFile(\"/Users/almiravhadiev/Downloads/HSE/Math_Pracs/Algebra/Lab_14/task3.xlsx\") as f:\n",
    "    for i in range(5):\n",
    "        data_pd = pd.read_excel(f, sheet_name='A' + str(i + 1), index_col=False, header=None)\n",
    "        data_np = data_pd.to_numpy()\n",
    "        A = Matrix(data_np.tolist())\n",
    "        display(Latex(fr\"$A = {latex(A)}$\"))\n",
    "        display(Latex(fr\"$\\text{{Собственные числа и векторы: }}{latex(A.eigenvects())}$\"))"
   ],
   "metadata": {
    "id": "Ufyv8VbCg5SP",
    "ExecuteTime": {
     "end_time": "2024-03-18T15:44:53.795980Z",
     "start_time": "2024-03-18T15:44:53.514401Z"
    }
   },
   "execution_count": 45,
   "outputs": [
    {
     "data": {
      "text/plain": "<IPython.core.display.Latex object>",
      "text/latex": "$A = \\left[\\begin{matrix}7 & 37 & -37\\\\37 & -5 & 5\\\\-37 & 5 & -5\\end{matrix}\\right]$"
     },
     "metadata": {},
     "output_type": "display_data"
    },
    {
     "data": {
      "text/plain": "<IPython.core.display.Latex object>",
      "text/latex": "$\\text{Собственные числа и векторы: }\\left[ \\left( 0, \\  1, \\  \\left[ \\left[\\begin{matrix}0\\\\1\\\\1\\end{matrix}\\right]\\right]\\right), \\  \\left( - \\frac{3}{2} + \\frac{3 \\sqrt{1249}}{2}, \\  1, \\  \\left[ \\left[\\begin{matrix}- \\frac{3 \\sqrt{1249}}{74} - \\frac{17}{74}\\\\-1\\\\1\\end{matrix}\\right]\\right]\\right), \\  \\left( - \\frac{3 \\sqrt{1249}}{2} - \\frac{3}{2}, \\  1, \\  \\left[ \\left[\\begin{matrix}- \\frac{17}{74} + \\frac{3 \\sqrt{1249}}{74}\\\\-1\\\\1\\end{matrix}\\right]\\right]\\right)\\right]$"
     },
     "metadata": {},
     "output_type": "display_data"
    },
    {
     "data": {
      "text/plain": "<IPython.core.display.Latex object>",
      "text/latex": "$A = \\left[\\begin{matrix}7 & 30 & -37\\\\30 & -72 & 42\\\\-37 & 42 & -5\\end{matrix}\\right]$"
     },
     "metadata": {},
     "output_type": "display_data"
    },
    {
     "data": {
      "text/plain": "<IPython.core.display.Latex object>",
      "text/latex": "$\\text{Собственные числа и векторы: }\\left[ \\left( 0, \\  1, \\  \\left[ \\left[\\begin{matrix}1\\\\1\\\\1\\end{matrix}\\right]\\right]\\right), \\  \\left( -35 + \\sqrt{5437}, \\  1, \\  \\left[ \\left[\\begin{matrix}- \\frac{\\sqrt{5437}}{79} - \\frac{12}{79}\\\\- \\frac{67}{79} + \\frac{\\sqrt{5437}}{79}\\\\1\\end{matrix}\\right]\\right]\\right), \\  \\left( - \\sqrt{5437} - 35, \\  1, \\  \\left[ \\left[\\begin{matrix}- \\frac{12}{79} + \\frac{\\sqrt{5437}}{79}\\\\- \\frac{\\sqrt{5437}}{79} - \\frac{67}{79}\\\\1\\end{matrix}\\right]\\right]\\right)\\right]$"
     },
     "metadata": {},
     "output_type": "display_data"
    },
    {
     "data": {
      "text/plain": "<IPython.core.display.Latex object>",
      "text/latex": "$A = \\left[\\begin{matrix}7 & 37 & -44\\\\37 & -5 & -32\\\\-44 & -32 & 76\\end{matrix}\\right]$"
     },
     "metadata": {},
     "output_type": "display_data"
    },
    {
     "data": {
      "text/plain": "<IPython.core.display.Latex object>",
      "text/latex": "$\\text{Собственные числа и векторы: }\\left[ \\left( 0, \\  1, \\  \\left[ \\left[\\begin{matrix}1\\\\1\\\\1\\end{matrix}\\right]\\right]\\right), \\  \\left( 39 - 21 \\sqrt{13}, \\  1, \\  \\left[ \\left[\\begin{matrix}\\frac{23}{4} + \\frac{7 \\sqrt{13}}{4}\\\\- \\frac{27}{4} - \\frac{7 \\sqrt{13}}{4}\\\\1\\end{matrix}\\right]\\right]\\right), \\  \\left( 39 + 21 \\sqrt{13}, \\  1, \\  \\left[ \\left[\\begin{matrix}\\frac{23}{4} - \\frac{7 \\sqrt{13}}{4}\\\\- \\frac{27}{4} + \\frac{7 \\sqrt{13}}{4}\\\\1\\end{matrix}\\right]\\right]\\right)\\right]$"
     },
     "metadata": {},
     "output_type": "display_data"
    },
    {
     "data": {
      "text/plain": "<IPython.core.display.Latex object>",
      "text/latex": "$A = \\left[\\begin{matrix}7 & 30 & -44\\\\30 & -72 & 12\\\\-44 & 12 & 76\\end{matrix}\\right]$"
     },
     "metadata": {},
     "output_type": "display_data"
    },
    {
     "data": {
      "text/plain": "<IPython.core.display.Latex object>",
      "text/latex": "$\\text{Собственные числа и векторы: }\\left[ \\left( 0, \\  1, \\  \\left[ \\left[\\begin{matrix}2\\\\1\\\\1\\end{matrix}\\right]\\right]\\right), \\  \\left( \\frac{11}{2} - \\frac{\\sqrt{33817}}{2}, \\  1, \\  \\left[ \\left[\\begin{matrix}\\frac{117}{136} + \\frac{\\sqrt{33817}}{136}\\\\- \\frac{185}{68} - \\frac{\\sqrt{33817}}{68}\\\\1\\end{matrix}\\right]\\right]\\right), \\  \\left( \\frac{11}{2} + \\frac{\\sqrt{33817}}{2}, \\  1, \\  \\left[ \\left[\\begin{matrix}\\frac{117}{136} - \\frac{\\sqrt{33817}}{136}\\\\- \\frac{185}{68} + \\frac{\\sqrt{33817}}{68}\\\\1\\end{matrix}\\right]\\right]\\right)\\right]$"
     },
     "metadata": {},
     "output_type": "display_data"
    },
    {
     "data": {
      "text/plain": "<IPython.core.display.Latex object>",
      "text/latex": "$A = \\left[\\begin{matrix}76 & 32 & 0\\\\32 & -5 & 0\\\\0 & 0 & 0\\end{matrix}\\right]$"
     },
     "metadata": {},
     "output_type": "display_data"
    },
    {
     "data": {
      "text/plain": "<IPython.core.display.Latex object>",
      "text/latex": "$\\text{Собственные числа и векторы: }\\left[ \\left( 0, \\  1, \\  \\left[ \\left[\\begin{matrix}0\\\\0\\\\1\\end{matrix}\\right]\\right]\\right), \\  \\left( \\frac{71}{2} - \\frac{\\sqrt{10657}}{2}, \\  1, \\  \\left[ \\left[\\begin{matrix}\\frac{81}{64} - \\frac{\\sqrt{10657}}{64}\\\\1\\\\0\\end{matrix}\\right]\\right]\\right), \\  \\left( \\frac{71}{2} + \\frac{\\sqrt{10657}}{2}, \\  1, \\  \\left[ \\left[\\begin{matrix}\\frac{81}{64} + \\frac{\\sqrt{10657}}{64}\\\\1\\\\0\\end{matrix}\\right]\\right]\\right)\\right]$"
     },
     "metadata": {},
     "output_type": "display_data"
    }
   ]
  },
  {
   "cell_type": "markdown",
   "source": [
    "### Задание 4.\n",
    "Привести квадратичную форму с матрицей\n",
    "$$\n",
    "\\left[\\begin{matrix}-645 & -12 & -960\\\\-12 & 3 & 9\\\\-960 & 9 & -1205\\end{matrix}\\right]\n",
    "$$\n",
    "к каноническому виду с помощью перехода к новому базису из собственных векторов.\n",
    "\n",
    "Вывести на экран матрицу перехода к новому базису, матрицу квадратичной формы в новом базисе и квадратичную форму в старом и новом базисе (в виде многочлена от переменных $x$, $y$, $z$)."
   ],
   "metadata": {
    "id": "PalqMShnV6wN"
   }
  },
  {
   "cell_type": "code",
   "source": [
    "A = Matrix([[-645, -12, -960],\n",
    "            [-12, 3, 9],\n",
    "            [-960, 9, -1205]])\n",
    "X = Matrix([x, y, z])\n",
    "\n",
    "ev = A.eigenvects()\n",
    "P = Matrix([Matrix([vect.normalized() for vect in vects]).T for num, multipl, vects in ev]).T\n",
    "A_new = P.T * A * P\n",
    "\n",
    "res = simplify(expand(X.T * A * X))[0]\n",
    "res_new = simplify(expand(X.T * A_new * X))[0]\n",
    "\n",
    "display(Latex(\n",
    "    fr'$A_{{new}} = {latex(A_new)},\\ P = {latex(P)},\\\\\\\\ res = {latex(res)},\\\\\\\\ res_{{new}} = {latex(res_new)}$'))"
   ],
   "metadata": {
    "id": "7wmrB6odg64Z",
    "ExecuteTime": {
     "end_time": "2024-03-18T15:46:35.328656Z",
     "start_time": "2024-03-18T15:46:35.227033Z"
    }
   },
   "execution_count": 49,
   "outputs": [
    {
     "data": {
      "text/plain": "<IPython.core.display.Latex object>",
      "text/latex": "$A_{new} = \\left[\\begin{matrix}-1925 & 0 & 0\\\\0 & 0 & 0\\\\0 & 0 & 78\\end{matrix}\\right],\\ P = \\left[\\begin{matrix}\\frac{3}{5} & - \\frac{2 \\sqrt{26}}{65} & - \\frac{2 \\sqrt{26}}{13}\\\\0 & - \\frac{5 \\sqrt{26}}{26} & \\frac{\\sqrt{26}}{26}\\\\\\frac{4}{5} & \\frac{3 \\sqrt{26}}{130} & \\frac{3 \\sqrt{26}}{26}\\end{matrix}\\right],\\\\\\\\ res = - 645 x^{2} - 24 x y - 1920 x z + 3 y^{2} + 18 y z - 1205 z^{2},\\\\\\\\ res_{new} = - 1925 x^{2} + 78 z^{2}$"
     },
     "metadata": {},
     "output_type": "display_data"
    }
   ]
  },
  {
   "cell_type": "markdown",
   "metadata": {
    "id": "D7VmR2N5PrjY"
   },
   "source": [
    "### Задание 5*.\n",
    "Определить тип кривой второго порядка, заданной уравнением\n",
    "$$\n",
    "97x^2 - 144xy + 97y^2 + 482x - 532y = 3452\n",
    "$$\n",
    "Построить в одной координатной плоскости график заданного уравнения и канонического уравнения соответствующей кривой, каноническое уравнение сделать названием графика."
   ]
  },
  {
   "cell_type": "code",
   "source": [
    "A3 = Matrix([[97, -72, 241],\n",
    "             [-72, 97, -266],\n",
    "             [241, -266, -3452]])\n",
    "X3 = Matrix([x, y, 1])\n",
    "eq3 = Eq(simplify(expand(X3.T * A3 * X3))[0], 0)\n",
    "\n",
    "alpha = sp.acot((A3[0, 0] - A3[1, 1]) / (2 * A3[0, 1])) / 2\n",
    "P = Matrix([[Cos(alpha), -Sin(alpha), 0],\n",
    "            [Sin(alpha), Cos(alpha), 0],\n",
    "            [0, 0, 1]])\n",
    "P.simplify()\n",
    "A3_new = P.T * A3 * P\n",
    "A3_new.simplify()\n",
    "\n",
    "from sympy.abc import X, Y, Z\n",
    "\n",
    "X3 = Matrix((X, Y, 1))\n",
    "\n",
    "X3_new = Matrix((X - A3_new[0, 2] / A3_new[0, 0],\n",
    "                 Y - A3_new[1, 2] / A3_new[1, 1],\n",
    "                 1))\n",
    "eq3_new = simplify(expand(X3_new.T * A3_new * X3_new))[0]\n",
    "\n",
    "free = eq3_new.subs({X: 0, Y: 0})\n",
    "eq3_last = eq3_new / (-free) + 1\n",
    "eq3_last_xy = Eq(eq3_last.subs({X: x, Y: y}), 1)\n",
    "\n",
    "p = plot_implicit(eq3, (x, -15, 15), (y, -15, 15), line_color='g', aspect_ratio=(1, 1),\n",
    "                  xlabel='$x$', ylabel='$y$',\n",
    "                  title=f'{latex(eq3_last_xy, mode=\"inline\")}\\n',\n",
    "                  adaptive=False, show=False)\n",
    "p.extend(plot_implicit(eq3_last_xy, (x, -15, 15), (y, -15, 15), line_color='orange',\n",
    "                       aspect_ratio=(1, 1), adaptive=False, show=False))\n",
    "p.show()"
   ],
   "metadata": {
    "id": "PSszsSEpg8aX",
    "ExecuteTime": {
     "end_time": "2024-03-18T15:48:46.599667Z",
     "start_time": "2024-03-18T15:48:43.558539Z"
    }
   },
   "execution_count": 56,
   "outputs": [
    {
     "name": "stderr",
     "output_type": "stream",
     "text": [
      "Exception ignored in: <function ZipFile.__del__ at 0x10a030860>\n",
      "Traceback (most recent call last):\n",
      "  File \"/Users/almiravhadiev/.conda/envs/CompPracs/lib/python3.11/zipfile.py\", line 1874, in __del__\n",
      "    self.close()\n",
      "  File \"/Users/almiravhadiev/.conda/envs/CompPracs/lib/python3.11/zipfile.py\", line 1891, in close\n",
      "    self.fp.seek(self.start_dir)\n",
      "ValueError: seek of closed file\n",
      "Exception ignored in: <function ZipFile.__del__ at 0x10a030860>\n",
      "Traceback (most recent call last):\n",
      "  File \"/Users/almiravhadiev/.conda/envs/CompPracs/lib/python3.11/zipfile.py\", line 1874, in __del__\n",
      "    self.close()\n",
      "  File \"/Users/almiravhadiev/.conda/envs/CompPracs/lib/python3.11/zipfile.py\", line 1891, in close\n",
      "    self.fp.seek(self.start_dir)\n",
      "ValueError: seek of closed file\n",
      "Exception ignored in: <function ZipFile.__del__ at 0x10a030860>\n",
      "Traceback (most recent call last):\n",
      "  File \"/Users/almiravhadiev/.conda/envs/CompPracs/lib/python3.11/zipfile.py\", line 1874, in __del__\n",
      "    self.close()\n",
      "  File \"/Users/almiravhadiev/.conda/envs/CompPracs/lib/python3.11/zipfile.py\", line 1891, in close\n",
      "    self.fp.seek(self.start_dir)\n",
      "ValueError: seek of closed file\n",
      "Exception ignored in: <function ZipFile.__del__ at 0x10a030860>\n",
      "Traceback (most recent call last):\n",
      "  File \"/Users/almiravhadiev/.conda/envs/CompPracs/lib/python3.11/zipfile.py\", line 1874, in __del__\n",
      "    self.close()\n",
      "  File \"/Users/almiravhadiev/.conda/envs/CompPracs/lib/python3.11/zipfile.py\", line 1891, in close\n",
      "    self.fp.seek(self.start_dir)\n",
      "ValueError: seek of closed file\n",
      "Exception ignored in: <function ZipFile.__del__ at 0x10a030860>\n",
      "Traceback (most recent call last):\n",
      "  File \"/Users/almiravhadiev/.conda/envs/CompPracs/lib/python3.11/zipfile.py\", line 1874, in __del__\n",
      "    self.close()\n",
      "  File \"/Users/almiravhadiev/.conda/envs/CompPracs/lib/python3.11/zipfile.py\", line 1891, in close\n",
      "    self.fp.seek(self.start_dir)\n",
      "ValueError: seek of closed file\n",
      "Exception ignored in: <function ZipFile.__del__ at 0x10a030860>\n",
      "Traceback (most recent call last):\n",
      "  File \"/Users/almiravhadiev/.conda/envs/CompPracs/lib/python3.11/zipfile.py\", line 1874, in __del__\n",
      "    self.close()\n",
      "  File \"/Users/almiravhadiev/.conda/envs/CompPracs/lib/python3.11/zipfile.py\", line 1891, in close\n",
      "    self.fp.seek(self.start_dir)\n",
      "ValueError: seek of closed file\n",
      "Exception ignored in: <function ZipFile.__del__ at 0x10a030860>\n",
      "Traceback (most recent call last):\n",
      "  File \"/Users/almiravhadiev/.conda/envs/CompPracs/lib/python3.11/zipfile.py\", line 1874, in __del__\n",
      "    self.close()\n",
      "  File \"/Users/almiravhadiev/.conda/envs/CompPracs/lib/python3.11/zipfile.py\", line 1891, in close\n",
      "    self.fp.seek(self.start_dir)\n",
      "ValueError: seek of closed file\n",
      "Exception ignored in: <function ZipFile.__del__ at 0x10a030860>\n",
      "Traceback (most recent call last):\n",
      "  File \"/Users/almiravhadiev/.conda/envs/CompPracs/lib/python3.11/zipfile.py\", line 1874, in __del__\n",
      "    self.close()\n",
      "  File \"/Users/almiravhadiev/.conda/envs/CompPracs/lib/python3.11/zipfile.py\", line 1891, in close\n",
      "    self.fp.seek(self.start_dir)\n",
      "ValueError: seek of closed file\n",
      "Exception ignored in: <function ZipFile.__del__ at 0x10a030860>\n",
      "Traceback (most recent call last):\n",
      "  File \"/Users/almiravhadiev/.conda/envs/CompPracs/lib/python3.11/zipfile.py\", line 1874, in __del__\n",
      "    self.close()\n",
      "  File \"/Users/almiravhadiev/.conda/envs/CompPracs/lib/python3.11/zipfile.py\", line 1891, in close\n",
      "    self.fp.seek(self.start_dir)\n",
      "ValueError: seek of closed file\n",
      "Exception ignored in: <function ZipFile.__del__ at 0x10a030860>\n",
      "Traceback (most recent call last):\n",
      "  File \"/Users/almiravhadiev/.conda/envs/CompPracs/lib/python3.11/zipfile.py\", line 1874, in __del__\n",
      "    self.close()\n",
      "  File \"/Users/almiravhadiev/.conda/envs/CompPracs/lib/python3.11/zipfile.py\", line 1891, in close\n",
      "    self.fp.seek(self.start_dir)\n",
      "ValueError: seek of closed file\n",
      "Exception ignored in: <function ZipFile.__del__ at 0x10a030860>\n",
      "Traceback (most recent call last):\n",
      "  File \"/Users/almiravhadiev/.conda/envs/CompPracs/lib/python3.11/zipfile.py\", line 1874, in __del__\n",
      "    self.close()\n",
      "  File \"/Users/almiravhadiev/.conda/envs/CompPracs/lib/python3.11/zipfile.py\", line 1891, in close\n",
      "    self.fp.seek(self.start_dir)\n",
      "ValueError: seek of closed file\n",
      "Exception ignored in: <function ZipFile.__del__ at 0x10a030860>\n",
      "Traceback (most recent call last):\n",
      "  File \"/Users/almiravhadiev/.conda/envs/CompPracs/lib/python3.11/zipfile.py\", line 1874, in __del__\n",
      "    self.close()\n",
      "  File \"/Users/almiravhadiev/.conda/envs/CompPracs/lib/python3.11/zipfile.py\", line 1891, in close\n",
      "    self.fp.seek(self.start_dir)\n",
      "ValueError: seek of closed file\n"
     ]
    },
    {
     "data": {
      "text/plain": "<Figure size 640x480 with 1 Axes>",
      "image/png": "[encoded data removed]"
     },
     "metadata": {},
     "output_type": "display_data"
    }
   ]
  },
  {
   "cell_type": "markdown",
   "metadata": {
    "id": "goIfBxdUPrja"
   },
   "source": [
    "### Задание 6*.\n",
    "Определить тип кривой второго порядка, заданной уравнением\n",
    "$$\n",
    "x^2+2xy+y^2-4x+4y=4\n",
    "$$\n",
    "Построить в одной координатной плоскости график заданного уравнения и канонического уравнения соответствующей кривой, каноническое уравнение сделать названием графика.\n",
    "\n",
    "Указание: каноническое уравнение параболы $y^2 = 2px$ или $x^2 = 2py$; для того, чтобы выразить $x$ или $y$ можно воспользоваться solve или solveset."
   ]
  },
  {
   "cell_type": "code",
   "source": [
    "A3 = Matrix([[1, 1, -2], [1, 1, 2], [-2, 2, -4]])\n",
    "X3 = Matrix([x, y, 1])\n",
    "eq3 = Eq(simplify(expand(X3.T * A3 * X3))[0], 0)\n",
    "\n",
    "alpha = sp.acot((A3[0, 0] - A3[1, 1]) / (2 * A3[0, 1])) / 2\n",
    "P = Matrix([[Cos(alpha), -Sin(alpha), 0],\n",
    "            [Sin(alpha), Cos(alpha), 0],\n",
    "            [0, 0, 1]])\n",
    "P.simplify()\n",
    "A3_new = P.T * A3 * P\n",
    "A3_new.simplify()\n",
    "\n",
    "from sympy.abc import X, Y, Z\n",
    "\n",
    "X3 = Matrix((X, Y, 1))\n",
    "\n",
    "eq3_new = Eq(simplify(expand((X3.T * A3_new * X3)[0])), 0)\n",
    "eq3_new = eq3_new.subs({X: x, Y: y})\n",
    "\n",
    "p = plot_implicit(eq3, (x, -10, 10), (y, -10, 5), line_color='g', aspect_ratio=(1, 1),\n",
    "                  xlabel='$x$', ylabel='$y$',\n",
    "                  title=f'{latex(eq3_new, mode=\"inline\")}\\n',\n",
    "                  adaptive=False, show=False)\n",
    "p.extend(plot_implicit(eq3_new, (x, -10, 10), (y, -10, 5), line_color='orange',\n",
    "                       aspect_ratio=(1, 1), adaptive=False, show=False))\n",
    "p.show()"
   ],
   "metadata": {
    "id": "m2Ggtw7vg9az",
    "ExecuteTime": {
     "end_time": "2024-03-18T15:50:05.903627Z",
     "start_time": "2024-03-18T15:50:04.161564Z"
    }
   },
   "execution_count": 57,
   "outputs": [
    {
     "data": {
      "text/plain": "<Figure size 640x480 with 1 Axes>",
      "image/png": "[encoded data removed]"
     },
     "metadata": {},
     "output_type": "display_data"
    }
   ]
  },
  {
   "cell_type": "markdown",
   "metadata": {
    "id": "WM4LDoZIPrjc"
   },
   "source": [
    "###  Индивидуальное задание\n",
    "Составить матрицу квадратичной формы и привести ее к каноническому виду с помощью перехода к новому базису из собственных векторов. Векторы выводить на экран не нужно. Вывести на экран матрицу в исходном виде и канонической форме, а также саму квадратичную форму в каноническом виде."
   ]
  },
  {
   "cell_type": "markdown",
   "source": [
    "Вариант N 175\n",
    "\n",
    "$$Q = - 943 x^{2} + 150 \\sqrt{3} x y - 228 \\sqrt{6} x z - 325 y^{2} - 900 \\sqrt{2} y z + 368 z^{2}$$"
   ],
   "metadata": {
    "collapsed": false
   }
  },
  {
   "cell_type": "code",
   "source": [
    "A = Matrix([[             -943,   75 * sp.sqrt(3), -114 * sp.sqrt(6)],\n",
    "            [  75 * sp.sqrt(3),              -325, -450 * sp.sqrt(2)],\n",
    "            [-114 * sp.sqrt(6), -450 * sp.sqrt(2),               368]])\n",
    "\n",
    "X = Matrix([x, y, z])\n",
    "\n",
    "display(expand(X.T * A * X))\n",
    "\n",
    "ev = A.eigenvects()\n",
    "P = Matrix([Matrix([vect.normalized() for vect in vects]).T for num, multipl, vects in ev]).T\n",
    "A_new = P.T * A * P\n",
    "\n",
    "res = simplify(expand(X.T * A * X))[0]\n",
    "res_new = simplify(expand(X.T * A_new * X))[0]\n",
    "\n",
    "display(Latex(fr'$A = {latex(A)},\\ A_{{new}} = {latex(A_new)},\\\\\\\\\\\n",
    " res_{{new}} = {latex(res_new)}$'))"
   ],
   "metadata": {
    "id": "2SRsH12Rg-o3",
    "ExecuteTime": {
     "end_time": "2024-03-18T16:05:57.577783Z",
     "start_time": "2024-03-18T16:05:56.821201Z"
    }
   },
   "execution_count": 62,
   "outputs": [
    {
     "data": {
      "text/plain": "Matrix([[-943*x**2 + 150*sqrt(3)*x*y - 228*sqrt(6)*x*z - 325*y**2 - 900*sqrt(2)*y*z + 368*z**2]])",
      "text/latex": "$\\displaystyle \\left[\\begin{matrix}- 943 x^{2} + 150 \\sqrt{3} x y - 228 \\sqrt{6} x z - 325 y^{2} - 900 \\sqrt{2} y z + 368 z^{2}\\end{matrix}\\right]$"
     },
     "metadata": {},
     "output_type": "display_data"
    },
    {
     "data": {
      "text/plain": "<IPython.core.display.Latex object>",
      "text/latex": "$A = \\left[\\begin{matrix}-943 & 75 \\sqrt{3} & - 114 \\sqrt{6}\\\\75 \\sqrt{3} & -325 & - 450 \\sqrt{2}\\\\- 114 \\sqrt{6} & - 450 \\sqrt{2} & 368\\end{matrix}\\right],\\ A_{new} = \\left[\\begin{matrix}-1000 & 0 & 0\\\\0 & -700 & 0\\\\0 & 0 & 800\\end{matrix}\\right],\\\\\\\\\\\n res_{new} = - 1000 x^{2} - 700 y^{2} + 800 z^{2}$"
     },
     "metadata": {},
     "output_type": "display_data"
    }
   ]
  }
 ],
 "metadata": {
  "kernelspec": {
   "display_name": "Python 3",
   "language": "python",
   "name": "python3"
  },
  "language_info": {
   "codemirror_mode": {
    "name": "ipython",
    "version": 3
   },
   "file_extension": ".py",
   "mimetype": "text/x-python",
   "name": "python",
   "nbconvert_exporter": "python",
   "pygments_lexer": "ipython3",
   "version": "3.7.3"
  },
  "colab": {
   "provenance": []
  }
 },
 "nbformat": 4,
 "nbformat_minor": 0
}
