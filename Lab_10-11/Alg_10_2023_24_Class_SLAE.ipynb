{
 "cells": [
  {
   "cell_type": "code",
   "source": [
    "import numpy as np\n",
    "import numpy.linalg\n",
    "import pandas as pd\n",
    "from dataclasses import dataclass, field"
   ],
   "metadata": {
    "id": "35fSDoLC_UQ8",
    "ExecuteTime": {
     "end_time": "2024-02-18T13:47:09.192406Z",
     "start_time": "2024-02-18T13:47:04.017987Z"
    }
   },
   "id": "35fSDoLC_UQ8",
   "execution_count": 1,
   "outputs": []
  },
  {
   "cell_type": "code",
   "execution_count": 2,
   "outputs": [],
   "source": [
    "@dataclass\n",
    "class SLAE:\n",
    "    \"\"\"Class for Systems of Algebraic Linear Equations\"\"\"\n",
    "    name: str\n",
    "    a: np.array = field(default=None, repr=False)\n",
    "    b: np.array = field(default=None, repr=False)\n",
    "    dim: tuple[int] = field(default=None, repr=False)\n",
    "    dir_name: str = field(default='SLAE', repr=False)\n",
    "    csv_names: tuple[str] = field(default=('A', 'b', 'x'), repr=False)\n",
    "\n",
    "    @property\n",
    "    def get_a(self) -> np.array:\n",
    "        if self.a is None:\n",
    "            self.a = pd.read_excel(f'{self.dir_name}/{self.name}.xlsx',\n",
    "                                   sheet_name=self.csv_names[0],\n",
    "                                   header=None).to_numpy()\n",
    "        return self.a\n",
    "\n",
    "    @property\n",
    "    def get_dim(self) -> tuple[int]:\n",
    "        if self.dim is None:\n",
    "            self.dim = self.get_a.shape\n",
    "        return self.dim\n",
    "\n",
    "    @property\n",
    "    def get_b(self) -> np.array:\n",
    "        if self.b is None:\n",
    "            return pd.read_excel(f'{self.dir_name}/{self.name}.xlsx',\n",
    "                                 sheet_name=self.csv_names[1],\n",
    "                                 header=None).to_numpy()\n",
    "        return self.b\n",
    "\n",
    "    def set_b(self, b, new_name_b_x=()):\n",
    "        na, ma = self.get_dim\n",
    "        nb, = b.shape\n",
    "        if nb != na:\n",
    "            return False\n",
    "        self.b = b\n",
    "        if len(new_name_b_x) != 0 :\n",
    "            self.csv_names = new_name_b_x\n",
    "        self.SLAE_to_xlsx()\n",
    "        df = pd.DataFrame(b, index=None, columns=None)\n",
    "        a_name, b_name, x_name = self.csv_names\n",
    "        df.to_csv(f'{self.dir_name}/CSV/{self.name}_{b_name}.csv',\n",
    "                  header=None, index=None)\n",
    "        self.SLAE_to_csv()\n",
    "        return True\n",
    "\n",
    "    def set_b_zero(self):\n",
    "        n, m = self.get_a.shape\n",
    "        return self.set_b(np.zeros(n))\n",
    "\n",
    "    def x(self, solver=np.linalg.solve) -> np.array:\n",
    "        a_matr = self.get_a\n",
    "        n, m = self.get_a.shape\n",
    "        if n == m and np.linalg.det(a_matr) != 0:\n",
    "            return solver(a_matr, self.get_b)\n",
    "        return None\n",
    "\n",
    "    def SLAE_to_csv(self, index_csv=None, columns_csv=None) -> None:\n",
    "        dir_csv = f'{self.dir_name}/CSV'\n",
    "        a_name, b_name, x_name = self.csv_names\n",
    "        for item, name in zip((self.get_a, self.get_b, self.x()),\n",
    "                                         (a_name, b_name, x_name)):\n",
    "            df = pd.DataFrame(item, index=index_csv, columns=columns_csv)\n",
    "            df.to_csv(f'{dir_csv}/{self.name}_{name}.csv',\n",
    "                      header=columns_csv is not None,\n",
    "                      index=index_csv is not None)\n",
    "\n",
    "    def SLAE_to_xlsx(self, index_csv=None, columns_csv=None) -> None:\n",
    "        with pd.ExcelWriter(f'{self.dir_name}/{self.name}.xlsx') as writer:\n",
    "            for item, name in zip((self.a, self.b, self.x()), self.csv_names):\n",
    "                df = pd.DataFrame(item, index=index_csv, columns=columns_csv)\n",
    "                df.to_excel(writer, sheet_name=name,\n",
    "                            header=columns_csv is not None,\n",
    "                            index=index_csv is not None)\n",
    "\n",
    "\n",
    "@dataclass\n",
    "class SLAEhomogeneous(SLAE):\n",
    "    \"\"\"Class for Systems of Homogeneous Algebraic Linear Equations\"\"\"\n",
    "    csv_names: tuple[str] = ('A0', 'charact', 'x')\n",
    "\n",
    "    @property\n",
    "    def get_b(self) -> np.array:\n",
    "        dim = self.get_a.shape\n",
    "        n, m = dim\n",
    "        self.b = np.zeros(n)\n",
    "        self.dim = dim\n",
    "        return self.b\n",
    "\n",
    "    def set_b(self, b, new_name_b_x=()):\n",
    "        print('b = 0 in homogeneous SLAE, use get_b instead')\n",
    "\n",
    "\n",
    "    def x(self) -> np.array:\n",
    "        return np.zeros(self.get_a.shape[0])\n",
    "\n",
    "    def SLAE_to_xlsx(self, index_csv=None, columns_csv=None) -> None:\n",
    "        index = index_csv is not None\n",
    "        columns = columns_csv is not None\n",
    "        a_name, charact_name, x_name = self.csv_names\n",
    "        a_matr = self.get_a\n",
    "        with pd.ExcelWriter(f'{self.dir_name}/{self.name}.xlsx') as writer:\n",
    "            for item, name in zip((a_matr, self.x()), (a_name, x_name)):\n",
    "                df = pd.DataFrame(item, index=index_csv, columns=columns_csv)\n",
    "                df.to_excel(writer, sheet_name=name,\n",
    "                            index=index, header=columns)\n",
    "            a_rank = np.linalg.matrix_rank(a_matr)\n",
    "            n, m = self.get_dim\n",
    "            index_charact = ('rank', 'n eq',\n",
    "                                              'n var', 'null dim')\n",
    "            df_charact = pd.DataFrame((a_rank, n, m,\n",
    "                                       m - a_rank),\n",
    "                                       index=index_charact)\n",
    "            df_charact.to_excel(writer, sheet_name=charact_name, header=False)\n",
    "\n",
    "\n",
    "\n",
    "    def SLAE_to_csv(self, index_csv=None, columns_csv=None) -> None:\n",
    "        dir_csv = f'{self.dir_name}/CSV'\n",
    "        a_name, charact_name, x_name = self.csv_names\n",
    "        a_matr = self.get_a\n",
    "        if self.a is None:\n",
    "            self.a = self.get_a\n",
    "        for item, name in zip((self.a, self.x()),\n",
    "                              (a_name, x_name)):\n",
    "            df = pd.DataFrame(item, index=index_csv, columns=columns_csv)\n",
    "            df.to_csv(f'{dir_csv}/{self.name}_{name}.csv',\n",
    "                      header=columns_csv is not None,\n",
    "                      index=index_csv is not None)\n",
    "        a_rank = np.linalg.matrix_rank(a_matr)\n",
    "        n, m = self.get_dim\n",
    "        index_charact = ('rank', 'n eq',\n",
    "                                              'n var', 'null dim')\n",
    "        df_charact = pd.DataFrame((a_rank, n, m,\n",
    "                                       m - a_rank),\n",
    "                                       index=index_charact)\n",
    "        df_charact.to_csv(f'{dir_csv}/{self.name}_{charact_name}.csv',\n",
    "                      header=False)\n",
    "\n",
    "\n",
    "\n",
    "\n",
    "\n",
    "@dataclass\n",
    "class SLAEnonsquare(SLAE):\n",
    "    \"\"\"Class for Systems of Homogeneous Algebraic Linear Equations\"\"\"\n",
    "    pinv: np.array = field(default=None, repr=False)\n",
    "\n",
    "    def get_pinv(self, if_print=False):\n",
    "        if if_print:\n",
    "            print('pinv(self)')\n",
    "        pinv_matr = np.linalg.pinv(self.get_a)\n",
    "        self.pinv = pinv_matr\n",
    "        return pinv_matr\n",
    "\n",
    "    def x(self) -> np.array:\n",
    "        a_matr = self.get_a\n",
    "        n, m = self.get_dim\n",
    "        if n == m and np.linalg.det(a_matr) != 0:\n",
    "            return SLAE.x(self, a_matr, self.get_b)\n",
    "        return np.linalg.pinv(a_matr) @ self.get_b"
   ],
   "metadata": {
    "collapsed": false,
    "ExecuteTime": {
     "end_time": "2024-02-18T13:47:11.187154Z",
     "start_time": "2024-02-18T13:47:11.159279Z"
    }
   },
   "id": "b05eed09"
  },
  {
   "cell_type": "code",
   "execution_count": 5,
   "id": "c10c7037",
   "metadata": {
    "colab": {
     "base_uri": "https://localhost:8080/"
    },
    "id": "c10c7037",
    "outputId": "27882341-a1ca-4645-cd9d-05480e9be11c",
    "ExecuteTime": {
     "end_time": "2024-02-18T14:07:31.376470Z",
     "start_time": "2024-02-18T14:07:29.680651Z"
    }
   },
   "outputs": [
    {
     "ename": "TypeError",
     "evalue": "'numpy.ndarray' object is not callable",
     "output_type": "error",
     "traceback": [
      "\u001B[0;31m---------------------------------------------------------------------------\u001B[0m",
      "\u001B[0;31mTypeError\u001B[0m                                 Traceback (most recent call last)",
      "Cell \u001B[0;32mIn[5], line 2\u001B[0m\n\u001B[1;32m      1\u001B[0m SLAE_1 \u001B[38;5;241m=\u001B[39m SLAE(name\u001B[38;5;241m=\u001B[39m\u001B[38;5;124m'\u001B[39m\u001B[38;5;124mab1\u001B[39m\u001B[38;5;124m'\u001B[39m, dir_name\u001B[38;5;241m=\u001B[39m\u001B[38;5;124m'\u001B[39m\u001B[38;5;124mab_xlsx\u001B[39m\u001B[38;5;124m'\u001B[39m)\n\u001B[0;32m----> 2\u001B[0m A \u001B[38;5;241m=\u001B[39m SLAE_1\u001B[38;5;241m.\u001B[39mget_a()\n",
      "\u001B[0;31mTypeError\u001B[0m: 'numpy.ndarray' object is not callable"
     ]
    }
   ],
   "source": [
    "SLAE_1 = SLAE(name='ab1', dir_name='ab_xlsx')\n",
    "A = SLAE_1.get_a()"
   ]
  },
  {
   "cell_type": "code",
   "execution_count": 4,
   "id": "e877c747",
   "metadata": {
    "scrolled": true,
    "colab": {
     "base_uri": "https://localhost:8080/"
    },
    "id": "e877c747",
    "outputId": "59be5256-e3d0-41e4-c756-7a4998dd2af0",
    "ExecuteTime": {
     "end_time": "2024-02-18T13:47:49.074992Z",
     "start_time": "2024-02-18T13:47:46.658163Z"
    }
   },
   "outputs": [
    {
     "name": "stdout",
     "output_type": "stream",
     "text": [
      "SLAE_1.a None\n"
     ]
    },
    {
     "ename": "FileNotFoundError",
     "evalue": "[Errno 2] No such file or directory: 'SLAE/SLAE_1_1.xlsx'",
     "output_type": "error",
     "traceback": [
      "\u001B[0;31m---------------------------------------------------------------------------\u001B[0m",
      "\u001B[0;31mFileNotFoundError\u001B[0m                         Traceback (most recent call last)",
      "Cell \u001B[0;32mIn[4], line 2\u001B[0m\n\u001B[1;32m      1\u001B[0m \u001B[38;5;28mprint\u001B[39m(\u001B[38;5;124mf\u001B[39m\u001B[38;5;124m'\u001B[39m\u001B[38;5;124mSLAE_1.a \u001B[39m\u001B[38;5;132;01m{\u001B[39;00mSLAE_1\u001B[38;5;241m.\u001B[39ma\u001B[38;5;132;01m}\u001B[39;00m\u001B[38;5;124m'\u001B[39m)\n\u001B[0;32m----> 2\u001B[0m \u001B[38;5;28mprint\u001B[39m(\u001B[38;5;124mf\u001B[39m\u001B[38;5;124m'\u001B[39m\u001B[38;5;124mSLAE_1.get_a\u001B[39m\u001B[38;5;130;01m\\n\u001B[39;00m\u001B[38;5;124m \u001B[39m\u001B[38;5;132;01m{\u001B[39;00mnp\u001B[38;5;241m.\u001B[39mround(SLAE_1\u001B[38;5;241m.\u001B[39mget_a,\u001B[38;5;250m \u001B[39m\u001B[38;5;241m1\u001B[39m)\u001B[38;5;132;01m}\u001B[39;00m\u001B[38;5;124m'\u001B[39m)\n\u001B[1;32m      3\u001B[0m \u001B[38;5;28mprint\u001B[39m(\u001B[38;5;124mf\u001B[39m\u001B[38;5;124m'\u001B[39m\u001B[38;5;124mSLAE_1.a\u001B[39m\u001B[38;5;130;01m\\n\u001B[39;00m\u001B[38;5;124m \u001B[39m\u001B[38;5;132;01m{\u001B[39;00mnp\u001B[38;5;241m.\u001B[39mround(SLAE_1\u001B[38;5;241m.\u001B[39ma,\u001B[38;5;250m \u001B[39m\u001B[38;5;241m1\u001B[39m)\u001B[38;5;132;01m}\u001B[39;00m\u001B[38;5;124m'\u001B[39m)\n\u001B[1;32m      4\u001B[0m SLAE_1\u001B[38;5;241m.\u001B[39mset_b_zero()\n",
      "Cell \u001B[0;32mIn[2], line 14\u001B[0m, in \u001B[0;36mSLAE.get_a\u001B[0;34m(self)\u001B[0m\n\u001B[1;32m     11\u001B[0m \u001B[38;5;129m@property\u001B[39m\n\u001B[1;32m     12\u001B[0m \u001B[38;5;28;01mdef\u001B[39;00m \u001B[38;5;21mget_a\u001B[39m(\u001B[38;5;28mself\u001B[39m) \u001B[38;5;241m-\u001B[39m\u001B[38;5;241m>\u001B[39m np\u001B[38;5;241m.\u001B[39marray:\n\u001B[1;32m     13\u001B[0m     \u001B[38;5;28;01mif\u001B[39;00m \u001B[38;5;28mself\u001B[39m\u001B[38;5;241m.\u001B[39ma \u001B[38;5;129;01mis\u001B[39;00m \u001B[38;5;28;01mNone\u001B[39;00m:\n\u001B[0;32m---> 14\u001B[0m         \u001B[38;5;28mself\u001B[39m\u001B[38;5;241m.\u001B[39ma \u001B[38;5;241m=\u001B[39m pd\u001B[38;5;241m.\u001B[39mread_excel(\u001B[38;5;124mf\u001B[39m\u001B[38;5;124m'\u001B[39m\u001B[38;5;132;01m{\u001B[39;00m\u001B[38;5;28mself\u001B[39m\u001B[38;5;241m.\u001B[39mdir_name\u001B[38;5;132;01m}\u001B[39;00m\u001B[38;5;124m/\u001B[39m\u001B[38;5;132;01m{\u001B[39;00m\u001B[38;5;28mself\u001B[39m\u001B[38;5;241m.\u001B[39mname\u001B[38;5;132;01m}\u001B[39;00m\u001B[38;5;124m.xlsx\u001B[39m\u001B[38;5;124m'\u001B[39m,\n\u001B[1;32m     15\u001B[0m                                sheet_name\u001B[38;5;241m=\u001B[39m\u001B[38;5;28mself\u001B[39m\u001B[38;5;241m.\u001B[39mcsv_names[\u001B[38;5;241m0\u001B[39m],\n\u001B[1;32m     16\u001B[0m                                header\u001B[38;5;241m=\u001B[39m\u001B[38;5;28;01mNone\u001B[39;00m)\u001B[38;5;241m.\u001B[39mto_numpy()\n\u001B[1;32m     17\u001B[0m     \u001B[38;5;28;01mreturn\u001B[39;00m \u001B[38;5;28mself\u001B[39m\u001B[38;5;241m.\u001B[39ma\n",
      "File \u001B[0;32m~/.conda/envs/CompPracs/lib/python3.11/site-packages/pandas/io/excel/_base.py:504\u001B[0m, in \u001B[0;36mread_excel\u001B[0;34m(io, sheet_name, header, names, index_col, usecols, dtype, engine, converters, true_values, false_values, skiprows, nrows, na_values, keep_default_na, na_filter, verbose, parse_dates, date_parser, date_format, thousands, decimal, comment, skipfooter, storage_options, dtype_backend, engine_kwargs)\u001B[0m\n\u001B[1;32m    502\u001B[0m \u001B[38;5;28;01mif\u001B[39;00m \u001B[38;5;129;01mnot\u001B[39;00m \u001B[38;5;28misinstance\u001B[39m(io, ExcelFile):\n\u001B[1;32m    503\u001B[0m     should_close \u001B[38;5;241m=\u001B[39m \u001B[38;5;28;01mTrue\u001B[39;00m\n\u001B[0;32m--> 504\u001B[0m     io \u001B[38;5;241m=\u001B[39m ExcelFile(\n\u001B[1;32m    505\u001B[0m         io,\n\u001B[1;32m    506\u001B[0m         storage_options\u001B[38;5;241m=\u001B[39mstorage_options,\n\u001B[1;32m    507\u001B[0m         engine\u001B[38;5;241m=\u001B[39mengine,\n\u001B[1;32m    508\u001B[0m         engine_kwargs\u001B[38;5;241m=\u001B[39mengine_kwargs,\n\u001B[1;32m    509\u001B[0m     )\n\u001B[1;32m    510\u001B[0m \u001B[38;5;28;01melif\u001B[39;00m engine \u001B[38;5;129;01mand\u001B[39;00m engine \u001B[38;5;241m!=\u001B[39m io\u001B[38;5;241m.\u001B[39mengine:\n\u001B[1;32m    511\u001B[0m     \u001B[38;5;28;01mraise\u001B[39;00m \u001B[38;5;167;01mValueError\u001B[39;00m(\n\u001B[1;32m    512\u001B[0m         \u001B[38;5;124m\"\u001B[39m\u001B[38;5;124mEngine should not be specified when passing \u001B[39m\u001B[38;5;124m\"\u001B[39m\n\u001B[1;32m    513\u001B[0m         \u001B[38;5;124m\"\u001B[39m\u001B[38;5;124man ExcelFile - ExcelFile already has the engine set\u001B[39m\u001B[38;5;124m\"\u001B[39m\n\u001B[1;32m    514\u001B[0m     )\n",
      "File \u001B[0;32m~/.conda/envs/CompPracs/lib/python3.11/site-packages/pandas/io/excel/_base.py:1563\u001B[0m, in \u001B[0;36mExcelFile.__init__\u001B[0;34m(self, path_or_buffer, engine, storage_options, engine_kwargs)\u001B[0m\n\u001B[1;32m   1561\u001B[0m     ext \u001B[38;5;241m=\u001B[39m \u001B[38;5;124m\"\u001B[39m\u001B[38;5;124mxls\u001B[39m\u001B[38;5;124m\"\u001B[39m\n\u001B[1;32m   1562\u001B[0m \u001B[38;5;28;01melse\u001B[39;00m:\n\u001B[0;32m-> 1563\u001B[0m     ext \u001B[38;5;241m=\u001B[39m inspect_excel_format(\n\u001B[1;32m   1564\u001B[0m         content_or_path\u001B[38;5;241m=\u001B[39mpath_or_buffer, storage_options\u001B[38;5;241m=\u001B[39mstorage_options\n\u001B[1;32m   1565\u001B[0m     )\n\u001B[1;32m   1566\u001B[0m     \u001B[38;5;28;01mif\u001B[39;00m ext \u001B[38;5;129;01mis\u001B[39;00m \u001B[38;5;28;01mNone\u001B[39;00m:\n\u001B[1;32m   1567\u001B[0m         \u001B[38;5;28;01mraise\u001B[39;00m \u001B[38;5;167;01mValueError\u001B[39;00m(\n\u001B[1;32m   1568\u001B[0m             \u001B[38;5;124m\"\u001B[39m\u001B[38;5;124mExcel file format cannot be determined, you must specify \u001B[39m\u001B[38;5;124m\"\u001B[39m\n\u001B[1;32m   1569\u001B[0m             \u001B[38;5;124m\"\u001B[39m\u001B[38;5;124man engine manually.\u001B[39m\u001B[38;5;124m\"\u001B[39m\n\u001B[1;32m   1570\u001B[0m         )\n",
      "File \u001B[0;32m~/.conda/envs/CompPracs/lib/python3.11/site-packages/pandas/io/excel/_base.py:1419\u001B[0m, in \u001B[0;36minspect_excel_format\u001B[0;34m(content_or_path, storage_options)\u001B[0m\n\u001B[1;32m   1416\u001B[0m \u001B[38;5;28;01mif\u001B[39;00m \u001B[38;5;28misinstance\u001B[39m(content_or_path, \u001B[38;5;28mbytes\u001B[39m):\n\u001B[1;32m   1417\u001B[0m     content_or_path \u001B[38;5;241m=\u001B[39m BytesIO(content_or_path)\n\u001B[0;32m-> 1419\u001B[0m \u001B[38;5;28;01mwith\u001B[39;00m get_handle(\n\u001B[1;32m   1420\u001B[0m     content_or_path, \u001B[38;5;124m\"\u001B[39m\u001B[38;5;124mrb\u001B[39m\u001B[38;5;124m\"\u001B[39m, storage_options\u001B[38;5;241m=\u001B[39mstorage_options, is_text\u001B[38;5;241m=\u001B[39m\u001B[38;5;28;01mFalse\u001B[39;00m\n\u001B[1;32m   1421\u001B[0m ) \u001B[38;5;28;01mas\u001B[39;00m handle:\n\u001B[1;32m   1422\u001B[0m     stream \u001B[38;5;241m=\u001B[39m handle\u001B[38;5;241m.\u001B[39mhandle\n\u001B[1;32m   1423\u001B[0m     stream\u001B[38;5;241m.\u001B[39mseek(\u001B[38;5;241m0\u001B[39m)\n",
      "File \u001B[0;32m~/.conda/envs/CompPracs/lib/python3.11/site-packages/pandas/io/common.py:872\u001B[0m, in \u001B[0;36mget_handle\u001B[0;34m(path_or_buf, mode, encoding, compression, memory_map, is_text, errors, storage_options)\u001B[0m\n\u001B[1;32m    863\u001B[0m         handle \u001B[38;5;241m=\u001B[39m \u001B[38;5;28mopen\u001B[39m(\n\u001B[1;32m    864\u001B[0m             handle,\n\u001B[1;32m    865\u001B[0m             ioargs\u001B[38;5;241m.\u001B[39mmode,\n\u001B[0;32m   (...)\u001B[0m\n\u001B[1;32m    868\u001B[0m             newline\u001B[38;5;241m=\u001B[39m\u001B[38;5;124m\"\u001B[39m\u001B[38;5;124m\"\u001B[39m,\n\u001B[1;32m    869\u001B[0m         )\n\u001B[1;32m    870\u001B[0m     \u001B[38;5;28;01melse\u001B[39;00m:\n\u001B[1;32m    871\u001B[0m         \u001B[38;5;66;03m# Binary mode\u001B[39;00m\n\u001B[0;32m--> 872\u001B[0m         handle \u001B[38;5;241m=\u001B[39m \u001B[38;5;28mopen\u001B[39m(handle, ioargs\u001B[38;5;241m.\u001B[39mmode)\n\u001B[1;32m    873\u001B[0m     handles\u001B[38;5;241m.\u001B[39mappend(handle)\n\u001B[1;32m    875\u001B[0m \u001B[38;5;66;03m# Convert BytesIO or file objects passed with an encoding\u001B[39;00m\n",
      "\u001B[0;31mFileNotFoundError\u001B[0m: [Errno 2] No such file or directory: 'SLAE/SLAE_1_1.xlsx'"
     ]
    }
   ],
   "source": [
    "print(f'SLAE_1.a {SLAE_1.a}')\n",
    "print(f'SLAE_1.get_a\\n {np.round(SLAE_1.get_a, 1)}')\n",
    "print(f'SLAE_1.a\\n {np.round(SLAE_1.a, 1)}')\n",
    "SLAE_1.set_b_zero()\n",
    "print(f'SLAE_1.b {SLAE_1.b}')\n",
    "SLAE_1.SLAE_to_csv()\n",
    "SLAE_1.set_b(np.array([1, 2, 3, 4, 5, 6, 7]))\n",
    "print(f'SLAE_1.b {SLAE_1.b}')"
   ]
  },
  {
   "cell_type": "code",
   "execution_count": 7,
   "id": "ca4692f1",
   "metadata": {
    "colab": {
     "base_uri": "https://localhost:8080/"
    },
    "id": "ca4692f1",
    "outputId": "6d29ea68-206c-4ea7-e07c-643845400458"
   },
   "outputs": [
    {
     "output_type": "stream",
     "name": "stdout",
     "text": [
      "[-1  2 -3  4 -5  6  7]\n",
      "[-1.16 -0.05  0.57 -0.88  0.57  1.14 -0.41]\n"
     ]
    }
   ],
   "source": [
    "SLAE_1.set_b(np.array([-1, 2, -3, 4, -5, 6, 7]))\n",
    "print(SLAE_1.b, SLAE_1.x().round(2), sep='\\n')"
   ]
  },
  {
   "cell_type": "code",
   "execution_count": 9,
   "id": "02d4201d",
   "metadata": {
    "colab": {
     "base_uri": "https://localhost:8080/"
    },
    "id": "02d4201d",
    "outputId": "279bec4e-7763-4baf-dd4b-e04aadf88d05"
   },
   "outputs": [
    {
     "output_type": "stream",
     "name": "stdout",
     "text": [
      "SLAE_1.b None\n",
      "SLAE_1.get_b [0. 0. 0. 0. 0. 0. 0.]\n",
      "SLAE_1.b [0. 0. 0. 0. 0. 0. 0.]\n",
      "b = 0 in homogeneous SLAE, use get_b instead\n",
      "SLAE_1.b [0. 0. 0. 0. 0. 0. 0.]\n",
      "SLAE_1.a[:2, :5]\n",
      "[[8.79597859 4.87523014 8.68212102 4.00944011 9.80170238]\n",
      " [0.53146707 9.12385915 7.3379975  6.74437741 7.36291863]]\n"
     ]
    }
   ],
   "source": [
    "SLAEhomo_1 = SLAEhomogeneous(name='SLAE_homo_1')\n",
    "SLAEhomo_1.SLAE_to_csv()\n",
    "print(f'SLAE_1.b {SLAEhomo_1.b}')\n",
    "print(f'SLAE_1.get_b {SLAEhomo_1.get_b}')\n",
    "print(f'SLAE_1.b {SLAEhomo_1.b}')\n",
    "SLAEhomo_1.set_b(np.array([1, 2, 3, 4, 5, 6, 7]))\n",
    "print(f'SLAE_1.b {SLAEhomo_1.b}')\n",
    "print(f'SLAE_1.a[:2, :5]\\n{SLAEhomo_1.a[:2, :5]}')\n",
    "SLAEhomo_1.SLAE_to_xlsx()"
   ]
  },
  {
   "cell_type": "code",
   "execution_count": 10,
   "id": "a7bd1c5d",
   "metadata": {
    "colab": {
     "base_uri": "https://localhost:8080/"
    },
    "id": "a7bd1c5d",
    "outputId": "4af2a130-5c93-483f-d2c7-7ca22dc232ba"
   },
   "outputs": [
    {
     "output_type": "stream",
     "name": "stdout",
     "text": [
      "SLAE_1.get_a[:2, :2]\n",
      "[[8.79597859 4.87523014 8.68212102 4.00944011 9.80170238]\n",
      " [0.53146707 9.12385915 7.3379975  6.74437741 7.36291863]]\n",
      "SLAE_1.b\n",
      "[0. 0. 0. 0. 0.]\n",
      "SLAE_1.b [0. 0. 0. 0. 0.]\n",
      "SLAE_1.x() [0. 0. 0. 0. 0. 0. 0.]\n",
      "SLAE_1.get_b [1 2 3 4 5]\n",
      "SLAE_1.x() [ 0.265  0.574  0.075 -0.006 -0.552  0.299 -0.107]\n",
      "Ax = [1. 2. 3. 4. 5.]\n",
      "A+ = None,\n",
      "SLAEnonsq_1.pinv\n",
      "[[ 0.01001078 -0.08763746  0.08232778  0.01573919  0.02403768]\n",
      " [-0.13126998  0.03714209  0.14700085  0.03219609  0.01223957]\n",
      " [ 0.00443973  0.02346419 -0.04266426 -0.011726    0.03964946]\n",
      " [-0.00905401  0.0599786  -0.08256147  0.02450091  0.00653178]\n",
      " [ 0.14071037 -0.01108836  0.00177316 -0.01023757 -0.12706106]\n",
      " [-0.03522309 -0.00129122 -0.08133019  0.11953186  0.02045715]\n",
      " [ 0.03968242  0.02847418 -0.0336971  -0.09250257  0.05352678]]\n"
     ]
    }
   ],
   "source": [
    "SLAEnonsq_1 = SLAEnonsquare(name='SLAE_nonsq_1')\n",
    "a1 = SLAEnonsq_1.get_a\n",
    "print(f'SLAE_1.get_a[:2, :2]\\n{a1[:2, :5]}')\n",
    "SLAEnonsq_1.set_b_zero()\n",
    "print(f'SLAE_1.b\\n{SLAEnonsq_1.b}')\n",
    "#SLAEnonsq_1.SLAE_to_csv()\n",
    "print(f'SLAE_1.b {SLAEnonsq_1.b}')\n",
    "print(f'SLAE_1.x() {SLAEnonsq_1.x()}')\n",
    "SLAEnonsq_1.set_b(np.array([1, 2, 3, 4, 5]))\n",
    "print(f'SLAE_1.get_b {SLAEnonsq_1.get_b}')\n",
    "x1 = SLAEnonsq_1.x()\n",
    "a1pinv = SLAEnonsq_1.pinv\n",
    "print(f'SLAE_1.x() {np.round(x1, 3)}')\n",
    "SLAEnonsq_1.get_pinv()\n",
    "print(f'Ax = {a1 @ x1}\\nA+ = {a1pinv},\\nSLAEnonsq_1.pinv\\n{SLAEnonsq_1.pinv}')"
   ]
  },
  {
   "cell_type": "code",
   "source": [
    "SLAEnonsq_2_1 = SLAEnonsquare(name='SLAE_nonsq_2')\n",
    "for _ in range(3):\n",
    "    SLAEnonsq_2_1.get_pinv(if_print=True)"
   ],
   "metadata": {
    "colab": {
     "base_uri": "https://localhost:8080/"
    },
    "id": "Hkfdqi4ZQLUO",
    "outputId": "33dd88fc-abcd-4aed-951d-034366e8ae45"
   },
   "id": "Hkfdqi4ZQLUO",
   "execution_count": 11,
   "outputs": [
    {
     "output_type": "stream",
     "name": "stdout",
     "text": [
      "pinv(self)\n",
      "pinv(self)\n",
      "pinv(self)\n"
     ]
    }
   ]
  },
  {
   "cell_type": "code",
   "source": [
    "for _ in range(3):\n",
    "    print(np.round(SLAEnonsq_2_1.pinv[:2, :3], 2))"
   ],
   "metadata": {
    "colab": {
     "base_uri": "https://localhost:8080/"
    },
    "id": "2BIqUfQZQXgB",
    "outputId": "32b6abf4-015b-4b84-df80-6209ad616118"
   },
   "id": "2BIqUfQZQXgB",
   "execution_count": 12,
   "outputs": [
    {
     "output_type": "stream",
     "name": "stdout",
     "text": [
      "[[ 0.01 -0.05  0.03]\n",
      " [-0.12  0.02  0.15]]\n",
      "[[ 0.01 -0.05  0.03]\n",
      " [-0.12  0.02  0.15]]\n",
      "[[ 0.01 -0.05  0.03]\n",
      " [-0.12  0.02  0.15]]\n"
     ]
    }
   ]
  },
  {
   "cell_type": "code",
   "source": [
    "SLAEnonsq_2_1 = SLAEnonsquare(name='SLAE_nonsq_2')\n",
    "for k in range(2):\n",
    "    print(f'k= {k}, SLAEnonsq_2_1.pinv:\\n{SLAEnonsq_2_1.pinv}')\n",
    "    SLAEnonsq_2_1.get_pinv(if_print=True)"
   ],
   "metadata": {
    "colab": {
     "base_uri": "https://localhost:8080/"
    },
    "id": "aEXBkUQTQtSL",
    "outputId": "2ed1d043-69f5-4dbd-f784-fa65d7feb6da"
   },
   "id": "aEXBkUQTQtSL",
   "execution_count": 13,
   "outputs": [
    {
     "output_type": "stream",
     "name": "stdout",
     "text": [
      "k= 0, SLAEnonsq_2_1.pinv:\n",
      "None\n",
      "pinv(self)\n",
      "k= 1, SLAEnonsq_2_1.pinv:\n",
      "[[ 0.00727264 -0.04936357  0.02868651  0.05520022  0.07822979 -0.09219359\n",
      "  -0.01435143]\n",
      " [-0.12495814  0.01754926  0.14961972 -0.01106575  0.0262947   0.00570959\n",
      "   0.04318068]\n",
      " [ 0.02406972  0.0149601  -0.0308991  -0.05377123 -0.00857279  0.15435297\n",
      "  -0.03884185]\n",
      " [-0.01732299  0.12546674 -0.19258654  0.10011572  0.11861312 -0.18091091\n",
      "  -0.00953903]\n",
      " [ 0.13320502 -0.03876464 -0.000945   -0.01294965 -0.12988062  0.02819565\n",
      "   0.03639909]]\n",
      "pinv(self)\n"
     ]
    }
   ]
  },
  {
   "cell_type": "code",
   "execution_count": 14,
   "id": "af6866bf",
   "metadata": {
    "colab": {
     "base_uri": "https://localhost:8080/"
    },
    "id": "af6866bf",
    "outputId": "c03ef4f1-bab6-44ce-9192-58bd1764de63"
   },
   "outputs": [
    {
     "output_type": "stream",
     "name": "stdout",
     "text": [
      "SLAEnonsq_2.a().shape (7, 5)\n",
      "SLAEnonsq_2.b [0. 0. 0. 0. 0. 0. 0.]\n",
      "SLAEnonsq_2.get_b [0. 0. 0. 0. 0. 0. 0.]\n",
      "SLAEnonsq_2.x() [0. 0. 0. 0. 0.]\n",
      "SLAEnonsq_2.get_b [ 1  2  3  4  5 -1 -3]\n",
      "SLAEnonsq_2.x() [ 0.74180272  0.3109584  -0.33448366  0.8589074  -0.78575384]\n",
      "A+Ax = [ 0.74180272  0.3109584  -0.33448366  0.8589074  -0.78575384]\n",
      "A+b = [ 0.74180272  0.3109584  -0.33448366  0.8589074  -0.78575384]\n"
     ]
    }
   ],
   "source": [
    "SLAEnonsq_2 = SLAEnonsquare(name='SLAE_nonsq_2')\n",
    "a2 = SLAEnonsq_2.get_a\n",
    "print(f'SLAEnonsq_2.a().shape {a2.shape}')\n",
    "SLAEnonsq_2.set_b_zero()\n",
    "print(f'SLAEnonsq_2.b {SLAEnonsq_2.b}')\n",
    "SLAEnonsq_2.SLAE_to_csv()\n",
    "print(f'SLAEnonsq_2.get_b {SLAEnonsq_2.get_b}')\n",
    "print(f'SLAEnonsq_2.x() {SLAEnonsq_2.x()}')\n",
    "SLAEnonsq_2.set_b(np.array([1, 2, 3, 4, 5, -1, -3]))\n",
    "b2 = SLAEnonsq_2.get_b\n",
    "print(f'SLAEnonsq_2.get_b {b2}')\n",
    "x2 = SLAEnonsq_2.x()\n",
    "a2pinv = SLAEnonsq_2.get_pinv()\n",
    "print(f'SLAEnonsq_2.x() {x2}')\n",
    "print(f'A+Ax = {a2pinv @ a2 @ x2}\\nA+b = {a2pinv @ b2}')\n",
    "SLAEnonsq_2.SLAE_to_xlsx()"
   ]
  }
 ],
 "metadata": {
  "kernelspec": {
   "display_name": "Python 3 (ipykernel)",
   "language": "python",
   "name": "python3"
  },
  "language_info": {
   "codemirror_mode": {
    "name": "ipython",
    "version": 3
   },
   "file_extension": ".py",
   "mimetype": "text/x-python",
   "name": "python",
   "nbconvert_exporter": "python",
   "pygments_lexer": "ipython3",
   "version": "3.11.5"
  },
  "colab": {
   "provenance": []
  }
 },
 "nbformat": 4,
 "nbformat_minor": 5
}
