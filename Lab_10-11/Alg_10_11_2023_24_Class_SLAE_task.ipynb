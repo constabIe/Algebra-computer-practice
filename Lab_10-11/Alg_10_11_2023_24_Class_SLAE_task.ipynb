{
 "cells": [
  {
   "cell_type": "code",
   "source": [
    "import numpy as np\n",
    "import numpy.linalg\n",
    "import pandas as pd\n",
    "from dataclasses import dataclass, field"
   ],
   "metadata": {
    "id": "35fSDoLC_UQ8",
    "ExecuteTime": {
     "end_time": "2024-02-18T13:52:59.975726Z",
     "start_time": "2024-02-18T13:52:57.065046Z"
    }
   },
   "id": "35fSDoLC_UQ8",
   "execution_count": 2,
   "outputs": []
  },
  {
   "cell_type": "markdown",
   "source": [
    "\n",
    "# Задание\n",
    "\n",
    "Описать **класс SLAE**\n",
    "\n",
    "**docstring** \"\"\"My SLAE Class\"\"\"\n",
    "\n",
    "класс произвольных СЛАУ\n",
    "\n",
    "**переменные** класса:\n",
    "\n",
    "***обязательные***\n",
    "\n",
    "*  name типа str - имя СЛАУ\n",
    "\n",
    "*  a - матрица левой части, тип np.array\n",
    "\n",
    "*  b - вектор правой части, тип np.array\n",
    "\n",
    "***необязательные***\n",
    "\n",
    "*  var_num число переменных СЛАУ, по умолчанию 0\n",
    "\n",
    "*  eq_num число уравнений СЛАУ, по умолчанию 0\n",
    "\n",
    "оба целые числа\n",
    "\n",
    "**атрибуты**\n",
    "\n",
    "*  get_a\n",
    "\n",
    "*  get_b\n",
    "\n",
    "*  get_var_num\n",
    "\n",
    "*  get_eq_num\n",
    "\n",
    "*  get_dim\n",
    "\n",
    "**методы**\n",
    "\n",
    "*  set_b\n",
    "\n",
    "*  set_b_zero\n",
    "\n",
    "*  x\n",
    "\n",
    "\n",
    "**Дочерний класс SLAEhomogeneous**\n",
    "\n",
    "**переменные** класса:\n",
    "\n",
    "b - вектор правой части, тип np.array со значением по умолчанию None, не должен выводиться на экран при выведении на экран экземпляра класса (хотя в родительском классе уже есть переменная b, здесь ее нужно переопределить, чтобы она стала переменной со значением по умолчанию)\n",
    "\n",
    "**атрибуты**\n",
    "\n",
    "*  get_b\n",
    "\n",
    "**методы**\n",
    "\n",
    "*  set_b\n",
    "\n",
    "*  x\n",
    "\n",
    "**Дочерний класс SLAEsquare**\n",
    "\n",
    "**переменные** класса:\n",
    "\n",
    "singular: bool = None\n",
    "\n",
    "square: bool = None\n",
    "\n",
    "a_inv - обратная матрица для матрицы левой части, тип np.array\n",
    "\n",
    "**атрибуты**\n",
    "\n",
    "is_square  - возвращает True, если матрица квадратная\n",
    "\n",
    "is_singular - возвращает True, если матрица вырождена\n",
    "\n",
    "get_inv - - возвращает обратную матрицу, если она существует\n",
    "\n",
    "**метод**\n",
    "\n",
    "\n",
    "x"
   ],
   "metadata": {
    "id": "jIDJIfUaxyEC"
   },
   "id": "jIDJIfUaxyEC"
  },
  {
   "cell_type": "markdown",
   "source": [
    "**класс SLAE**\n",
    "\n",
    "**docstring** \"\"\"My SLAE Class\"\"\"\n",
    "\n",
    "**атрибуты**\n",
    "\n",
    "*  get_a возвращает матрицу A\n",
    "\n",
    "*  get_b  возвращает b\n",
    "\n",
    "*  get_var_num сравнивает var_num с нулем, если 0, то вычисляет число столбцов A и перезаписывает var_num, возвращает var_num\n",
    "\n",
    "*  get_eq_num аналогично get_var_num дествует с числом уравнений eq_num\n",
    "\n",
    "*  get_dim возвращает кортеж tulpe из числа уравнений и числа переменных СЛАУ, использует get_eq_num и get_var_num\n",
    "\n",
    "**методы**\n",
    "\n",
    "*  set_b проверяет, что передаваемый в качестве аргумента вектор b соответствует матрице a по размерности, после чего перезаписывает значение переменной b экземпляра класса SLAE\n",
    "\n",
    "*  set_b_zero у этого метода  нет дополнительных аргументов, метод вычисляет, какой размерности должен быть вектор b, составляет вектор из нулей и вызывает set_b\n",
    "\n",
    "*  x возвращает кортеж, первый элемент True (если решение есть и единственно)  или False (иначе), второй - решение (если есть и единственно) или пустой np.array (np.array([]))"
   ],
   "metadata": {
    "id": "820iImWxzQWE"
   },
   "id": "820iImWxzQWE"
  },
  {
   "cell_type": "markdown",
   "source": [
    "**Дочерний класс SLAEhomogeneous**\n",
    "\n",
    "**переменные** класса:\n",
    "\n",
    "b - вектор правой части, тип np.array со значением по умолчанию None, не должен выводиться на экран при выведении на экран экземпляра класса (хотя в родительском классе уже есть переменная b, здесь ее нужно переопределить, чтобы она стала переменной со значением по умолчанию)\n",
    "\n",
    "**атрибуты**\n",
    "\n",
    "*  get_b этот атрибут нужно переопределить, чтобы он возвращал вектор из нулей, размерности, соответствуюшей матрице A\n",
    "\n",
    "**методы**\n",
    "\n",
    "*  set_b этот метод  нужно переопределить, чтобы он ничего не возвращал и не делал, а только выводил сообщение 'b = 0 in homogeneous SLAE, use get_b instead'\n",
    "\n",
    "*  x метод проверяет, что матрица квадратная и невырожденная, возвращает в этом случае кортеж с True и нулевым вектором соответствующей размерности, не использует np.linalg.solve,\n",
    "иначе False и пустой np.array"
   ],
   "metadata": {
    "id": "VbTqnKltzbya"
   },
   "id": "VbTqnKltzbya"
  },
  {
   "cell_type": "markdown",
   "source": [
    "\n",
    "\n",
    "**Дочерний класс SLAEsquare**\n",
    "\n",
    "**переменные** класса:\n",
    "\n",
    "singular: True если вырожденная матрица, иначе False\n",
    "\n",
    "square: True если квадратная матрица, иначе False\n",
    "\n",
    "a_inv обратная матрица, если существует, иначе None\n",
    "\n",
    "**атрибуты**\n",
    "\n",
    "is_square возвращает square, при необходимости предварительно вычисляя и заполняя эту переменную\n",
    "\n",
    "is_singular - возвращает singular, при необходимости предварительно вычисляя и заполняя эту переменную\n",
    "\n",
    "get_inv - - возвращает обратную матрицу, если она существует\n",
    "\n",
    "**метод**\n",
    "\n",
    "\n",
    "x проверяет невырожденность матрицы методами этого же класса, для невырожденной матрицы возвращает True и решение или False и  пустой np.array"
   ],
   "metadata": {
    "id": "26tbax0ZzfVq"
   },
   "id": "26tbax0ZzfVq"
  },
  {
   "cell_type": "code",
   "source": [
    "@dataclass\n",
    "class SLAE:\n",
    "    \"\"\"My class SLAE\"\"\"\n",
    "    name: str\n",
    "    A: np.array = field(default=None, repr=None)\n",
    "    b: np.array = field(default=None, repr=None)\n",
    "    dim: list[int] = field(default=None, repr=None)\n",
    "    dir_name: str = field(default=None, repr=None)\n",
    "    csv_name: tuple[str] = field(default=('A', 'b', 'X'), repr=None)\n",
    "\n",
    "    @property\n",
    "    def get_A(self) -> np.ndarray:\n",
    "        if self.A is None:\n",
    "            self.A = pd.read_excel(f'{self.dir_name}/{self.name}.xlsx',\n",
    "                                   sheet_name=self.csv_name[0],\n",
    "                                   header=None).to_numpy()\n",
    "        return self.A\n",
    "\n",
    "    @property\n",
    "    def get_b(self) -> np.array:\n",
    "        if self.b is None:\n",
    "            self.b = pd.read_excel(f'{self.dir_name}/{self.csv_name}.xlsx',\n",
    "                                   sheet_name=self.csv_name[1],\n",
    "                                   header=None)\n",
    "        return self.b\n",
    "\n",
    "    @property\n",
    "    def get_dim(self) -> tuple:\n",
    "        if self.dim is None:\n",
    "            self.dim = self.A.shape\n",
    "        return self.dim\n",
    "    \n",
    "    \n",
    "    def set_b(self, b) -> bool:\n",
    "        A_n, A_m = self.dim\n",
    "        b_n = b.shape\n",
    "\n",
    "        if A_n != b_n:\n",
    "            return False\n",
    "        else:\n",
    "            self.b = b\n",
    "\n",
    "        return True\n",
    "\n",
    "    def set_b_zero(self):\n",
    "        n, m = self.get_dim\n",
    "        return self.set_b(np.zeros(n))\n",
    "    \n",
    "    def X(self) -> tuple:\n",
    "        n, m = self.get_dim\n",
    "        A = self.get_A\n",
    "        b = self.get_b\n",
    "        X = np.array([])\n",
    "        flag = False\n",
    "        \n",
    "        if np.linalg.det(A) != 0:\n",
    "                if  np.linalg.matrix_rank(A) == np.linalg.matrix_rank(np.column_stack((A, b))):\n",
    "                    X = np.linalg.solve(A, b)\n",
    "                    flag = False\n",
    "        res = (flag, X)\n",
    "        \n",
    "        return res\n",
    "\n",
    "\n",
    "class SLAEhomogeneous(SLAE):\n",
    "    \"\"\"Class for Systems of Homogeneous Algebraic Linear Equations\"\"\"\n",
    "    b: np.array = None\n",
    "    \n",
    "    @property\n",
    "    def get_b(self) -> np.array:\n",
    "        n, m = self.get_dim\n",
    "        self.b = np.zeros(n)\n",
    "        \n",
    "        return self.b\n",
    "    \n",
    "    def set_b(self, b):\n",
    "        print('b = 0 in homogeneous SLAE, use get_b instead')\n",
    "    \n",
    "    def X(self):\n",
    "        n, m = self.dim\n",
    "        A = self.get_A\n",
    "        b = self.get_b\n",
    "        res = (False, np.array([]))\n",
    "        \n",
    "        if n == m:\n",
    "            if np.linalg.det(A) != 0:\n",
    "                res = (True, np.zeros(n))\n",
    "        return res \n",
    "\n",
    "\n",
    "# class SLAEsquare(SLAE):\n",
    "#     singular: True if np.linalg.det(SLAE.get_A) == 0 else False\n",
    "#     square: True if SLAE.get_dim[0] == SLAE.get_dim[1] else False\n",
    "#     a_inv: np.linalg.inv(SLAE.get_A) if np.linalg.det(SLAE.get_A) != 0 else None\n",
    "#     \n",
    "#     @property\n",
    "#     def \n",
    "    \n",
    "        "
   ],
   "metadata": {
    "id": "Ixv-fBbu6nCz",
    "ExecuteTime": {
     "end_time": "2024-02-18T14:26:43.450245Z",
     "start_time": "2024-02-18T14:26:43.433902Z"
    }
   },
   "id": "Ixv-fBbu6nCz",
   "execution_count": 33,
   "outputs": []
  },
  {
   "cell_type": "markdown",
   "source": [
    "Считать матрицу и вектор из файла 'ab1.xlsx'"
   ],
   "metadata": {
    "id": "zG7s-dtG0rS1"
   },
   "id": "zG7s-dtG0rS1"
  },
  {
   "cell_type": "code",
   "source": [
    "slae = SLAE(name=\"ab1\", dir_name='/Users/almiravhadiev/Downloads/HSE/Math_Pracs/Algebra/Lab_10-11/ab_xlsx')\n",
    "A = slae.get_A()\n",
    "A"
   ],
   "metadata": {
    "id": "z5b-GXbb6okn",
    "ExecuteTime": {
     "end_time": "2024-02-18T14:26:51.509870Z",
     "start_time": "2024-02-18T14:26:51.426612Z"
    }
   },
   "id": "z5b-GXbb6okn",
   "execution_count": 55,
   "outputs": [
    {
     "ename": "TypeError",
     "evalue": "'numpy.ndarray' object is not callable",
     "output_type": "error",
     "traceback": [
      "\u001B[0;31m---------------------------------------------------------------------------\u001B[0m",
      "\u001B[0;31mTypeError\u001B[0m                                 Traceback (most recent call last)",
      "Cell \u001B[0;32mIn[55], line 2\u001B[0m\n\u001B[1;32m      1\u001B[0m slae \u001B[38;5;241m=\u001B[39m SLAE(name\u001B[38;5;241m=\u001B[39m\u001B[38;5;124m\"\u001B[39m\u001B[38;5;124mab1\u001B[39m\u001B[38;5;124m\"\u001B[39m, dir_name\u001B[38;5;241m=\u001B[39m\u001B[38;5;124m'\u001B[39m\u001B[38;5;124m/Users/almiravhadiev/Downloads/HSE/Math_Pracs/Algebra/Lab_10-11/ab_xlsx\u001B[39m\u001B[38;5;124m'\u001B[39m)\n\u001B[0;32m----> 2\u001B[0m A \u001B[38;5;241m=\u001B[39m slae\u001B[38;5;241m.\u001B[39mget_A()\n\u001B[1;32m      3\u001B[0m A\n",
      "\u001B[0;31mTypeError\u001B[0m: 'numpy.ndarray' object is not callable"
     ]
    }
   ]
  },
  {
   "cell_type": "markdown",
   "source": [
    "Создать экземпляр класса SLAE с именем 'SLAE_1_1' и матрицей A1, вектором b1, вывести экземпляр на экран"
   ],
   "metadata": {
    "id": "G0s5Goby0y4I"
   },
   "id": "G0s5Goby0y4I"
  },
  {
   "cell_type": "code",
   "source": [],
   "metadata": {
    "id": "XiX0ltYr6pcL"
   },
   "id": "XiX0ltYr6pcL",
   "execution_count": null,
   "outputs": []
  },
  {
   "cell_type": "markdown",
   "source": [
    "Вывести на экран атрибуты SLAE_1:\n",
    "\n",
    "a\n",
    "\n",
    "get_a\n",
    "\n",
    "b\n",
    "\n",
    "get_b"
   ],
   "metadata": {
    "id": "M6VOyhHk7z47"
   },
   "id": "M6VOyhHk7z47"
  },
  {
   "cell_type": "code",
   "source": [],
   "metadata": {
    "id": "eJtz5sg671P3"
   },
   "id": "eJtz5sg671P3",
   "execution_count": null,
   "outputs": []
  },
  {
   "cell_type": "markdown",
   "source": [
    "заменить b на вектор из нулей\n",
    "\n",
    "вывести на экран текущее значение b"
   ],
   "metadata": {
    "id": "iOYYeAwd1Ifd"
   },
   "id": "iOYYeAwd1Ifd"
  },
  {
   "cell_type": "code",
   "source": [],
   "metadata": {
    "id": "eUHpW-zZ6qYf"
   },
   "id": "eUHpW-zZ6qYf",
   "execution_count": null,
   "outputs": []
  },
  {
   "cell_type": "markdown",
   "source": [
    "заменить b на вектор [4, 5, 6, 7]\n",
    "\n",
    "вывести на экран текущее значение b"
   ],
   "metadata": {
    "id": "DZQSa-y_8NCd"
   },
   "id": "DZQSa-y_8NCd"
  },
  {
   "cell_type": "code",
   "source": [],
   "metadata": {
    "id": "GjfvfnpJ8OCv"
   },
   "id": "GjfvfnpJ8OCv",
   "execution_count": null,
   "outputs": []
  },
  {
   "cell_type": "markdown",
   "source": [
    "Попытаться заменить b на вектор [-1, 2, -3, 4, 5, 6, 7]\n",
    "\n",
    "вывести на экран текущее значение b и решение СЛАУ"
   ],
   "metadata": {
    "id": "tvrAT9m44IIZ"
   },
   "id": "tvrAT9m44IIZ"
  },
  {
   "cell_type": "code",
   "source": [],
   "metadata": {
    "id": "qotTWFLH6rbh"
   },
   "id": "qotTWFLH6rbh",
   "execution_count": null,
   "outputs": []
  },
  {
   "cell_type": "markdown",
   "source": [
    "Создать экземпляр класса SLAEhomogeneous с именем 'SLAE_homo_1' и матрицей A1, вывести экземпляр на экран"
   ],
   "metadata": {
    "id": "ILNtafyu8Yc5"
   },
   "id": "ILNtafyu8Yc5"
  },
  {
   "cell_type": "code",
   "source": [],
   "metadata": {
    "id": "OM11nvvy8bPi"
   },
   "id": "OM11nvvy8bPi",
   "execution_count": null,
   "outputs": []
  },
  {
   "cell_type": "markdown",
   "source": [
    "\n",
    "Вывести на экран атрибуты SLAE_homo_1:\n",
    "\n",
    "a\n",
    "\n",
    "get_a"
   ],
   "metadata": {
    "id": "eZgis51-8bna"
   },
   "id": "eZgis51-8bna"
  },
  {
   "cell_type": "code",
   "source": [],
   "metadata": {
    "id": "Xi5uNNRl8ct8"
   },
   "id": "Xi5uNNRl8ct8",
   "execution_count": null,
   "outputs": []
  },
  {
   "cell_type": "markdown",
   "source": [
    "вывести на экран текущее значение b\n",
    "\n",
    "попытаться заменить b на вектор [1, 2, 3, 4, 5, 6, 7]\n",
    "\n",
    "вывести на экран текущее значение b"
   ],
   "metadata": {
    "id": "nbskjaFi4V4M"
   },
   "id": "nbskjaFi4V4M"
  },
  {
   "cell_type": "code",
   "source": [],
   "metadata": {
    "id": "7S4WtVzE6sdy"
   },
   "id": "7S4WtVzE6sdy",
   "execution_count": null,
   "outputs": []
  },
  {
   "cell_type": "markdown",
   "source": [
    "Создать экземпляр класса SLAEsquare с именем 'SLAE_sq_1' и матрицей A1, вектором b1 вывести экземпляр на экран\n",
    "\n",
    "Вывести на экран атрибуты SLAE_sq_1:\n",
    "\n",
    "a\n",
    "\n",
    "get_a\n",
    "\n",
    "вывести решение x"
   ],
   "metadata": {
    "id": "6smkCjly8hzr"
   },
   "id": "6smkCjly8hzr"
  },
  {
   "cell_type": "code",
   "source": [],
   "metadata": {
    "id": "Ao3BPwZX8jrZ"
   },
   "id": "Ao3BPwZX8jrZ",
   "execution_count": null,
   "outputs": []
  },
  {
   "cell_type": "markdown",
   "source": [
    "заменить b на нулевой вектор\n",
    "\n",
    "\n",
    "вывести на экран текущее значение b и решение x\n",
    "\n",
    "попытаться заменить b на вектор [1, 2, 3, 4, 5]\n",
    "\n",
    "вывести на экран текущее значение b"
   ],
   "metadata": {
    "id": "alvWKxkz405W"
   },
   "id": "alvWKxkz405W"
  },
  {
   "cell_type": "code",
   "source": [],
   "metadata": {
    "id": "n3RJ2BDM6tik"
   },
   "id": "n3RJ2BDM6tik",
   "execution_count": null,
   "outputs": []
  },
  {
   "cell_type": "markdown",
   "source": [
    "Считать матрицу и вектор из файла 'ab2.xlsx'"
   ],
   "metadata": {
    "id": "i0k9Skfm50ny"
   },
   "id": "i0k9Skfm50ny"
  },
  {
   "cell_type": "code",
   "source": [],
   "metadata": {
    "id": "7ggOKp7V6uso"
   },
   "id": "7ggOKp7V6uso",
   "execution_count": null,
   "outputs": []
  },
  {
   "cell_type": "markdown",
   "source": [
    "Создать экземпляр класса SLAEsquare с именем 'SLAE_sq_2' и матрицей A2, вектором b2 вывести экземпляр на экран\n",
    "\n",
    "Вывести на экран атрибуты SLAE_sq_2:\n",
    "\n",
    "a\n",
    "\n",
    "get_a\n",
    "\n",
    "вывести решение x"
   ],
   "metadata": {
    "id": "xkjiMM9T59Wi"
   },
   "id": "xkjiMM9T59Wi"
  },
  {
   "cell_type": "code",
   "source": [],
   "metadata": {
    "id": "gdiB5Z7U6vg_"
   },
   "id": "gdiB5Z7U6vg_",
   "execution_count": null,
   "outputs": []
  },
  {
   "cell_type": "markdown",
   "source": [
    "заменить b на нулевой вектор\n",
    "\n",
    "\n",
    "вывести на экран текущее значение b и решение x\n",
    "\n",
    "попытаться заменить b на вектор [1, 2, 3, 4, 5, 6]\n",
    "\n",
    "вывести на экран текущее значение b"
   ],
   "metadata": {
    "id": "xnpADMm58pYI"
   },
   "id": "xnpADMm58pYI"
  },
  {
   "cell_type": "code",
   "source": [],
   "metadata": {
    "id": "uKoF3kte8p9J"
   },
   "id": "uKoF3kte8p9J",
   "execution_count": null,
   "outputs": []
  }
 ],
 "metadata": {
  "kernelspec": {
   "display_name": "Python 3 (ipykernel)",
   "language": "python",
   "name": "python3"
  },
  "language_info": {
   "codemirror_mode": {
    "name": "ipython",
    "version": 3
   },
   "file_extension": ".py",
   "mimetype": "text/x-python",
   "name": "python",
   "nbconvert_exporter": "python",
   "pygments_lexer": "ipython3",
   "version": "3.11.5"
  },
  "colab": {
   "provenance": []
  }
 },
 "nbformat": 4,
 "nbformat_minor": 5
}
