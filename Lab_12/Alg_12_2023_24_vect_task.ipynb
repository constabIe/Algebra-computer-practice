{
 "nbformat": 4,
 "nbformat_minor": 0,
 "metadata": {
  "kernelspec": {
   "display_name": "Python 3",
   "language": "python",
   "name": "python3"
  },
  "language_info": {
   "codemirror_mode": {
    "name": "ipython",
    "version": 3
   },
   "file_extension": ".py",
   "mimetype": "text/x-python",
   "name": "python",
   "nbconvert_exporter": "python",
   "pygments_lexer": "ipython3",
   "version": "3.7.3"
  },
  "colab": {
   "provenance": []
  }
 },
 "cells": [
  {
   "cell_type": "code",
   "metadata": {
    "id": "BQ-uTnJuCclQ",
    "ExecuteTime": {
     "end_time": "2024-03-17T02:43:59.519667Z",
     "start_time": "2024-03-17T02:43:59.132284Z"
    }
   },
   "source": [
    "import sympy\n",
    "from sympy import  Matrix, symbols, latex, S\n",
    "from sympy import  sin as Sin\n",
    "from sympy import  cos as Cos\n",
    "from sympy import  pi as Pi\n",
    "from sympy.vector import CoordSys3D, Vector, matrix_to_vector, AxisOrienter, express\n",
    "from IPython.display import Latex\n",
    "import pandas as pd\n",
    "from dataclasses import dataclass, field\n",
    "import numpy as np"
   ],
   "execution_count": 12,
   "outputs": []
  },
  {
   "cell_type": "markdown",
   "metadata": {
    "id": "HaZ4p6ZaCclc"
   },
   "source": [
    "# Практическое занятие 12\n",
    "# Компьютерный практикум по алгебре на Python\n",
    "## Векторы\n",
    "### Задание 1.\n",
    "Задать систему координат с именем '1'.\n",
    "Найти скалярное и векторное произведение векторов $a(-\\cos(\\pi/4), \\sin(\\pi/3), 1)$ и $b(2, -1, 3)$."
   ]
  },
  {
   "cell_type": "code",
   "source": [
    "# @dataclass\n",
    "# class CoordSys:\n",
    "#     name: str\n",
    "#     coord_sys: sympy.vector.coordsysrect.CoordSys3D = field(default=None, repr=None)\n",
    "#     vectors: dict = field(default=None, repr=None)\n",
    "#     \n",
    "#     @property\n",
    "#     def get_CoordSys(self) -> sympy.vector.coordsysrect.CoordSys3D:\n",
    "#         self.coord_sys = CoordSys(self.name)\n",
    "#         return self.coord_sys\n",
    "#     \n",
    "#     def get_vector(self, vec_name, x, y, z) -> None:\n",
    "#         vec = x * self.coord_sys.i + y * self.coord_sys.j + z * self.coord_sys.k\n",
    "#         self.vectors[vec_name] = vec\n",
    "# \n",
    "# cs = CoordSys(name='1')\n",
    "# sys = cs.get_CoordSys\n",
    "# \n",
    "# cs.get_vector('a', -Cos(Pi / 4), Sin(Pi / 3), 1)\n",
    "# cs.get_vector('b', 2, -1, 3)\n",
    "# \n",
    "# # sys = CoordSys3D('1')\n",
    "# # a = -Cos(Pi / 4) * sys.i + Sin(Pi / 3) * sys.j + 1 * sys.k\n",
    "# # b = 2 * sys.i + -1 * sys.j + 3 * sys.k\n",
    "# display(Latex(fr\"$a \\cdot b = {latex(cs.vectors['a'].dot(cs.vectors['b']))} \\\\ a \\times b = {latex(cs.vectors['a'].cross(cs.vectors['b']))}$\"))\n"
   ],
   "metadata": {
    "id": "epNtfMZz1MXz",
    "ExecuteTime": {
     "end_time": "2024-03-17T02:43:59.520450Z",
     "start_time": "2024-03-17T02:43:59.162308Z"
    }
   },
   "execution_count": 13,
   "outputs": []
  },
  {
   "cell_type": "markdown",
   "metadata": {
    "id": "B8Je98zJCclg"
   },
   "source": [
    "### Задание 2\n",
    "Ввести безымянную систему координат $M$ и символы $\\varphi$ и $c$.\n",
    "Вычислить $5u\\cdot(v - u)$ и $((2v + u)\\times(v - 3u)) $,\n",
    "\n",
    "$u = (\\cos(\\varphi), 2c - 5, \\sin(2\\varphi))$, $v = (\\sin(\\varphi), 2c  + 5, \\cos(2\\varphi))$.\n",
    "\n",
    "Скалярное произведение обозначено $\\cdot$, векторное $\\times$.\n",
    "Использовать & и '^', скобки расставить как в условии, поскольку приоритет у & и '^' ниже, чем у + и -. Упростить полученное выражение."
   ]
  },
  {
   "cell_type": "code",
   "source": [
    "phi, c = symbols('phi c')\n",
    "\n",
    "M = CoordSys3D('')\n",
    "\n",
    "u = Cos(phi) * M.i + (2 * c - 5) * M.j + Sin(2 * phi) * M.k\n",
    "v = Sin(phi) * M.i + (2 * c + 5) * M.j + Cos(2 * phi) * M.k\n",
    "\n",
    "exprs = {'5u\\cdot(v - u)': (5 * u) & (v - u), '(2v + u) × (v - 3u)': (2 * v + u) ^ (v - 3 * u)}\n",
    "txt = '\\\\\\\\'.join(map(' = '.join, zip(exprs.keys(), map(latex, exprs.values()))))\n",
    "display(Latex(fr'${txt}$'))\n"
   ],
   "metadata": {
    "id": "JILe-FnA1NRK",
    "ExecuteTime": {
     "end_time": "2024-03-17T02:43:59.578620Z",
     "start_time": "2024-03-17T02:43:59.217256Z"
    }
   },
   "execution_count": 14,
   "outputs": [
    {
     "data": {
      "text/plain": "<IPython.core.display.Latex object>",
      "text/latex": "$5u\\cdot(v - u) = 100 c + 5 \\left(\\sin{\\left(\\phi \\right)} - \\cos{\\left(\\phi \\right)}\\right) \\cos{\\left(\\phi \\right)} + 5 \\left(- \\sin{\\left(2 \\phi \\right)} + \\cos{\\left(2 \\phi \\right)}\\right) \\sin{\\left(2 \\phi \\right)} - 250\\\\(2v + u) × (v - 3u) = \\left(\\left(4 c - 20\\right) \\left(\\sin{\\left(2 \\phi \\right)} + 2 \\cos{\\left(2 \\phi \\right)}\\right) + \\left(6 c + 5\\right) \\left(- 3 \\sin{\\left(2 \\phi \\right)} + \\cos{\\left(2 \\phi \\right)}\\right)\\right)\\mathbf{\\hat{i}_{}} + \\left(\\left(\\sin{\\left(\\phi \\right)} - 3 \\cos{\\left(\\phi \\right)}\\right) \\left(\\sin{\\left(2 \\phi \\right)} + 2 \\cos{\\left(2 \\phi \\right)}\\right) + \\left(2 \\sin{\\left(\\phi \\right)} + \\cos{\\left(\\phi \\right)}\\right) \\left(3 \\sin{\\left(2 \\phi \\right)} - \\cos{\\left(2 \\phi \\right)}\\right)\\right)\\mathbf{\\hat{j}_{}} + \\left(\\left(20 - 4 c\\right) \\left(2 \\sin{\\left(\\phi \\right)} + \\cos{\\left(\\phi \\right)}\\right) + \\left(6 c + 5\\right) \\left(- \\sin{\\left(\\phi \\right)} + 3 \\cos{\\left(\\phi \\right)}\\right)\\right)\\mathbf{\\hat{k}_{}}$"
     },
     "metadata": {},
     "output_type": "display_data"
    }
   ]
  },
  {
   "cell_type": "markdown",
   "metadata": {
    "id": "5M-6y40TCclh"
   },
   "source": [
    "### Задание 3\n",
    "Упростить вектор $g(-2p^2 + 5pq - 3q^2, \\cos(q) + 2\\sin(q - \\pi/2), \\sin^2(p) - \\cos^2(p))$.\n",
    "Вывести на экран координаты упрощенного вектора, его длину и проекции на координатные оси"
   ]
  },
  {
   "cell_type": "code",
   "source": [
    "from sympy.abc import p, q\n",
    "\n",
    "\n",
    "g = (-2 * p ** 3 + 5 * p * q - 3 * q ** 2) * M.i + (Cos(q) + 2 * Sin(q - Pi / 2)) * M.j + (Sin(p) ** 2 - Cos(p) ** 2) * M.k\n",
    "# txt = \"\"\"g = {}\\\\\\\\g.factor()={}\\\\\\\\g.trigsimp()={}\\\\\\\\g.simplify()={}\"\"\".format(*map(latex, (g, g.factor(), g.trigsimp(), g.simplify())))\n",
    "display(Latex(fr\"${txt}$\"))"
   ],
   "metadata": {
    "id": "hp0A8kHt1OVu",
    "ExecuteTime": {
     "end_time": "2024-03-17T02:43:59.602154Z",
     "start_time": "2024-03-17T02:43:59.364468Z"
    }
   },
   "execution_count": 15,
   "outputs": [
    {
     "data": {
      "text/plain": "<IPython.core.display.Latex object>",
      "text/latex": "$5u\\cdot(v - u) = 100 c + 5 \\left(\\sin{\\left(\\phi \\right)} - \\cos{\\left(\\phi \\right)}\\right) \\cos{\\left(\\phi \\right)} + 5 \\left(- \\sin{\\left(2 \\phi \\right)} + \\cos{\\left(2 \\phi \\right)}\\right) \\sin{\\left(2 \\phi \\right)} - 250\\\\(2v + u) × (v - 3u) = \\left(\\left(4 c - 20\\right) \\left(\\sin{\\left(2 \\phi \\right)} + 2 \\cos{\\left(2 \\phi \\right)}\\right) + \\left(6 c + 5\\right) \\left(- 3 \\sin{\\left(2 \\phi \\right)} + \\cos{\\left(2 \\phi \\right)}\\right)\\right)\\mathbf{\\hat{i}_{}} + \\left(\\left(\\sin{\\left(\\phi \\right)} - 3 \\cos{\\left(\\phi \\right)}\\right) \\left(\\sin{\\left(2 \\phi \\right)} + 2 \\cos{\\left(2 \\phi \\right)}\\right) + \\left(2 \\sin{\\left(\\phi \\right)} + \\cos{\\left(\\phi \\right)}\\right) \\left(3 \\sin{\\left(2 \\phi \\right)} - \\cos{\\left(2 \\phi \\right)}\\right)\\right)\\mathbf{\\hat{j}_{}} + \\left(\\left(20 - 4 c\\right) \\left(2 \\sin{\\left(\\phi \\right)} + \\cos{\\left(\\phi \\right)}\\right) + \\left(6 c + 5\\right) \\left(- \\sin{\\left(\\phi \\right)} + 3 \\cos{\\left(\\phi \\right)}\\right)\\right)\\mathbf{\\hat{k}_{}}$"
     },
     "metadata": {},
     "output_type": "display_data"
    }
   ]
  },
  {
   "cell_type": "markdown",
   "metadata": {
    "id": "nOqai9ifCclj"
   },
   "source": [
    "### Задание  4\n",
    "Преобразовать матрицу $\\left(\\begin{matrix}-q\\\\ p\\\\ q + p\\end{matrix}\\right)$ в вектор в системе координат из Заданий 1 и 2.\n",
    "\n",
    "Вывести на экран матрицу и ее представления в обеих системах координат, а затем вывести только векторное представление при $q = -1, 0, 1, 2$ и $p = -10, 12$ на отдельных строках (использовать цикл, рассмотреть все пары значений)"
   ]
  },
  {
   "cell_type": "code",
   "source": [
    "mat = Matrix([-q, p, q + p])\n",
    "vec = matrix_to_vector(mat, M)\n",
    "display(Latex(fr\"$Matrix: {latex(mat)},\\ CoordSys3D: {latex(vec)}$\"))\n",
    "for p in [-1, 0, 1, 2]:\n",
    "    for q in [-10, 12]:\n",
    "        display(Latex(fr\"$p = {p},\\ q = {q}: {latex(vec.subs({p: p, q: q}))}$\"))"
   ],
   "metadata": {
    "id": "mASJcb6u1PS2",
    "ExecuteTime": {
     "end_time": "2024-03-17T02:43:59.608907Z",
     "start_time": "2024-03-17T02:43:59.375894Z"
    }
   },
   "execution_count": 16,
   "outputs": [
    {
     "data": {
      "text/plain": "<IPython.core.display.Latex object>",
      "text/latex": "$Matrix: \\left[\\begin{matrix}- q\\\\p\\\\p + q\\end{matrix}\\right],\\ CoordSys3D: \\left(- q\\right)\\mathbf{\\hat{i}_{}} + \\left(p\\right)\\mathbf{\\hat{j}_{}} + \\left(p + q\\right)\\mathbf{\\hat{k}_{}}$"
     },
     "metadata": {},
     "output_type": "display_data"
    },
    {
     "data": {
      "text/plain": "<IPython.core.display.Latex object>",
      "text/latex": "$p = -1,\\ q = -10: \\left(- q\\right)\\mathbf{\\hat{i}_{}} + \\left(p\\right)\\mathbf{\\hat{j}_{}} + \\left(p + q\\right)\\mathbf{\\hat{k}_{}}$"
     },
     "metadata": {},
     "output_type": "display_data"
    },
    {
     "data": {
      "text/plain": "<IPython.core.display.Latex object>",
      "text/latex": "$p = -1,\\ q = 12: \\left(- q\\right)\\mathbf{\\hat{i}_{}} + \\left(p\\right)\\mathbf{\\hat{j}_{}} + \\left(p + q\\right)\\mathbf{\\hat{k}_{}}$"
     },
     "metadata": {},
     "output_type": "display_data"
    },
    {
     "data": {
      "text/plain": "<IPython.core.display.Latex object>",
      "text/latex": "$p = 0,\\ q = -10: \\left(- q\\right)\\mathbf{\\hat{i}_{}} + \\left(p\\right)\\mathbf{\\hat{j}_{}} + \\left(p + q\\right)\\mathbf{\\hat{k}_{}}$"
     },
     "metadata": {},
     "output_type": "display_data"
    },
    {
     "data": {
      "text/plain": "<IPython.core.display.Latex object>",
      "text/latex": "$p = 0,\\ q = 12: \\left(- q\\right)\\mathbf{\\hat{i}_{}} + \\left(p\\right)\\mathbf{\\hat{j}_{}} + \\left(p + q\\right)\\mathbf{\\hat{k}_{}}$"
     },
     "metadata": {},
     "output_type": "display_data"
    },
    {
     "data": {
      "text/plain": "<IPython.core.display.Latex object>",
      "text/latex": "$p = 1,\\ q = -10: \\left(- q\\right)\\mathbf{\\hat{i}_{}} + \\left(p\\right)\\mathbf{\\hat{j}_{}} + \\left(p + q\\right)\\mathbf{\\hat{k}_{}}$"
     },
     "metadata": {},
     "output_type": "display_data"
    },
    {
     "data": {
      "text/plain": "<IPython.core.display.Latex object>",
      "text/latex": "$p = 1,\\ q = 12: \\left(- q\\right)\\mathbf{\\hat{i}_{}} + \\left(p\\right)\\mathbf{\\hat{j}_{}} + \\left(p + q\\right)\\mathbf{\\hat{k}_{}}$"
     },
     "metadata": {},
     "output_type": "display_data"
    },
    {
     "data": {
      "text/plain": "<IPython.core.display.Latex object>",
      "text/latex": "$p = 2,\\ q = -10: \\left(- q\\right)\\mathbf{\\hat{i}_{}} + \\left(p\\right)\\mathbf{\\hat{j}_{}} + \\left(p + q\\right)\\mathbf{\\hat{k}_{}}$"
     },
     "metadata": {},
     "output_type": "display_data"
    },
    {
     "data": {
      "text/plain": "<IPython.core.display.Latex object>",
      "text/latex": "$p = 2,\\ q = 12: \\left(- q\\right)\\mathbf{\\hat{i}_{}} + \\left(p\\right)\\mathbf{\\hat{j}_{}} + \\left(p + q\\right)\\mathbf{\\hat{k}_{}}$"
     },
     "metadata": {},
     "output_type": "display_data"
    }
   ]
  },
  {
   "cell_type": "markdown",
   "metadata": {
    "id": "hfKN73PnCclj"
   },
   "source": [
    "### Задание 5.\n",
    "Ввести новую систему координат $S5$, которая получается поворотом системы координат $M$ из Задания 2 на угол $\\pi/4$ относительно оси $j$ по часовой стрелке.\n",
    "Определить вектор $b5$ на основе матрицы из Задания 4 в соответствии с системой координат M, затем получить представление в матричном виде вектора $b5\\_S5$ в системе координат $S5$.  Вывести на экран матрицу поворота, вектор $b5$ в системе координат $M$  и $S5$."
   ]
  },
  {
   "cell_type": "code",
   "source": [
    "S5 = M.orient_new_axis('M', 3 * Pi / 4, M.j)\n",
    "b5 = mat\n",
    "b5_S5 = matrix_to_vector(b5, S5)\n",
    "txt = ' b5_{S5}'\n",
    "display(Latex(fr\"$Матрица\\ поворота:{latex(M)} \\\\ b5 = {latex(b5)} \\\\ \\text{txt} = {latex(b5_S5)}$\"))"
   ],
   "metadata": {
    "id": "cdAdhdYs1QMA",
    "ExecuteTime": {
     "end_time": "2024-03-17T02:43:59.609228Z",
     "start_time": "2024-03-17T02:43:59.429179Z"
    }
   },
   "execution_count": 17,
   "outputs": [
    {
     "data": {
      "text/plain": "<IPython.core.display.Latex object>",
      "text/latex": "$Матрица\\ поворота:\\operatorname{CoordSys3D}\\left(, \\left( \\left[\\begin{matrix}1 & 0 & 0\\\\0 & 1 & 0\\\\0 & 0 & 1\\end{matrix}\\right], \\  \\mathbf{\\hat{0}}\\right)\\right) \\\\ b5 = \\left[\\begin{matrix}- q\\\\p\\\\p + q\\end{matrix}\\right] \\\\ \\text b5_{S5} = \\left(- q\\right)\\mathbf{\\hat{i}_{M}} + \\left(p\\right)\\mathbf{\\hat{j}_{M}} + \\left(p + q\\right)\\mathbf{\\hat{k}_{M}}$"
     },
     "metadata": {},
     "output_type": "display_data"
    }
   ]
  },
  {
   "cell_type": "markdown",
   "metadata": {
    "id": "wsupzWmVCclk"
   },
   "source": [
    "### Задание 6.\n",
    "Повернуть систему координат  M  из Задания 2 на $\\pi/3$ по часовой стрелке относительно оси, определяемой вектором $(3, -4, 12)$. Выразить вектор b5 в новой системе координат."
   ]
  },
  {
   "cell_type": "code",
   "source": [
    "M_new = M.orient_new_axis('M_{new}', 2 * Pi - Pi / 3, 3 * M.i + (-4) * M.j + 12 * M.k)\n",
    "b5_new = matrix_to_vector(mat, M_new)\n",
    "\n",
    "txt = ' b5_{new}'\n",
    "display(Latex(fr\"$\\text{txt} = {latex(b5_new)}$\"))"
   ],
   "metadata": {
    "id": "b2dpQInD1RKS",
    "ExecuteTime": {
     "end_time": "2024-03-17T02:43:59.609647Z",
     "start_time": "2024-03-17T02:43:59.459827Z"
    }
   },
   "execution_count": 18,
   "outputs": [
    {
     "data": {
      "text/plain": "<IPython.core.display.Latex object>",
      "text/latex": "$\\text b5_{new} = \\left(- q\\right)\\mathbf{\\hat{i}_{M_{new}}} + \\left(p\\right)\\mathbf{\\hat{j}_{M_{new}}} + \\left(p + q\\right)\\mathbf{\\hat{k}_{M_{new}}}$"
     },
     "metadata": {},
     "output_type": "display_data"
    }
   ]
  },
  {
   "cell_type": "markdown",
   "source": [
    "### Задание 7*.\n",
    "Составить класс dataclass векторов в пространстве, имя класса my_vect.\n",
    "\n",
    "**Обязательные переменные класса** coord_sys_name - имя системы координат и coordinates - кортеж из координат.\n",
    "\n",
    "**Переременная со значением по умолчанию** : coord_sys - система координат в пространстве, по умолчанию None\n",
    "\n",
    "**Атрибуты класса:** get_coord_sys и vector\n",
    "\n",
    "**Метод класса:** characts\n",
    "\n",
    "get_coord_sys проверяет, заполнена ли переменная coord_sys, если coord_sys равна None, то заполняет coord_sys в соответствии и именем coord_sys_name и возвращает значение coord_sys\n",
    "\n",
    "vector возвращает вектор в системе координат coord_sys\n",
    "\n",
    "characts возвращает координаты вектора, длину и нормализованный вектор  (по умолчанию координаты вектора возвращать в виде словаря, но предусмотреть возможность возвращать координаты в виде кортежа, np.array и списка, для этого нужно использовать необязательный аргумент)\n",
    "\n",
    "Из файла 'task_12_7.xlsx' считать координаты векторов, составить векторы my_vect и вывести на экран на отдельных строках полученные экземпляры и характеристики  characts этих векторов. При этом координаты векторов из 1, 2 и 5 строки файла выводить в виде списка, из 3 строки в виде словаря, из 4 строки в виде np.array, а из остальных строк в виде кортежа."
   ],
   "metadata": {
    "id": "AOb9_bau6vK1"
   }
  },
  {
   "cell_type": "code",
   "source": [
    "import pandas as pd\n",
    "import numpy as np\n",
    "import sympy as sp\n",
    "from dataclasses import dataclass, field\n",
    "from typing import Optional, Any\n",
    "\n",
    "@dataclass\n",
    "class my_vect:\n",
    "        coord_sys_name: str\n",
    "        coordinates: tuple\n",
    "        coord_sys: Optional[str] = None\n",
    "\n",
    "        def get_coord_sys(self):\n",
    "                if self.coord_sys is None:\n",
    "                        self.coord_sys = self.coord_sys_name\n",
    "                return self.coord_sys\n",
    "\n",
    "        def vector(self):\n",
    "                return self.coordinates\n",
    "\n",
    "        def characts(self, return_type: Any = dict):\n",
    "                sym_coordinates = sp.symbols('x y z')  # Создаем символьные переменные x, y, z\n",
    "                sym_coords_dict = {sym: coord for sym, coord in zip(sym_coordinates, self.coordinates)}\n",
    "\n",
    "                length = sp.sqrt(sum([coord**2 for coord in sym_coordinates]))\n",
    "                normalized_vector = [coord / length if length != 0 else coord for coord in sym_coordinates]\n",
    "\n",
    "                if return_type == list:\n",
    "                        return self.coordinates\n",
    "                elif return_type == dict:\n",
    "                        return {'coordinates': sym_coords_dict, 'length': length, 'normalized_vector': normalized_vector}\n",
    "                elif return_type == np.ndarray:\n",
    "                        return np.array(self.coordinates)\n",
    "                else:\n",
    "                        return self.coordinates\n",
    "\n",
    "data = pd.read_excel('task_12_7.xlsx')\n",
    "\n",
    "vectors = []\n",
    "for index, row in data.iterrows():\n",
    "        coordinates = tuple(row.values)\n",
    "        vectors.append(my_vect(coord_sys_name='coordsys', coordinates=coordinates, coord_sys=None))\n",
    "\n",
    "for vector in vectors:\n",
    "        display(Latex(fr'$\\text{{Вектор в системе координат}}\\ {vector.get_coord_sys()}:$'))\n",
    "        display(Latex(fr'$\\text{{Координаты вектора: }}\\ {latex(vector.characts(return_type=list))}$'))\n",
    "        display(Latex(fr'$\\text{{Длина вектора: }}\\ {latex(vector.get_coord_sys())}$'))\n",
    "        display(Latex(fr'$\\text{{Нормализованный вектор: }}\\ {latex(vector.characts(return_type=list)[\"normalized_vector\"])}$'))\n",
    "        print()\n"
   ],
   "metadata": {
    "id": "9p-2zRLP1SRM",
    "ExecuteTime": {
     "end_time": "2024-03-17T02:50:27.739541Z",
     "start_time": "2024-03-17T02:50:27.284684Z"
    }
   },
   "execution_count": 30,
   "outputs": [
    {
     "data": {
      "text/plain": "<IPython.core.display.Latex object>",
      "text/latex": "$\\text{Вектор в системе координат}\\ coordsys:$"
     },
     "metadata": {},
     "output_type": "display_data"
    },
    {
     "data": {
      "text/plain": "<IPython.core.display.Latex object>",
      "text/latex": "$\\text{Координаты вектора: }\\ \\left( \\mathtt{\\text{v1}}, \\  8, \\  7, \\  -2\\right)$"
     },
     "metadata": {},
     "output_type": "display_data"
    },
    {
     "data": {
      "text/plain": "<IPython.core.display.Latex object>",
      "text/latex": "$\\text{Длина вектора: }\\ \\mathtt{\\text{coordsys}}$"
     },
     "metadata": {},
     "output_type": "display_data"
    },
    {
     "ename": "TypeError",
     "evalue": "tuple indices must be integers or slices, not str",
     "output_type": "error",
     "traceback": [
      "\u001B[0;31m---------------------------------------------------------------------------\u001B[0m",
      "\u001B[0;31mTypeError\u001B[0m                                 Traceback (most recent call last)",
      "Cell \u001B[0;32mIn[30], line 48\u001B[0m\n\u001B[1;32m     46\u001B[0m display(Latex(\u001B[38;5;124mfr\u001B[39m\u001B[38;5;124m'\u001B[39m\u001B[38;5;124m$\u001B[39m\u001B[38;5;124m\\\u001B[39m\u001B[38;5;124mtext\u001B[39m\u001B[38;5;130;01m{{\u001B[39;00m\u001B[38;5;124mКоординаты вектора: \u001B[39m\u001B[38;5;130;01m}}\u001B[39;00m\u001B[38;5;124m\\\u001B[39m\u001B[38;5;124m \u001B[39m\u001B[38;5;132;01m{\u001B[39;00mlatex(vector\u001B[38;5;241m.\u001B[39mcharacts(return_type\u001B[38;5;241m=\u001B[39m\u001B[38;5;28mlist\u001B[39m))\u001B[38;5;132;01m}\u001B[39;00m\u001B[38;5;124m$\u001B[39m\u001B[38;5;124m'\u001B[39m))\n\u001B[1;32m     47\u001B[0m display(Latex(\u001B[38;5;124mfr\u001B[39m\u001B[38;5;124m'\u001B[39m\u001B[38;5;124m$\u001B[39m\u001B[38;5;124m\\\u001B[39m\u001B[38;5;124mtext\u001B[39m\u001B[38;5;130;01m{{\u001B[39;00m\u001B[38;5;124mДлина вектора: \u001B[39m\u001B[38;5;130;01m}}\u001B[39;00m\u001B[38;5;124m\\\u001B[39m\u001B[38;5;124m \u001B[39m\u001B[38;5;132;01m{\u001B[39;00mlatex(vector\u001B[38;5;241m.\u001B[39mget_coord_sys())\u001B[38;5;132;01m}\u001B[39;00m\u001B[38;5;124m$\u001B[39m\u001B[38;5;124m'\u001B[39m))\n\u001B[0;32m---> 48\u001B[0m display(Latex(\u001B[38;5;124mfr\u001B[39m\u001B[38;5;124m'\u001B[39m\u001B[38;5;124m$\u001B[39m\u001B[38;5;124m\\\u001B[39m\u001B[38;5;124mtext\u001B[39m\u001B[38;5;130;01m{{\u001B[39;00m\u001B[38;5;124mНормализованный вектор: \u001B[39m\u001B[38;5;130;01m}}\u001B[39;00m\u001B[38;5;124m\\\u001B[39m\u001B[38;5;124m \u001B[39m\u001B[38;5;132;01m{\u001B[39;00mlatex(vector\u001B[38;5;241m.\u001B[39mcharacts(return_type\u001B[38;5;241m=\u001B[39m\u001B[38;5;28mlist\u001B[39m)[\u001B[38;5;124m\"\u001B[39m\u001B[38;5;124mnormalized_vector\u001B[39m\u001B[38;5;124m\"\u001B[39m])\u001B[38;5;132;01m}\u001B[39;00m\u001B[38;5;124m$\u001B[39m\u001B[38;5;124m'\u001B[39m))\n\u001B[1;32m     49\u001B[0m \u001B[38;5;28mprint\u001B[39m()\n",
      "\u001B[0;31mTypeError\u001B[0m: tuple indices must be integers or slices, not str"
     ]
    }
   ]
  },
  {
   "cell_type": "markdown",
   "metadata": {
    "id": "LVIOHcc0Ccll"
   },
   "source": [
    "### Индивидуальное задание.\n",
    "Ввести безымянную систему координат XYZ, задать в ней векторы $v_1$ и $v_2$. Построить новую систему координат XYZ1 с именем Name поворотом  XYZ на $\\alpha$ по или против часовой стрелки относительно оси, определяемой вектором $b$, выразить векторы $v_1$ и $v_2$ в новой системе координат. Найти скалярное и векторное произведение векторов в новой и старой системе координат. Выразить вектор, равный векторному произведению $v_1$ и $v_2$ в старой системе координат через новую систему координат, сравнить с векторным произведением $v_1$ и $v_2$, выраженных в новой системе координат."
   ]
  },
  {
   "cell_type": "markdown",
   "source": [
    "Вариант N 175\n",
    "\n",
    "$v_1 = \\left(-4\\right)\\mathbf{\\hat{i}_{}} + \\left(7\\right)\\mathbf{\\hat{j}_{}} + \\left(-7\\right)\\mathbf{\\hat{k}_{}}$, $v_2 = \\left(-3\\right)\\mathbf{\\hat{i}_{}} + \\left(-2\\right)\\mathbf{\\hat{j}_{}} + \\left(-2\\right)\\mathbf{\\hat{k}_{}}$, Name = t, угол поворота $- 3 \\pi / 2$, ось $\\left(-6\\right)\\mathbf{\\hat{i}_{}} + \\left(-9\\right)\\mathbf{\\hat{j}_{}}$\n"
   ],
   "metadata": {
    "collapsed": false
   }
  },
  {
   "cell_type": "code",
   "source": [
    "XYZ = CoordSys3D('')\n",
    "v1 = -4 * XYZ.i + 7 * XYZ.j + (-7) * XYZ.k\n",
    "v2 = -3 * XYZ.i + (-2) * XYZ.j + (-2) * XYZ.kind\n",
    "b = 6 * XYZ.i + (-9) * XYZ.j\n",
    "\n",
    "# против часовой стрелки\n",
    "XYZ1 = XYZ.orient_new_axis('t', -3 * Pi / 2, b)\n",
    "\n"
   ],
   "metadata": {
    "id": "0D-TLmEg1Tdo",
    "ExecuteTime": {
     "start_time": "2024-03-17T02:43:59.688599Z"
    }
   },
   "execution_count": null,
   "outputs": []
  }
 ]
}
